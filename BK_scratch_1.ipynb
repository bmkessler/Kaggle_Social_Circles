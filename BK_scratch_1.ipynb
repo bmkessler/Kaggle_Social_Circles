{
 "metadata": {
  "name": ""
 },
 "nbformat": 3,
 "nbformat_minor": 0,
 "worksheets": [
  {
   "cells": [
    {
     "cell_type": "code",
     "collapsed": false,
     "input": [
      "%matplotlib inline\n",
      "import networkx as nx"
     ],
     "language": "python",
     "metadata": {},
     "outputs": [],
     "prompt_number": 1
    },
    {
     "cell_type": "code",
     "collapsed": false,
     "input": [
      "def readfeaturelist(filename):\n",
      "    \"\"\"\n",
      "    reads a featurelist file and returns a list of the feature names\n",
      "    \"\"\"\n",
      "    with open(filename) as f:\n",
      "        out = []        # list of feature names\n",
      "        for line in f:\n",
      "            out.append(line.strip())\n",
      "        return out"
     ],
     "language": "python",
     "metadata": {},
     "outputs": [],
     "prompt_number": 2
    },
    {
     "cell_type": "code",
     "collapsed": false,
     "input": [
      "features = readfeaturelist('featureList.txt')"
     ],
     "language": "python",
     "metadata": {},
     "outputs": [],
     "prompt_number": 3
    },
    {
     "cell_type": "code",
     "collapsed": false,
     "input": [
      "features"
     ],
     "language": "python",
     "metadata": {},
     "outputs": [
      {
       "metadata": {},
       "output_type": "pyout",
       "prompt_number": 4,
       "text": [
        "['birthday',\n",
        " 'education;classes;description',\n",
        " 'education;classes;from;id',\n",
        " 'education;classes;from;name',\n",
        " 'education;classes;id',\n",
        " 'education;classes;name',\n",
        " 'education;classes;with;id',\n",
        " 'education;classes;with;name',\n",
        " 'education;concentration;id',\n",
        " 'education;concentration;name',\n",
        " 'education;degree;id',\n",
        " 'education;degree;name',\n",
        " 'education;school;id',\n",
        " 'education;school;name',\n",
        " 'education;type',\n",
        " 'education;with;id',\n",
        " 'education;with;name',\n",
        " 'education;year;id',\n",
        " 'education;year;name',\n",
        " 'first_name',\n",
        " 'gender',\n",
        " 'hometown;id',\n",
        " 'hometown;name',\n",
        " 'id',\n",
        " 'languages;id',\n",
        " 'languages;name',\n",
        " 'last_name',\n",
        " 'locale',\n",
        " 'location',\n",
        " 'location;id',\n",
        " 'location;name',\n",
        " 'middle_name',\n",
        " 'name',\n",
        " 'political',\n",
        " 'religion',\n",
        " 'work;description',\n",
        " 'work;employer;id',\n",
        " 'work;employer;name',\n",
        " 'work;end_date',\n",
        " 'work;from;id',\n",
        " 'work;from;name',\n",
        " 'work;location;id',\n",
        " 'work;location;name',\n",
        " 'work;position;id',\n",
        " 'work;position;name',\n",
        " 'work;projects;description',\n",
        " 'work;projects;end_date',\n",
        " 'work;projects;from;id',\n",
        " 'work;projects;from;name',\n",
        " 'work;projects;id',\n",
        " 'work;projects;name',\n",
        " 'work;projects;start_date',\n",
        " 'work;projects;with;id',\n",
        " 'work;projects;with;name',\n",
        " 'work;start_date',\n",
        " 'work;with;id',\n",
        " 'work;with;name']"
       ]
      }
     ],
     "prompt_number": 4
    },
    {
     "cell_type": "code",
     "collapsed": false,
     "input": [
      "def readfeatures(featurefile):\n",
      "    \"\"\"\n",
      "    reads a featurefile consisting of userid feature;value feature;value\n",
      "    returns a list where index is user id, elements are dictionaries \n",
      "    of features as keys pointing to list of values maybe should be sets\n",
      "    \"\"\"\n",
      "    with open(featurefile) as f:\n",
      "        out = [] \n",
      "        for line in f:\n",
      "            tokens = line.split()\n",
      "            profile = {}  # empty profile for the user\n",
      "            for tok in tokens[1:]:\n",
      "                feature,val = tok.rsplit(';',1)\n",
      "                val = int(val)\n",
      "                if feature not in profile:\n",
      "                    profile[feature]=[val]\n",
      "                else:\n",
      "                    profile[feature].append(val)\n",
      "            out.append(profile)\n",
      "        for i in range(len(out)):\n",
      "            assert out[i]['id'][0] == i  # check that each line was read and placed in the correct place in the list\n",
      "        return out"
     ],
     "language": "python",
     "metadata": {},
     "outputs": [],
     "prompt_number": 5
    },
    {
     "cell_type": "code",
     "collapsed": false,
     "input": [
      "profile = readfeatures('features.txt')"
     ],
     "language": "python",
     "metadata": {},
     "outputs": [],
     "prompt_number": 6
    },
    {
     "cell_type": "code",
     "collapsed": false,
     "input": [
      "profile[3]"
     ],
     "language": "python",
     "metadata": {},
     "outputs": [
      {
       "metadata": {},
       "output_type": "pyout",
       "prompt_number": 7,
       "text": [
        "{'birthday': [3],\n",
        " 'education;concentration;id': [3],\n",
        " 'education;concentration;name': [3],\n",
        " 'education;school;id': [5, 6, 1],\n",
        " 'education;school;name': [5, 6, 1],\n",
        " 'education;type': [0, 1, 1],\n",
        " 'education;year;id': [0, 2, 1],\n",
        " 'education;year;name': [0, 2, 1],\n",
        " 'first_name': [3],\n",
        " 'gender': [1],\n",
        " 'hometown;id': [3],\n",
        " 'hometown;name': [3],\n",
        " 'id': [3],\n",
        " 'languages;id': [0, 1],\n",
        " 'languages;name': [0, 1],\n",
        " 'last_name': [3],\n",
        " 'locale': [0],\n",
        " 'location;id': [3],\n",
        " 'location;name': [3],\n",
        " 'name': [3],\n",
        " 'work;employer;id': [2],\n",
        " 'work;employer;name': [2],\n",
        " 'work;start_date': [2]}"
       ]
      }
     ],
     "prompt_number": 7
    },
    {
     "cell_type": "code",
     "collapsed": false,
     "input": [
      "def featurematch(profile1,profile2,feature):\n",
      "    \"\"\"\n",
      "    returns how well profile1 and profile2 match on a given of feature\n",
      "    currently returns the number of items they have in common for that given feature\n",
      "    \"\"\"\n",
      "    return len(set(profile1[feature]).intersection(set(profile2[feature]))) if feature in profile1 and feature in profile2 else 0"
     ],
     "language": "python",
     "metadata": {},
     "outputs": [],
     "prompt_number": 8
    },
    {
     "cell_type": "code",
     "collapsed": false,
     "input": [
      "featurematch(profile[0],profile[1],'education;school;id')"
     ],
     "language": "python",
     "metadata": {},
     "outputs": [
      {
       "metadata": {},
       "output_type": "pyout",
       "prompt_number": 9,
       "text": [
        "1"
       ]
      }
     ],
     "prompt_number": 9
    },
    {
     "cell_type": "code",
     "collapsed": false,
     "input": [
      "def matchvector(profile1,profile2,featurelist):\n",
      "    \"\"\"\n",
      "    given two profiles and a featurelist, returns the similarity vector for the two\n",
      "    profiles where each entry is the number of entries they have in common for that feature,\n",
      "    i.e. returns 2 if they went to the same two school ids\n",
      "    \"\"\"\n",
      "    out = []\n",
      "    for feature in featurelist:\n",
      "        out.append(featurematch(profile1,profile2,feature))\n",
      "    return out"
     ],
     "language": "python",
     "metadata": {},
     "outputs": [],
     "prompt_number": 10
    },
    {
     "cell_type": "code",
     "collapsed": false,
     "input": [
      "mvec = matchvector(profile[0],profile[1],features)\n",
      "mvec"
     ],
     "language": "python",
     "metadata": {},
     "outputs": [
      {
       "metadata": {},
       "output_type": "pyout",
       "prompt_number": 11,
       "text": [
        "[0,\n",
        " 0,\n",
        " 0,\n",
        " 0,\n",
        " 0,\n",
        " 0,\n",
        " 0,\n",
        " 0,\n",
        " 0,\n",
        " 0,\n",
        " 0,\n",
        " 0,\n",
        " 1,\n",
        " 1,\n",
        " 2,\n",
        " 0,\n",
        " 0,\n",
        " 1,\n",
        " 1,\n",
        " 0,\n",
        " 0,\n",
        " 0,\n",
        " 0,\n",
        " 0,\n",
        " 0,\n",
        " 0,\n",
        " 0,\n",
        " 1,\n",
        " 0,\n",
        " 0,\n",
        " 0,\n",
        " 0,\n",
        " 0,\n",
        " 0,\n",
        " 0,\n",
        " 0,\n",
        " 0,\n",
        " 0,\n",
        " 0,\n",
        " 0,\n",
        " 0,\n",
        " 0,\n",
        " 0,\n",
        " 0,\n",
        " 0,\n",
        " 0,\n",
        " 0,\n",
        " 0,\n",
        " 0,\n",
        " 0,\n",
        " 0,\n",
        " 0,\n",
        " 0,\n",
        " 0,\n",
        " 0,\n",
        " 0,\n",
        " 0]"
       ]
      }
     ],
     "prompt_number": 11
    },
    {
     "cell_type": "code",
     "collapsed": false,
     "input": [
      "a=[1,2,4,5]\n",
      "b=[4,3,2,1]\n",
      "np.inner(a,b)"
     ],
     "language": "python",
     "metadata": {},
     "outputs": [
      {
       "metadata": {},
       "output_type": "pyout",
       "prompt_number": 12,
       "text": [
        "23"
       ]
      }
     ],
     "prompt_number": 12
    },
    {
     "cell_type": "code",
     "collapsed": false,
     "input": [
      "def weighteddotproduct(vector1,vector2,weight=None):\n",
      "    \"\"\"\n",
      "    returns the dot product of vector1 and vector2 with weight vector weight (normalized)\n",
      "    \"\"\"\n",
      "    if not weight:\n",
      "        weight = ones(len(vector1))\n",
      "    return np.inner(vector1,np.multiply(weight,vector2))/mean(weight)"
     ],
     "language": "python",
     "metadata": {},
     "outputs": [],
     "prompt_number": 13
    },
    {
     "cell_type": "code",
     "collapsed": false,
     "input": [
      "weighteddotproduct(a,a,b)"
     ],
     "language": "python",
     "metadata": {},
     "outputs": [
      {
       "metadata": {},
       "output_type": "pyout",
       "prompt_number": 14,
       "text": [
        "29.199999999999999"
       ]
      }
     ],
     "prompt_number": 14
    },
    {
     "cell_type": "code",
     "collapsed": false,
     "input": [
      "np.inner(b,a)"
     ],
     "language": "python",
     "metadata": {},
     "outputs": [
      {
       "metadata": {},
       "output_type": "pyout",
       "prompt_number": 15,
       "text": [
        "23"
       ]
      }
     ],
     "prompt_number": 15
    },
    {
     "cell_type": "code",
     "collapsed": false,
     "input": [
      "sqrt(sum(b))"
     ],
     "language": "python",
     "metadata": {},
     "outputs": [
      {
       "metadata": {},
       "output_type": "pyout",
       "prompt_number": 16,
       "text": [
        "3.1622776601683795"
       ]
      }
     ],
     "prompt_number": 16
    },
    {
     "cell_type": "code",
     "collapsed": false,
     "input": [
      "weighteddotproduct(b,b,a)"
     ],
     "language": "python",
     "metadata": {},
     "outputs": [
      {
       "metadata": {},
       "output_type": "pyout",
       "prompt_number": 17,
       "text": [
        "18.333333333333332"
       ]
      }
     ],
     "prompt_number": 17
    },
    {
     "cell_type": "code",
     "collapsed": false,
     "input": [
      "weighteddotproduct(b,b)"
     ],
     "language": "python",
     "metadata": {},
     "outputs": [
      {
       "metadata": {},
       "output_type": "pyout",
       "prompt_number": 18,
       "text": [
        "30.0"
       ]
      }
     ],
     "prompt_number": 18
    },
    {
     "cell_type": "code",
     "collapsed": false,
     "input": [
      "np.inner(b,b)"
     ],
     "language": "python",
     "metadata": {},
     "outputs": [
      {
       "metadata": {},
       "output_type": "pyout",
       "prompt_number": 19,
       "text": [
        "30"
       ]
      }
     ],
     "prompt_number": 19
    },
    {
     "cell_type": "code",
     "collapsed": false,
     "input": [
      "weighteddotproduct(mvec,mvec)"
     ],
     "language": "python",
     "metadata": {},
     "outputs": [
      {
       "metadata": {},
       "output_type": "pyout",
       "prompt_number": 20,
       "text": [
        "9.0"
       ]
      }
     ],
     "prompt_number": 20
    },
    {
     "cell_type": "code",
     "collapsed": false,
     "input": [
      "def userfeatures(profile):\n",
      "    \"\"\"  Returns a list of the features contained in the user profile \"\"\"\n",
      "    return [f for f in profile]"
     ],
     "language": "python",
     "metadata": {},
     "outputs": [],
     "prompt_number": 21
    },
    {
     "cell_type": "code",
     "collapsed": false,
     "input": [
      "userfeatures(profile[3])"
     ],
     "language": "python",
     "metadata": {},
     "outputs": [
      {
       "metadata": {},
       "output_type": "pyout",
       "prompt_number": 22,
       "text": [
        "['last_name',\n",
        " 'locale',\n",
        " 'location;name',\n",
        " 'education;concentration;id',\n",
        " 'education;school;name',\n",
        " 'id',\n",
        " 'first_name',\n",
        " 'work;employer;id',\n",
        " 'hometown;id',\n",
        " 'location;id',\n",
        " 'education;year;name',\n",
        " 'hometown;name',\n",
        " 'education;type',\n",
        " 'education;concentration;name',\n",
        " 'languages;name',\n",
        " 'education;year;id',\n",
        " 'work;employer;name',\n",
        " 'languages;id',\n",
        " 'education;school;id',\n",
        " 'name',\n",
        " 'gender',\n",
        " 'birthday',\n",
        " 'work;start_date']"
       ]
      }
     ],
     "prompt_number": 22
    },
    {
     "cell_type": "code",
     "collapsed": false,
     "input": [
      "def usermatch(profile1,profile2):\n",
      "    \"\"\" returns the match vector for profile2 using only profile1 features as a reference \"\"\"\n",
      "    return matchvector(profile1,profile2,userfeatures(profile1))"
     ],
     "language": "python",
     "metadata": {},
     "outputs": [],
     "prompt_number": 23
    },
    {
     "cell_type": "code",
     "collapsed": false,
     "input": [
      "usermatch(profile[2],profile[3])"
     ],
     "language": "python",
     "metadata": {},
     "outputs": [
      {
       "metadata": {},
       "output_type": "pyout",
       "prompt_number": 24,
       "text": [
        "[0, 1, 0, 0, 0, 0, 0, 0, 0, 0, 0, 0, 0, 2, 0, 0, 2, 0, 2, 0, 0, 0, 1, 0, 0, 0]"
       ]
      }
     ],
     "prompt_number": 24
    },
    {
     "cell_type": "code",
     "collapsed": false,
     "input": [
      "def readcircle(userID):\n",
      "    \"\"\"\n",
      "    reads a circle for a given user consisting of circleDD: user1 user2 user3 ...\n",
      "    and returns a dictionary of the circle['number']=[user1,user2,user3]\n",
      "    \"\"\"\n",
      "    circlefile = './Training/'+str(userID)+'.circles'\n",
      "    with open(circlefile) as f:\n",
      "        circles = {} \n",
      "        for line in f:\n",
      "            tokens = line.split()\n",
      "            circleID = int(tokens[0].split('circle')[1].split(':')[0])\n",
      "            circles[circleID] =[]\n",
      "            for tok in tokens[1:]:\n",
      "                circles[circleID].append(int(tok))\n",
      "        return circles"
     ],
     "language": "python",
     "metadata": {},
     "outputs": [],
     "prompt_number": 25
    },
    {
     "cell_type": "markdown",
     "metadata": {},
     "source": [
      "The entire analysis for determining the characteristic profile of a circle should be redone and cleaned up"
     ]
    },
    {
     "cell_type": "code",
     "collapsed": false,
     "input": [
      "circles239 = readcircle(239)"
     ],
     "language": "python",
     "metadata": {},
     "outputs": [],
     "prompt_number": 26
    },
    {
     "cell_type": "code",
     "collapsed": false,
     "input": [
      "circles239[16]"
     ],
     "language": "python",
     "metadata": {},
     "outputs": [
      {
       "metadata": {},
       "output_type": "pyout",
       "prompt_number": 27,
       "text": [
        "[335,\n",
        " 253,\n",
        " 325,\n",
        " 320,\n",
        " 283,\n",
        " 258,\n",
        " 284,\n",
        " 318,\n",
        " 330,\n",
        " 241,\n",
        " 276,\n",
        " 312,\n",
        " 340,\n",
        " 301,\n",
        " 334,\n",
        " 291,\n",
        " 295,\n",
        " 242,\n",
        " 337,\n",
        " 338,\n",
        " 273,\n",
        " 277,\n",
        " 293,\n",
        " 251,\n",
        " 279,\n",
        " 285,\n",
        " 267,\n",
        " 243,\n",
        " 240,\n",
        " 298,\n",
        " 302,\n",
        " 286,\n",
        " 305,\n",
        " 282,\n",
        " 294,\n",
        " 256,\n",
        " 313,\n",
        " 263,\n",
        " 274,\n",
        " 339,\n",
        " 309,\n",
        " 336,\n",
        " 310,\n",
        " 264,\n",
        " 266,\n",
        " 269]"
       ]
      }
     ],
     "prompt_number": 27
    },
    {
     "cell_type": "code",
     "collapsed": false,
     "input": [
      "matchmatrix_u239_c16 = [matchvector(profile[239],profile[user],features) for user in circles239[16] ]"
     ],
     "language": "python",
     "metadata": {},
     "outputs": [],
     "prompt_number": 28
    },
    {
     "cell_type": "code",
     "collapsed": false,
     "input": [
      "zeros(len(matchmatrix_u239_c16[0]))"
     ],
     "language": "python",
     "metadata": {},
     "outputs": [
      {
       "metadata": {},
       "output_type": "pyout",
       "prompt_number": 29,
       "text": [
        "array([ 0.,  0.,  0.,  0.,  0.,  0.,  0.,  0.,  0.,  0.,  0.,  0.,  0.,\n",
        "        0.,  0.,  0.,  0.,  0.,  0.,  0.,  0.,  0.,  0.,  0.,  0.,  0.,\n",
        "        0.,  0.,  0.,  0.,  0.,  0.,  0.,  0.,  0.,  0.,  0.,  0.,  0.,\n",
        "        0.,  0.,  0.,  0.,  0.,  0.,  0.,  0.,  0.,  0.,  0.,  0.,  0.,\n",
        "        0.,  0.,  0.,  0.,  0.])"
       ]
      }
     ],
     "prompt_number": 29
    },
    {
     "cell_type": "code",
     "collapsed": false,
     "input": [
      "def charprofile(profilemat):\n",
      "    out = zeros(len(profilemat[0]))\n",
      "    for row in profilemat:\n",
      "        for i in range(len(row)):\n",
      "            out[i] += row[i]\n",
      "    return out\n",
      "    "
     ],
     "language": "python",
     "metadata": {},
     "outputs": [],
     "prompt_number": 30
    },
    {
     "cell_type": "code",
     "collapsed": false,
     "input": [
      "char_u239_c16 = charprofile(matchmatrix_u239_c16)\n",
      "char_u239_c16"
     ],
     "language": "python",
     "metadata": {},
     "outputs": [
      {
       "metadata": {},
       "output_type": "pyout",
       "prompt_number": 31,
       "text": [
        "array([  0.,   0.,   0.,   0.,   0.,   0.,   0.,   0.,   0.,   0.,   0.,\n",
        "         0.,   0.,   0.,   0.,   0.,   0.,   0.,   0.,   0.,  30.,   0.,\n",
        "         0.,   0.,   0.,   0.,   1.,  43.,   0.,   0.,   0.,   0.,   0.,\n",
        "         0.,   0.,   0.,   0.,   0.,   0.,   0.,   0.,   0.,   0.,   0.,\n",
        "         0.,   0.,   0.,   0.,   0.,   0.,   0.,   0.,   0.,   0.,   0.,\n",
        "         0.,   0.])"
       ]
      }
     ],
     "prompt_number": 31
    },
    {
     "cell_type": "code",
     "collapsed": false,
     "input": [
      "print features[20],char_u239_c16[20]\n",
      "print features[27],char_u239_c16[27]"
     ],
     "language": "python",
     "metadata": {},
     "outputs": [
      {
       "output_type": "stream",
       "stream": "stdout",
       "text": [
        "gender 30.0\n",
        "locale 43.0\n"
       ]
      }
     ],
     "prompt_number": 32
    },
    {
     "cell_type": "code",
     "collapsed": false,
     "input": [
      "def display_char_profile(charprofile,featurelist):\n",
      "    for i in range(len(featurelist)):\n",
      "        if charprofile[i] !=0: print featurelist[i],charprofile[i]"
     ],
     "language": "python",
     "metadata": {},
     "outputs": [],
     "prompt_number": 33
    },
    {
     "cell_type": "code",
     "collapsed": false,
     "input": [
      "display_char_profile(char_u239_c16,features)"
     ],
     "language": "python",
     "metadata": {},
     "outputs": [
      {
       "output_type": "stream",
       "stream": "stdout",
       "text": [
        "gender 30.0\n",
        "last_name 1.0\n",
        "locale 43.0\n"
       ]
      }
     ],
     "prompt_number": 34
    },
    {
     "cell_type": "code",
     "collapsed": false,
     "input": [
      "ref_user = 345\n",
      "print 'User:', ref_user\n",
      "ref_profile = profile[ref_user]\n",
      "circles = readcircle(ref_user)\n",
      "ch_profile={}\n",
      "for circle in circles:\n",
      "    print 'Circle:', circle\n",
      "    matchmatrix = [matchvector(ref_profile,profile[user],features) for user in circles[circle] ]\n",
      "    ch_profile[circle]=charprofile(matchmatrix)\n",
      "    display_char_profile(ch_profile[circle],features)\n",
      "    print ''\n",
      "    "
     ],
     "language": "python",
     "metadata": {},
     "outputs": [
      {
       "output_type": "stream",
       "stream": "stdout",
       "text": [
        "User: 345\n",
        "Circle: 20\n",
        "education;type 37.0\n",
        "gender 18.0\n",
        "hometown;id 4.0\n",
        "hometown;name 4.0\n",
        "languages;id 3.0\n",
        "languages;name 4.0\n",
        "last_name 2.0\n",
        "locale 10.0\n",
        "location;id 1.0\n",
        "location;name 1.0\n",
        "\n",
        "Circle: 22\n",
        "education;school;id"
       ]
      },
      {
       "output_type": "stream",
       "stream": "stdout",
       "text": [
        " 70.0\n",
        "education;school;name 70.0\n",
        "education;type 143.0\n",
        "first_name 3.0\n",
        "gender 106.0\n",
        "languages;id 145.0\n",
        "languages;name 161.0\n",
        "locale 109.0\n",
        "location;id 45.0\n",
        "location;name 45.0\n",
        "religion 1.0\n",
        "\n",
        "Circle: 24\n",
        "education;type 5.0\n",
        "gender 5.0\n",
        "locale 4.0\n",
        "\n",
        "Circle: 26\n",
        "education;school;id 1.0\n",
        "education;school;name 1.0\n",
        "education;type 21.0\n",
        "gender 17.0\n",
        "hometown;id 3.0\n",
        "hometown;name 3.0\n",
        "languages;id 11.0\n",
        "languages;name 11.0\n",
        "locale 22.0\n",
        "location;id 2.0\n",
        "location;name 2.0\n",
        "\n",
        "Circle: 27\n",
        "education;type 14.0\n",
        "gender 9.0\n",
        "languages;id 2.0\n",
        "languages;name 2.0\n",
        "locale 15.0\n",
        "location;id 2.0\n",
        "location;name 2.0\n",
        "\n",
        "Circle: 28\n",
        "education;school;id 2.0\n",
        "education;school;name 2.0\n",
        "education;type 10.0\n",
        "gender 5.0\n",
        "languages;id 3.0\n",
        "languages;name 4.0\n",
        "locale 6.0\n",
        "\n",
        "Circle: 29\n",
        "education;school;id 2.0\n",
        "education;school;name 2.0\n",
        "education;type 40.0\n",
        "gender 29.0\n",
        "hometown;id 10.0\n",
        "hometown;name 10.0\n",
        "languages;id 11.0\n",
        "languages;name 12.0\n",
        "locale 45.0\n",
        "location;id 2.0\n",
        "location;name 2.0\n",
        "\n"
       ]
      }
     ],
     "prompt_number": 35
    },
    {
     "cell_type": "code",
     "collapsed": false,
     "input": [
      "for circle in circles:\n",
      "    print len(circles[circle])"
     ],
     "language": "python",
     "metadata": {},
     "outputs": [
      {
       "output_type": "stream",
       "stream": "stdout",
       "text": [
        "30\n",
        "145\n",
        "6\n",
        "27\n",
        "16\n",
        "7\n",
        "48\n"
       ]
      }
     ],
     "prompt_number": 36
    },
    {
     "cell_type": "markdown",
     "metadata": {},
     "source": [
      "The below analysis is of the size of circles in the entire circle training set."
     ]
    },
    {
     "cell_type": "code",
     "collapsed": false,
     "input": [
      "import os\n",
      "trainingfiles = os.listdir('./Training/')\n",
      "all_training_circles ={}\n",
      "for item in trainingfiles:\n",
      "    ego = int((item.split('.')[0]))\n",
      "    all_training_circles[ego]=readcircle(ego)"
     ],
     "language": "python",
     "metadata": {},
     "outputs": [],
     "prompt_number": 37
    },
    {
     "cell_type": "code",
     "collapsed": false,
     "input": [
      "circlesizes =[]\n",
      "for ego in all_training_circles:\n",
      "    for circle in all_training_circles[ego]:\n",
      "        circlesizes.append(len(all_training_circles[ego][circle]))"
     ],
     "language": "python",
     "metadata": {},
     "outputs": [],
     "prompt_number": 38
    },
    {
     "cell_type": "code",
     "collapsed": false,
     "input": [
      "print 'Total Circles:',len(circlesizes),'Largest circle:',max(circlesizes)"
     ],
     "language": "python",
     "metadata": {},
     "outputs": [
      {
       "output_type": "stream",
       "stream": "stdout",
       "text": [
        "Total Circles: 592 Largest circle: 335\n"
       ]
      }
     ],
     "prompt_number": 39
    },
    {
     "cell_type": "code",
     "collapsed": false,
     "input": [
      "n,bins,patches = plt.hist(circlesizes,50,normed=1)"
     ],
     "language": "python",
     "metadata": {},
     "outputs": [
      {
       "metadata": {},
       "output_type": "display_data",
       "png": "[encoded data removed]",
       "text": [
        "<matplotlib.figure.Figure at 0xc2309d0>"
       ]
      }
     ],
     "prompt_number": 40
    },
    {
     "cell_type": "markdown",
     "metadata": {},
     "source": [
      "Need to install powerlaw from https://pypi.python.org/pypi/powerlaw and mpmath from http://mpmath.org/"
     ]
    },
    {
     "cell_type": "code",
     "collapsed": false,
     "input": [
      "import powerlaw\n",
      "\n",
      "fit = powerlaw.Fit(circlesizes,xmin=1.0)\n",
      "print 'Power law parameters'\n",
      "print 'xmin:', fit.xmin\n",
      "print 'alpha:', fit.power_law.alpha\n",
      "print 'sigma:', fit.power_law.sigma\n",
      "print 'Kolmorgorov-Smirnov Distance:', fit.power_law.D\n",
      "print 'Comparison of different fit distributions'\n",
      "for fitname in fit.supported_distributions:\n",
      "    if fit.supported_distributions[fitname]: print fitname, fit.distribution_compare('power_law', fitname ,normalized_ratio=True)\n",
      "fig = fit.plot_pdf(color='b', linewidth=2)\n",
      "fit.power_law.plot_pdf(color='b', linestyle='--', ax=fig)\n",
      "fit.truncated_power_law.plot_pdf(color='r', linestyle='--', ax=fig)\n",
      "show()"
     ],
     "language": "python",
     "metadata": {},
     "outputs": [
      {
       "output_type": "stream",
       "stream": "stdout",
       "text": [
        "Power law parameters\n",
        "xmin: 1.0\n",
        "alpha: 1.34867031724\n",
        "sigma: 0.0143302617645\n",
        "Kolmorgorov-Smirnov Distance: 0.429454995946\n",
        "Comparison of different fit distributions\n",
        "lognormal "
       ]
      },
      {
       "output_type": "stream",
       "stream": "stdout",
       "text": [
        "(-31.161598650616888, 3.5324953511545982e-213)\n",
        "exponential (-19.995760572020231, 5.9957783056119614e-89)\n",
        "truncated_power_law Assuming nested distributions\n",
        "(-52.163822814729087, 0.0)"
       ]
      },
      {
       "output_type": "stream",
       "stream": "stdout",
       "text": [
        "\n",
        "stretched_exponential (-25.240484420591411, 1.4406321340792655e-140)\n",
        "power_law Assuming nested distributions\n",
        "(nan, 1.0)\n"
       ]
      },
      {
       "output_type": "stream",
       "stream": "stderr",
       "text": [
        "C:\\Python27\\lib\\site-packages\\powerlaw.py:1621: RuntimeWarning: invalid value encountered in double_scalars\n",
        "  R = R/sqrt(n*variance)\n"
       ]
      },
      {
       "metadata": {},
       "output_type": "display_data",
       "png": "[encoded data removed]",
       "text": [
        "<matplotlib.figure.Figure at 0xc230710>"
       ]
      }
     ],
     "prompt_number": 41
    },
    {
     "cell_type": "code",
     "collapsed": false,
     "input": [
      "fit = powerlaw.Fit(circlesizes)\n",
      "print 'Power law parameters'\n",
      "print 'xmin:', fit.xmin\n",
      "print 'alpha:', fit.power_law.alpha\n",
      "print 'sigma:', fit.power_law.sigma\n",
      "print 'Kolmorgorov-Smirnov Distance:', fit.power_law.D\n",
      "print 'Comparison of different fit distributions'\n",
      "for fitname in fit.supported_distributions:\n",
      "    if fit.supported_distributions[fitname]: print fitname, fit.distribution_compare('power_law', fitname ,normalized_ratio=True)\n",
      "fig = fit.plot_pdf(color='b', linewidth=2)\n",
      "fit.power_law.plot_pdf(color='b', linestyle='--', ax=fig)\n",
      "fit.truncated_power_law.plot_pdf(color='r', linestyle='--', ax=fig)\n",
      "show()"
     ],
     "language": "python",
     "metadata": {},
     "outputs": [
      {
       "output_type": "stream",
       "stream": "stdout",
       "text": [
        "Calculating best minimal value for power law fit\n",
        "Power law parameters\n",
        "xmin: 59.0\n",
        "alpha: 3.11161185683\n",
        "sigma: 0.237574895157\n",
        "Kolmorgorov-Smirnov Distance: 0.0683951528023\n",
        "Comparison of different fit distributions\n",
        "lognormal "
       ]
      },
      {
       "output_type": "stream",
       "stream": "stdout",
       "text": [
        "(-0.95854230434610788, 0.33778936996245745)\n",
        "exponential (0.16468001936175994, 0.86919584448399489)\n",
        "truncated_power_law Assuming nested distributions\n",
        "(-1.1621434875610928, 0.10156380981369018)"
       ]
      },
      {
       "output_type": "stream",
       "stream": "stdout",
       "text": [
        "\n",
        "stretched_exponential (-1.0051563440518123, 0.31482157271181099)\n",
        "power_law Assuming nested distributions\n",
        "(nan, 1.0)"
       ]
      },
      {
       "output_type": "stream",
       "stream": "stdout",
       "text": [
        "\n"
       ]
      },
      {
       "output_type": "stream",
       "stream": "stderr",
       "text": [
        "C:\\Python27\\lib\\site-packages\\powerlaw.py:686: RuntimeWarning: invalid value encountered in divide\n",
        "  (Theoretical_CDF * (1 - Theoretical_CDF))\n"
       ]
      },
      {
       "metadata": {},
       "output_type": "display_data",
       "png": "[encoded data removed]",
       "text": [
        "<matplotlib.figure.Figure at 0x1332ee50>"
       ]
      }
     ],
     "prompt_number": 42
    },
    {
     "cell_type": "heading",
     "level": 1,
     "metadata": {},
     "source": [
      "ProbCircleSize(N) ~= (N)<sup>-1.35 to -3.11</sup>"
     ]
    },
    {
     "cell_type": "code",
     "collapsed": false,
     "input": [
      "def read_nodeadjlist(filename):\n",
      "  G = nx.Graph()\n",
      "  for line in open(filename):\n",
      "    e1, es = line.split(':')\n",
      "    G.add_node(int(e1))\n",
      "    es = es.split()\n",
      "    for e in es:\n",
      "      if e == e1: continue\n",
      "      G.add_edge(int(e1),int(e))\n",
      "  return G\n",
      "\n",
      "def drawGraph(G):\n",
      "    pos = nx.spring_layout(G)\n",
      "    nx.draw(G, pos)"
     ],
     "language": "python",
     "metadata": {},
     "outputs": [],
     "prompt_number": 43
    },
    {
     "cell_type": "code",
     "collapsed": false,
     "input": [
      "ref_user=239\n",
      "ref_circle = all_training_circles[ref_user]\n",
      "ref_circle_nums = [c for c in ref_circle]\n",
      "\n",
      "print 'User:',ref_user,'\\nCircle #\\'s:', ref_circle_nums\n",
      "G = read_nodeadjlist('./egonets/'+str(ref_user)+'.egonet')\n",
      "pos = nx.spring_layout(G)\n",
      "for c in ref_circle_nums:\n",
      "    print 'User:',ref_user,'Circle:',c,'Size:',len(ref_circle[c])\n",
      "    print 'Members:',ref_circle[c]\n",
      "    nx.draw(G,pos,node_color='r')  # draw the background graph as red\n",
      "    nx.draw(G.subgraph(ref_circle[c]),pos,node_color='b')  # draw each subgraph as blue\n",
      "    show()  # plot each as a separate plot\n"
     ],
     "language": "python",
     "metadata": {},
     "outputs": [
      {
       "output_type": "stream",
       "stream": "stdout",
       "text": [
        "User: 239 \n",
        "Circle #'s: [16, 17, 18, 19]\n",
        "User:"
       ]
      },
      {
       "output_type": "stream",
       "stream": "stdout",
       "text": [
        " 239 Circle: 16 Size: 46\n",
        "Members: [335, 253, 325, 320, 283, 258, 284, 318, 330, 241, 276, 312, 340, 301, 334, 291, 295, 242, 337, 338, 273, 277, 293, 251, 279, 285, 267, 243, 240, 298, 302, 286, 305, 282, 294, 256, 313, 263, 274, 339, 309, 336, 310, 264, 266, 269]\n"
       ]
      },
      {
       "metadata": {},
       "output_type": "display_data",
       "png": "[encoded data removed]",
       "text": [
        "<matplotlib.figure.Figure at 0x13933cb0>"
       ]
      },
      {
       "output_type": "stream",
       "stream": "stdout",
       "text": [
        "User: 239 Circle: 17 Size: 27\n",
        "Members: [306, 281, 311, 247, 342, 315, 297, 303, 304, 343, 333, 296, 250, 255, 331, 248, 340, 265, 322, 289, 344, 287, 326, 249, 324, 307, 290]\n"
       ]
      },
      {
       "metadata": {},
       "output_type": "display_data",
       "png": "[encoded data removed]",
       "text": [
        "<matplotlib.figure.Figure at 0x13701ef0>"
       ]
      },
      {
       "output_type": "stream",
       "stream": "stdout",
       "text": [
        "User: 239 Circle: 18 Size: 19\n",
        "Members: [300, 252, 332, 328, 268, 272, 323, 288, 257, 292, 245, 319, 275, 341, 282, 321, 339, 244, 316]\n"
       ]
      },
      {
       "metadata": {},
       "output_type": "display_data",
       "png": "[encoded data removed]",
       "text": [
        "<matplotlib.figure.Figure at 0xc364290>"
       ]
      },
      {
       "output_type": "stream",
       "stream": "stdout",
       "text": [
        "User: 239 Circle: 19 Size: 13\n",
        "Members: [280, 308, 254, 246, 270, 314, 299, 329, 261, 271, 327, 259, 317]\n"
       ]
      },
      {
       "metadata": {},
       "output_type": "display_data",
       "png": "[encoded data removed]",
       "text": [
        "<matplotlib.figure.Figure at 0x1391b370>"
       ]
      }
     ],
     "prompt_number": 44
    },
    {
     "cell_type": "code",
     "collapsed": false,
     "input": [
      "ref_user = 345\n",
      "ref_user_circles = all_training_circles[ref_user]\n",
      "ref_circle_nums = [c for c in ref_user_circles]\n",
      "\n",
      "print 'User:',ref_user\n",
      "print 'Circle #\\'s:', ref_circle_nums\n",
      "print 'Circle sizes:', [len(ref_user_circles[c]) for c in ref_user_circles]\n",
      "G = read_nodeadjlist('./egonets/'+str(ref_user)+'.egonet')\n",
      "pos=nx.spring_layout(G) # positions for all nodes\n",
      "\n",
      "ncolormap = {}\n",
      "for c in ref_user_circles:\n",
      "    ncolormap[c] = (random.random(),random.random(),random.random())\n",
      "    # nodes\n",
      "    nx.draw_networkx_nodes(G,pos,\n",
      "                       nodelist=ref_user_circles[c],\n",
      "                       node_color=ncolormap[c],\n",
      "                       node_size=50,\n",
      "                   alpha=0.8)\n",
      "#edges\n",
      "nx.draw_networkx_edges(G,pos,width=1.0,alpha=0.5)\n",
      "show()"
     ],
     "language": "python",
     "metadata": {},
     "outputs": [
      {
       "output_type": "stream",
       "stream": "stdout",
       "text": [
        "User: 345\n",
        "Circle #'s: [20, 22, 24, 26, 27, 28, 29]\n",
        "Circle sizes: [30, 145, 6, 27, 16, 7, 48]\n"
       ]
      },
      {
       "metadata": {},
       "output_type": "display_data",
       "png": "[encoded data removed]",
       "text": [
        "<matplotlib.figure.Figure at 0x136091b0>"
       ]
      }
     ],
     "prompt_number": 45
    },
    {
     "cell_type": "code",
     "collapsed": false,
     "input": [
      "G.nodes()"
     ],
     "language": "python",
     "metadata": {},
     "outputs": [
      {
       "metadata": {},
       "output_type": "pyout",
       "prompt_number": 46,
       "text": [
        "[512,\n",
        " 513,\n",
        " 514,\n",
        " 515,\n",
        " 516,\n",
        " 517,\n",
        " 518,\n",
        " 519,\n",
        " 520,\n",
        " 521,\n",
        " 522,\n",
        " 523,\n",
        " 524,\n",
        " 525,\n",
        " 526,\n",
        " 527,\n",
        " 528,\n",
        " 529,\n",
        " 530,\n",
        " 531,\n",
        " 532,\n",
        " 533,\n",
        " 534,\n",
        " 535,\n",
        " 536,\n",
        " 537,\n",
        " 538,\n",
        " 539,\n",
        " 540,\n",
        " 541,\n",
        " 542,\n",
        " 543,\n",
        " 544,\n",
        " 545,\n",
        " 546,\n",
        " 547,\n",
        " 548,\n",
        " 549,\n",
        " 550,\n",
        " 551,\n",
        " 552,\n",
        " 553,\n",
        " 554,\n",
        " 555,\n",
        " 556,\n",
        " 557,\n",
        " 558,\n",
        " 559,\n",
        " 560,\n",
        " 561,\n",
        " 562,\n",
        " 563,\n",
        " 564,\n",
        " 565,\n",
        " 566,\n",
        " 567,\n",
        " 568,\n",
        " 569,\n",
        " 570,\n",
        " 571,\n",
        " 572,\n",
        " 573,\n",
        " 574,\n",
        " 575,\n",
        " 576,\n",
        " 577,\n",
        " 578,\n",
        " 579,\n",
        " 580,\n",
        " 581,\n",
        " 582,\n",
        " 583,\n",
        " 584,\n",
        " 585,\n",
        " 586,\n",
        " 587,\n",
        " 588,\n",
        " 589,\n",
        " 590,\n",
        " 591,\n",
        " 592,\n",
        " 593,\n",
        " 594,\n",
        " 595,\n",
        " 596,\n",
        " 597,\n",
        " 598,\n",
        " 599,\n",
        " 600,\n",
        " 601,\n",
        " 602,\n",
        " 603,\n",
        " 604,\n",
        " 605,\n",
        " 606,\n",
        " 607,\n",
        " 608,\n",
        " 609,\n",
        " 610,\n",
        " 346,\n",
        " 347,\n",
        " 348,\n",
        " 349,\n",
        " 350,\n",
        " 351,\n",
        " 352,\n",
        " 353,\n",
        " 354,\n",
        " 355,\n",
        " 356,\n",
        " 357,\n",
        " 358,\n",
        " 359,\n",
        " 360,\n",
        " 361,\n",
        " 362,\n",
        " 363,\n",
        " 364,\n",
        " 365,\n",
        " 366,\n",
        " 367,\n",
        " 368,\n",
        " 369,\n",
        " 370,\n",
        " 371,\n",
        " 372,\n",
        " 373,\n",
        " 374,\n",
        " 375,\n",
        " 376,\n",
        " 377,\n",
        " 378,\n",
        " 379,\n",
        " 380,\n",
        " 381,\n",
        " 382,\n",
        " 383,\n",
        " 384,\n",
        " 385,\n",
        " 386,\n",
        " 387,\n",
        " 388,\n",
        " 389,\n",
        " 390,\n",
        " 391,\n",
        " 392,\n",
        " 393,\n",
        " 394,\n",
        " 395,\n",
        " 396,\n",
        " 397,\n",
        " 398,\n",
        " 399,\n",
        " 400,\n",
        " 401,\n",
        " 402,\n",
        " 403,\n",
        " 404,\n",
        " 405,\n",
        " 406,\n",
        " 407,\n",
        " 408,\n",
        " 409,\n",
        " 410,\n",
        " 411,\n",
        " 412,\n",
        " 413,\n",
        " 414,\n",
        " 415,\n",
        " 416,\n",
        " 417,\n",
        " 418,\n",
        " 419,\n",
        " 420,\n",
        " 421,\n",
        " 422,\n",
        " 423,\n",
        " 424,\n",
        " 425,\n",
        " 426,\n",
        " 427,\n",
        " 428,\n",
        " 429,\n",
        " 430,\n",
        " 431,\n",
        " 432,\n",
        " 433,\n",
        " 434,\n",
        " 435,\n",
        " 436,\n",
        " 437,\n",
        " 438,\n",
        " 439,\n",
        " 440,\n",
        " 441,\n",
        " 442,\n",
        " 443,\n",
        " 444,\n",
        " 445,\n",
        " 446,\n",
        " 447,\n",
        " 448,\n",
        " 449,\n",
        " 450,\n",
        " 451,\n",
        " 452,\n",
        " 453,\n",
        " 454,\n",
        " 455,\n",
        " 456,\n",
        " 457,\n",
        " 458,\n",
        " 459,\n",
        " 460,\n",
        " 461,\n",
        " 462,\n",
        " 463,\n",
        " 464,\n",
        " 465,\n",
        " 466,\n",
        " 467,\n",
        " 468,\n",
        " 469,\n",
        " 470,\n",
        " 471,\n",
        " 472,\n",
        " 473,\n",
        " 474,\n",
        " 475,\n",
        " 476,\n",
        " 477,\n",
        " 478,\n",
        " 479,\n",
        " 480,\n",
        " 481,\n",
        " 482,\n",
        " 483,\n",
        " 484,\n",
        " 485,\n",
        " 486,\n",
        " 487,\n",
        " 488,\n",
        " 489,\n",
        " 490,\n",
        " 491,\n",
        " 492,\n",
        " 493,\n",
        " 494,\n",
        " 495,\n",
        " 496,\n",
        " 497,\n",
        " 498,\n",
        " 499,\n",
        " 500,\n",
        " 501,\n",
        " 502,\n",
        " 503,\n",
        " 504,\n",
        " 505,\n",
        " 506,\n",
        " 507,\n",
        " 508,\n",
        " 509,\n",
        " 510,\n",
        " 511]"
       ]
      }
     ],
     "prompt_number": 46
    },
    {
     "cell_type": "code",
     "collapsed": false,
     "input": [
      "# check for nodes in a circle but not in G, determined bug in reading node adjacency list\n",
      "for c in ref_circle:\n",
      "    print 'Circle', c, 'has nodes', [n for n in ref_circle[c] if n not in set(G.nodes())], 'not in G'"
     ],
     "language": "python",
     "metadata": {},
     "outputs": [
      {
       "output_type": "stream",
       "stream": "stdout",
       "text": [
        "Circle 16 has nodes [335, 253, 325, 320, 283, 258, 284, 318, 330, 241, 276, 312, 340, 301, 334, 291, 295, 242, 337, 338, 273, 277, 293, 251, 279, 285, 267, 243, 240, 298, 302, 286, 305, 282, 294, 256, 313, 263, 274, 339, 309, 336, 310, 264, 266, 269] not in G\n",
        "Circle 17 has nodes [306, 281, 311, 247, 342, 315, 297, 303, 304, 343, 333, 296, 250, 255, 331, 248, 340, 265, 322, 289, 344, 287, 326, 249, 324, 307, 290] not in G\n",
        "Circle 18 has nodes [300, 252, 332, 328, 268, 272, 323, 288, 257, 292, 245, 319, 275, 341, 282, 321, 339, 244, 316] not in G\n",
        "Circle 19 has nodes [280, 308, 254, 246, 270, 314, 299, 329, 261, 271, 327, 259, 317] not in G\n"
       ]
      }
     ],
     "prompt_number": 47
    },
    {
     "cell_type": "code",
     "collapsed": false,
     "input": [
      "ref_user = 345\n",
      "print 'User:', ref_user\n",
      "ref_profile = profile[ref_user]\n",
      "circles = readcircle(ref_user)\n",
      "ch_profile={}\n",
      "for circle in circles:\n",
      "    print 'Circle:', circle\n",
      "    matchmatrix = [matchvector(ref_profile,profile[user],features) for user in circles[circle] ]\n",
      "    ch_profile[circle]=charprofile(matchmatrix)\n",
      "    display_char_profile(ch_profile[circle],features)\n",
      "    print ''"
     ],
     "language": "python",
     "metadata": {},
     "outputs": [
      {
       "output_type": "stream",
       "stream": "stdout",
       "text": [
        "User: 345\n",
        "Circle: 20\n",
        "education;type 37.0\n",
        "gender 18.0\n",
        "hometown;id 4.0\n",
        "hometown;name 4.0\n",
        "languages;id 3.0\n",
        "languages;name 4.0\n",
        "last_name 2.0\n",
        "locale 10.0\n",
        "location;id 1.0\n",
        "location;name 1.0\n",
        "\n",
        "Circle: 22\n",
        "education;school;id"
       ]
      },
      {
       "output_type": "stream",
       "stream": "stdout",
       "text": [
        " 70.0\n",
        "education;school;name 70.0\n",
        "education;type 143.0\n",
        "first_name 3.0\n",
        "gender 106.0\n",
        "languages;id 145.0\n",
        "languages;name 161.0\n",
        "locale 109.0\n",
        "location;id 45.0\n",
        "location;name 45.0\n",
        "religion 1.0\n",
        "\n",
        "Circle: 24\n",
        "education;type 5.0\n",
        "gender 5.0\n",
        "locale 4.0\n",
        "\n",
        "Circle: 26\n",
        "education;school;id 1.0\n",
        "education;school;name 1.0\n",
        "education;type 21.0\n",
        "gender 17.0\n",
        "hometown;id 3.0\n",
        "hometown;name 3.0\n",
        "languages;id 11.0\n",
        "languages;name 11.0\n",
        "locale 22.0\n",
        "location;id 2.0\n",
        "location;name 2.0\n",
        "\n",
        "Circle: 27\n",
        "education;type 14.0\n",
        "gender 9.0\n",
        "languages;id 2.0\n",
        "languages;name 2.0\n",
        "locale 15.0\n",
        "location;id 2.0\n",
        "location;name 2.0\n",
        "\n",
        "Circle: 28\n",
        "education;school;id 2.0\n",
        "education;school;name 2.0\n",
        "education;type 10.0\n",
        "gender 5.0\n",
        "languages;id 3.0\n",
        "languages;name 4.0\n",
        "locale 6.0\n",
        "\n",
        "Circle: 29\n",
        "education;school;id 2.0\n",
        "education;school;name 2.0\n",
        "education;type 40.0\n",
        "gender 29.0\n",
        "hometown;id 10.0\n",
        "hometown;name 10.0\n",
        "languages;id 11.0\n",
        "languages;name 12.0\n",
        "locale 45.0\n",
        "location;id 2.0\n",
        "location;name 2.0\n",
        "\n"
       ]
      }
     ],
     "prompt_number": 48
    },
    {
     "cell_type": "code",
     "collapsed": false,
     "input": [
      "ref_profile"
     ],
     "language": "python",
     "metadata": {},
     "outputs": [
      {
       "metadata": {},
       "output_type": "pyout",
       "prompt_number": 49,
       "text": [
        "{'birthday': [258],\n",
        " 'education;school;id': [379, 379],\n",
        " 'education;school;name': [370, 370],\n",
        " 'education;type': [0, 1],\n",
        " 'first_name': [275],\n",
        " 'gender': [1],\n",
        " 'hometown;id': [131],\n",
        " 'hometown;name': [131],\n",
        " 'id': [345],\n",
        " 'languages;id': [70, 2, 31, 23, 71],\n",
        " 'languages;name': [63, 2, 5, 20, 64],\n",
        " 'last_name': [309],\n",
        " 'locale': [8],\n",
        " 'location;id': [87],\n",
        " 'location;name': [87],\n",
        " 'name': [343],\n",
        " 'religion': [1]}"
       ]
      }
     ],
     "prompt_number": 49
    },
    {
     "cell_type": "code",
     "collapsed": false,
     "input": [
      "c = 29 # the circle to construct a common profile, really need to clean up str/int inconsistency, all should be int\n",
      "char_profile = {}\n",
      "Ncircle = len(circles[c])  # the size of the circle\n",
      "for key in ref_profile:\n",
      "    for val in ref_profile[key]:\n",
      "        count = 0\n",
      "        for user in circles[c]:\n",
      "          if key in profile[user] and val in profile[user][key]:\n",
      "                count = count + 1\n",
      "        count = count*1.0/Ncircle  # normalize by the size of the circle to determine percentage of profiles with common value\n",
      "        if key in char_profile:\n",
      "            char_profile[key].append( (val,count) )  # store the val and percentage matched to ego as tuples\n",
      "        else:\n",
      "            char_profile[key]=[(val,count)]\n",
      "char_profile\n",
      "        "
     ],
     "language": "python",
     "metadata": {},
     "outputs": [
      {
       "metadata": {},
       "output_type": "pyout",
       "prompt_number": 50,
       "text": [
        "{'birthday': [(258, 0.0)],\n",
        " 'education;school;id': [(379, 0.041666666666666664),\n",
        "  (379, 0.041666666666666664)],\n",
        " 'education;school;name': [(370, 0.041666666666666664),\n",
        "  (370, 0.041666666666666664)],\n",
        " 'education;type': [(0, 0.7083333333333334), (1, 0.125)],\n",
        " 'first_name': [(275, 0.0)],\n",
        " 'gender': [(1, 0.6041666666666666)],\n",
        " 'hometown;id': [(131, 0.20833333333333334)],\n",
        " 'hometown;name': [(131, 0.20833333333333334)],\n",
        " 'id': [(345, 0.0)],\n",
        " 'languages;id': [(70, 0.10416666666666667),\n",
        "  (2, 0.08333333333333333),\n",
        "  (31, 0.0),\n",
        "  (23, 0.041666666666666664),\n",
        "  (71, 0.0)],\n",
        " 'languages;name': [(63, 0.10416666666666667),\n",
        "  (2, 0.08333333333333333),\n",
        "  (5, 0.020833333333333332),\n",
        "  (20, 0.041666666666666664),\n",
        "  (64, 0.0)],\n",
        " 'last_name': [(309, 0.0)],\n",
        " 'locale': [(8, 0.9375)],\n",
        " 'location;id': [(87, 0.041666666666666664)],\n",
        " 'location;name': [(87, 0.041666666666666664)],\n",
        " 'name': [(343, 0.0)],\n",
        " 'religion': [(1, 0.0)]}"
       ]
      }
     ],
     "prompt_number": 50
    },
    {
     "cell_type": "code",
     "collapsed": false,
     "input": [
      "1 in [2,3,4,1]"
     ],
     "language": "python",
     "metadata": {},
     "outputs": [
      {
       "metadata": {},
       "output_type": "pyout",
       "prompt_number": 51,
       "text": [
        "True"
       ]
      }
     ],
     "prompt_number": 51
    },
    {
     "cell_type": "code",
     "collapsed": false,
     "input": [
      "usersincircles = set.union(*[set(ref_circle[c]) for c in ref_circle])\n",
      "H = nx.Graph()\n",
      "H.add_nodes_from(G)\n",
      "H.add_edges_from(G.edges())\n",
      "H.remove_nodes_from(usersincircles)\n",
      "H.nodes()"
     ],
     "language": "python",
     "metadata": {},
     "outputs": [
      {
       "metadata": {},
       "output_type": "pyout",
       "prompt_number": 52,
       "text": [
        "[512,\n",
        " 513,\n",
        " 514,\n",
        " 515,\n",
        " 516,\n",
        " 517,\n",
        " 518,\n",
        " 519,\n",
        " 520,\n",
        " 521,\n",
        " 522,\n",
        " 523,\n",
        " 524,\n",
        " 525,\n",
        " 526,\n",
        " 527,\n",
        " 528,\n",
        " 529,\n",
        " 530,\n",
        " 531,\n",
        " 532,\n",
        " 533,\n",
        " 534,\n",
        " 535,\n",
        " 536,\n",
        " 537,\n",
        " 538,\n",
        " 539,\n",
        " 540,\n",
        " 541,\n",
        " 542,\n",
        " 543,\n",
        " 544,\n",
        " 545,\n",
        " 546,\n",
        " 547,\n",
        " 548,\n",
        " 549,\n",
        " 550,\n",
        " 551,\n",
        " 552,\n",
        " 553,\n",
        " 554,\n",
        " 555,\n",
        " 556,\n",
        " 557,\n",
        " 558,\n",
        " 559,\n",
        " 560,\n",
        " 561,\n",
        " 562,\n",
        " 563,\n",
        " 564,\n",
        " 565,\n",
        " 566,\n",
        " 567,\n",
        " 568,\n",
        " 569,\n",
        " 570,\n",
        " 571,\n",
        " 572,\n",
        " 573,\n",
        " 574,\n",
        " 575,\n",
        " 576,\n",
        " 577,\n",
        " 578,\n",
        " 579,\n",
        " 580,\n",
        " 581,\n",
        " 582,\n",
        " 583,\n",
        " 584,\n",
        " 585,\n",
        " 586,\n",
        " 587,\n",
        " 588,\n",
        " 589,\n",
        " 590,\n",
        " 591,\n",
        " 592,\n",
        " 593,\n",
        " 594,\n",
        " 595,\n",
        " 596,\n",
        " 597,\n",
        " 598,\n",
        " 599,\n",
        " 600,\n",
        " 601,\n",
        " 602,\n",
        " 603,\n",
        " 604,\n",
        " 605,\n",
        " 606,\n",
        " 607,\n",
        " 608,\n",
        " 609,\n",
        " 610,\n",
        " 346,\n",
        " 347,\n",
        " 348,\n",
        " 349,\n",
        " 350,\n",
        " 351,\n",
        " 352,\n",
        " 353,\n",
        " 354,\n",
        " 355,\n",
        " 356,\n",
        " 357,\n",
        " 358,\n",
        " 359,\n",
        " 360,\n",
        " 361,\n",
        " 362,\n",
        " 363,\n",
        " 364,\n",
        " 365,\n",
        " 366,\n",
        " 367,\n",
        " 368,\n",
        " 369,\n",
        " 370,\n",
        " 371,\n",
        " 372,\n",
        " 373,\n",
        " 374,\n",
        " 375,\n",
        " 376,\n",
        " 377,\n",
        " 378,\n",
        " 379,\n",
        " 380,\n",
        " 381,\n",
        " 382,\n",
        " 383,\n",
        " 384,\n",
        " 385,\n",
        " 386,\n",
        " 387,\n",
        " 388,\n",
        " 389,\n",
        " 390,\n",
        " 391,\n",
        " 392,\n",
        " 393,\n",
        " 394,\n",
        " 395,\n",
        " 396,\n",
        " 397,\n",
        " 398,\n",
        " 399,\n",
        " 400,\n",
        " 401,\n",
        " 402,\n",
        " 403,\n",
        " 404,\n",
        " 405,\n",
        " 406,\n",
        " 407,\n",
        " 408,\n",
        " 409,\n",
        " 410,\n",
        " 411,\n",
        " 412,\n",
        " 413,\n",
        " 414,\n",
        " 415,\n",
        " 416,\n",
        " 417,\n",
        " 418,\n",
        " 419,\n",
        " 420,\n",
        " 421,\n",
        " 422,\n",
        " 423,\n",
        " 424,\n",
        " 425,\n",
        " 426,\n",
        " 427,\n",
        " 428,\n",
        " 429,\n",
        " 430,\n",
        " 431,\n",
        " 432,\n",
        " 433,\n",
        " 434,\n",
        " 435,\n",
        " 436,\n",
        " 437,\n",
        " 438,\n",
        " 439,\n",
        " 440,\n",
        " 441,\n",
        " 442,\n",
        " 443,\n",
        " 444,\n",
        " 445,\n",
        " 446,\n",
        " 447,\n",
        " 448,\n",
        " 449,\n",
        " 450,\n",
        " 451,\n",
        " 452,\n",
        " 453,\n",
        " 454,\n",
        " 455,\n",
        " 456,\n",
        " 457,\n",
        " 458,\n",
        " 459,\n",
        " 460,\n",
        " 461,\n",
        " 462,\n",
        " 463,\n",
        " 464,\n",
        " 465,\n",
        " 466,\n",
        " 467,\n",
        " 468,\n",
        " 469,\n",
        " 470,\n",
        " 471,\n",
        " 472,\n",
        " 473,\n",
        " 474,\n",
        " 475,\n",
        " 476,\n",
        " 477,\n",
        " 478,\n",
        " 479,\n",
        " 480,\n",
        " 481,\n",
        " 482,\n",
        " 483,\n",
        " 484,\n",
        " 485,\n",
        " 486,\n",
        " 487,\n",
        " 488,\n",
        " 489,\n",
        " 490,\n",
        " 491,\n",
        " 492,\n",
        " 493,\n",
        " 494,\n",
        " 495,\n",
        " 496,\n",
        " 497,\n",
        " 498,\n",
        " 499,\n",
        " 500,\n",
        " 501,\n",
        " 502,\n",
        " 503,\n",
        " 504,\n",
        " 505,\n",
        " 506,\n",
        " 507,\n",
        " 508,\n",
        " 509,\n",
        " 510,\n",
        " 511]"
       ]
      }
     ],
     "prompt_number": 52
    },
    {
     "cell_type": "code",
     "collapsed": false,
     "input": [
      "H = nx.Graph()\n",
      "H.add_nodes_from(G)\n",
      "for c in ref_circle:\n",
      "    H.remove_nodes_from(ref_circle[c])\n",
      "print 'Users not in a circle:',H.nodes()"
     ],
     "language": "python",
     "metadata": {},
     "outputs": [
      {
       "output_type": "stream",
       "stream": "stdout",
       "text": [
        "Users not in a circle: [512, 513, 514, 515, 516, 517, 518, 519, 520, 521, 522, 523, 524, 525, 526, 527, 528, 529, 530, 531, 532, 533, 534, 535, 536, 537, 538, 539, 540, 541, 542, 543, 544, 545, 546, 547, 548, 549, 550, 551, 552, 553, 554, 555, 556, 557, 558, 559, 560, 561, 562, 563, 564, 565, 566, 567, 568, 569, 570, 571, 572, 573, 574, 575, 576, 577, 578, 579, 580, 581, 582, 583, 584, 585, 586, 587, 588, 589, 590, 591, 592, 593, 594, 595, 596, 597, 598, 599, 600, 601, 602, 603, 604, 605, 606, 607, 608, 609, 610, 346, 347, 348, 349, 350, 351, 352, 353, 354, 355, 356, 357, 358, 359, 360, 361, 362, 363, 364, 365, 366, 367, 368, 369, 370, 371, 372, 373, 374, 375, 376, 377, 378, 379, 380, 381, 382, 383, 384, 385, 386, 387, 388, 389, 390, 391, 392, 393, 394, 395, 396, 397, 398, 399, 400, 401, 402, 403, 404, 405, 406, 407, 408, 409, 410, 411, 412, 413, 414, 415, 416, 417, 418, 419, 420, 421, 422, 423, 424, 425, 426, 427, 428, 429, 430, 431, 432, 433, 434, 435, 436, 437, 438, 439, 440, 441, 442, 443, 444, 445, 446, 447, 448, 449, 450, 451, 452, 453, 454, 455, 456, 457, 458, 459, 460, 461, 462, 463, 464, 465, 466, 467, 468, 469, 470, 471, 472, 473, 474, 475, 476, 477, 478, 479, 480, 481, 482, 483, 484, 485, 486, 487, 488, 489, 490, 491, 492, 493, 494, 495, 496, 497, 498, 499, 500, 501, 502, 503, 504, 505, 506, 507, 508, 509, 510, 511]\n"
       ]
      }
     ],
     "prompt_number": 53
    },
    {
     "cell_type": "code",
     "collapsed": false,
     "input": [
      "a = [[1,2,3],[4,5,6],[10,11,13,1,2],[]]\n",
      "b = [[2,5,6],[4,5,7],[10,12,14,13],[8,7,6]]\n",
      "print 'a:',a\n",
      "print 'b:',b"
     ],
     "language": "python",
     "metadata": {},
     "outputs": [
      {
       "output_type": "stream",
       "stream": "stdout",
       "text": [
        "a: [[1, 2, 3], [4, 5, 6], [10, 11, 13, 1, 2], []]\n",
        "b: [[2, 5, 6], [4, 5, 7], [10, 12, 14, 13], [8, 7, 6]]\n"
       ]
      }
     ],
     "prompt_number": 54
    },
    {
     "cell_type": "code",
     "collapsed": false,
     "input": [
      "import itertools\n",
      "\n",
      "def cost_function(pred_circles,true_circles):\n",
      "    \"\"\"\n",
      "    computes the cost function for a dictionary of predicted circles versus a dictionary of true circles\n",
      "    by minimizing over all possible permutations of the predicted circle alignment to true circles\n",
      "    \"\"\"\n",
      "    pred_circle_list,true_circle_list = pred_circles.values(),true_circles.values()\n",
      "    # align the total number of circles by extending with empty circles\n",
      "    for i in range(len(pred_circle_list)-len(true_circle_list)):\n",
      "        true_circle_list.append([])\n",
      "    for j in range(len(true_circle_list)-len(pred_circle_list)):\n",
      "        pred_circle_list.append([])\n",
      "    # return the minimum difference over all possible alignments of the circles in the predicted list\n",
      "    return min( [diff_between_circle_lists(perm,true_circle_list) for perm in itertools.permutations(pred_circle_list)] )\n",
      "\n",
      "def diff_between_circle_lists(listA,listB):\n",
      "    \"\"\"\n",
      "    computes the symmetric difference between two lists of lists\n",
      "    must have len(listA) == len(listB)  so extend the shorter list with empty elements before calling\n",
      "    \"\"\"\n",
      "    assert len(listA)==len(listB)\n",
      "    return sum([len( set(circleA).symmetric_difference(set(circleB)) ) for circleA, circleB in zip(listA,listB)])\n",
      "\n",
      "def cost_function2(pred_circles,true_circles):\n",
      "    \"\"\"\n",
      "    a more efficient implementation of the cost function\n",
      "    \"\"\"\n",
      "    pred_circle_list,true_circle_list = [set(c) for c in pred_circles.values()],[set(c) for c in true_circles.values()]\n",
      "    # align the total number of circles by extending with empty circles\n",
      "    for i in range(len(pred_circle_list)-len(true_circle_list)):\n",
      "        true_circle_list.append(set([]))\n",
      "    for j in range(len(true_circle_list)-len(pred_circle_list)):\n",
      "        pred_circle_list.append(set([]))\n",
      "    diff_matrix = [[len(c1.symmetric_difference(c2)) for c2 in true_circle_list] for c1 in pred_circle_list]\n",
      "    ind = range(len(diff_matrix))\n",
      "    return min( [sum([diff_matrix[i][j] for i,j in zip(perm,ind)]) for perm in itertools.permutations(ind)] )"
     ],
     "language": "python",
     "metadata": {},
     "outputs": [],
     "prompt_number": 55
    },
    {
     "cell_type": "code",
     "collapsed": false,
     "input": [
      "set([1,2,3]).symmetric_difference([2,3,4])"
     ],
     "language": "python",
     "metadata": {},
     "outputs": [
      {
       "metadata": {},
       "output_type": "pyout",
       "prompt_number": 56,
       "text": [
        "{1, 4}"
       ]
      }
     ],
     "prompt_number": 56
    },
    {
     "cell_type": "code",
     "collapsed": false,
     "input": [
      "[set(x).symmetric_difference(set(y)) for x,y in zip(a,b)]"
     ],
     "language": "python",
     "metadata": {},
     "outputs": [
      {
       "metadata": {},
       "output_type": "pyout",
       "prompt_number": 57,
       "text": [
        "[{1, 3, 5, 6}, {6, 7}, {1, 2, 11, 12, 14}, {6, 7, 8}]"
       ]
      }
     ],
     "prompt_number": 57
    },
    {
     "cell_type": "code",
     "collapsed": false,
     "input": [
      "[len(set(x).symmetric_difference(set(y))) for x,y in zip(a,b)]"
     ],
     "language": "python",
     "metadata": {},
     "outputs": [
      {
       "metadata": {},
       "output_type": "pyout",
       "prompt_number": 58,
       "text": [
        "[4, 2, 5, 3]"
       ]
      }
     ],
     "prompt_number": 58
    },
    {
     "cell_type": "code",
     "collapsed": false,
     "input": [
      "sum([len(set(x).symmetric_difference(set(y))) for x,y in zip(a,b)])"
     ],
     "language": "python",
     "metadata": {},
     "outputs": [
      {
       "metadata": {},
       "output_type": "pyout",
       "prompt_number": 59,
       "text": [
        "14"
       ]
      }
     ],
     "prompt_number": 59
    },
    {
     "cell_type": "code",
     "collapsed": false,
     "input": [
      "a = [[1,2,3],[4,5,6],[10,11,13,1,2],[]]\n",
      "b = [[2,5,6],[4,5,7],[10,12,14,13],[8,7,6]]\n",
      "print 'a:',a\n",
      "print 'b:',b\n",
      "[(x,y) for x,y in zip(a,b)]"
     ],
     "language": "python",
     "metadata": {},
     "outputs": [
      {
       "output_type": "stream",
       "stream": "stdout",
       "text": [
        "a: [[1, 2, 3], [4, 5, 6], [10, 11, 13, 1, 2], []]\n",
        "b: [[2, 5, 6], [4, 5, 7], [10, 12, 14, 13], [8, 7, 6]]\n"
       ]
      },
      {
       "metadata": {},
       "output_type": "pyout",
       "prompt_number": 60,
       "text": [
        "[([1, 2, 3], [2, 5, 6]),\n",
        " ([4, 5, 6], [4, 5, 7]),\n",
        " ([10, 11, 13, 1, 2], [10, 12, 14, 13]),\n",
        " ([], [8, 7, 6])]"
       ]
      }
     ],
     "prompt_number": 60
    },
    {
     "cell_type": "code",
     "collapsed": false,
     "input": [
      "diff_between_circle_lists(a,b)"
     ],
     "language": "python",
     "metadata": {},
     "outputs": [
      {
       "metadata": {},
       "output_type": "pyout",
       "prompt_number": 61,
       "text": [
        "14"
       ]
      }
     ],
     "prompt_number": 61
    },
    {
     "cell_type": "code",
     "collapsed": false,
     "input": [
      "def align_list_length(a,b):\n",
      "    print 'a',a,len(a),'b',b,len(b)  \n",
      "    for i in range(len(a)-len(b)):\n",
      "        b.append([])\n",
      "    for j in range(len(b)-len(a)):\n",
      "        a.append([])\n",
      "    print 'a',a,len(a),'b',b,len(b)"
     ],
     "language": "python",
     "metadata": {},
     "outputs": [],
     "prompt_number": 62
    },
    {
     "cell_type": "code",
     "collapsed": false,
     "input": [
      "align_list_length([1,2,2],[1,2,3,4,5,6])"
     ],
     "language": "python",
     "metadata": {},
     "outputs": [
      {
       "output_type": "stream",
       "stream": "stdout",
       "text": [
        "a [1, 2, 2] 3 b [1, 2, 3, 4, 5, 6] 6\n",
        "a [1, 2, 2, [], [], []] 6 b [1, 2, 3, 4, 5, 6] 6\n"
       ]
      }
     ],
     "prompt_number": 63
    },
    {
     "cell_type": "code",
     "collapsed": false,
     "input": [
      "align_list_length([1,2,2,2,3,4,5],[1,2,3,6])"
     ],
     "language": "python",
     "metadata": {},
     "outputs": [
      {
       "output_type": "stream",
       "stream": "stdout",
       "text": [
        "a [1, 2, 2, 2, 3, 4, 5] 7 b [1, 2, 3, 6] 4\n",
        "a [1, 2, 2, 2, 3, 4, 5] 7 b [1, 2, 3, 6, [], [], []] 7\n"
       ]
      }
     ],
     "prompt_number": 64
    },
    {
     "cell_type": "code",
     "collapsed": false,
     "input": [
      "print sum([len(set(c)) for c in ref_user_circles.values()])\n",
      "print cost_function({},ref_user_circles)\n",
      "print cost_function2({},ref_user_circles)\n",
      "print cost_function({1:[417,521,431],2:[560,514]},ref_user_circles)\n",
      "print cost_function2({1:[417,521,431],2:[560,514]},ref_user_circles)\n",
      "print cost_function(ref_user_circles,ref_user_circles)\n",
      "print cost_function2(ref_user_circles,ref_user_circles)\n",
      "more_circles = dict(ref_user_circles)\n",
      "more_circles.update({1:[1],2:[1,2,3]})\n",
      "print cost_function(more_circles,ref_user_circles)"
     ],
     "language": "python",
     "metadata": {},
     "outputs": [
      {
       "output_type": "stream",
       "stream": "stdout",
       "text": [
        "278\n",
        "278"
       ]
      },
      {
       "output_type": "stream",
       "stream": "stdout",
       "text": [
        "\n",
        "278"
       ]
      },
      {
       "output_type": "stream",
       "stream": "stdout",
       "text": [
        "\n",
        "273"
       ]
      },
      {
       "output_type": "stream",
       "stream": "stdout",
       "text": [
        "\n",
        "273"
       ]
      },
      {
       "output_type": "stream",
       "stream": "stdout",
       "text": [
        "\n",
        "0"
       ]
      },
      {
       "output_type": "stream",
       "stream": "stdout",
       "text": [
        "\n",
        "0"
       ]
      },
      {
       "output_type": "stream",
       "stream": "stdout",
       "text": [
        "\n",
        "4"
       ]
      },
      {
       "output_type": "stream",
       "stream": "stdout",
       "text": [
        "\n"
       ]
      }
     ],
     "prompt_number": 65
    },
    {
     "cell_type": "code",
     "collapsed": false,
     "input": [],
     "language": "python",
     "metadata": {},
     "outputs": [],
     "prompt_number": 65
    },
    {
     "cell_type": "code",
     "collapsed": false,
     "input": [
      "%timeit sum([len(set(c)) for c in ref_user_circles.values()])\n",
      "%timeit cost_function({},ref_user_circles)\n",
      "%timeit cost_function2({},ref_user_circles)\n",
      "%timeit cost_function({1:[417,521,431],2:[560,514]},ref_user_circles)\n",
      "%timeit cost_function2({1:[417,521,431],2:[560,514]},ref_user_circles)\n",
      "%timeit cost_function(ref_user_circles,ref_user_circles)\n",
      "%timeit cost_function2(ref_user_circles,ref_user_circles)"
     ],
     "language": "python",
     "metadata": {},
     "outputs": [
      {
       "output_type": "stream",
       "stream": "stdout",
       "text": [
        "10000 loops, best of 3: 48.9 \u00b5s per loop\n",
        "1 loops, best of 3: 346 ms per loop"
       ]
      },
      {
       "output_type": "stream",
       "stream": "stdout",
       "text": [
        "\n",
        "10 loops, best of 3: 112 ms per loop"
       ]
      },
      {
       "output_type": "stream",
       "stream": "stdout",
       "text": [
        "\n",
        "1 loops, best of 3: 325 ms per loop"
       ]
      },
      {
       "output_type": "stream",
       "stream": "stdout",
       "text": [
        "\n",
        "10 loops, best of 3: 113 ms per loop"
       ]
      },
      {
       "output_type": "stream",
       "stream": "stdout",
       "text": [
        "\n",
        "1 loops, best of 3: 553 ms per loop"
       ]
      },
      {
       "output_type": "stream",
       "stream": "stdout",
       "text": [
        "\n",
        "10 loops, best of 3: 113 ms per loop"
       ]
      },
      {
       "output_type": "stream",
       "stream": "stdout",
       "text": [
        "\n"
       ]
      }
     ],
     "prompt_number": 66
    },
    {
     "cell_type": "code",
     "collapsed": false,
     "input": [
      "print cost_function2(more_circles,ref_user_circles)"
     ],
     "language": "python",
     "metadata": {},
     "outputs": [
      {
       "output_type": "stream",
       "stream": "stdout",
       "text": [
        "4\n"
       ]
      }
     ],
     "prompt_number": 67
    },
    {
     "cell_type": "code",
     "collapsed": false,
     "input": [
      "%timeit cost_function(more_circles,ref_user_circles)\n",
      "%timeit cost_function2(more_circles,ref_user_circles)"
     ],
     "language": "python",
     "metadata": {},
     "outputs": [
      {
       "output_type": "stream",
       "stream": "stdout",
       "text": [
        "1 loops, best of 3: 45.4 s per loop\n",
        "1 loops, best of 3: 9.52 s per loop"
       ]
      },
      {
       "output_type": "stream",
       "stream": "stdout",
       "text": [
        "\n"
       ]
      }
     ],
     "prompt_number": 68
    },
    {
     "cell_type": "code",
     "collapsed": false,
     "input": [
      "[len(c) for c in ref_user_circles.values()]"
     ],
     "language": "python",
     "metadata": {},
     "outputs": [
      {
       "metadata": {},
       "output_type": "pyout",
       "prompt_number": 69,
       "text": [
        "[30, 145, 6, 27, 16, 7, 48]"
       ]
      }
     ],
     "prompt_number": 69
    },
    {
     "cell_type": "code",
     "collapsed": false,
     "input": [
      "a = {1:2,2:3}\n",
      "print a\n",
      "a.update({3:4})\n",
      "print a"
     ],
     "language": "python",
     "metadata": {},
     "outputs": [
      {
       "output_type": "stream",
       "stream": "stdout",
       "text": [
        "{1: 2, 2: 3}\n",
        "{1: 2, 2: 3, 3: 4}\n"
       ]
      }
     ],
     "prompt_number": 70
    },
    {
     "cell_type": "code",
     "collapsed": false,
     "input": [
      "len(ref_user_circles)"
     ],
     "language": "python",
     "metadata": {},
     "outputs": [
      {
       "metadata": {},
       "output_type": "pyout",
       "prompt_number": 71,
       "text": [
        "7"
       ]
      }
     ],
     "prompt_number": 71
    },
    {
     "cell_type": "code",
     "collapsed": false,
     "input": [
      "from collections import Counter"
     ],
     "language": "python",
     "metadata": {},
     "outputs": [],
     "prompt_number": 72
    },
    {
     "cell_type": "code",
     "collapsed": false,
     "input": [
      "[(c,Counter(mems)) for c,mems in ref_user_circles.items()]"
     ],
     "language": "python",
     "metadata": {},
     "outputs": [
      {
       "metadata": {},
       "output_type": "pyout",
       "prompt_number": 73,
       "text": [
        "[(20,\n",
        "  Counter({512: 1, 521: 1, 394: 1, 523: 1, 535: 1, 538: 1, 413: 1, 410: 1, 543: 1, 416: 1, 417: 1, 431: 1, 562: 1, 436: 1, 565: 1, 570: 1, 578: 1, 454: 1, 353: 1, 588: 1, 462: 1, 594: 1, 349: 1, 481: 1, 610: 1, 489: 1, 362: 1, 497: 1, 376: 1, 541: 1})),\n",
        " (22,\n",
        "  Counter({514: 1, 516: 1, 517: 1, 518: 1, 519: 1, 520: 1, 522: 1, 525: 1, 527: 1, 528: 1, 531: 1, 534: 1, 539: 1, 540: 1, 542: 1, 545: 1, 546: 1, 547: 1, 550: 1, 554: 1, 556: 1, 557: 1, 558: 1, 560: 1, 561: 1, 566: 1, 568: 1, 569: 1, 572: 1, 573: 1, 575: 1, 577: 1, 580: 1, 582: 1, 584: 1, 585: 1, 586: 1, 589: 1, 590: 1, 592: 1, 593: 1, 595: 1, 600: 1, 603: 1, 604: 1, 605: 1, 606: 1, 608: 1, 346: 1, 347: 1, 350: 1, 352: 1, 355: 1, 356: 1, 357: 1, 358: 1, 363: 1, 364: 1, 366: 1, 368: 1, 371: 1, 372: 1, 373: 1, 374: 1, 375: 1, 377: 1, 378: 1, 379: 1, 381: 1, 382: 1, 384: 1, 385: 1, 388: 1, 389: 1, 390: 1, 392: 1, 393: 1, 395: 1, 396: 1, 397: 1, 400: 1, 403: 1, 405: 1, 406: 1, 409: 1, 412: 1, 415: 1, 419: 1, 420: 1, 421: 1, 422: 1, 425: 1, 426: 1, 427: 1, 429: 1, 430: 1, 434: 1, 435: 1, 438: 1, 439: 1, 441: 1, 442: 1, 444: 1, 446: 1, 447: 1, 448: 1, 450: 1, 451: 1, 456: 1, 457: 1, 458: 1, 459: 1, 460: 1, 461: 1, 464: 1, 465: 1, 466: 1, 468: 1, 469: 1, 470: 1, 471: 1, 472: 1, 473: 1, 474: 1, 475: 1, 476: 1, 477: 1, 480: 1, 484: 1, 487: 1, 488: 1, 490: 1, 491: 1, 492: 1, 495: 1, 496: 1, 498: 1, 499: 1, 501: 1, 502: 1, 504: 1, 505: 1, 506: 1, 507: 1, 509: 1})),\n",
        " (24, Counter({548: 1, 359: 1, 463: 1, 597: 1, 408: 1, 543: 1})),\n",
        " (26,\n",
        "  Counter({513: 1, 401: 1, 402: 1, 404: 1, 536: 1, 543: 1, 559: 1, 432: 1, 563: 1, 567: 1, 569: 1, 445: 1, 574: 1, 576: 1, 587: 1, 591: 1, 467: 1, 601: 1, 602: 1, 479: 1, 354: 1, 483: 1, 529: 1, 367: 1, 500: 1, 501: 1, 380: 1})),\n",
        " (27,\n",
        "  Counter({449: 1, 482: 1, 515: 1, 455: 1, 553: 1, 428: 1, 365: 1, 526: 1, 418: 1, 351: 1, 596: 1, 533: 1, 398: 1, 600: 1, 443: 1, 543: 1})),\n",
        " (28, Counter({450: 1, 443: 1, 516: 1, 363: 1, 364: 1, 398: 1, 603: 1})),\n",
        " (29,\n",
        "  Counter({501: 2, 386: 1, 387: 1, 391: 1, 408: 1, 530: 1, 532: 1, 407: 1, 536: 1, 410: 1, 411: 1, 543: 1, 548: 1, 549: 1, 423: 1, 424: 1, 581: 1, 432: 1, 433: 1, 564: 1, 437: 1, 440: 1, 569: 1, 571: 1, 576: 1, 579: 1, 452: 1, 453: 1, 587: 1, 610: 1, 597: 1, 598: 1, 599: 1, 478: 1, 607: 1, 354: 1, 485: 1, 486: 1, 359: 1, 360: 1, 361: 1, 551: 1, 552: 1, 503: 1, 511: 1, 510: 1, 383: 1}))]"
       ]
      }
     ],
     "prompt_number": 73
    },
    {
     "cell_type": "code",
     "collapsed": false,
     "input": [
      "Counter(ref_user_circles[20])"
     ],
     "language": "python",
     "metadata": {},
     "outputs": [
      {
       "metadata": {},
       "output_type": "pyout",
       "prompt_number": 74,
       "text": [
        "Counter({512: 1, 521: 1, 394: 1, 523: 1, 535: 1, 538: 1, 413: 1, 410: 1, 543: 1, 416: 1, 417: 1, 431: 1, 562: 1, 436: 1, 565: 1, 570: 1, 578: 1, 454: 1, 353: 1, 588: 1, 462: 1, 594: 1, 349: 1, 481: 1, 610: 1, 489: 1, 362: 1, 497: 1, 376: 1, 541: 1})"
       ]
      }
     ],
     "prompt_number": 74
    },
    {
     "cell_type": "code",
     "collapsed": false,
     "input": [
      "t = Counter(ref_user_circles[29])\n",
      "[(key,val) for key,val in t.items() if val != 1]"
     ],
     "language": "python",
     "metadata": {},
     "outputs": [
      {
       "metadata": {},
       "output_type": "pyout",
       "prompt_number": 75,
       "text": [
        "[(501, 2)]"
       ]
      }
     ],
     "prompt_number": 75
    },
    {
     "cell_type": "code",
     "collapsed": false,
     "input": [
      "[(key,val) for key,val in t.items() if val != 1]"
     ],
     "language": "python",
     "metadata": {},
     "outputs": [
      {
       "metadata": {},
       "output_type": "pyout",
       "prompt_number": 76,
       "text": [
        "[(501, 2)]"
       ]
      }
     ],
     "prompt_number": 76
    },
    {
     "cell_type": "code",
     "collapsed": false,
     "input": [
      "[(c,[(key,val) for key,val in Counter(mems).items() if val != 1 ]) for c,mems in ref_user_circles.items()]"
     ],
     "language": "python",
     "metadata": {},
     "outputs": [
      {
       "metadata": {},
       "output_type": "pyout",
       "prompt_number": 77,
       "text": [
        "[(20, []), (22, []), (24, []), (26, []), (27, []), (28, []), (29, [(501, 2)])]"
       ]
      }
     ],
     "prompt_number": 77
    },
    {
     "cell_type": "code",
     "collapsed": false,
     "input": [
      "x = range(11)\n",
      "plt.semilogy(x,map(lambda t: t*t,x))\n",
      "plt.semilogy(x,map(lambda t: math.factorial(t)*t,x))"
     ],
     "language": "python",
     "metadata": {},
     "outputs": [
      {
       "metadata": {},
       "output_type": "pyout",
       "prompt_number": 78,
       "text": [
        "[<matplotlib.lines.Line2D at 0x1344b910>]"
       ]
      },
      {
       "metadata": {},
       "output_type": "display_data",
       "png": "[encoded data removed]",
       "text": [
        "<matplotlib.figure.Figure at 0x13445850>"
       ]
      }
     ],
     "prompt_number": 78
    },
    {
     "cell_type": "code",
     "collapsed": false,
     "input": [
      "print map(lambda t: t*t,x)\n",
      "print map(lambda t: math.factorial(t)*t,x)"
     ],
     "language": "python",
     "metadata": {},
     "outputs": [
      {
       "output_type": "stream",
       "stream": "stdout",
       "text": [
        "[0, 1, 4, 9, 16, 25, 36, 49, 64, 81, 100]\n",
        "[0, 1, 4, 18, 96, 600, 4320, 35280, 322560, 3265920, 36288000]\n"
       ]
      }
     ],
     "prompt_number": 79
    },
    {
     "cell_type": "code",
     "collapsed": false,
     "input": [
      "36288000/100"
     ],
     "language": "python",
     "metadata": {},
     "outputs": [
      {
       "metadata": {},
       "output_type": "pyout",
       "prompt_number": 80,
       "text": [
        "362880"
       ]
      }
     ],
     "prompt_number": 80
    },
    {
     "cell_type": "code",
     "collapsed": false,
     "input": [
      "for (circle,dups) in [(c,[(key,val) for key,val in Counter(mems).items() if val != 1 ]) for c,mems in ref_user_circles.items()]:\n",
      "    for dup in dups:\n",
      "        print 'User:',ref_user,'Circle:',circle,'Duplicate member:',dup[0]"
     ],
     "language": "python",
     "metadata": {},
     "outputs": [
      {
       "output_type": "stream",
       "stream": "stdout",
       "text": [
        "User: 345 Circle: 29 Duplicate member: 501\n"
       ]
      }
     ],
     "prompt_number": 81
    },
    {
     "cell_type": "code",
     "collapsed": false,
     "input": [
      "for (user,circles) in all_training_circles.items():\n",
      "    for (circle,dups) in [(c,[(mem,num) for mem,num in Counter(mems).items() if num != 1 ]) for c,mems in circles.items()]:\n",
      "        for dup in dups:\n",
      "            print 'User:',user,'Circle:',circle,'Duplicate member:',dup[0],'Duplicated:', dup[1],'times'"
     ],
     "language": "python",
     "metadata": {},
     "outputs": [
      {
       "output_type": "stream",
       "stream": "stdout",
       "text": [
        "User: 10395 Circle: 84 Duplicate member: 10456 Duplicated: 2 times\n",
        "User: 10395 Circle: 84 Duplicate member: 10504 Duplicated: 4 times\n",
        "User: 10395 Circle: 827 Duplicate member: 10786 Duplicated: 2 times\n",
        "User: 10395 Circle: 827 Duplicate member: 10504 Duplicated: 2 times\n",
        "User: 10395 Circle: 827 Duplicate member: 10730 Duplicated: 2 times\n",
        "User: 9642 Circle: 783 Duplicate member: 9656 Duplicated: 2 times\n",
        "User: 4406 Circle: 403 Duplicate member: 4450 Duplicated: 2 times\n",
        "User: 4406 Circle: 403 Duplicate member: 4716 Duplicated: 2 times\n",
        "User: 8777 Circle: 714 Duplicate member: 8785 Duplicated: 2 times\n",
        "User: 345 Circle: 29 Duplicate member: 501 Duplicated: 2 times\n",
        "User: 23157 Circle: 1408 Duplicate member: 23180 Duplicated: 2 times\n",
        "User: 9846 Circle: 104 Duplicate member: 9881 Duplicated: 2 times\n"
       ]
      }
     ],
     "prompt_number": 82
    },
    {
     "cell_type": "code",
     "collapsed": false,
     "input": [
      "a={'circle1': [3, 1, 2],'circle2': [2, 3],'circle3': [5, 4, 6]}\n",
      "\n",
      "b={'circleA': [4, 5],'circleB':[ 1, 3, 2, 4]}\n",
      "\n",
      "print cost_function(a,b)\n",
      "assert cost_function(a,b) == 4"
     ],
     "language": "python",
     "metadata": {},
     "outputs": [
      {
       "output_type": "stream",
       "stream": "stdout",
       "text": [
        "4\n"
       ]
      }
     ],
     "prompt_number": 83
    },
    {
     "cell_type": "code",
     "collapsed": false,
     "input": [
      "import sklearn.cluster"
     ],
     "language": "python",
     "metadata": {},
     "outputs": [],
     "prompt_number": 84
    },
    {
     "cell_type": "code",
     "collapsed": false,
     "input": [
      "A = nx.adjacency_matrix(G)"
     ],
     "language": "python",
     "metadata": {},
     "outputs": [],
     "prompt_number": 85
    },
    {
     "cell_type": "code",
     "collapsed": false,
     "input": [
      "cl = sklearn.cluster.spectral_clustering(A)"
     ],
     "language": "python",
     "metadata": {},
     "outputs": [
      {
       "output_type": "stream",
       "stream": "stderr",
       "text": [
        "C:\\Python27\\lib\\site-packages\\numpy\\lib\\utils.py:134: DeprecationWarning: `scipy.lib.lapack` is deprecated, use `scipy.linalg.lapack` instead!\n",
        "  warnings.warn(depdoc, DeprecationWarning)\n",
        "C:\\Python27\\lib\\site-packages\\sklearn\\manifold\\spectral_embedding_.py:226: UserWarning: Graph is not fully connected, spectral embedding may not work as expected.\n",
        "  warnings.warn(\"Graph is not fully connected, spectral embedding\"\n"
       ]
      }
     ],
     "prompt_number": 86
    },
    {
     "cell_type": "code",
     "collapsed": false,
     "input": [
      "len(cl)"
     ],
     "language": "python",
     "metadata": {},
     "outputs": [
      {
       "metadata": {},
       "output_type": "pyout",
       "prompt_number": 87,
       "text": [
        "265"
       ]
      }
     ],
     "prompt_number": 87
    },
    {
     "cell_type": "code",
     "collapsed": false,
     "input": [
      "len(G.nodes())"
     ],
     "language": "python",
     "metadata": {},
     "outputs": [
      {
       "metadata": {},
       "output_type": "pyout",
       "prompt_number": 88,
       "text": [
        "265"
       ]
      }
     ],
     "prompt_number": 88
    },
    {
     "cell_type": "code",
     "collapsed": false,
     "input": [
      "pred_circles ={}\n",
      "for circle,user in zip(cl,G.nodes()):  # if no node_list is given to adjacency_matrix the ordering is the same as G.nodes()\n",
      "    if circle in pred_circles:\n",
      "        pred_circles[circle].append(user)\n",
      "    else:\n",
      "        pred_circles[circle]=[user]"
     ],
     "language": "python",
     "metadata": {},
     "outputs": [],
     "prompt_number": 89
    },
    {
     "cell_type": "code",
     "collapsed": false,
     "input": [
      "print pred_circles\n",
      "print ref_user_circles"
     ],
     "language": "python",
     "metadata": {},
     "outputs": [
      {
       "output_type": "stream",
       "stream": "stdout",
       "text": [
        "{0: [515, 516, 520, 525, 526, 533, 537, 544, 546, 553, 555, 556, 557, 572, 578, 583, 586, 592, 593, 596, 603, 346, 348, 349, 351, 352, 355, 364, 365, 366, 368, 369, 370, 376, 382, 384, 385, 393, 394, 397, 398, 399, 408, 409, 412, 414, 416, 418, 428, 434, 438, 443, 449, 450, 455, 464, 468, 480, 482, 486, 490, 492, 494, 497, 502], 1: [513, 529, 530, 536, 543, 551, 563, 567, 569, 574, 576, 587, 591, 594, 597, 598, 601, 602, 607, 354, 367, 383, 387, 391, 401, 404, 411, 432, 440, 445, 452, 453, 467, 479, 483, 501], 2: [532, 548, 549, 552, 559, 564, 571, 579, 581, 588, 599, 609, 359, 360, 361, 380, 386, 402, 407, 410, 423, 424, 433, 437, 463, 478, 485, 500, 503, 508, 510, 511], 3: [521, 538, 562, 353, 362, 413, 417, 431, 436, 454, 481], 4: [517, 518, 519, 522, 527, 528, 531, 534, 539, 540, 542, 545, 547, 550, 554, 558, 560, 561, 566, 568, 573, 575, 577, 580, 582, 584, 585, 589, 590, 595, 604, 605, 606, 608, 347, 350, 357, 358, 363, 371, 372, 373, 374, 375, 377, 378, 381, 388, 389, 390, 392, 395, 396, 400, 403, 405, 406, 415, 419, 420, 421, 422, 425, 426, 427, 429, 430, 435, 439, 441, 442, 444, 446, 447, 448, 451, 456, 457, 458, 459, 460, 461, 465, 469, 470, 471, 472, 473, 474, 475, 476, 477, 484, 487, 488, 491, 495, 496, 498, 499, 504, 505, 506, 507, 509], 5: [523, 535, 541, 565, 570, 462, 489, 493], 6: [514, 524, 600, 356, 379, 466], 7: [512, 610]}\n",
        "{20: [417, 521, 431, 454, 481, 578, 353, 523, 349, 588, 543, 376, 594, 436, 538, 570, 413, 535, 416, 394, 489, 462, 562, 565, 541, 362, 610, 497, 512, 410], 22: [560, 514, 466, 381, 577, 572, 506, 496, 476, 458, 518, 470, 519, 525, 366, 545, 475, 502, 504, 434, 468, 446, 540, 600, 442, 534, 509, 363, 439, 528, 547, 392, 492, 580, 421, 415, 477, 495, 377, 425, 573, 606, 575, 451, 448, 517, 603, 422, 420, 379, 373, 384, 457, 352, 459, 558, 403, 356, 491, 505, 539, 412, 388, 480, 484, 426, 474, 461, 378, 456, 400, 350, 406, 473, 405, 358, 488, 569, 520, 546, 566, 382, 589, 595, 396, 516, 550, 568, 441, 364, 527, 397, 371, 490, 584, 499, 522, 498, 608, 542, 355, 374, 465, 389, 395, 604, 471, 372, 460, 430, 507, 357, 561, 450, 346, 592, 472, 464, 393, 444, 390, 590, 435, 347, 501, 375, 586, 554, 582, 487, 557, 427, 385, 447, 429, 469, 593, 531, 409, 368, 605, 556, 585, 438, 419], 24: [463, 543, 408, 548, 359, 597], 26: [529, 574, 602, 543, 513, 576, 591, 587, 404, 354, 536, 367, 559, 601, 569, 401, 445, 380, 479, 483, 567, 467, 402, 563, 432, 501, 500], 27: [596, 515, 533, 443, 543, 365, 600, 553, 428, 455, 449, 351, 482, 418, 526, 398], 28: [443, 363, 603, 516, 364, 450, 398], 29: [543, 576, 579, 408, 548, 587, 598, 354, 536, 387, 486, 607, 359, 511, 569, 453, 597, 478, 452, 383, 485, 549, 437, 530, 433, 391, 432, 424, 501, 501, 581, 599, 503, 411, 407, 440, 610, 510, 552, 386, 360, 564, 532, 423, 571, 361, 410, 551]}\n"
       ]
      }
     ],
     "prompt_number": 90
    },
    {
     "cell_type": "code",
     "collapsed": false,
     "input": [
      "cost_function(pred_circles,ref_user_circles)"
     ],
     "language": "python",
     "metadata": {},
     "outputs": [
      {
       "metadata": {},
       "output_type": "pyout",
       "prompt_number": 91,
       "text": [
        "189"
       ]
      }
     ],
     "prompt_number": 91
    },
    {
     "cell_type": "code",
     "collapsed": false,
     "input": [
      "cc = nx.connected_components(G)\n",
      "cost_function(dict(enumerate(cc)),ref_user_circles)"
     ],
     "language": "python",
     "metadata": {},
     "outputs": [
      {
       "metadata": {},
       "output_type": "pyout",
       "prompt_number": 92,
       "text": [
        "251"
       ]
      }
     ],
     "prompt_number": 92
    },
    {
     "cell_type": "code",
     "collapsed": false,
     "input": [
      "dict(enumerate([[1,2,3],[4,5,6]]))"
     ],
     "language": "python",
     "metadata": {},
     "outputs": [
      {
       "metadata": {},
       "output_type": "pyout",
       "prompt_number": 93,
       "text": [
        "{0: [1, 2, 3], 1: [4, 5, 6]}"
       ]
      }
     ],
     "prompt_number": 93
    },
    {
     "cell_type": "code",
     "collapsed": false,
     "input": [
      "t = [[1,2,3],[4,5,6]]\n",
      "print dict(zip(range(len(t)),t))\n",
      "print dict(enumerate(t))"
     ],
     "language": "python",
     "metadata": {},
     "outputs": [
      {
       "output_type": "stream",
       "stream": "stdout",
       "text": [
        "{0: [1, 2, 3], 1: [4, 5, 6]}\n",
        "{0: [1, 2, 3], 1: [4, 5, 6]}\n"
       ]
      }
     ],
     "prompt_number": 94
    },
    {
     "cell_type": "code",
     "collapsed": false,
     "input": [
      "251-173"
     ],
     "language": "python",
     "metadata": {},
     "outputs": [
      {
       "metadata": {},
       "output_type": "pyout",
       "prompt_number": 95,
       "text": [
        "78"
       ]
      }
     ],
     "prompt_number": 95
    },
    {
     "cell_type": "code",
     "collapsed": false,
     "input": [
      "import time\n",
      "\n",
      "def cost_function3(pred_circles,true_circles):\n",
      "    \"\"\"\n",
      "    a more efficient implementation of the cost function\n",
      "    \"\"\"\n",
      "    start = time.clock()\n",
      "    pred_circle_list,true_circle_list = [set(c) for c in pred_circles.values()],[set(c) for c in true_circles.values()]\n",
      "    post_sets = time.clock()\n",
      "    print 'Sets created in:','%0.5f' % (post_sets-start,)\n",
      "    # align the total number of circles by extending with empty circles\n",
      "    for i in range(len(pred_circle_list)-len(true_circle_list)):\n",
      "        true_circle_list.append(set([]))\n",
      "    for j in range(len(true_circle_list)-len(pred_circle_list)):\n",
      "        pred_circle_list.append(set([]))\n",
      "    post_extend = time.clock()\n",
      "    print 'Sets extended in:', '%0.5f' % (post_extend-post_sets,)\n",
      "    diff_matrix = [[len(c1.symmetric_difference(c2)) for c2 in true_circle_list] for c1 in pred_circle_list]\n",
      "    post_matrix = time.clock()\n",
      "    print 'Diff matrix in:', '%0.5f' % (post_matrix-post_extend,)\n",
      "    ind = range(len(diff_matrix))\n",
      "    possible_scores = [sum([diff_matrix[i][j] for i,j in zip(perm,ind)]) for perm in itertools.permutations(ind)]\n",
      "    post_possible = time.clock()\n",
      "    print 'Possible scores in:', '%0.5f' % (post_possible-post_matrix,)\n",
      "    out = min(possible_scores)\n",
      "    post_min = time.clock()\n",
      "    print 'Min found in:', '%0.5f' % (post_min-post_possible,)\n",
      "    return out"
     ],
     "language": "python",
     "metadata": {},
     "outputs": [],
     "prompt_number": 96
    },
    {
     "cell_type": "code",
     "collapsed": false,
     "input": [
      "assert cost_function3(a,b) == 4"
     ],
     "language": "python",
     "metadata": {},
     "outputs": [
      {
       "output_type": "stream",
       "stream": "stdout",
       "text": [
        "Sets created in: 0.00001\n",
        "Sets extended in: 0.00013\n",
        "Diff matrix in: 0.00008\n",
        "Possible scores in: 0.00032\n",
        "Min found in: 0.00007\n"
       ]
      }
     ],
     "prompt_number": 97
    },
    {
     "cell_type": "code",
     "collapsed": false,
     "input": [
      "cost_function3({1:[417,521,431],2:[560,514]},ref_user_circles)"
     ],
     "language": "python",
     "metadata": {},
     "outputs": [
      {
       "output_type": "stream",
       "stream": "stdout",
       "text": [
        "Sets created in: 0.00005\n",
        "Sets extended in: 0.00010\n",
        "Diff matrix in: 0.00027\n",
        "Possible scores in:"
       ]
      },
      {
       "output_type": "stream",
       "stream": "stdout",
       "text": [
        " 0.13103\n",
        "Min found in: 0.00111\n"
       ]
      },
      {
       "metadata": {},
       "output_type": "pyout",
       "prompt_number": 98,
       "text": [
        "273"
       ]
      }
     ],
     "prompt_number": 98
    },
    {
     "cell_type": "code",
     "collapsed": false,
     "input": [
      "cost_function3(more_circles,ref_user_circles)"
     ],
     "language": "python",
     "metadata": {},
     "outputs": [
      {
       "output_type": "stream",
       "stream": "stdout",
       "text": [
        "Sets created in: 0.00008\n",
        "Sets extended in: 0.00015\n",
        "Diff matrix in: 0.00077\n",
        "Possible scores in:"
       ]
      },
      {
       "output_type": "stream",
       "stream": "stdout",
       "text": [
        " 9.09655\n",
        "Min found in: 0.01892\n"
       ]
      },
      {
       "metadata": {},
       "output_type": "pyout",
       "prompt_number": 99,
       "text": [
        "4"
       ]
      }
     ],
     "prompt_number": 99
    },
    {
     "cell_type": "markdown",
     "metadata": {},
     "source": [
      "The Hungarian algorithm for minimizing difference matrix http://software.clapper.org/munkres/"
     ]
    },
    {
     "cell_type": "code",
     "collapsed": false,
     "input": [
      "import munkres"
     ],
     "language": "python",
     "metadata": {},
     "outputs": [],
     "prompt_number": 100
    },
    {
     "cell_type": "code",
     "collapsed": false,
     "input": [
      "def create_diff_matrix(pred_circles,true_circles):\n",
      "    \"\"\"\n",
      "    a more efficient implementation of the cost function\n",
      "    \"\"\"\n",
      "    pred_circle_list,true_circle_list = [set(c) for c in pred_circles.values()],[set(c) for c in true_circles.values()]\n",
      "    # align the total number of circles by extending with empty circles\n",
      "    for i in range(len(pred_circle_list)-len(true_circle_list)):\n",
      "        true_circle_list.append(set([]))\n",
      "    for j in range(len(true_circle_list)-len(pred_circle_list)):\n",
      "        pred_circle_list.append(set([]))\n",
      "    return [[len(c1.symmetric_difference(c2)) for c2 in true_circle_list] for c1 in pred_circle_list]"
     ],
     "language": "python",
     "metadata": {},
     "outputs": [],
     "prompt_number": 101
    },
    {
     "cell_type": "code",
     "collapsed": false,
     "input": [
      "diff_matrix = create_diff_matrix(more_circles,ref_user_circles)\n",
      "diff_matrix"
     ],
     "language": "python",
     "metadata": {},
     "outputs": [
      {
       "metadata": {},
       "output_type": "pyout",
       "prompt_number": 102,
       "text": [
        "[[31, 146, 7, 28, 17, 8, 48, 1, 1],\n",
        " [33, 148, 9, 30, 19, 10, 50, 3, 3],\n",
        " [0, 175, 34, 55, 44, 37, 71, 30, 30],\n",
        " [175, 0, 151, 168, 159, 142, 188, 145, 145],\n",
        " [34, 151, 0, 31, 20, 13, 43, 6, 6],\n",
        " [55, 168, 31, 0, 41, 34, 58, 27, 27],\n",
        " [44, 159, 20, 41, 0, 19, 61, 16, 16],\n",
        " [37, 142, 13, 34, 19, 0, 54, 7, 7],\n",
        " [71, 188, 43, 58, 61, 54, 0, 47, 47]]"
       ]
      }
     ],
     "prompt_number": 102
    },
    {
     "cell_type": "code",
     "collapsed": false,
     "input": [
      "munk = munkres.Munkres()"
     ],
     "language": "python",
     "metadata": {},
     "outputs": [],
     "prompt_number": 103
    },
    {
     "cell_type": "code",
     "collapsed": false,
     "input": [
      "index = munk.compute(diff_matrix)\n",
      "print index\n",
      "print sum([diff_matrix[row][col] for row,col in index])"
     ],
     "language": "python",
     "metadata": {},
     "outputs": [
      {
       "output_type": "stream",
       "stream": "stdout",
       "text": [
        "[(0, 7), (1, 8), (2, 0), (3, 1), (4, 2), (5, 3), (6, 4), (7, 5), (8, 6)]\n",
        "4\n"
       ]
      }
     ],
     "prompt_number": 104
    },
    {
     "cell_type": "code",
     "collapsed": false,
     "input": [
      "def cost_function4(pred_circles,true_circles):\n",
      "    \"\"\"\n",
      "    a more efficient implementation of the cost function\n",
      "    \"\"\"\n",
      "    start = time.clock()\n",
      "    pred_circle_list,true_circle_list = [set(c) for c in pred_circles.values()],[set(c) for c in true_circles.values()]\n",
      "    post_sets = time.clock()\n",
      "    print 'Sets created in:','%0.5f' % (post_sets-start,)\n",
      "    # align the total number of circles by extending with empty circles\n",
      "    for i in range(len(pred_circle_list)-len(true_circle_list)):\n",
      "        true_circle_list.append(set([]))\n",
      "    for j in range(len(true_circle_list)-len(pred_circle_list)):\n",
      "        pred_circle_list.append(set([]))\n",
      "    post_extend = time.clock()\n",
      "    print 'Sets extended in:', '%0.5f' % (post_extend-post_sets,)\n",
      "    diff_matrix = [[len(c1.symmetric_difference(c2)) for c2 in true_circle_list] for c1 in pred_circle_list]\n",
      "    post_matrix = time.clock()\n",
      "    print 'Diff matrix in:', '%0.5f' % (post_matrix-post_extend,)\n",
      "    munk = munkres.Munkres()\n",
      "    index = munk.compute(diff_matrix)\n",
      "    out = sum( [ diff_matrix[row][col] for row,col in index] )\n",
      "    post_min = time.clock()\n",
      "    print 'Min found in:', '%0.5f' % (post_min-post_matrix,)\n",
      "    return out"
     ],
     "language": "python",
     "metadata": {},
     "outputs": [],
     "prompt_number": 105
    },
    {
     "cell_type": "code",
     "collapsed": false,
     "input": [
      "cost_function4(more_circles,ref_user_circles)"
     ],
     "language": "python",
     "metadata": {},
     "outputs": [
      {
       "output_type": "stream",
       "stream": "stdout",
       "text": [
        "Sets created in: 0.00010\n",
        "Sets extended in: 0.00013\n",
        "Diff matrix in: 0.00066\n",
        "Min found in: 0.00055\n"
       ]
      },
      {
       "metadata": {},
       "output_type": "pyout",
       "prompt_number": 106,
       "text": [
        "4"
       ]
      }
     ],
     "prompt_number": 106
    },
    {
     "cell_type": "code",
     "collapsed": false,
     "input": [
      "from munkres import Munkres\n",
      "\n",
      "def cost_function(pred_circles,true_circles):\n",
      "    \"\"\"\n",
      "    An efficient implementation of the cost function between predicted circles and ground truth circles\n",
      "    \n",
      "    Parameters\n",
      "    ----------\n",
      "    pred_circles: a dictionary\n",
      "      keys are circle labels (unused for calculation) and values are lists of users (any object) in the circle\n",
      "    \n",
      "    true_circles: a dictionary\n",
      "      keys are circle labels (unused for calculation) and values are lists of users (any object) in the circle\n",
      "      \n",
      "    Returns\n",
      "    -------\n",
      "    min_diff: int\n",
      "      the error achieved for optimal assignment of the circles between the predicted and true inputs\n",
      "    \n",
      "    Notes\n",
      "    -----\n",
      "    This function works by computing the symmetric difference (sum of type I and type II errors) between each \n",
      "    circle in the predicted and true list and then minimizing the assignment error between the lists using the\n",
      "    Hungarian algorithm via the munkres module: \n",
      "    \n",
      "    http://software.clapper.org/munkres/ \n",
      "    http://github.com/bmc/munkres.git\n",
      "    \n",
      "    For further background on the assignment problem see: \n",
      "    http://en.wikipedia.org/wiki/Assignment_problem\n",
      "    http://en.wikipedia.org/wiki/Hungarian_algorithm      \n",
      "    \"\"\"\n",
      "    # convert the circle dictionaries into a list of sets\n",
      "    pred_circle_list,true_circle_list = [set(c) for c in pred_circles.values()],[set(c) for c in true_circles.values()]\n",
      "    \n",
      "    # align the total number of circles by extending the smaller list of circles with empty circles\n",
      "    for i in range(len(pred_circle_list)-len(true_circle_list)):\n",
      "        true_circle_list.append(set([]))\n",
      "    for j in range(len(true_circle_list)-len(pred_circle_list)):\n",
      "        pred_circle_list.append(set([]))\n",
      "        \n",
      "    # calculate the size of the symmetric difference of each predicted circle and each true circle \n",
      "    diff_matrix = [[len(c1.symmetric_difference(c2)) for c2 in true_circle_list] for c1 in pred_circle_list]\n",
      "    \n",
      "    # compute the optimal assignment of circles between predicted and true\n",
      "    munk = Munkres()  # the Hungarian Algorithm module\n",
      "    index = munk.compute(diff_matrix)  # compute the indices for the optimal alignment\n",
      "    min_diff = sum( [ diff_matrix[row][col] for row,col in index] )  # compute the total error on the optimal alignment\n",
      "    return min_diff"
     ],
     "language": "python",
     "metadata": {},
     "outputs": [],
     "prompt_number": 107
    },
    {
     "cell_type": "code",
     "collapsed": false,
     "input": [
      "print cost_function({},ref_user_circles)\n",
      "print cost_function({1:[417,521,431],2:[560,514]},ref_user_circles)\n",
      "print cost_function(ref_user_circles,ref_user_circles)\n",
      "more_circles = dict(ref_user_circles)\n",
      "more_circles.update({1:[1],2:[1,2,3]})\n",
      "print cost_function(more_circles,ref_user_circles)"
     ],
     "language": "python",
     "metadata": {},
     "outputs": [
      {
       "output_type": "stream",
       "stream": "stdout",
       "text": [
        "278\n",
        "273\n",
        "0\n",
        "4\n"
       ]
      }
     ],
     "prompt_number": 108
    },
    {
     "cell_type": "code",
     "collapsed": false,
     "input": [
      "%timeit sum([len(set(c)) for c in ref_user_circles.values()])\n",
      "%timeit cost_function({},ref_user_circles)\n",
      "%timeit cost_function({1:[417,521,431],2:[560,514]},ref_user_circles)\n",
      "%timeit cost_function(ref_user_circles,ref_user_circles)\n",
      "%timeit cost_function(more_circles,ref_user_circles)"
     ],
     "language": "python",
     "metadata": {},
     "outputs": [
      {
       "output_type": "stream",
       "stream": "stdout",
       "text": [
        "10000 loops, best of 3: 50.3 \u00b5s per loop\n",
        "1000 loops, best of 3: 1.78 ms per loop"
       ]
      },
      {
       "output_type": "stream",
       "stream": "stdout",
       "text": [
        "\n",
        "1000 loops, best of 3: 1.72 ms per loop"
       ]
      },
      {
       "output_type": "stream",
       "stream": "stdout",
       "text": [
        "\n",
        "1000 loops, best of 3: 554 \u00b5s per loop"
       ]
      },
      {
       "output_type": "stream",
       "stream": "stdout",
       "text": [
        "\n",
        "1000 loops, best of 3: 807 \u00b5s per loop"
       ]
      },
      {
       "output_type": "stream",
       "stream": "stdout",
       "text": [
        "\n"
       ]
      }
     ],
     "prompt_number": 109
    },
    {
     "cell_type": "code",
     "collapsed": false,
     "input": [],
     "language": "python",
     "metadata": {},
     "outputs": [],
     "prompt_number": 109
    },
    {
     "cell_type": "code",
     "collapsed": false,
     "input": [
      "import os\n",
      "trainingfiles = os.listdir('./Training/')\n",
      "\n",
      "ncircles = []\n",
      "nfriends = []\n",
      "ncoef = []\n",
      "\n",
      "for item in trainingfiles:\n",
      "    ego = int((item.split('.')[0]))\n",
      "    number_of_circles = len(readcircle(ego))\n",
      "    G = read_nodeadjlist('./egonets/'+str(ego)+'.egonet')\n",
      "    number_of_friends = len( G.nodes() )\n",
      "    ccoef = nx.average_clustering(G)\n",
      "    ncircles.append(number_of_circles)\n",
      "    nfriends.append(number_of_friends)\n",
      "    ncoef.append(ccoef)\n",
      "\n",
      "plt.plot(nfriends,ncircles,'ro',alpha=0.5)\n",
      "m,b = np.polyfit(nfriends,ncircles,1)\n",
      "print 'm:', m, 'b:', b\n",
      "plot([min(nfriends),max(nfriends)],[m*min(nfriends)+b,m*max(nfriends)+b])\n",
      "show()"
     ],
     "language": "python",
     "metadata": {},
     "outputs": [
      {
       "output_type": "stream",
       "stream": "stdout",
       "text": [
        "m: 0.01670827551 b: 5.82354246449\n"
       ]
      },
      {
       "metadata": {},
       "output_type": "display_data",
       "png": "[encoded data removed]",
       "text": [
        "<matplotlib.figure.Figure at 0x13609bd0>"
       ]
      }
     ],
     "prompt_number": 110
    },
    {
     "cell_type": "code",
     "collapsed": false,
     "input": [
      "plt.plot(nfriends,ncircles,'ro',alpha=0.5)\n",
      "m,b = np.polyfit(nfriends,ncircles,1)\n",
      "print 'm:', m, 'b:', b\n",
      "plot([min(nfriends),max(nfriends)],[m*min(nfriends)+b,m*max(nfriends)+b])\n",
      "show()\n",
      "plt.plot(ncoef,ncircles,'ro',alpha=0.5)\n",
      "show()"
     ],
     "language": "python",
     "metadata": {},
     "outputs": [
      {
       "output_type": "stream",
       "stream": "stdout",
       "text": [
        "m: 0.01670827551 b: 5.82354246449\n"
       ]
      },
      {
       "metadata": {},
       "output_type": "display_data",
       "png": "[encoded data removed]",
       "text": [
        "<matplotlib.figure.Figure at 0x14db8a90>"
       ]
      },
      {
       "metadata": {},
       "output_type": "display_data",
       "png": "[encoded data removed]",
       "text": [
        "<matplotlib.figure.Figure at 0x134fc070>"
       ]
      }
     ],
     "prompt_number": 111
    },
    {
     "cell_type": "code",
     "collapsed": false,
     "input": [
      "print 'Median friends:', np.median(nfriends), 'Mean friends:', np.mean(nfriends)\n",
      "print 'Median circles:', np.median(ncircles), 'Mean circles:', np.mean(ncircles)"
     ],
     "language": "python",
     "metadata": {},
     "outputs": [
      {
       "output_type": "stream",
       "stream": "stdout",
       "text": [
        "Median friends: 219.0 Mean friends: 241.983333333\n",
        "Median circles: 9.0 Mean circles: 9.86666666667\n"
       ]
      }
     ],
     "prompt_number": 112
    },
    {
     "cell_type": "code",
     "collapsed": false,
     "input": [
      "import os\n",
      "trainingfiles = os.listdir('./Training/')\n",
      "\n",
      "ncircles = {}\n",
      "nfriends = {}\n",
      "meancoef = {}\n",
      "stdcoef = {}\n",
      "\n",
      "for item in trainingfiles:\n",
      "    ego = int((item.split('.')[0]))\n",
      "    number_of_circles = len(readcircle(ego))\n",
      "    G = read_nodeadjlist('./egonets/'+str(ego)+'.egonet')\n",
      "    number_of_friends = len( G.nodes() )\n",
      "    ccoefs = nx.clustering(G)\n",
      "    ncircles[ego] = number_of_circles\n",
      "    nfriends[ego] = number_of_friends\n",
      "    meancoef[ego] = np.mean(ccoefs.values())\n",
      "    stdcoef[ego] = np.std(ccoefs.values())\n",
      "\n",
      "plt.plot(nfriends.values(),ncircles.values(),'ro',alpha=0.5)\n",
      "m,b = np.polyfit(nfriends.values(),ncircles.values(),1)\n",
      "print 'm:', m, 'b:', b\n",
      "nmin = min(nfriends.values())\n",
      "nmax = max(nfriends.values())\n",
      "plot([nmin,nmax],[m*nmin+b,m*nmax+b])\n",
      "show()\n",
      "plt.plot(meancoef.values(),ncircles.values(),'ro',alpha=0.5)\n",
      "show()\n",
      "plt.plot(stdcoef.values(),ncircles.values(),'ro',alpha=0.5)\n",
      "show()"
     ],
     "language": "python",
     "metadata": {},
     "outputs": [
      {
       "output_type": "stream",
       "stream": "stdout",
       "text": [
        "m: 0.01670827551 b: 5.82354246449\n"
       ]
      },
      {
       "metadata": {},
       "output_type": "display_data",
       "png": "[encoded data removed]",
       "text": [
        "<matplotlib.figure.Figure at 0xc230c50>"
       ]
      },
      {
       "metadata": {},
       "output_type": "display_data",
       "png": "[encoded data removed]",
       "text": [
        "<matplotlib.figure.Figure at 0x1393a210>"
       ]
      },
      {
       "metadata": {},
       "output_type": "display_data",
       "png": "[encoded data removed]",
       "text": [
        "<matplotlib.figure.Figure at 0x14e5d570>"
       ]
      }
     ],
     "prompt_number": 113
    },
    {
     "cell_type": "code",
     "collapsed": false,
     "input": [
      "nx.clustering(G)"
     ],
     "language": "python",
     "metadata": {},
     "outputs": [
      {
       "metadata": {},
       "output_type": "pyout",
       "prompt_number": 114,
       "text": [
        "{9948: 0.5901234567901235,\n",
        " 9949: 0.6111111111111112,\n",
        " 9950: 1.0,\n",
        " 9951: 0.3333333333333333,\n",
        " 9952: 1.0,\n",
        " 9953: 0.6055806938159879,\n",
        " 9954: 0.10256410256410256,\n",
        " 9955: 0.6553544494720965,\n",
        " 9956: 0.6644897959183673,\n",
        " 9957: 0.5966101694915255,\n",
        " 9958: 0.46064218940522966,\n",
        " 9959: 0.5654520917678812,\n",
        " 9960: 0.09523809523809523,\n",
        " 9961: 0.4725274725274725,\n",
        " 9962: 1.0,\n",
        " 9963: 0.6666666666666666,\n",
        " 9964: 0.6363636363636364,\n",
        " 9965: 0.6203389830508474,\n",
        " 9966: 0.3006535947712418,\n",
        " 9967: 0.0,\n",
        " 9968: 0.38890626629131475,\n",
        " 9969: 0.5034079844206426,\n",
        " 9970: 0.45753746694093445,\n",
        " 9971: 0.5362210604929052,\n",
        " 9972: 0.0,\n",
        " 9973: 0.30984499371596147,\n",
        " 9974: 0.782608695652174,\n",
        " 9975: 0.6619047619047619,\n",
        " 9976: 0.6666666666666666,\n",
        " 9977: 0.9333333333333333,\n",
        " 9978: 0.6016385048643114,\n",
        " 9979: 0.5059965733866362,\n",
        " 9980: 0.5396591626341258,\n",
        " 9981: 0.3333333333333333,\n",
        " 9982: 0.4254671881790526,\n",
        " 9983: 0.37701149425287356,\n",
        " 9984: 0.5555555555555556,\n",
        " 9985: 0.43544002718314645,\n",
        " 9986: 0.45537757437070936,\n",
        " 9987: 1.0,\n",
        " 9988: 0.4015873015873016,\n",
        " 9989: 0.5384615384615384,\n",
        " 9990: 0.3076923076923077,\n",
        " 9991: 0.25757575757575757,\n",
        " 9992: 0.8939393939393939,\n",
        " 9993: 0.43157894736842106,\n",
        " 9994: 0.45454545454545453,\n",
        " 9995: 0.7485714285714286,\n",
        " 9996: 0.3224101479915433,\n",
        " 9997: 0.6780758556891767,\n",
        " 9998: 0.0,\n",
        " 9999: 0.5144927536231884,\n",
        " 10000: 0.17142857142857143,\n",
        " 10001: 0.0,\n",
        " 10002: 0.5188271604938272,\n",
        " 10003: 0.17857142857142858,\n",
        " 10004: 0.8444444444444444,\n",
        " 10005: 0.5551948051948052,\n",
        " 10006: 0.3689727463312369,\n",
        " 10007: 0.6363636363636364,\n",
        " 10008: 0.7944664031620553,\n",
        " 10009: 0.12705882352941175,\n",
        " 10010: 0.5512820512820513,\n",
        " 10011: 0.8095238095238095,\n",
        " 10012: 0.5505226480836237,\n",
        " 10013: 0.5850961538461539,\n",
        " 10014: 0.7818181818181819,\n",
        " 10015: 0.42857142857142855,\n",
        " 10016: 0.27941176470588236,\n",
        " 10017: 0.41005291005291006,\n",
        " 10018: 0.6666666666666666,\n",
        " 10019: 0.6910569105691057,\n",
        " 10020: 1.0,\n",
        " 10021: 0.46153846153846156,\n",
        " 10022: 0.5157894736842106,\n",
        " 10023: 0.6,\n",
        " 10024: 0.15555555555555556,\n",
        " 10025: 0.6,\n",
        " 10026: 0.5883116883116883,\n",
        " 10027: 0.5384615384615384,\n",
        " 10028: 0.9333333333333333,\n",
        " 10029: 0.38666666666666666,\n",
        " 10030: 0.5135353535353535,\n",
        " 10031: 0.51,\n",
        " 10032: 0.41818181818181815,\n",
        " 10033: 0.4306184012066365,\n",
        " 10034: 0.45,\n",
        " 10035: 0.7,\n",
        " 10036: 0.5717154331612163,\n",
        " 10037: 0.6854764107308048,\n",
        " 10038: 0.8,\n",
        " 10039: 0.7272727272727273,\n",
        " 10040: 0.5661764705882353,\n",
        " 10041: 0.7364532019704434,\n",
        " 10042: 0.5494458653026428,\n",
        " 10043: 0.6090287277701778,\n",
        " 10044: 1.0,\n",
        " 10045: 0.8376068376068376,\n",
        " 10046: 0.7035294117647058,\n",
        " 10047: 0.393154486586494,\n",
        " 10048: 0.0,\n",
        " 10049: 0.6416916416916417,\n",
        " 10050: 0.8363636363636363,\n",
        " 10051: 0.8571428571428571,\n",
        " 10052: 0.5868544600938967,\n",
        " 10053: 0.6617647058823529,\n",
        " 10054: 0.4579831932773109,\n",
        " 10055: 0.5311827956989247,\n",
        " 10056: 0.2727272727272727,\n",
        " 10057: 0.3793103448275862,\n",
        " 10058: 0.6212121212121212,\n",
        " 10059: 0.6418632788868723,\n",
        " 10060: 0.5805555555555556,\n",
        " 10061: 0.1282051282051282,\n",
        " 10062: 0.7141858839972047,\n",
        " 10063: 0.7569892473118279,\n",
        " 10064: 0.5,\n",
        " 10065: 0.47434314935637456,\n",
        " 10066: 0.4,\n",
        " 10067: 0.7040998217468806,\n",
        " 10068: 0.38095238095238093,\n",
        " 10069: 0.780952380952381,\n",
        " 10070: 0.6666666666666666,\n",
        " 10071: 0.6944444444444444,\n",
        " 10072: 0.24561403508771928,\n",
        " 10073: 0.5146198830409356,\n",
        " 10074: 0.7142857142857143,\n",
        " 10075: 0.6168831168831169,\n",
        " 10076: 0.47953216374269003,\n",
        " 10077: 0.48169014084507045,\n",
        " 10078: 0.6025641025641025,\n",
        " 10079: 0.4696969696969697,\n",
        " 10080: 0.6005291005291006,\n",
        " 10081: 0.5637952559300874,\n",
        " 10082: 0.7256038647342995,\n",
        " 10083: 0.25,\n",
        " 10084: 0.7777777777777778,\n",
        " 10085: 0.543859649122807,\n",
        " 10086: 0.6,\n",
        " 10087: 0.4032258064516129,\n",
        " 10088: 0.5381019167835437,\n",
        " 10089: 0.7526315789473684,\n",
        " 10090: 0.3076923076923077,\n",
        " 10091: 0.6619778346121057,\n",
        " 10092: 1.0,\n",
        " 10093: 0.6509783183500794,\n",
        " 10094: 0.6538461538461539,\n",
        " 10095: 0.543403964456596,\n",
        " 10096: 0.30303030303030304,\n",
        " 10097: 0.7290552584670231,\n",
        " 10098: 1.0,\n",
        " 10099: 0.6,\n",
        " 10100: 0.4444444444444444,\n",
        " 10101: 0.21428571428571427,\n",
        " 10102: 0.7802197802197802,\n",
        " 10103: 0.6666666666666666,\n",
        " 10104: 0.5606060606060606,\n",
        " 10105: 0.8333333333333334,\n",
        " 10106: 0.35574193548387095,\n",
        " 10107: 0.6023310023310023,\n",
        " 10108: 0.6761904761904762,\n",
        " 10109: 0.24187884108867427,\n",
        " 10110: 0.19047619047619047,\n",
        " 10111: 0.542441209406495,\n",
        " 10112: 0.3333333333333333,\n",
        " 10113: 0.9,\n",
        " 10114: 0.0,\n",
        " 10115: 0.24615384615384617,\n",
        " 10116: 1.0,\n",
        " 10117: 0.3333333333333333,\n",
        " 10118: 0.3333333333333333,\n",
        " 10119: 0.9191176470588235,\n",
        " 10120: 0.4666666666666667,\n",
        " 10121: 0.4155844155844156,\n",
        " 10122: 0.9,\n",
        " 10123: 0.4263157894736842,\n",
        " 10124: 0.09523809523809523,\n",
        " 10125: 0.6585858585858586,\n",
        " 10126: 0.3333333333333333,\n",
        " 10127: 0.5669515669515669,\n",
        " 10128: 0.581765935214211,\n",
        " 10129: 0.20652173913043478,\n",
        " 10130: 0.8333333333333334,\n",
        " 10131: 0.5262626262626262,\n",
        " 10132: 0.6470588235294118,\n",
        " 10133: 0.27890137328339576,\n",
        " 10134: 0.5047619047619047,\n",
        " 10135: 0.525438596491228,\n",
        " 10136: 0.46842105263157896,\n",
        " 10137: 0.6875,\n",
        " 10138: 0.4230769230769231,\n",
        " 10139: 0.639344262295082,\n",
        " 10140: 0.5277114190157668,\n",
        " 10141: 0.6493506493506493,\n",
        " 10142: 0.23809523809523808,\n",
        " 10143: 0.6387921022067363,\n",
        " 10144: 0.28888888888888886,\n",
        " 10145: 0.32147937411095306,\n",
        " 10146: 0.5406494960806271,\n",
        " 10147: 0.625,\n",
        " 10148: 0.5467532467532468,\n",
        " 10149: 0.5402627070245574,\n",
        " 10150: 0.6382284382284382,\n",
        " 10151: 0.49797979797979797,\n",
        " 10152: 0.48847517730496454,\n",
        " 10153: 0.3245967741935484,\n",
        " 10154: 0.42424242424242425,\n",
        " 10155: 0.45454545454545453,\n",
        " 10156: 0.43103448275862066,\n",
        " 10157: 0.21846153846153846,\n",
        " 10158: 0.40620782726045884,\n",
        " 10159: 0.6515151515151515,\n",
        " 10160: 0.7561576354679803,\n",
        " 10161: 0.6794871794871795,\n",
        " 10162: 0.7543859649122807,\n",
        " 10163: 0.7619047619047619,\n",
        " 10164: 0.3825396825396825,\n",
        " 10165: 0.5,\n",
        " 10166: 0.686046511627907,\n",
        " 10167: 0.5788576300085252,\n",
        " 10168: 0.2857142857142857,\n",
        " 10169: 0.6666666666666666,\n",
        " 10170: 0.301994301994302,\n",
        " 10171: 0.6888888888888889,\n",
        " 10172: 0.5366666666666666,\n",
        " 10173: 0.16666666666666666,\n",
        " 10174: 0.3631578947368421,\n",
        " 10175: 0.46622369878183834,\n",
        " 10176: 0.8,\n",
        " 10177: 0.47619047619047616,\n",
        " 10178: 0.1,\n",
        " 10179: 0.6794425087108014,\n",
        " 10180: 0.32142857142857145,\n",
        " 10181: 0.6703296703296703,\n",
        " 10182: 0.20763827919227393,\n",
        " 10183: 0.3787878787878788,\n",
        " 10184: 0.6,\n",
        " 10185: 0.4367816091954023,\n",
        " 10186: 1.0,\n",
        " 10187: 0.0,\n",
        " 10188: 0.5890196078431372,\n",
        " 10189: 0.5025641025641026,\n",
        " 10190: 0.5313131313131313,\n",
        " 10191: 0.5120481927710844,\n",
        " 10192: 0.6179401993355482,\n",
        " 10193: 0.6,\n",
        " 10194: 0.4423897581792319,\n",
        " 10195: 0.6666666666666666,\n",
        " 10196: 0.0,\n",
        " 10197: 0.5151515151515151,\n",
        " 10198: 0.7333333333333333,\n",
        " 10199: 0.6571969696969697,\n",
        " 10200: 0.5263157894736842,\n",
        " 10201: 0.7103448275862069,\n",
        " 10202: 0.05555555555555555,\n",
        " 10203: 0.48484848484848486,\n",
        " 10204: 0.5006289308176101,\n",
        " 10205: 0.8174603174603174,\n",
        " 10206: 0.5338266384778013,\n",
        " 10207: 0.5285714285714286,\n",
        " 10208: 0.6435469710272168,\n",
        " 10209: 0.4173076923076923,\n",
        " 10210: 0.5818181818181818,\n",
        " 10211: 0.4888888888888889,\n",
        " 10212: 0.5346097201767305,\n",
        " 10213: 0.2,\n",
        " 10214: 1.0,\n",
        " 10215: 0.6794354838709677,\n",
        " 10216: 0.7777777777777778,\n",
        " 10217: 0.2,\n",
        " 10218: 0.45861733203505356,\n",
        " 10219: 0.5505376344086022,\n",
        " 10220: 0.68,\n",
        " 10221: 0.0,\n",
        " 10222: 1.0,\n",
        " 10223: 0.5894736842105263,\n",
        " 10224: 0.6743755781683626,\n",
        " 10225: 0.4327485380116959,\n",
        " 10226: 0.5811818703384969,\n",
        " 10227: 0.3787878787878788,\n",
        " 10228: 0.11764705882352941,\n",
        " 10229: 0.3888888888888889,\n",
        " 10230: 0.6268656716417911,\n",
        " 10231: 0.27918367346938777,\n",
        " 10232: 0.9653679653679653,\n",
        " 10233: 0.7254901960784313,\n",
        " 10234: 0.6799431009957326,\n",
        " 10235: 0.2280487804878049,\n",
        " 10236: 1.0,\n",
        " 10237: 0.5066666666666667,\n",
        " 10238: 0.5710955710955711,\n",
        " 10239: 1.0,\n",
        " 10240: 0.5692307692307692,\n",
        " 10241: 0.6571428571428571,\n",
        " 10242: 0.5108225108225108,\n",
        " 10243: 0.5,\n",
        " 10244: 0.7,\n",
        " 10245: 0.5514568297246726,\n",
        " 10246: 0.3433333333333333,\n",
        " 10247: 0.68,\n",
        " 10248: 0.11904761904761904,\n",
        " 10249: 0.8055555555555556,\n",
        " 10250: 0.7333333333333333,\n",
        " 10251: 0.5983673469387755,\n",
        " 10252: 0.6320754716981132,\n",
        " 10253: 0.6666666666666666,\n",
        " 10254: 0.43135946622185156,\n",
        " 10255: 0.47804878048780486,\n",
        " 10256: 0.35714285714285715,\n",
        " 10257: 0.6559139784946236,\n",
        " 10258: 0.0,\n",
        " 10259: 0.6555555555555556,\n",
        " 10260: 0.7857142857142857,\n",
        " 10261: 0.6238095238095238,\n",
        " 10262: 0.0,\n",
        " 10263: 0.2523809523809524,\n",
        " 10264: 1.0,\n",
        " 10265: 0.6289308176100629,\n",
        " 10266: 0.21428571428571427,\n",
        " 10267: 0.5714285714285714,\n",
        " 10268: 0.6640070921985816,\n",
        " 10269: 1.0,\n",
        " 10270: 0.37566137566137564,\n",
        " 10271: 0.37037037037037035,\n",
        " 10272: 0.5441176470588235,\n",
        " 10273: 0.6116883116883117,\n",
        " 10274: 0.2638655462184874,\n",
        " 10275: 0.35294117647058826,\n",
        " 10276: 0.6834381551362684,\n",
        " 10277: 0.26666666666666666,\n",
        " 10278: 0.2676923076923077,\n",
        " 10279: 0.4945054945054945,\n",
        " 10280: 0.5169740711039829,\n",
        " 10281: 0.6944444444444444,\n",
        " 10282: 0.5333333333333333,\n",
        " 10283: 0.6888888888888889,\n",
        " 10284: 0.6102941176470589,\n",
        " 10285: 0.697979797979798,\n",
        " 10286: 0.6024955436720143,\n",
        " 10287: 0.6302040816326531,\n",
        " 10288: 0.6449570330167345,\n",
        " 10289: 0.6428571428571429,\n",
        " 10290: 0.6301020408163265,\n",
        " 10291: 0.8616600790513834,\n",
        " 10292: 0.6619047619047619,\n",
        " 10293: 0.5262626262626262,\n",
        " 10294: 0.7313829787234043,\n",
        " 10295: 0.616600790513834,\n",
        " 10296: 1.0,\n",
        " 10297: 0.4670937682003494,\n",
        " 10298: 0.28888888888888886,\n",
        " 10299: 0.1339031339031339,\n",
        " 10300: 0.36666666666666664,\n",
        " 10301: 0.6181818181818182,\n",
        " 10302: 0.0,\n",
        " 10303: 0.8928571428571429,\n",
        " 10304: 0.9333333333333333,\n",
        " 10305: 0.3693181818181818,\n",
        " 10306: 0.54593837535014,\n",
        " 10307: 0.4642857142857143,\n",
        " 10308: 0.5975975975975976,\n",
        " 10309: 0.7560483870967742,\n",
        " 10310: 0.8666666666666667,\n",
        " 10311: 0.7973484848484849,\n",
        " 10312: 0.5333333333333333,\n",
        " 10313: 0.6407843137254902,\n",
        " 10314: 0.75,\n",
        " 10315: 0.4436974789915966,\n",
        " 10316: 0.5863032844164919,\n",
        " 10317: 0.4263157894736842,\n",
        " 10318: 0.325,\n",
        " 10319: 0.5256410256410257,\n",
        " 10320: 0.35294117647058826,\n",
        " 10321: 0.6646180860403863,\n",
        " 10322: 0.7010752688172043,\n",
        " 10323: 0.5333333333333333,\n",
        " 10324: 0.48672566371681414,\n",
        " 10325: 0.6931216931216931,\n",
        " 10326: 0.5757575757575758,\n",
        " 10327: 0.6626123744050767,\n",
        " 10328: 0.40350877192982454,\n",
        " 10329: 0.55,\n",
        " 10330: 0.671264367816092,\n",
        " 10331: 0.11538461538461539,\n",
        " 10332: 0.47435897435897434,\n",
        " 10333: 0.5512820512820513,\n",
        " 10334: 0.3507692307692308,\n",
        " 10335: 0.21428571428571427,\n",
        " 10336: 0.4588744588744589,\n",
        " 10337: 0.6292966684294025,\n",
        " 10338: 0.42517006802721086,\n",
        " 10339: 0.7454545454545455,\n",
        " 10340: 0.7818181818181819,\n",
        " 10341: 0.2777777777777778,\n",
        " 10342: 0.5939716312056738,\n",
        " 10343: 0.6649659863945578,\n",
        " 10344: 0.5507692307692308,\n",
        " 10345: 0.6,\n",
        " 10346: 0.5557692307692308,\n",
        " 10347: 0.16666666666666666,\n",
        " 10348: 0.5381019167835437,\n",
        " 10349: 0.8666666666666667,\n",
        " 10350: 0.5808823529411765,\n",
        " 10351: 0.15151515151515152,\n",
        " 10352: 0.45,\n",
        " 10353: 0.6666666666666666,\n",
        " 10354: 0.47619047619047616,\n",
        " 10355: 0.5897435897435898,\n",
        " 10356: 0.6,\n",
        " 10357: 0.5923076923076923,\n",
        " 10358: 0.575,\n",
        " 10359: 0.6095238095238096,\n",
        " 10360: 0.4472934472934473,\n",
        " 10361: 0.5727840199750313,\n",
        " 10362: 0.9444444444444444,\n",
        " 10363: 0.6357039187227866,\n",
        " 10364: 0.5761969904240766,\n",
        " 10365: 0.36363636363636365,\n",
        " 10366: 0.6666666666666666,\n",
        " 10367: 0.5953570379077284,\n",
        " 10368: 0.629951690821256,\n",
        " 10369: 0.3763699545576049,\n",
        " 10370: 0.6545454545454545,\n",
        " 10371: 0.6179084073820916,\n",
        " 10372: 0.5476190476190477,\n",
        " 10373: 0.47058823529411764,\n",
        " 10374: 0.047619047619047616,\n",
        " 10375: 0.32142857142857145,\n",
        " 10376: 0.6102941176470589,\n",
        " 10377: 0.14285714285714285,\n",
        " 10378: 0.7333333333333333,\n",
        " 10379: 0.24166666666666667,\n",
        " 10380: 0.28205128205128205,\n",
        " 10381: 0.6384313725490196,\n",
        " 10382: 0.7777777777777778,\n",
        " 10383: 0.6453781512605042,\n",
        " 10384: 0.13333333333333333,\n",
        " 10385: 0.5564979480164158,\n",
        " 10386: 0.9333333333333333,\n",
        " 10387: 0.5142857142857142,\n",
        " 10388: 0.48947368421052634,\n",
        " 10389: 0.4415954415954416,\n",
        " 10390: 0.43790849673202614,\n",
        " 10391: 0.5913881361035832,\n",
        " 10392: 0.21824212271973467,\n",
        " 10393: 0.0,\n",
        " 10394: 0.3333333333333333}"
       ]
      }
     ],
     "prompt_number": 114
    },
    {
     "cell_type": "code",
     "collapsed": false,
     "input": [
      "friends_in_circles = {}\n",
      "for user,circles in all_training_circles.items():\n",
      "    friends_in_circles[user]= sum([len(circle) for circle in circles.values()])"
     ],
     "language": "python",
     "metadata": {},
     "outputs": [],
     "prompt_number": 115
    },
    {
     "cell_type": "code",
     "collapsed": false,
     "input": [
      "hier_ratio = {}\n",
      "for user,num_friends in nfriends.items():\n",
      "    hier_ratio[user] = friends_in_circles[user]*1.0/num_friends"
     ],
     "language": "python",
     "metadata": {},
     "outputs": [],
     "prompt_number": 116
    },
    {
     "cell_type": "code",
     "collapsed": false,
     "input": [
      "hist(hier_ratio.values())\n",
      "show()"
     ],
     "language": "python",
     "metadata": {},
     "outputs": [
      {
       "metadata": {},
       "output_type": "display_data",
       "png": "[encoded data removed]",
       "text": [
        "<matplotlib.figure.Figure at 0x1420ec30>"
       ]
      }
     ],
     "prompt_number": 117
    },
    {
     "cell_type": "code",
     "collapsed": false,
     "input": [
      "print sorted(hier_ratio.values())"
     ],
     "language": "python",
     "metadata": {},
     "outputs": [
      {
       "output_type": "stream",
       "stream": "stdout",
       "text": [
        "[0.083333333333333329, 0.3295668549905838, 0.38783269961977185, 0.40064102564102566, 0.42941176470588233, 0.44655581947743467, 0.44835164835164837, 0.49019607843137253, 0.53781512605042014, 0.63235294117647056, 0.66101694915254239, 0.74285714285714288, 0.8257575757575758, 0.83018867924528306, 0.84444444444444444, 0.84693877551020413, 0.87106017191977081, 0.92358803986710969, 0.94047619047619047, 0.96135265700483097, 0.96551724137931039, 0.96560196560196565, 1.0, 1.0044843049327354, 1.0172413793103448, 1.0528301886792453, 1.0808383233532934, 1.0851926977687627, 1.1026392961876832, 1.1032745591939546, 1.125, 1.1509433962264151, 1.1594202898550725, 1.1728395061728396, 1.1767337807606264, 1.1789473684210525, 1.2, 1.2101449275362319, 1.2567049808429118, 1.3601398601398602, 1.3739495798319328, 1.3761467889908257, 1.404669260700389, 1.4205607476635513, 1.4900398406374502, 1.5625, 1.5767441860465117, 1.6272401433691757, 1.6834532374100719, 1.8, 1.8044776119402985, 1.8113207547169812, 1.9030837004405285, 1.9245283018867925, 2.1219512195121952, 2.1635220125786163, 2.2068965517241379, 2.5248226950354611, 2.5521327014218009, 2.9642857142857144]\n"
       ]
      }
     ],
     "prompt_number": 118
    },
    {
     "cell_type": "code",
     "collapsed": false,
     "input": [
      "plt.plot(nfriends.values(),hier_ratio.values(),'ro',alpha=0.5)\n",
      "show()"
     ],
     "language": "python",
     "metadata": {},
     "outputs": [
      {
       "metadata": {},
       "output_type": "display_data",
       "png": "[encoded data removed]",
       "text": [
        "<matplotlib.figure.Figure at 0x13452490>"
       ]
      }
     ],
     "prompt_number": 119
    },
    {
     "cell_type": "code",
     "collapsed": false,
     "input": [
      "plt.plot(meancoef.values(),hier_ratio.values(),'ro',alpha=0.5)\n",
      "show()"
     ],
     "language": "python",
     "metadata": {},
     "outputs": [
      {
       "metadata": {},
       "output_type": "display_data",
       "png": "[encoded data removed]",
       "text": [
        "<matplotlib.figure.Figure at 0x1420e8f0>"
       ]
      }
     ],
     "prompt_number": 120
    },
    {
     "cell_type": "code",
     "collapsed": false,
     "input": [
      "plt.plot(stdcoef.values(),hier_ratio.values(),'ro',alpha=0.5)\n",
      "show()"
     ],
     "language": "python",
     "metadata": {},
     "outputs": [
      {
       "metadata": {},
       "output_type": "display_data",
       "png": "[encoded data removed]",
       "text": [
        "<matplotlib.figure.Figure at 0x153840d0>"
       ]
      }
     ],
     "prompt_number": 121
    },
    {
     "cell_type": "code",
     "collapsed": false,
     "input": [
      "multiple_assignments = {}\n",
      "for user,num_friends in nfriends.items():\n",
      "    multiple_assignments[user] = friends_in_circles[user] - num_friends"
     ],
     "language": "python",
     "metadata": {},
     "outputs": [],
     "prompt_number": 122
    },
    {
     "cell_type": "code",
     "collapsed": false,
     "input": [
      "multiple_assignments"
     ],
     "language": "python",
     "metadata": {},
     "outputs": [
      {
       "metadata": {},
       "output_type": "pyout",
       "prompt_number": 123,
       "text": [
        "{239: 0,\n",
        " 345: 14,\n",
        " 611: 89,\n",
        " 1357: -251,\n",
        " 1839: 72,\n",
        " 1968: 103,\n",
        " 2255: 41,\n",
        " 2365: 45,\n",
        " 2738: -26,\n",
        " 2790: 13,\n",
        " 2895: 14,\n",
        " 3059: 185,\n",
        " 3735: 539,\n",
        " 4406: 655,\n",
        " 4829: 104,\n",
        " 5212: 294,\n",
        " 5494: 123,\n",
        " 5881: -356,\n",
        " 6413: -187,\n",
        " 6726: -8,\n",
        " 7667: -81,\n",
        " 8100: 22,\n",
        " 8239: -15,\n",
        " 8553: 1,\n",
        " 8777: 220,\n",
        " 9103: 17,\n",
        " 9642: 245,\n",
        " 9846: 80,\n",
        " 9947: 79,\n",
        " 10395: 41,\n",
        " 10929: -5,\n",
        " 11014: -45,\n",
        " 11186: -233,\n",
        " 11364: -7,\n",
        " 11410: -14,\n",
        " 12800: 350,\n",
        " 13353: -40,\n",
        " 13789: 35,\n",
        " 15672: 430,\n",
        " 16203: -6,\n",
        " 16378: -161,\n",
        " 16642: 205,\n",
        " 16869: -23,\n",
        " 17951: 8,\n",
        " 18005: -495,\n",
        " 18543: -25,\n",
        " 19129: 29,\n",
        " 19788: 67,\n",
        " 22650: 3,\n",
        " 22824: -110,\n",
        " 23157: 215,\n",
        " 23299: 42,\n",
        " 24758: -9,\n",
        " 24857: -23,\n",
        " 25159: 138,\n",
        " 25568: 95,\n",
        " 25773: 49,\n",
        " 26321: -97,\n",
        " 26492: 27,\n",
        " 27022: 124}"
       ]
      }
     ],
     "prompt_number": 123
    },
    {
     "cell_type": "code",
     "collapsed": false,
     "input": [
      "hist(multiple_assignments.values())\n",
      "show()"
     ],
     "language": "python",
     "metadata": {},
     "outputs": [
      {
       "metadata": {},
       "output_type": "display_data",
       "png": "[encoded data removed]",
       "text": [
        "<matplotlib.figure.Figure at 0x13db5930>"
       ]
      }
     ],
     "prompt_number": 124
    },
    {
     "cell_type": "code",
     "collapsed": false,
     "input": [
      "import os\n",
      "trainingfiles = os.listdir('./Training/')\n",
      "\n",
      "nccoef = []\n",
      "\n",
      "for item in trainingfiles:\n",
      "    ego = int((item.split('.')[0]))\n",
      "    G = read_nodeadjlist('./egonets/'+str(ego)+'.egonet')\n",
      "    circles = readcircle(ego)\n",
      "    for circle in circles.values():\n",
      "        ccoef = nx.average_clustering(G.subgraph(circle))\n",
      "        nccoef.append(ccoef)"
     ],
     "language": "python",
     "metadata": {},
     "outputs": [],
     "prompt_number": 127
    },
    {
     "cell_type": "code",
     "collapsed": false,
     "input": [
      "print mean(nccoef)\n",
      "print std(nccoef)\n",
      "for c in nccoef:print c"
     ],
     "language": "python",
     "metadata": {},
     "outputs": [
      {
       "output_type": "stream",
       "stream": "stdout",
       "text": [
        "0.268388528905\n",
        "0.541442957298\n",
        "0.62724506049\n",
        "0.616666666667\n",
        "0.562931793236\n",
        "0.619047619048\n",
        "0.510003831113\n",
        "0.0\n",
        "0.0\n",
        "0.700201106083\n",
        "0.5875\n",
        "0.590909090909\n",
        "0.670146520147\n",
        "0.797186147186\n",
        "0.799404761905\n",
        "0.6\n",
        "0.775529133086\n",
        "0.60793004471\n",
        "0.54039293622\n",
        "0.880032712386\n",
        "0.216666666667\n",
        "0.442019752392\n",
        "0.68047478837\n",
        "0.717566454259\n",
        "0.388888888889\n",
        "0.466666666667\n",
        "0.0\n",
        "0.808333333333\n",
        "0.766666666667\n",
        "0.266666666667\n",
        "0.888888888889\n",
        "0.0\n",
        "0.537538667329\n",
        "0.75\n",
        "0.625353593775\n",
        "0.590795169743\n",
        "0.466666666667\n",
        "0.716475681182\n",
        "0.403703703704\n",
        "0.666666666667\n",
        "0.666666666667\n",
        "0.559937199754\n",
        "0.624748170656\n",
        "0.696498110709\n",
        "0.652102352669\n",
        "0.0\n",
        "0.458333333333\n",
        "0.777777777778\n",
        "0.0\n",
        "0.6\n",
        "0.793941716016\n",
        "0.771225898035\n",
        "0.672356647183\n",
        "0.804722658294\n",
        "0.509611385802\n",
        "0.564682724639\n",
        "0.816931216931\n",
        "0.0\n",
        "0.621568627451\n",
        "0.769206349206\n",
        "0.574225507949\n",
        "0.61177437616\n",
        "0.425925925926\n",
        "0.53675690948\n",
        "0.735457524931\n",
        "0.782274669775\n",
        "0.486881419234\n",
        "1.0\n",
        "0.967482517483\n",
        "0.0\n",
        "0.0\n",
        "0.238095238095\n",
        "0.3\n",
        "0.551431551681\n",
        "0.455697816479\n",
        "0.553333333333\n",
        "0.0\n",
        "0.518949460126\n",
        "0.775952380952\n",
        "0.0\n",
        "0.769527694528\n",
        "0.827367385701\n",
        "0.58244807731\n",
        "0.5489452317\n",
        "0.584957280034\n",
        "0.586111111111\n",
        "0.652889367413\n",
        "0.213333333333\n",
        "0.449501794853\n",
        "0.620169413919\n",
        "0.633333333333\n",
        "0.7\n",
        "0.726742603826\n",
        "0.763967115576\n",
        "0.51779637049\n",
        "0.389088243527\n",
        "0.721002535476\n",
        "0.538309185014\n",
        "0.69087703588\n",
        "0.662966755467\n",
        "0.481884513336\n",
        "0.365664160401\n",
        "0.788051948052\n",
        "0.357971014493\n",
        "0.809996539408\n",
        "0.697287678668\n",
        "0.0\n",
        "0.837301587302\n",
        "0.0\n",
        "0.695060420832\n",
        "0.677777777778\n",
        "0.789033189033\n",
        "0.597918470418\n",
        "0.7\n",
        "0.454331254415\n",
        "0.889285714286\n",
        "0.0\n",
        "0.60254845528\n",
        "0.905832014674\n",
        "0.0\n",
        "0.657264920783\n",
        "0.529290317737\n",
        "0.0\n",
        "0.0\n",
        "0.518181025324\n",
        "0.466666666667\n",
        "0.84059042809\n",
        "0.599436698407\n",
        "0.74171976172\n",
        "0.0\n",
        "0.75\n",
        "0.700586206974\n",
        "0.695593280378\n",
        "0.869444444444\n",
        "0.755798168539\n",
        "0.755798168539\n",
        "0.755798168539\n",
        "0.0\n",
        "0.861557701558\n",
        "0.5\n",
        "0.428968253968\n",
        "0.666041513674\n",
        "0.549735449735\n",
        "0.0\n",
        "0.510073341691\n",
        "0.767680539332\n",
        "0.486111111111\n",
        "0.816413204958\n",
        "0.813885281385\n",
        "0.704166666667\n",
        "0.87007992008\n",
        "0.808333333333\n",
        "0.81173039923\n",
        "0.8368246337\n",
        "0.466666666667\n",
        "0.699404761905\n",
        "0.590594227302\n",
        "0.549044514137\n",
        "0.724517967431\n",
        "0.724900727068\n",
        "0.802092352092\n",
        "0.615880680469\n",
        "0.9\n",
        "0.0\n",
        "0.730664474414\n",
        "0.433333333333\n",
        "0.666666666667\n",
        "0.850264550265\n",
        "0.0\n",
        "0.280952380952\n",
        "0.294805194805\n",
        "0.57493389656\n",
        "0.52780883437\n",
        "0.618518518519\n",
        "0.516702741703\n",
        "0.444444444444\n",
        "0.799523809524\n",
        "1.0\n",
        "0.65075620124\n",
        "0.5\n",
        "0.721178640031\n",
        "0.694660894661\n",
        "0.677052874225\n",
        "0.0\n",
        "0.333333333333\n",
        "0.44822954823\n",
        "0.718067448425\n",
        "0.0\n",
        "0.666666666667\n",
        "0.0757575757576\n",
        "0.696752918593\n",
        "0.635635258784\n",
        "0.513541666667\n",
        "0.708439132695\n",
        "0.435544217687\n",
        "0.259259259259\n",
        "0.396825396825\n",
        "0.805555555556\n",
        "0.1875\n",
        "0.603228604435\n",
        "0.803638095846\n",
        "0.491666666667\n",
        "0.809523809524\n",
        "0.238095238095\n",
        "0.796507654898\n",
        "0.861389408362\n",
        "0.722222222222\n",
        "0.722857142857\n",
        "0.871164021164\n",
        "0.646294372094\n",
        "0.409523809524\n",
        "0.477777777778\n",
        "0.70389506327\n",
        "0.817186906661\n",
        "0.5\n",
        "0.735698824985\n",
        "0.380952380952\n",
        "0.805555555556\n",
        "0.5\n",
        "0.573333333333\n",
        "0.929894179894\n",
        "0.679166666667\n",
        "0.366666666667\n",
        "0.683669325796\n",
        "0.0\n",
        "0.558333333333\n",
        "0.0\n",
        "0.833333333333\n",
        "0.0\n",
        "0.907617845118\n",
        "0.719585352818\n",
        "0.682255914383\n",
        "0.0\n",
        "0.730973571883\n",
        "0.25537414966\n",
        "0.644505494505\n",
        "0.860281385281\n",
        "0.680598349019\n",
        "0.796854791299\n",
        "0.7557997558\n",
        "0.709931599311\n",
        "0.633936651584\n",
        "0.622222222222\n",
        "0.30303030303\n",
        "0.808585858586\n",
        "0.0\n",
        "0.351593129093\n",
        "0.0\n",
        "0.805555555556\n",
        "0.530483452349\n",
        "0.487566137566\n",
        "0.701615933814\n",
        "0.6611875777\n",
        "0.808333333333\n",
        "0.551270356627\n",
        "0.441881613757\n",
        "0.532601058221\n",
        "0.753968253968\n",
        "0.406331216619\n",
        "0.796813371813\n",
        "0.847443860487\n",
        "0.8375\n",
        "0.333333333333\n",
        "0.0\n",
        "0.433160820661\n",
        "0.802380952381\n",
        "0.792656361648\n",
        "0.66102292769\n",
        "1.0\n",
        "0.816150516151\n",
        "0.740122580826\n",
        "0.626045148267\n",
        "0.245614035088\n",
        "0.698901098901\n",
        "0.7\n",
        "0.845833333333\n",
        "0.505128205128\n",
        "0.522222222222\n",
        "0.5\n",
        "0.594588744589\n",
        "0.0\n",
        "0.75496403567\n",
        "0.581466013696\n",
        "0.714438903771\n",
        "0.586431542314\n",
        "0.829509379509\n",
        "0.675982184112\n",
        "0.745526695527\n",
        "0.681503129874\n",
        "0.580769230769\n",
        "0.0\n",
        "0.680238095238\n",
        "0.792261904762\n",
        "0.65\n",
        "0.619642857143\n",
        "0.416666666667\n",
        "0.553846153846\n",
        "0.613963161022\n",
        "0.74708994709\n",
        "0.0\n",
        "0.744411598065\n",
        "1.0\n",
        "0.866666666667\n",
        "0.33\n",
        "0.0\n",
        "0.691379356852\n",
        "0.406666666667\n",
        "0.800018282371\n",
        "0.785949296907\n",
        "0.383006535948\n",
        "0.605033855034\n",
        "0.662901074344\n",
        "0.440079365079\n",
        "0.266666666667\n",
        "0.0\n",
        "0.563872249618\n",
        "0.494809835665\n",
        "0.37037037037\n",
        "0.0\n",
        "0.393557422969\n",
        "0.547283234203\n",
        "0.646779828359\n",
        "0.583333333333\n",
        "0.0\n",
        "0.714285714286\n",
        "0.530086580087\n",
        "0.390773809524\n",
        "0.533333333333\n",
        "0.0\n",
        "0.600145817629\n",
        "0.552941176471\n",
        "0.473484848485\n",
        "0.496797543702\n",
        "0.444405229526\n",
        "0.833871683872\n",
        "0.0\n",
        "0.638888888889\n",
        "0.0\n",
        "0.0\n",
        "0.703968253968\n",
        "0.0\n",
        "0.0\n",
        "0.0\n",
        "0.0\n",
        "0.664958359533\n",
        "0.812654012654\n",
        "0.643788429865\n",
        "0.675884829456\n",
        "0.657680309459\n",
        "0.823214131547\n",
        "0.8\n",
        "0.571428571429\n",
        "0.0\n",
        "0.333333333333\n",
        "0.0\n",
        "0.825957029082\n",
        "0.555555555556\n",
        "0.185185185185\n",
        "0.472727272727\n",
        "0.8\n",
        "0.557582454437\n",
        "0.555194805195\n",
        "0.666666666667\n",
        "0.577269643936\n",
        "0.68772234688\n",
        "0.881505941206\n",
        "0.542764378479\n",
        "0.388888888889\n",
        "0.952380952381\n",
        "0.5\n",
        "0.750747181619\n",
        "0.796626885409\n",
        "0.530303030303\n",
        "0.906704406704\n",
        "0.705214538548\n",
        "0.73544973545\n",
        "0.830456570995\n",
        "0.767171717172\n",
        "0.0\n",
        "0.6\n",
        "0.696428571429\n",
        "0.506900691614\n",
        "0.748726273726\n",
        "0.771469391175\n",
        "0.625207544095\n",
        "1.0\n",
        "0.792054985115\n",
        "0.65\n",
        "0.5\n",
        "0.717224763427\n",
        "0.0\n",
        "0.611417748918\n",
        "0.465842094414\n",
        "0.260476190476\n",
        "0.291666666667\n",
        "0.625629391146\n",
        "0.594658718745\n",
        "0.680555555556\n",
        "0.275438596491\n",
        "0.432453229682\n",
        "0.678608445291\n",
        "0.687574600312\n",
        "0.509128290963\n",
        "0.518398335265\n",
        "0.344108669109\n",
        "0.333333333333\n",
        "0.8\n",
        "0.861538461538\n",
        "0.574358974359\n",
        "0.476984126984\n",
        "0.659605592017\n",
        "0.512546897547\n",
        "0.938294548589\n",
        "0.937330724831\n",
        "0.823333333333\n",
        "0.344444444444\n",
        "0.519412767208\n",
        "0.836072266302\n",
        "0.590021598383\n",
        "0.724774486451\n",
        "0.443537414966\n",
        "0.58263974774\n",
        "0.0\n",
        "0.545833333333\n",
        "0.516916296575\n",
        "0.0\n",
        "0.0\n",
        "0.593903287112\n",
        "0.0\n",
        "0.0\n",
        "0.711111111111\n",
        "0.152564102564\n",
        "0.418181818182\n",
        "0.0\n",
        "0.0\n",
        "0.201666666667\n",
        "0.964285714286\n",
        "0.55349011407\n",
        "0.0\n",
        "0.711111111111\n",
        "0.727777777778\n",
        "0.102564102564\n",
        "0.788787838742\n",
        "0.614878719534\n",
        "0.9\n",
        "0.785596487922\n",
        "0.799102436673\n",
        "0.855622618123\n",
        "0.934032634033\n",
        "0.74747004258\n",
        "0.838417138417\n",
        "0.925259862686\n",
        "0.570600209898\n",
        "0.0\n",
        "0.807016594517\n",
        "0.531052281052\n",
        "0.762373737374\n",
        "0.0\n",
        "0.444444444444\n",
        "0.413258422819\n",
        "0.466666666667\n",
        "0.6\n",
        "0.59\n",
        "0.468571186251\n",
        "0.546388611389\n",
        "0.633843537415\n",
        "0.410417108083\n",
        "0.556530541417\n",
        "0.467287784679\n",
        "0.287878787879\n",
        "0.0\n",
        "0.736257434636\n",
        "0.389520106381\n",
        "0.0\n",
        "0.395985060691\n",
        "0.540430988094\n",
        "0.676441102757\n",
        "0.451540378137\n",
        "0.0\n",
        "0.766666666667\n",
        "0.766666666667\n",
        "0.693214433523\n",
        "0.638624338624\n",
        "0.363968253968\n",
        "0.370634920635\n",
        "0.841618296445\n",
        "0.345833333333\n",
        "0.561467053502\n",
        "0.387471655329\n",
        "0.67359043744\n",
        "0.646995736325\n",
        "0.333333333333\n",
        "0.0\n",
        "0.736867425504\n",
        "0.0\n",
        "0.75\n",
        "0.842977030448\n",
        "0.685281529273\n",
        "0.473492063492\n",
        "0.287698412698\n",
        "0.526332723618\n",
        "0.0\n",
        "0.45597883472\n",
        "0.707626744095\n",
        "0.574499351279\n",
        "0.845428572663\n",
        "0.627513227513\n",
        "0.771399087024\n",
        "0.6\n",
        "0.59347407275\n",
        "0.466854610036\n",
        "0.691354773173\n",
        "0.677777777778\n",
        "0.703071601601\n",
        "0.0\n",
        "0.5\n",
        "0.754232804233\n",
        "0.569696969697\n",
        "0.722222222222\n",
        "0.701056929182\n",
        "0.583512672644\n",
        "0.354166666667\n",
        "0.626666666667\n",
        "0.289523809524\n",
        "0.734297052154\n",
        "0.419444444444\n",
        "0.190476190476\n",
        "0.0\n",
        "0.56\n",
        "0.779166666667\n",
        "0.618742608169\n",
        "0.525617829546\n",
        "0.586658403036\n",
        "0.643583105363\n",
        "0.542538802025\n",
        "0.771428571429\n",
        "0.735892579643\n",
        "0.438095238095\n",
        "0.545021645022\n",
        "0.0\n",
        "0.0\n",
        "0.0\n",
        "0.517006802721\n",
        "0.269444444444\n",
        "0.0\n",
        "0.627048305106\n",
        "0.0\n",
        "0.0\n",
        "0.0\n",
        "0.866666666667\n",
        "1.0\n",
        "0.861074159509\n",
        "0.555555555556\n",
        "0.696459096459\n",
        "0.470322270322\n",
        "0.1875\n",
        "0.640702947846\n",
        "0.773092121488\n",
        "0.743324224374\n",
        "0.605540605843\n",
        "0.469775485952\n",
        "0.869841269841\n",
        "0.426561533704\n",
        "0.5\n",
        "0.922899830648\n",
        "0.824254449254\n",
        "0.620833333333\n",
        "0.642857142857\n",
        "0.527777777778\n",
        "0.629166666667\n",
        "0.816538051321\n",
        "0.69768009768\n",
        "0.8\n",
        "0.649843640524\n",
        "0.856547619048\n",
        "0.0\n",
        "1.0\n",
        "0.0\n",
        "0.915584415584\n",
        "0.678835986195\n",
        "0.628106820081\n",
        "0.617432641887\n",
        "0.655540261804\n",
        "0.0\n",
        "0.27654889913\n",
        "0.716588767543\n",
        "0.729166666667\n",
        "0.719347319347\n",
        "0.555555555556\n",
        "0.317647058824\n",
        "0.50260184882\n",
        "0.0\n",
        "0.967676767677\n",
        "0.47549339193\n"
       ]
      }
     ],
     "prompt_number": 133
    },
    {
     "cell_type": "code",
     "collapsed": false,
     "input": [],
     "language": "python",
     "metadata": {},
     "outputs": []
    }
   ],
   "metadata": {}
  }
 ]
}