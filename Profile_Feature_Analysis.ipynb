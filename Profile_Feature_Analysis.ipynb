{
 "metadata": {
  "name": ""
 },
 "nbformat": 3,
 "nbformat_minor": 0,
 "worksheets": [
  {
   "cells": [
    {
     "cell_type": "code",
     "collapsed": false,
     "input": [
      "%matplotlib inline\n",
      "import networkx as nx\n",
      "from utility_funcs import readcirclefile, read_nodeadjlist, cost_function\n",
      "import os\n",
      "import sklearn.cluster\n",
      "from sklearn.ensemble import RandomForestClassifier\n",
      "import pandas as pd"
     ],
     "language": "python",
     "metadata": {},
     "outputs": [],
     "prompt_number": 11
    },
    {
     "cell_type": "code",
     "collapsed": false,
     "input": [
      "def readfeaturelist(filename):\n",
      "    \"\"\"\n",
      "    reads a featurelist file and returns a list of the feature names\n",
      "    \"\"\"\n",
      "    with open(filename) as f:\n",
      "        out = []        # list of feature names\n",
      "        for line in f:\n",
      "            out.append(line.strip())\n",
      "        return sorted(out)"
     ],
     "language": "python",
     "metadata": {},
     "outputs": [],
     "prompt_number": 12
    },
    {
     "cell_type": "code",
     "collapsed": false,
     "input": [
      "features = readfeaturelist('featureList.txt')\n",
      "print features\n",
      "print len(features)"
     ],
     "language": "python",
     "metadata": {},
     "outputs": [
      {
       "output_type": "stream",
       "stream": "stdout",
       "text": [
        "['birthday', 'education;classes;description', 'education;classes;from;id', 'education;classes;from;name', 'education;classes;id', 'education;classes;name', 'education;classes;with;id', 'education;classes;with;name', 'education;concentration;id', 'education;concentration;name', 'education;degree;id', 'education;degree;name', 'education;school;id', 'education;school;name', 'education;type', 'education;with;id', 'education;with;name', 'education;year;id', 'education;year;name', 'first_name', 'gender', 'hometown;id', 'hometown;name', 'id', 'languages;id', 'languages;name', 'last_name', 'locale', 'location', 'location;id', 'location;name', 'middle_name', 'name', 'political', 'religion', 'work;description', 'work;employer;id', 'work;employer;name', 'work;end_date', 'work;from;id', 'work;from;name', 'work;location;id', 'work;location;name', 'work;position;id', 'work;position;name', 'work;projects;description', 'work;projects;end_date', 'work;projects;from;id', 'work;projects;from;name', 'work;projects;id', 'work;projects;name', 'work;projects;start_date', 'work;projects;with;id', 'work;projects;with;name', 'work;start_date', 'work;with;id', 'work;with;name']\n",
        "57\n"
       ]
      }
     ],
     "prompt_number": 13
    },
    {
     "cell_type": "code",
     "collapsed": false,
     "input": [
      "def readfeatures(featurefile):\n",
      "    \"\"\"\n",
      "    reads a featurefile consisting of userid feature;value feature;value\n",
      "    returns a list where index is user id, elements are dictionaries \n",
      "    of features as keys pointing to list of values maybe should be sets\n",
      "    \"\"\"\n",
      "    with open(featurefile) as f:\n",
      "        out = [] \n",
      "        for line in f:\n",
      "            tokens = line.split()\n",
      "            profile = {}  # empty profile for the user\n",
      "            for tok in tokens[1:]:\n",
      "                feature,val = tok.rsplit(';',1)\n",
      "                val = int(val)\n",
      "                if feature not in profile:\n",
      "                    profile[feature]=set([val])\n",
      "                else:\n",
      "                    profile[feature].add(val)\n",
      "            out.append( profile )\n",
      "        for i in range(len(out)):\n",
      "            assert out[i]['id'] == set([i])  # check that each line was read and placed in the correct place in the list\n",
      "        return out"
     ],
     "language": "python",
     "metadata": {},
     "outputs": [],
     "prompt_number": 14
    },
    {
     "cell_type": "code",
     "collapsed": false,
     "input": [
      "def convert_profile_dict_to_vector(profile,features):\n",
      "    out = []\n",
      "    for feature in features:\n",
      "        if feature in profile:\n",
      "            out.append(profile[feature])\n",
      "        else:\n",
      "            out.append(set())\n",
      "    return out"
     ],
     "language": "python",
     "metadata": {},
     "outputs": [],
     "prompt_number": 15
    },
    {
     "cell_type": "code",
     "collapsed": false,
     "input": [
      "def match_vector(profile1,profile2):\n",
      "    return [len(x.intersection(y)) for x,y in zip(profile1,profile2)]"
     ],
     "language": "python",
     "metadata": {},
     "outputs": [],
     "prompt_number": 16
    },
    {
     "cell_type": "code",
     "collapsed": false,
     "input": [
      "def generate_feature_matrix(profiles_dict,ego,G):\n",
      "    return [match_vector(profiles_dict[ego], profiles_dict[g]) for g in G.nodes()]"
     ],
     "language": "python",
     "metadata": {},
     "outputs": [],
     "prompt_number": 17
    },
    {
     "cell_type": "code",
     "collapsed": false,
     "input": [
      "def generate_class_matrix(G,true_circles):\n",
      "    return dict(zip(true_circles.keys(),[[int(g in circle) for g in G.nodes()] for circle in true_circles.values()]))"
     ],
     "language": "python",
     "metadata": {},
     "outputs": [],
     "prompt_number": 18
    },
    {
     "cell_type": "code",
     "collapsed": false,
     "input": [
      "profiles_dict = readfeatures('features.txt')"
     ],
     "language": "python",
     "metadata": {},
     "outputs": [],
     "prompt_number": 19
    },
    {
     "cell_type": "code",
     "collapsed": false,
     "input": [
      "profile_matrix = [convert_profile_dict_to_vector(profile,features) for profile in profiles_dict]"
     ],
     "language": "python",
     "metadata": {},
     "outputs": [],
     "prompt_number": 20
    },
    {
     "cell_type": "code",
     "collapsed": false,
     "input": [
      "ego = 345\n",
      "true_circles = readcirclefile('./Training/'+str(ego)+'.circles')\n",
      "G = read_nodeadjlist('./egonets/'+str(ego)+'.egonet')\n",
      "print 'Total friends:', len(G.nodes())\n",
      "class_matrix = generate_class_matrix(G,true_circles)\n",
      "feature_matrix = generate_feature_matrix(profile_matrix,ego,G)\n",
      "\n",
      "for label,circle in class_matrix.items():\n",
      "    print 'Training Ego:', ego,'Circle:',label,'...'\n",
      "    forest = RandomForestClassifier(n_estimators=100)\n",
      "    forest = forest.fit( feature_matrix, circle )\n",
      "    important_features = sorted(zip(features,forest.feature_importances_), key=lambda x: x[1], reverse=True)\n",
      "    importance_scores = [val for key,val in important_features]\n",
      "    importance_labels = [key for key,val in important_features]\n",
      "    ind = range(len(importance_scores))\n",
      "    plt.bar(ind, forest.feature_importances_)\n",
      "    plt.axis([min(ind), max(ind), 0, 0.7])\n",
      "    plt.show()"
     ],
     "language": "python",
     "metadata": {},
     "outputs": [
      {
       "output_type": "stream",
       "stream": "stdout",
       "text": [
        "Total friends: 265\n",
        "Training Ego: 345 Circle: 20 ...\n"
       ]
      },
      {
       "metadata": {},
       "output_type": "display_data",
       "png": "[encoded data removed]",
       "text": [
        "<matplotlib.figure.Figure at 0x29894990>"
       ]
      },
      {
       "output_type": "stream",
       "stream": "stdout",
       "text": [
        "Training Ego: 345 Circle: 22 ...\n"
       ]
      },
      {
       "metadata": {},
       "output_type": "display_data",
       "png": "[encoded data removed]",
       "text": [
        "<matplotlib.figure.Figure at 0x29894b10>"
       ]
      },
      {
       "output_type": "stream",
       "stream": "stdout",
       "text": [
        "Training Ego: 345 Circle: 24 ...\n"
       ]
      },
      {
       "metadata": {},
       "output_type": "display_data",
       "png": "[encoded data removed]",
       "text": [
        "<matplotlib.figure.Figure at 0x4f0770>"
       ]
      },
      {
       "output_type": "stream",
       "stream": "stdout",
       "text": [
        "Training Ego: 345 Circle: 26 ...\n"
       ]
      },
      {
       "metadata": {},
       "output_type": "display_data",
       "png": "[encoded data removed]",
       "text": [
        "<matplotlib.figure.Figure at 0x179486f0>"
       ]
      },
      {
       "output_type": "stream",
       "stream": "stdout",
       "text": [
        "Training Ego: 345 Circle: 27 ...\n"
       ]
      },
      {
       "metadata": {},
       "output_type": "display_data",
       "png": "[encoded data removed]",
       "text": [
        "<matplotlib.figure.Figure at 0x5d982f0>"
       ]
      },
      {
       "output_type": "stream",
       "stream": "stdout",
       "text": [
        "Training Ego: 345 Circle: 28 ...\n"
       ]
      },
      {
       "metadata": {},
       "output_type": "display_data",
       "png": "[encoded data removed]",
       "text": [
        "<matplotlib.figure.Figure at 0x17948a70>"
       ]
      },
      {
       "output_type": "stream",
       "stream": "stdout",
       "text": [
        "Training Ego: 345 Circle: 29 ...\n"
       ]
      },
      {
       "metadata": {},
       "output_type": "display_data",
       "png": "[encoded data removed]",
       "text": [
        "<matplotlib.figure.Figure at 0x121a0230>"
       ]
      }
     ],
     "prompt_number": 21
    },
    {
     "cell_type": "code",
     "collapsed": false,
     "input": [
      "dict(zip(true_circles.keys(),[[int(g in circle) for g in G.nodes()] for circle in true_circles.values()]))"
     ],
     "language": "python",
     "metadata": {},
     "outputs": [
      {
       "metadata": {},
       "output_type": "pyout",
       "prompt_number": 22,
       "text": [
        "{20: [1,\n",
        "  0,\n",
        "  0,\n",
        "  0,\n",
        "  0,\n",
        "  0,\n",
        "  0,\n",
        "  0,\n",
        "  0,\n",
        "  1,\n",
        "  0,\n",
        "  1,\n",
        "  0,\n",
        "  0,\n",
        "  0,\n",
        "  0,\n",
        "  0,\n",
        "  0,\n",
        "  0,\n",
        "  0,\n",
        "  0,\n",
        "  0,\n",
        "  0,\n",
        "  1,\n",
        "  0,\n",
        "  0,\n",
        "  1,\n",
        "  0,\n",
        "  0,\n",
        "  1,\n",
        "  0,\n",
        "  1,\n",
        "  0,\n",
        "  0,\n",
        "  0,\n",
        "  0,\n",
        "  0,\n",
        "  0,\n",
        "  0,\n",
        "  0,\n",
        "  0,\n",
        "  0,\n",
        "  0,\n",
        "  0,\n",
        "  0,\n",
        "  0,\n",
        "  0,\n",
        "  0,\n",
        "  0,\n",
        "  0,\n",
        "  1,\n",
        "  0,\n",
        "  0,\n",
        "  1,\n",
        "  0,\n",
        "  0,\n",
        "  0,\n",
        "  0,\n",
        "  1,\n",
        "  0,\n",
        "  0,\n",
        "  0,\n",
        "  0,\n",
        "  0,\n",
        "  0,\n",
        "  0,\n",
        "  1,\n",
        "  0,\n",
        "  0,\n",
        "  0,\n",
        "  0,\n",
        "  0,\n",
        "  0,\n",
        "  0,\n",
        "  0,\n",
        "  0,\n",
        "  1,\n",
        "  0,\n",
        "  0,\n",
        "  0,\n",
        "  0,\n",
        "  0,\n",
        "  1,\n",
        "  0,\n",
        "  0,\n",
        "  0,\n",
        "  0,\n",
        "  0,\n",
        "  0,\n",
        "  0,\n",
        "  0,\n",
        "  0,\n",
        "  0,\n",
        "  0,\n",
        "  0,\n",
        "  0,\n",
        "  0,\n",
        "  0,\n",
        "  1,\n",
        "  0,\n",
        "  0,\n",
        "  0,\n",
        "  1,\n",
        "  0,\n",
        "  0,\n",
        "  0,\n",
        "  1,\n",
        "  0,\n",
        "  0,\n",
        "  0,\n",
        "  0,\n",
        "  0,\n",
        "  0,\n",
        "  0,\n",
        "  0,\n",
        "  1,\n",
        "  0,\n",
        "  0,\n",
        "  0,\n",
        "  0,\n",
        "  0,\n",
        "  0,\n",
        "  0,\n",
        "  0,\n",
        "  0,\n",
        "  0,\n",
        "  0,\n",
        "  0,\n",
        "  0,\n",
        "  1,\n",
        "  0,\n",
        "  0,\n",
        "  0,\n",
        "  0,\n",
        "  0,\n",
        "  0,\n",
        "  0,\n",
        "  0,\n",
        "  0,\n",
        "  0,\n",
        "  0,\n",
        "  0,\n",
        "  0,\n",
        "  0,\n",
        "  0,\n",
        "  0,\n",
        "  0,\n",
        "  1,\n",
        "  0,\n",
        "  0,\n",
        "  0,\n",
        "  0,\n",
        "  0,\n",
        "  0,\n",
        "  0,\n",
        "  0,\n",
        "  0,\n",
        "  0,\n",
        "  0,\n",
        "  0,\n",
        "  0,\n",
        "  0,\n",
        "  0,\n",
        "  1,\n",
        "  0,\n",
        "  0,\n",
        "  1,\n",
        "  0,\n",
        "  0,\n",
        "  1,\n",
        "  1,\n",
        "  0,\n",
        "  0,\n",
        "  0,\n",
        "  0,\n",
        "  0,\n",
        "  0,\n",
        "  0,\n",
        "  0,\n",
        "  0,\n",
        "  0,\n",
        "  0,\n",
        "  0,\n",
        "  0,\n",
        "  1,\n",
        "  0,\n",
        "  0,\n",
        "  0,\n",
        "  0,\n",
        "  1,\n",
        "  0,\n",
        "  0,\n",
        "  0,\n",
        "  0,\n",
        "  0,\n",
        "  0,\n",
        "  0,\n",
        "  0,\n",
        "  0,\n",
        "  0,\n",
        "  0,\n",
        "  0,\n",
        "  0,\n",
        "  0,\n",
        "  0,\n",
        "  0,\n",
        "  0,\n",
        "  1,\n",
        "  0,\n",
        "  0,\n",
        "  0,\n",
        "  0,\n",
        "  0,\n",
        "  0,\n",
        "  0,\n",
        "  1,\n",
        "  0,\n",
        "  0,\n",
        "  0,\n",
        "  0,\n",
        "  0,\n",
        "  0,\n",
        "  0,\n",
        "  0,\n",
        "  0,\n",
        "  0,\n",
        "  0,\n",
        "  0,\n",
        "  0,\n",
        "  0,\n",
        "  0,\n",
        "  0,\n",
        "  0,\n",
        "  0,\n",
        "  1,\n",
        "  0,\n",
        "  0,\n",
        "  0,\n",
        "  0,\n",
        "  0,\n",
        "  0,\n",
        "  0,\n",
        "  1,\n",
        "  0,\n",
        "  0,\n",
        "  0,\n",
        "  0,\n",
        "  0,\n",
        "  0,\n",
        "  0,\n",
        "  1,\n",
        "  0,\n",
        "  0,\n",
        "  0,\n",
        "  0,\n",
        "  0,\n",
        "  0,\n",
        "  0,\n",
        "  0,\n",
        "  0,\n",
        "  0,\n",
        "  0,\n",
        "  0,\n",
        "  0,\n",
        "  0],\n",
        " 22: [0,\n",
        "  0,\n",
        "  1,\n",
        "  0,\n",
        "  1,\n",
        "  1,\n",
        "  1,\n",
        "  1,\n",
        "  1,\n",
        "  0,\n",
        "  1,\n",
        "  0,\n",
        "  0,\n",
        "  1,\n",
        "  0,\n",
        "  1,\n",
        "  1,\n",
        "  0,\n",
        "  0,\n",
        "  1,\n",
        "  0,\n",
        "  0,\n",
        "  1,\n",
        "  0,\n",
        "  0,\n",
        "  0,\n",
        "  0,\n",
        "  1,\n",
        "  1,\n",
        "  0,\n",
        "  1,\n",
        "  0,\n",
        "  0,\n",
        "  1,\n",
        "  1,\n",
        "  1,\n",
        "  0,\n",
        "  0,\n",
        "  1,\n",
        "  0,\n",
        "  0,\n",
        "  0,\n",
        "  1,\n",
        "  0,\n",
        "  1,\n",
        "  1,\n",
        "  1,\n",
        "  0,\n",
        "  1,\n",
        "  1,\n",
        "  0,\n",
        "  0,\n",
        "  0,\n",
        "  0,\n",
        "  1,\n",
        "  0,\n",
        "  1,\n",
        "  1,\n",
        "  0,\n",
        "  0,\n",
        "  1,\n",
        "  1,\n",
        "  0,\n",
        "  1,\n",
        "  0,\n",
        "  1,\n",
        "  0,\n",
        "  0,\n",
        "  1,\n",
        "  0,\n",
        "  1,\n",
        "  0,\n",
        "  1,\n",
        "  1,\n",
        "  1,\n",
        "  0,\n",
        "  0,\n",
        "  1,\n",
        "  1,\n",
        "  0,\n",
        "  1,\n",
        "  1,\n",
        "  0,\n",
        "  1,\n",
        "  0,\n",
        "  0,\n",
        "  0,\n",
        "  0,\n",
        "  1,\n",
        "  0,\n",
        "  0,\n",
        "  1,\n",
        "  1,\n",
        "  1,\n",
        "  1,\n",
        "  0,\n",
        "  1,\n",
        "  0,\n",
        "  0,\n",
        "  1,\n",
        "  1,\n",
        "  0,\n",
        "  0,\n",
        "  1,\n",
        "  0,\n",
        "  1,\n",
        "  0,\n",
        "  0,\n",
        "  1,\n",
        "  1,\n",
        "  1,\n",
        "  1,\n",
        "  0,\n",
        "  0,\n",
        "  0,\n",
        "  0,\n",
        "  1,\n",
        "  1,\n",
        "  0,\n",
        "  1,\n",
        "  0,\n",
        "  1,\n",
        "  0,\n",
        "  0,\n",
        "  1,\n",
        "  1,\n",
        "  1,\n",
        "  1,\n",
        "  1,\n",
        "  0,\n",
        "  1,\n",
        "  1,\n",
        "  1,\n",
        "  0,\n",
        "  1,\n",
        "  1,\n",
        "  0,\n",
        "  1,\n",
        "  1,\n",
        "  0,\n",
        "  0,\n",
        "  1,\n",
        "  1,\n",
        "  1,\n",
        "  0,\n",
        "  1,\n",
        "  1,\n",
        "  0,\n",
        "  1,\n",
        "  1,\n",
        "  1,\n",
        "  0,\n",
        "  0,\n",
        "  1,\n",
        "  0,\n",
        "  0,\n",
        "  1,\n",
        "  0,\n",
        "  1,\n",
        "  1,\n",
        "  0,\n",
        "  0,\n",
        "  1,\n",
        "  0,\n",
        "  0,\n",
        "  1,\n",
        "  0,\n",
        "  0,\n",
        "  1,\n",
        "  0,\n",
        "  0,\n",
        "  0,\n",
        "  1,\n",
        "  1,\n",
        "  1,\n",
        "  1,\n",
        "  0,\n",
        "  0,\n",
        "  1,\n",
        "  1,\n",
        "  1,\n",
        "  0,\n",
        "  1,\n",
        "  1,\n",
        "  0,\n",
        "  0,\n",
        "  0,\n",
        "  1,\n",
        "  1,\n",
        "  0,\n",
        "  0,\n",
        "  1,\n",
        "  1,\n",
        "  0,\n",
        "  1,\n",
        "  1,\n",
        "  0,\n",
        "  1,\n",
        "  0,\n",
        "  1,\n",
        "  1,\n",
        "  1,\n",
        "  0,\n",
        "  1,\n",
        "  1,\n",
        "  0,\n",
        "  0,\n",
        "  0,\n",
        "  0,\n",
        "  1,\n",
        "  1,\n",
        "  1,\n",
        "  1,\n",
        "  1,\n",
        "  1,\n",
        "  0,\n",
        "  0,\n",
        "  1,\n",
        "  1,\n",
        "  1,\n",
        "  0,\n",
        "  1,\n",
        "  1,\n",
        "  1,\n",
        "  1,\n",
        "  1,\n",
        "  1,\n",
        "  1,\n",
        "  1,\n",
        "  1,\n",
        "  1,\n",
        "  0,\n",
        "  0,\n",
        "  1,\n",
        "  0,\n",
        "  0,\n",
        "  0,\n",
        "  1,\n",
        "  0,\n",
        "  0,\n",
        "  1,\n",
        "  1,\n",
        "  0,\n",
        "  1,\n",
        "  1,\n",
        "  1,\n",
        "  0,\n",
        "  0,\n",
        "  1,\n",
        "  1,\n",
        "  0,\n",
        "  1,\n",
        "  1,\n",
        "  0,\n",
        "  1,\n",
        "  1,\n",
        "  0,\n",
        "  1,\n",
        "  1,\n",
        "  1,\n",
        "  1,\n",
        "  0,\n",
        "  1,\n",
        "  0,\n",
        "  0],\n",
        " 24: [0,\n",
        "  0,\n",
        "  0,\n",
        "  0,\n",
        "  0,\n",
        "  0,\n",
        "  0,\n",
        "  0,\n",
        "  0,\n",
        "  0,\n",
        "  0,\n",
        "  0,\n",
        "  0,\n",
        "  0,\n",
        "  0,\n",
        "  0,\n",
        "  0,\n",
        "  0,\n",
        "  0,\n",
        "  0,\n",
        "  0,\n",
        "  0,\n",
        "  0,\n",
        "  0,\n",
        "  0,\n",
        "  0,\n",
        "  0,\n",
        "  0,\n",
        "  0,\n",
        "  0,\n",
        "  0,\n",
        "  1,\n",
        "  0,\n",
        "  0,\n",
        "  0,\n",
        "  0,\n",
        "  1,\n",
        "  0,\n",
        "  0,\n",
        "  0,\n",
        "  0,\n",
        "  0,\n",
        "  0,\n",
        "  0,\n",
        "  0,\n",
        "  0,\n",
        "  0,\n",
        "  0,\n",
        "  0,\n",
        "  0,\n",
        "  0,\n",
        "  0,\n",
        "  0,\n",
        "  0,\n",
        "  0,\n",
        "  0,\n",
        "  0,\n",
        "  0,\n",
        "  0,\n",
        "  0,\n",
        "  0,\n",
        "  0,\n",
        "  0,\n",
        "  0,\n",
        "  0,\n",
        "  0,\n",
        "  0,\n",
        "  0,\n",
        "  0,\n",
        "  0,\n",
        "  0,\n",
        "  0,\n",
        "  0,\n",
        "  0,\n",
        "  0,\n",
        "  0,\n",
        "  0,\n",
        "  0,\n",
        "  0,\n",
        "  0,\n",
        "  0,\n",
        "  0,\n",
        "  0,\n",
        "  0,\n",
        "  0,\n",
        "  1,\n",
        "  0,\n",
        "  0,\n",
        "  0,\n",
        "  0,\n",
        "  0,\n",
        "  0,\n",
        "  0,\n",
        "  0,\n",
        "  0,\n",
        "  0,\n",
        "  0,\n",
        "  0,\n",
        "  0,\n",
        "  0,\n",
        "  0,\n",
        "  0,\n",
        "  0,\n",
        "  0,\n",
        "  0,\n",
        "  0,\n",
        "  0,\n",
        "  0,\n",
        "  0,\n",
        "  0,\n",
        "  0,\n",
        "  0,\n",
        "  1,\n",
        "  0,\n",
        "  0,\n",
        "  0,\n",
        "  0,\n",
        "  0,\n",
        "  0,\n",
        "  0,\n",
        "  0,\n",
        "  0,\n",
        "  0,\n",
        "  0,\n",
        "  0,\n",
        "  0,\n",
        "  0,\n",
        "  0,\n",
        "  0,\n",
        "  0,\n",
        "  0,\n",
        "  0,\n",
        "  0,\n",
        "  0,\n",
        "  0,\n",
        "  0,\n",
        "  0,\n",
        "  0,\n",
        "  0,\n",
        "  0,\n",
        "  0,\n",
        "  0,\n",
        "  0,\n",
        "  0,\n",
        "  0,\n",
        "  0,\n",
        "  0,\n",
        "  0,\n",
        "  0,\n",
        "  0,\n",
        "  0,\n",
        "  0,\n",
        "  0,\n",
        "  0,\n",
        "  0,\n",
        "  0,\n",
        "  0,\n",
        "  0,\n",
        "  0,\n",
        "  0,\n",
        "  0,\n",
        "  1,\n",
        "  0,\n",
        "  0,\n",
        "  0,\n",
        "  0,\n",
        "  0,\n",
        "  0,\n",
        "  0,\n",
        "  0,\n",
        "  0,\n",
        "  0,\n",
        "  0,\n",
        "  0,\n",
        "  0,\n",
        "  0,\n",
        "  0,\n",
        "  0,\n",
        "  0,\n",
        "  0,\n",
        "  0,\n",
        "  0,\n",
        "  0,\n",
        "  0,\n",
        "  0,\n",
        "  0,\n",
        "  0,\n",
        "  0,\n",
        "  0,\n",
        "  0,\n",
        "  0,\n",
        "  0,\n",
        "  0,\n",
        "  0,\n",
        "  0,\n",
        "  0,\n",
        "  0,\n",
        "  0,\n",
        "  0,\n",
        "  0,\n",
        "  0,\n",
        "  0,\n",
        "  0,\n",
        "  0,\n",
        "  0,\n",
        "  0,\n",
        "  0,\n",
        "  0,\n",
        "  0,\n",
        "  0,\n",
        "  0,\n",
        "  0,\n",
        "  0,\n",
        "  0,\n",
        "  0,\n",
        "  0,\n",
        "  1,\n",
        "  0,\n",
        "  0,\n",
        "  0,\n",
        "  0,\n",
        "  0,\n",
        "  0,\n",
        "  0,\n",
        "  0,\n",
        "  0,\n",
        "  0,\n",
        "  0,\n",
        "  0,\n",
        "  0,\n",
        "  0,\n",
        "  0,\n",
        "  0,\n",
        "  0,\n",
        "  0,\n",
        "  0,\n",
        "  0,\n",
        "  0,\n",
        "  0,\n",
        "  0,\n",
        "  0,\n",
        "  0,\n",
        "  0,\n",
        "  0,\n",
        "  0,\n",
        "  0,\n",
        "  0,\n",
        "  0,\n",
        "  0,\n",
        "  0,\n",
        "  0,\n",
        "  0,\n",
        "  0,\n",
        "  0,\n",
        "  0,\n",
        "  0,\n",
        "  0,\n",
        "  0,\n",
        "  0,\n",
        "  0,\n",
        "  0,\n",
        "  0,\n",
        "  0,\n",
        "  0,\n",
        "  0],\n",
        " 26: [0,\n",
        "  1,\n",
        "  0,\n",
        "  0,\n",
        "  0,\n",
        "  0,\n",
        "  0,\n",
        "  0,\n",
        "  0,\n",
        "  0,\n",
        "  0,\n",
        "  0,\n",
        "  0,\n",
        "  0,\n",
        "  0,\n",
        "  0,\n",
        "  0,\n",
        "  1,\n",
        "  0,\n",
        "  0,\n",
        "  0,\n",
        "  0,\n",
        "  0,\n",
        "  0,\n",
        "  1,\n",
        "  0,\n",
        "  0,\n",
        "  0,\n",
        "  0,\n",
        "  0,\n",
        "  0,\n",
        "  1,\n",
        "  0,\n",
        "  0,\n",
        "  0,\n",
        "  0,\n",
        "  0,\n",
        "  0,\n",
        "  0,\n",
        "  0,\n",
        "  0,\n",
        "  0,\n",
        "  0,\n",
        "  0,\n",
        "  0,\n",
        "  0,\n",
        "  0,\n",
        "  1,\n",
        "  0,\n",
        "  0,\n",
        "  0,\n",
        "  1,\n",
        "  0,\n",
        "  0,\n",
        "  0,\n",
        "  1,\n",
        "  0,\n",
        "  1,\n",
        "  0,\n",
        "  0,\n",
        "  0,\n",
        "  0,\n",
        "  1,\n",
        "  0,\n",
        "  1,\n",
        "  0,\n",
        "  0,\n",
        "  0,\n",
        "  0,\n",
        "  0,\n",
        "  0,\n",
        "  0,\n",
        "  0,\n",
        "  0,\n",
        "  0,\n",
        "  1,\n",
        "  0,\n",
        "  0,\n",
        "  0,\n",
        "  1,\n",
        "  0,\n",
        "  0,\n",
        "  0,\n",
        "  0,\n",
        "  0,\n",
        "  0,\n",
        "  0,\n",
        "  0,\n",
        "  0,\n",
        "  1,\n",
        "  1,\n",
        "  0,\n",
        "  0,\n",
        "  0,\n",
        "  0,\n",
        "  0,\n",
        "  0,\n",
        "  0,\n",
        "  0,\n",
        "  0,\n",
        "  0,\n",
        "  0,\n",
        "  0,\n",
        "  0,\n",
        "  0,\n",
        "  0,\n",
        "  0,\n",
        "  1,\n",
        "  0,\n",
        "  0,\n",
        "  0,\n",
        "  0,\n",
        "  0,\n",
        "  0,\n",
        "  0,\n",
        "  0,\n",
        "  0,\n",
        "  0,\n",
        "  0,\n",
        "  0,\n",
        "  1,\n",
        "  0,\n",
        "  0,\n",
        "  0,\n",
        "  0,\n",
        "  0,\n",
        "  0,\n",
        "  0,\n",
        "  0,\n",
        "  0,\n",
        "  0,\n",
        "  0,\n",
        "  0,\n",
        "  1,\n",
        "  0,\n",
        "  0,\n",
        "  0,\n",
        "  0,\n",
        "  0,\n",
        "  0,\n",
        "  0,\n",
        "  0,\n",
        "  0,\n",
        "  0,\n",
        "  0,\n",
        "  0,\n",
        "  0,\n",
        "  0,\n",
        "  0,\n",
        "  0,\n",
        "  0,\n",
        "  0,\n",
        "  0,\n",
        "  0,\n",
        "  1,\n",
        "  1,\n",
        "  0,\n",
        "  1,\n",
        "  0,\n",
        "  0,\n",
        "  0,\n",
        "  0,\n",
        "  0,\n",
        "  0,\n",
        "  0,\n",
        "  0,\n",
        "  0,\n",
        "  0,\n",
        "  0,\n",
        "  0,\n",
        "  0,\n",
        "  0,\n",
        "  0,\n",
        "  0,\n",
        "  0,\n",
        "  0,\n",
        "  0,\n",
        "  0,\n",
        "  0,\n",
        "  0,\n",
        "  0,\n",
        "  0,\n",
        "  0,\n",
        "  0,\n",
        "  0,\n",
        "  1,\n",
        "  0,\n",
        "  0,\n",
        "  0,\n",
        "  0,\n",
        "  0,\n",
        "  0,\n",
        "  0,\n",
        "  0,\n",
        "  0,\n",
        "  0,\n",
        "  0,\n",
        "  0,\n",
        "  1,\n",
        "  0,\n",
        "  0,\n",
        "  0,\n",
        "  0,\n",
        "  0,\n",
        "  0,\n",
        "  0,\n",
        "  0,\n",
        "  0,\n",
        "  0,\n",
        "  0,\n",
        "  0,\n",
        "  0,\n",
        "  0,\n",
        "  0,\n",
        "  0,\n",
        "  0,\n",
        "  0,\n",
        "  0,\n",
        "  0,\n",
        "  0,\n",
        "  1,\n",
        "  0,\n",
        "  0,\n",
        "  0,\n",
        "  0,\n",
        "  0,\n",
        "  0,\n",
        "  0,\n",
        "  0,\n",
        "  0,\n",
        "  0,\n",
        "  0,\n",
        "  1,\n",
        "  0,\n",
        "  0,\n",
        "  0,\n",
        "  1,\n",
        "  0,\n",
        "  0,\n",
        "  0,\n",
        "  0,\n",
        "  0,\n",
        "  0,\n",
        "  0,\n",
        "  0,\n",
        "  0,\n",
        "  0,\n",
        "  0,\n",
        "  0,\n",
        "  0,\n",
        "  0,\n",
        "  0,\n",
        "  0,\n",
        "  1,\n",
        "  1,\n",
        "  0,\n",
        "  0,\n",
        "  0,\n",
        "  0,\n",
        "  0,\n",
        "  0,\n",
        "  0,\n",
        "  0,\n",
        "  0,\n",
        "  0],\n",
        " 27: [0,\n",
        "  0,\n",
        "  0,\n",
        "  1,\n",
        "  0,\n",
        "  0,\n",
        "  0,\n",
        "  0,\n",
        "  0,\n",
        "  0,\n",
        "  0,\n",
        "  0,\n",
        "  0,\n",
        "  0,\n",
        "  1,\n",
        "  0,\n",
        "  0,\n",
        "  0,\n",
        "  0,\n",
        "  0,\n",
        "  0,\n",
        "  1,\n",
        "  0,\n",
        "  0,\n",
        "  0,\n",
        "  0,\n",
        "  0,\n",
        "  0,\n",
        "  0,\n",
        "  0,\n",
        "  0,\n",
        "  1,\n",
        "  0,\n",
        "  0,\n",
        "  0,\n",
        "  0,\n",
        "  0,\n",
        "  0,\n",
        "  0,\n",
        "  0,\n",
        "  0,\n",
        "  1,\n",
        "  0,\n",
        "  0,\n",
        "  0,\n",
        "  0,\n",
        "  0,\n",
        "  0,\n",
        "  0,\n",
        "  0,\n",
        "  0,\n",
        "  0,\n",
        "  0,\n",
        "  0,\n",
        "  0,\n",
        "  0,\n",
        "  0,\n",
        "  0,\n",
        "  0,\n",
        "  0,\n",
        "  0,\n",
        "  0,\n",
        "  0,\n",
        "  0,\n",
        "  0,\n",
        "  0,\n",
        "  0,\n",
        "  0,\n",
        "  0,\n",
        "  0,\n",
        "  0,\n",
        "  0,\n",
        "  0,\n",
        "  0,\n",
        "  0,\n",
        "  0,\n",
        "  0,\n",
        "  0,\n",
        "  0,\n",
        "  0,\n",
        "  0,\n",
        "  0,\n",
        "  0,\n",
        "  0,\n",
        "  1,\n",
        "  0,\n",
        "  0,\n",
        "  0,\n",
        "  1,\n",
        "  0,\n",
        "  0,\n",
        "  0,\n",
        "  0,\n",
        "  0,\n",
        "  0,\n",
        "  0,\n",
        "  0,\n",
        "  0,\n",
        "  0,\n",
        "  0,\n",
        "  0,\n",
        "  0,\n",
        "  0,\n",
        "  0,\n",
        "  1,\n",
        "  0,\n",
        "  0,\n",
        "  0,\n",
        "  0,\n",
        "  0,\n",
        "  0,\n",
        "  0,\n",
        "  0,\n",
        "  0,\n",
        "  0,\n",
        "  0,\n",
        "  0,\n",
        "  0,\n",
        "  1,\n",
        "  0,\n",
        "  0,\n",
        "  0,\n",
        "  0,\n",
        "  0,\n",
        "  0,\n",
        "  0,\n",
        "  0,\n",
        "  0,\n",
        "  0,\n",
        "  0,\n",
        "  0,\n",
        "  0,\n",
        "  0,\n",
        "  0,\n",
        "  0,\n",
        "  0,\n",
        "  0,\n",
        "  0,\n",
        "  0,\n",
        "  0,\n",
        "  0,\n",
        "  0,\n",
        "  0,\n",
        "  0,\n",
        "  0,\n",
        "  0,\n",
        "  0,\n",
        "  0,\n",
        "  0,\n",
        "  0,\n",
        "  0,\n",
        "  1,\n",
        "  0,\n",
        "  0,\n",
        "  0,\n",
        "  0,\n",
        "  0,\n",
        "  0,\n",
        "  0,\n",
        "  0,\n",
        "  0,\n",
        "  0,\n",
        "  0,\n",
        "  0,\n",
        "  0,\n",
        "  0,\n",
        "  0,\n",
        "  0,\n",
        "  0,\n",
        "  0,\n",
        "  0,\n",
        "  1,\n",
        "  0,\n",
        "  0,\n",
        "  0,\n",
        "  0,\n",
        "  0,\n",
        "  0,\n",
        "  0,\n",
        "  0,\n",
        "  0,\n",
        "  1,\n",
        "  0,\n",
        "  0,\n",
        "  0,\n",
        "  0,\n",
        "  0,\n",
        "  0,\n",
        "  0,\n",
        "  0,\n",
        "  0,\n",
        "  0,\n",
        "  0,\n",
        "  0,\n",
        "  0,\n",
        "  0,\n",
        "  1,\n",
        "  0,\n",
        "  0,\n",
        "  0,\n",
        "  0,\n",
        "  0,\n",
        "  1,\n",
        "  0,\n",
        "  0,\n",
        "  0,\n",
        "  0,\n",
        "  0,\n",
        "  1,\n",
        "  0,\n",
        "  0,\n",
        "  0,\n",
        "  0,\n",
        "  0,\n",
        "  0,\n",
        "  0,\n",
        "  0,\n",
        "  0,\n",
        "  0,\n",
        "  0,\n",
        "  0,\n",
        "  0,\n",
        "  0,\n",
        "  0,\n",
        "  0,\n",
        "  0,\n",
        "  0,\n",
        "  0,\n",
        "  0,\n",
        "  0,\n",
        "  0,\n",
        "  0,\n",
        "  0,\n",
        "  0,\n",
        "  0,\n",
        "  1,\n",
        "  0,\n",
        "  0,\n",
        "  0,\n",
        "  0,\n",
        "  0,\n",
        "  0,\n",
        "  0,\n",
        "  0,\n",
        "  0,\n",
        "  0,\n",
        "  0,\n",
        "  0,\n",
        "  0,\n",
        "  0,\n",
        "  0,\n",
        "  0,\n",
        "  0,\n",
        "  0,\n",
        "  0,\n",
        "  0,\n",
        "  0,\n",
        "  0,\n",
        "  0,\n",
        "  0,\n",
        "  0,\n",
        "  0,\n",
        "  0,\n",
        "  0,\n",
        "  0],\n",
        " 28: [0,\n",
        "  0,\n",
        "  0,\n",
        "  0,\n",
        "  1,\n",
        "  0,\n",
        "  0,\n",
        "  0,\n",
        "  0,\n",
        "  0,\n",
        "  0,\n",
        "  0,\n",
        "  0,\n",
        "  0,\n",
        "  0,\n",
        "  0,\n",
        "  0,\n",
        "  0,\n",
        "  0,\n",
        "  0,\n",
        "  0,\n",
        "  0,\n",
        "  0,\n",
        "  0,\n",
        "  0,\n",
        "  0,\n",
        "  0,\n",
        "  0,\n",
        "  0,\n",
        "  0,\n",
        "  0,\n",
        "  0,\n",
        "  0,\n",
        "  0,\n",
        "  0,\n",
        "  0,\n",
        "  0,\n",
        "  0,\n",
        "  0,\n",
        "  0,\n",
        "  0,\n",
        "  0,\n",
        "  0,\n",
        "  0,\n",
        "  0,\n",
        "  0,\n",
        "  0,\n",
        "  0,\n",
        "  0,\n",
        "  0,\n",
        "  0,\n",
        "  0,\n",
        "  0,\n",
        "  0,\n",
        "  0,\n",
        "  0,\n",
        "  0,\n",
        "  0,\n",
        "  0,\n",
        "  0,\n",
        "  0,\n",
        "  0,\n",
        "  0,\n",
        "  0,\n",
        "  0,\n",
        "  0,\n",
        "  0,\n",
        "  0,\n",
        "  0,\n",
        "  0,\n",
        "  0,\n",
        "  0,\n",
        "  0,\n",
        "  0,\n",
        "  0,\n",
        "  0,\n",
        "  0,\n",
        "  0,\n",
        "  0,\n",
        "  0,\n",
        "  0,\n",
        "  0,\n",
        "  0,\n",
        "  0,\n",
        "  0,\n",
        "  0,\n",
        "  0,\n",
        "  0,\n",
        "  0,\n",
        "  0,\n",
        "  0,\n",
        "  1,\n",
        "  0,\n",
        "  0,\n",
        "  0,\n",
        "  0,\n",
        "  0,\n",
        "  0,\n",
        "  0,\n",
        "  0,\n",
        "  0,\n",
        "  0,\n",
        "  0,\n",
        "  0,\n",
        "  0,\n",
        "  0,\n",
        "  0,\n",
        "  0,\n",
        "  0,\n",
        "  0,\n",
        "  0,\n",
        "  0,\n",
        "  0,\n",
        "  0,\n",
        "  0,\n",
        "  0,\n",
        "  1,\n",
        "  1,\n",
        "  0,\n",
        "  0,\n",
        "  0,\n",
        "  0,\n",
        "  0,\n",
        "  0,\n",
        "  0,\n",
        "  0,\n",
        "  0,\n",
        "  0,\n",
        "  0,\n",
        "  0,\n",
        "  0,\n",
        "  0,\n",
        "  0,\n",
        "  0,\n",
        "  0,\n",
        "  0,\n",
        "  0,\n",
        "  0,\n",
        "  0,\n",
        "  0,\n",
        "  0,\n",
        "  0,\n",
        "  0,\n",
        "  0,\n",
        "  0,\n",
        "  0,\n",
        "  0,\n",
        "  0,\n",
        "  0,\n",
        "  0,\n",
        "  0,\n",
        "  1,\n",
        "  0,\n",
        "  0,\n",
        "  0,\n",
        "  0,\n",
        "  0,\n",
        "  0,\n",
        "  0,\n",
        "  0,\n",
        "  0,\n",
        "  0,\n",
        "  0,\n",
        "  0,\n",
        "  0,\n",
        "  0,\n",
        "  0,\n",
        "  0,\n",
        "  0,\n",
        "  0,\n",
        "  0,\n",
        "  0,\n",
        "  0,\n",
        "  0,\n",
        "  0,\n",
        "  0,\n",
        "  0,\n",
        "  0,\n",
        "  0,\n",
        "  0,\n",
        "  0,\n",
        "  0,\n",
        "  0,\n",
        "  0,\n",
        "  0,\n",
        "  0,\n",
        "  0,\n",
        "  0,\n",
        "  0,\n",
        "  0,\n",
        "  0,\n",
        "  0,\n",
        "  0,\n",
        "  0,\n",
        "  0,\n",
        "  0,\n",
        "  1,\n",
        "  0,\n",
        "  0,\n",
        "  0,\n",
        "  0,\n",
        "  0,\n",
        "  0,\n",
        "  1,\n",
        "  0,\n",
        "  0,\n",
        "  0,\n",
        "  0,\n",
        "  0,\n",
        "  0,\n",
        "  0,\n",
        "  0,\n",
        "  0,\n",
        "  0,\n",
        "  0,\n",
        "  0,\n",
        "  0,\n",
        "  0,\n",
        "  0,\n",
        "  0,\n",
        "  0,\n",
        "  0,\n",
        "  0,\n",
        "  0,\n",
        "  0,\n",
        "  0,\n",
        "  0,\n",
        "  0,\n",
        "  0,\n",
        "  0,\n",
        "  0,\n",
        "  0,\n",
        "  0,\n",
        "  0,\n",
        "  0,\n",
        "  0,\n",
        "  0,\n",
        "  0,\n",
        "  0,\n",
        "  0,\n",
        "  0,\n",
        "  0,\n",
        "  0,\n",
        "  0,\n",
        "  0,\n",
        "  0,\n",
        "  0,\n",
        "  0,\n",
        "  0,\n",
        "  0,\n",
        "  0,\n",
        "  0,\n",
        "  0,\n",
        "  0,\n",
        "  0,\n",
        "  0,\n",
        "  0,\n",
        "  0,\n",
        "  0,\n",
        "  0,\n",
        "  0,\n",
        "  0,\n",
        "  0,\n",
        "  0,\n",
        "  0],\n",
        " 29: [0,\n",
        "  0,\n",
        "  0,\n",
        "  0,\n",
        "  0,\n",
        "  0,\n",
        "  0,\n",
        "  0,\n",
        "  0,\n",
        "  0,\n",
        "  0,\n",
        "  0,\n",
        "  0,\n",
        "  0,\n",
        "  0,\n",
        "  0,\n",
        "  0,\n",
        "  0,\n",
        "  1,\n",
        "  0,\n",
        "  1,\n",
        "  0,\n",
        "  0,\n",
        "  0,\n",
        "  1,\n",
        "  0,\n",
        "  0,\n",
        "  0,\n",
        "  0,\n",
        "  0,\n",
        "  0,\n",
        "  1,\n",
        "  0,\n",
        "  0,\n",
        "  0,\n",
        "  0,\n",
        "  1,\n",
        "  1,\n",
        "  0,\n",
        "  1,\n",
        "  1,\n",
        "  0,\n",
        "  0,\n",
        "  0,\n",
        "  0,\n",
        "  0,\n",
        "  0,\n",
        "  0,\n",
        "  0,\n",
        "  0,\n",
        "  0,\n",
        "  0,\n",
        "  1,\n",
        "  0,\n",
        "  0,\n",
        "  0,\n",
        "  0,\n",
        "  1,\n",
        "  0,\n",
        "  1,\n",
        "  0,\n",
        "  0,\n",
        "  0,\n",
        "  0,\n",
        "  1,\n",
        "  0,\n",
        "  0,\n",
        "  1,\n",
        "  0,\n",
        "  1,\n",
        "  0,\n",
        "  0,\n",
        "  0,\n",
        "  0,\n",
        "  0,\n",
        "  1,\n",
        "  0,\n",
        "  0,\n",
        "  0,\n",
        "  0,\n",
        "  0,\n",
        "  0,\n",
        "  0,\n",
        "  0,\n",
        "  0,\n",
        "  1,\n",
        "  1,\n",
        "  1,\n",
        "  0,\n",
        "  0,\n",
        "  0,\n",
        "  0,\n",
        "  0,\n",
        "  0,\n",
        "  0,\n",
        "  1,\n",
        "  0,\n",
        "  0,\n",
        "  1,\n",
        "  0,\n",
        "  0,\n",
        "  0,\n",
        "  0,\n",
        "  0,\n",
        "  0,\n",
        "  0,\n",
        "  0,\n",
        "  1,\n",
        "  0,\n",
        "  0,\n",
        "  0,\n",
        "  0,\n",
        "  1,\n",
        "  1,\n",
        "  1,\n",
        "  0,\n",
        "  0,\n",
        "  0,\n",
        "  0,\n",
        "  0,\n",
        "  0,\n",
        "  0,\n",
        "  0,\n",
        "  0,\n",
        "  0,\n",
        "  0,\n",
        "  0,\n",
        "  0,\n",
        "  0,\n",
        "  0,\n",
        "  0,\n",
        "  0,\n",
        "  0,\n",
        "  0,\n",
        "  0,\n",
        "  0,\n",
        "  1,\n",
        "  0,\n",
        "  0,\n",
        "  1,\n",
        "  1,\n",
        "  0,\n",
        "  0,\n",
        "  0,\n",
        "  1,\n",
        "  0,\n",
        "  0,\n",
        "  0,\n",
        "  0,\n",
        "  0,\n",
        "  0,\n",
        "  0,\n",
        "  0,\n",
        "  0,\n",
        "  0,\n",
        "  0,\n",
        "  0,\n",
        "  0,\n",
        "  0,\n",
        "  0,\n",
        "  1,\n",
        "  1,\n",
        "  0,\n",
        "  1,\n",
        "  1,\n",
        "  0,\n",
        "  0,\n",
        "  0,\n",
        "  0,\n",
        "  0,\n",
        "  0,\n",
        "  0,\n",
        "  0,\n",
        "  0,\n",
        "  0,\n",
        "  0,\n",
        "  1,\n",
        "  1,\n",
        "  0,\n",
        "  0,\n",
        "  0,\n",
        "  0,\n",
        "  0,\n",
        "  0,\n",
        "  0,\n",
        "  1,\n",
        "  1,\n",
        "  0,\n",
        "  0,\n",
        "  0,\n",
        "  1,\n",
        "  0,\n",
        "  0,\n",
        "  1,\n",
        "  0,\n",
        "  0,\n",
        "  0,\n",
        "  0,\n",
        "  0,\n",
        "  0,\n",
        "  0,\n",
        "  0,\n",
        "  0,\n",
        "  0,\n",
        "  0,\n",
        "  1,\n",
        "  1,\n",
        "  0,\n",
        "  0,\n",
        "  0,\n",
        "  0,\n",
        "  0,\n",
        "  0,\n",
        "  0,\n",
        "  0,\n",
        "  0,\n",
        "  0,\n",
        "  0,\n",
        "  0,\n",
        "  0,\n",
        "  0,\n",
        "  0,\n",
        "  0,\n",
        "  0,\n",
        "  0,\n",
        "  0,\n",
        "  0,\n",
        "  0,\n",
        "  0,\n",
        "  0,\n",
        "  0,\n",
        "  1,\n",
        "  0,\n",
        "  0,\n",
        "  0,\n",
        "  0,\n",
        "  0,\n",
        "  0,\n",
        "  1,\n",
        "  1,\n",
        "  0,\n",
        "  0,\n",
        "  0,\n",
        "  0,\n",
        "  0,\n",
        "  0,\n",
        "  0,\n",
        "  0,\n",
        "  0,\n",
        "  0,\n",
        "  0,\n",
        "  0,\n",
        "  0,\n",
        "  0,\n",
        "  1,\n",
        "  0,\n",
        "  1,\n",
        "  0,\n",
        "  0,\n",
        "  0,\n",
        "  0,\n",
        "  0,\n",
        "  0,\n",
        "  1,\n",
        "  1]}"
       ]
      }
     ],
     "prompt_number": 22
    },
    {
     "cell_type": "code",
     "collapsed": false,
     "input": [
      "t =[[1,2,3],[4,5,6],[2,6,1]]\n",
      "l = ['a','b','c']"
     ],
     "language": "python",
     "metadata": {},
     "outputs": [],
     "prompt_number": 23
    },
    {
     "cell_type": "code",
     "collapsed": false,
     "input": [
      "dict(zip(l,t))"
     ],
     "language": "python",
     "metadata": {},
     "outputs": [
      {
       "metadata": {},
       "output_type": "pyout",
       "prompt_number": 24,
       "text": [
        "{'a': [1, 2, 3], 'b': [4, 5, 6], 'c': [2, 6, 1]}"
       ]
      }
     ],
     "prompt_number": 24
    },
    {
     "cell_type": "code",
     "collapsed": false,
     "input": [
      "true_circles = readcirclefile('./Training/'+str(ego)+'.circles')\n",
      "G = read_nodeadjlist('./egonets/'+str(ego)+'.egonet')\n",
      "print 'Total friends:', len(G.nodes())\n",
      "class_matrix = generate_class_matrix(G,true_circles)\n",
      "feature_matrix = generate_feature_matrix(profile_matrix,ego,G)\n",
      "\n",
      "for label,circle in class_matrix.items():\n",
      "    print 'Training Ego:', ego,'Circle:',label,'...'\n",
      "    forest = RandomForestClassifier(n_estimators=100)\n",
      "    forest = forest.fit( feature_matrix, circle )\n",
      "    important_features = sorted(zip(features,forest.feature_importances_), key=lambda x: x[1], reverse=True)\n",
      "    importance_scores = [val for key,val in important_features]\n",
      "    importance_labels = [key for key,val in important_features]\n",
      "    ind = range(len(importance_scores))\n",
      "    plt.bar(ind, forest.feature_importances_)\n",
      "    plt.axis([min(ind), max(ind), 0, 0.7])\n",
      "    plt.show()"
     ],
     "language": "python",
     "metadata": {},
     "outputs": [
      {
       "output_type": "stream",
       "stream": "stdout",
       "text": [
        "Total friends: 265\n",
        "Training Ego: 345 Circle: 20 ...\n"
       ]
      },
      {
       "metadata": {},
       "output_type": "display_data",
       "png": "[encoded data removed]",
       "text": [
        "<matplotlib.figure.Figure at 0x11c384d0>"
       ]
      },
      {
       "output_type": "stream",
       "stream": "stdout",
       "text": [
        "Training Ego: 345 Circle: 22 ...\n"
       ]
      },
      {
       "metadata": {},
       "output_type": "display_data",
       "png": "[encoded data removed]",
       "text": [
        "<matplotlib.figure.Figure at 0x4f0810>"
       ]
      },
      {
       "output_type": "stream",
       "stream": "stdout",
       "text": [
        "Training Ego: 345 Circle: 24 ...\n"
       ]
      },
      {
       "metadata": {},
       "output_type": "display_data",
       "png": "[encoded data removed]",
       "text": [
        "<matplotlib.figure.Figure at 0xe282bd0>"
       ]
      },
      {
       "output_type": "stream",
       "stream": "stdout",
       "text": [
        "Training Ego: 345 Circle: 26 ...\n"
       ]
      },
      {
       "metadata": {},
       "output_type": "display_data",
       "png": "[encoded data removed]",
       "text": [
        "<matplotlib.figure.Figure at 0x1793bab0>"
       ]
      },
      {
       "output_type": "stream",
       "stream": "stdout",
       "text": [
        "Training Ego: 345 Circle: 27 ...\n"
       ]
      },
      {
       "metadata": {},
       "output_type": "display_data",
       "png": "[encoded data removed]",
       "text": [
        "<matplotlib.figure.Figure at 0x168903d0>"
       ]
      },
      {
       "output_type": "stream",
       "stream": "stdout",
       "text": [
        "Training Ego: 345 Circle: 28 ...\n"
       ]
      },
      {
       "metadata": {},
       "output_type": "display_data",
       "png": "[encoded data removed]",
       "text": [
        "<matplotlib.figure.Figure at 0x11c38110>"
       ]
      },
      {
       "output_type": "stream",
       "stream": "stdout",
       "text": [
        "Training Ego: 345 Circle: 29 ...\n"
       ]
      },
      {
       "metadata": {},
       "output_type": "display_data",
       "png": "[encoded data removed]",
       "text": [
        "<matplotlib.figure.Figure at 0x1495c790>"
       ]
      }
     ],
     "prompt_number": 25
    },
    {
     "cell_type": "code",
     "collapsed": false,
     "input": [
      "trainingfiles = os.listdir('./Training/')\n",
      "\n",
      "df_labels = ['Ego','Circle']+features\n",
      "characteristic_profiles = []\n",
      "\n",
      "for item in trainingfiles:\n",
      "    ego = int((item.split('.')[0]))\n",
      "    true_circles = readcirclefile('./Training/'+item)\n",
      "    G = read_nodeadjlist('./egonets/'+str(ego)+'.egonet')\n",
      "    class_matrix = generate_class_matrix(G,true_circles)\n",
      "    feature_matrix = generate_feature_matrix(profile_matrix,ego,G)\n",
      "    \n",
      "    for label,circle in class_matrix.items():\n",
      "        print 'Training Ego:', ego,'Circle:',label,'...'\n",
      "        forest = RandomForestClassifier(n_estimators=100)\n",
      "        forest = forest.fit( feature_matrix, circle )\n",
      "        characteristic_profiles.append([ego]+[label]+list(forest.feature_importances_))\n",
      "\n",
      "df = pd.DataFrame(data=characteristic_profiles,columns=df_labels)"
     ],
     "language": "python",
     "metadata": {},
     "outputs": [
      {
       "output_type": "stream",
       "stream": "stdout",
       "text": [
        "Training Ego: 10395 Circle: 10 ...\n",
        "Training Ego:"
       ]
      },
      {
       "output_type": "stream",
       "stream": "stdout",
       "text": [
        " 10395 Circle: 78 ...\n",
        "Training Ego:"
       ]
      },
      {
       "output_type": "stream",
       "stream": "stdout",
       "text": [
        " 10395 Circle: 84 ...\n",
        "Training Ego:"
       ]
      },
      {
       "output_type": "stream",
       "stream": "stdout",
       "text": [
        " 10395 Circle: 377 ...\n",
        "Training Ego:"
       ]
      },
      {
       "output_type": "stream",
       "stream": "stdout",
       "text": [
        " 10395 Circle: 827 ...\n",
        "Training Ego:"
       ]
      },
      {
       "output_type": "stream",
       "stream": "stdout",
       "text": [
        " 10395 Circle: 828 ...\n",
        "Training Ego:"
       ]
      },
      {
       "output_type": "stream",
       "stream": "stdout",
       "text": [
        " 10395 Circle: 830 ...\n",
        "Training Ego:"
       ]
      },
      {
       "output_type": "stream",
       "stream": "stdout",
       "text": [
        " 10929 Circle: 839 ...\n",
        "Training Ego:"
       ]
      },
      {
       "output_type": "stream",
       "stream": "stdout",
       "text": [
        " 10929 Circle: 840 ...\n",
        "Training Ego:"
       ]
      },
      {
       "output_type": "stream",
       "stream": "stdout",
       "text": [
        " 10929 Circle: 841 ...\n",
        "Training Ego:"
       ]
      },
      {
       "output_type": "stream",
       "stream": "stdout",
       "text": [
        " 10929 Circle: 843 ...\n",
        "Training Ego:"
       ]
      },
      {
       "output_type": "stream",
       "stream": "stdout",
       "text": [
        " 10929 Circle: 844 ...\n",
        "Training Ego:"
       ]
      },
      {
       "output_type": "stream",
       "stream": "stdout",
       "text": [
        " 10929 Circle: 845 ...\n",
        "Training Ego:"
       ]
      },
      {
       "output_type": "stream",
       "stream": "stdout",
       "text": [
        " 11014 Circle: 194 ...\n",
        "Training Ego:"
       ]
      },
      {
       "output_type": "stream",
       "stream": "stdout",
       "text": [
        " 11014 Circle: 13 ...\n",
        "Training Ego:"
       ]
      },
      {
       "output_type": "stream",
       "stream": "stdout",
       "text": [
        " 11014 Circle: 848 ...\n",
        "Training Ego:"
       ]
      },
      {
       "output_type": "stream",
       "stream": "stdout",
       "text": [
        " 11014 Circle: 849 ...\n",
        "Training Ego:"
       ]
      },
      {
       "output_type": "stream",
       "stream": "stdout",
       "text": [
        " 11014 Circle: 850 ...\n",
        "Training Ego:"
       ]
      },
      {
       "output_type": "stream",
       "stream": "stdout",
       "text": [
        " 11014 Circle: 851 ...\n",
        "Training Ego:"
       ]
      },
      {
       "output_type": "stream",
       "stream": "stdout",
       "text": [
        " 11014 Circle: 852 ...\n",
        "Training Ego:"
       ]
      },
      {
       "output_type": "stream",
       "stream": "stdout",
       "text": [
        " 11014 Circle: 854 ...\n",
        "Training Ego:"
       ]
      },
      {
       "output_type": "stream",
       "stream": "stdout",
       "text": [
        " 11014 Circle: 855 ...\n",
        "Training Ego:"
       ]
      },
      {
       "output_type": "stream",
       "stream": "stdout",
       "text": [
        " 11014 Circle: 857 ...\n",
        "Training Ego:"
       ]
      },
      {
       "output_type": "stream",
       "stream": "stdout",
       "text": [
        " 11186 Circle: 992 ...\n",
        "Training Ego:"
       ]
      },
      {
       "output_type": "stream",
       "stream": "stdout",
       "text": [
        " 11186 Circle: 993 ...\n",
        "Training Ego:"
       ]
      },
      {
       "output_type": "stream",
       "stream": "stdout",
       "text": [
        " 11186 Circle: 994 ...\n",
        "Training Ego:"
       ]
      },
      {
       "output_type": "stream",
       "stream": "stdout",
       "text": [
        " 11186 Circle: 196 ...\n",
        "Training Ego:"
       ]
      },
      {
       "output_type": "stream",
       "stream": "stdout",
       "text": [
        " 11186 Circle: 39 ...\n",
        "Training Ego:"
       ]
      },
      {
       "output_type": "stream",
       "stream": "stdout",
       "text": [
        " 11186 Circle: 906 ...\n",
        "Training Ego:"
       ]
      },
      {
       "output_type": "stream",
       "stream": "stdout",
       "text": [
        " 11186 Circle: 363 ...\n",
        "Training Ego:"
       ]
      },
      {
       "output_type": "stream",
       "stream": "stdout",
       "text": [
        " 11186 Circle: 987 ...\n",
        "Training Ego:"
       ]
      },
      {
       "output_type": "stream",
       "stream": "stdout",
       "text": [
        " 11186 Circle: 988 ...\n",
        "Training Ego:"
       ]
      },
      {
       "output_type": "stream",
       "stream": "stdout",
       "text": [
        " 11186 Circle: 989 ...\n",
        "Training Ego:"
       ]
      },
      {
       "output_type": "stream",
       "stream": "stdout",
       "text": [
        " 11186 Circle: 990 ...\n",
        "Training Ego:"
       ]
      },
      {
       "output_type": "stream",
       "stream": "stdout",
       "text": [
        " 11186 Circle: 991 ...\n",
        "Training Ego:"
       ]
      },
      {
       "output_type": "stream",
       "stream": "stdout",
       "text": [
        " 11364 Circle: 153 ...\n",
        "Training Ego:"
       ]
      },
      {
       "output_type": "stream",
       "stream": "stdout",
       "text": [
        " 11364 Circle: 18 ...\n",
        "Training Ego:"
       ]
      },
      {
       "output_type": "stream",
       "stream": "stdout",
       "text": [
        " 11364 Circle: 148 ...\n",
        "Training Ego:"
       ]
      },
      {
       "output_type": "stream",
       "stream": "stdout",
       "text": [
        " 11364 Circle: 861 ...\n",
        "Training Ego:"
       ]
      },
      {
       "output_type": "stream",
       "stream": "stdout",
       "text": [
        " 11410 Circle: 864 ...\n",
        "Training Ego:"
       ]
      },
      {
       "output_type": "stream",
       "stream": "stdout",
       "text": [
        " 11410 Circle: 865 ...\n",
        "Training Ego:"
       ]
      },
      {
       "output_type": "stream",
       "stream": "stdout",
       "text": [
        " 11410 Circle: 866 ...\n",
        "Training Ego:"
       ]
      },
      {
       "output_type": "stream",
       "stream": "stdout",
       "text": [
        " 11410 Circle: 867 ...\n",
        "Training Ego:"
       ]
      },
      {
       "output_type": "stream",
       "stream": "stdout",
       "text": [
        " 11410 Circle: 874 ...\n",
        "Training Ego:"
       ]
      },
      {
       "output_type": "stream",
       "stream": "stdout",
       "text": [
        " 11410 Circle: 875 ...\n",
        "Training Ego:"
       ]
      },
      {
       "output_type": "stream",
       "stream": "stdout",
       "text": [
        " 11410 Circle: 877 ...\n",
        "Training Ego:"
       ]
      },
      {
       "output_type": "stream",
       "stream": "stdout",
       "text": [
        " 11410 Circle: 150 ...\n",
        "Training Ego:"
       ]
      },
      {
       "output_type": "stream",
       "stream": "stdout",
       "text": [
        " 11410 Circle: 153 ...\n",
        "Training Ego:"
       ]
      },
      {
       "output_type": "stream",
       "stream": "stdout",
       "text": [
        " 12800 Circle: 900 ...\n",
        "Training Ego:"
       ]
      },
      {
       "output_type": "stream",
       "stream": "stdout",
       "text": [
        " 12800 Circle: 901 ...\n",
        "Training Ego:"
       ]
      },
      {
       "output_type": "stream",
       "stream": "stdout",
       "text": [
        " 12800 Circle: 70 ...\n",
        "Training Ego:"
       ]
      },
      {
       "output_type": "stream",
       "stream": "stdout",
       "text": [
        " 12800 Circle: 903 ...\n",
        "Training Ego:"
       ]
      },
      {
       "output_type": "stream",
       "stream": "stdout",
       "text": [
        " 12800 Circle: 904 ...\n",
        "Training Ego:"
       ]
      },
      {
       "output_type": "stream",
       "stream": "stdout",
       "text": [
        " 12800 Circle: 906 ...\n",
        "Training Ego:"
       ]
      },
      {
       "output_type": "stream",
       "stream": "stdout",
       "text": [
        " 12800 Circle: 907 ...\n",
        "Training Ego:"
       ]
      },
      {
       "output_type": "stream",
       "stream": "stdout",
       "text": [
        " 12800 Circle: 908 ...\n",
        "Training Ego:"
       ]
      },
      {
       "output_type": "stream",
       "stream": "stdout",
       "text": [
        " 12800 Circle: 909 ...\n",
        "Training Ego:"
       ]
      },
      {
       "output_type": "stream",
       "stream": "stdout",
       "text": [
        " 12800 Circle: 911 ...\n",
        "Training Ego:"
       ]
      },
      {
       "output_type": "stream",
       "stream": "stdout",
       "text": [
        " 12800 Circle: 592 ...\n",
        "Training Ego:"
       ]
      },
      {
       "output_type": "stream",
       "stream": "stdout",
       "text": [
        " 12800 Circle: 338 ...\n",
        "Training Ego:"
       ]
      },
      {
       "output_type": "stream",
       "stream": "stdout",
       "text": [
        " 12800 Circle: 902 ...\n",
        "Training Ego:"
       ]
      },
      {
       "output_type": "stream",
       "stream": "stdout",
       "text": [
        " 12800 Circle: 62 ...\n",
        "Training Ego:"
       ]
      },
      {
       "output_type": "stream",
       "stream": "stdout",
       "text": [
        " 13353 Circle: 13 ...\n",
        "Training Ego:"
       ]
      },
      {
       "output_type": "stream",
       "stream": "stdout",
       "text": [
        " 13353 Circle: 916 ...\n",
        "Training Ego:"
       ]
      },
      {
       "output_type": "stream",
       "stream": "stdout",
       "text": [
        " 13353 Circle: 917 ...\n",
        "Training Ego:"
       ]
      },
      {
       "output_type": "stream",
       "stream": "stdout",
       "text": [
        " 13353 Circle: 918 ...\n",
        "Training Ego:"
       ]
      },
      {
       "output_type": "stream",
       "stream": "stdout",
       "text": [
        " 13353 Circle: 922 ...\n",
        "Training Ego:"
       ]
      },
      {
       "output_type": "stream",
       "stream": "stdout",
       "text": [
        " 13353 Circle: 925 ...\n",
        "Training Ego:"
       ]
      },
      {
       "output_type": "stream",
       "stream": "stdout",
       "text": [
        " 1357 Circle: 96 ...\n",
        "Training Ego:"
       ]
      },
      {
       "output_type": "stream",
       "stream": "stdout",
       "text": [
        " 1357 Circle: 98 ...\n",
        "Training Ego:"
       ]
      },
      {
       "output_type": "stream",
       "stream": "stdout",
       "text": [
        " 1357 Circle: 101 ...\n",
        "Training Ego:"
       ]
      },
      {
       "output_type": "stream",
       "stream": "stdout",
       "text": [
        " 1357 Circle: 85 ...\n",
        "Training Ego:"
       ]
      },
      {
       "output_type": "stream",
       "stream": "stdout",
       "text": [
        " 1357 Circle: 86 ...\n",
        "Training Ego:"
       ]
      },
      {
       "output_type": "stream",
       "stream": "stdout",
       "text": [
        " 1357 Circle: 87 ...\n",
        "Training Ego:"
       ]
      },
      {
       "output_type": "stream",
       "stream": "stdout",
       "text": [
        " 1357 Circle: 88 ...\n",
        "Training Ego:"
       ]
      },
      {
       "output_type": "stream",
       "stream": "stdout",
       "text": [
        " 1357 Circle: 90 ...\n",
        "Training Ego:"
       ]
      },
      {
       "output_type": "stream",
       "stream": "stdout",
       "text": [
        " 1357 Circle: 94 ...\n",
        "Training Ego:"
       ]
      },
      {
       "output_type": "stream",
       "stream": "stdout",
       "text": [
        " 1357 Circle: 95 ...\n",
        "Training Ego:"
       ]
      },
      {
       "output_type": "stream",
       "stream": "stdout",
       "text": [
        " 13789 Circle: 226 ...\n",
        "Training Ego:"
       ]
      },
      {
       "output_type": "stream",
       "stream": "stdout",
       "text": [
        " 13789 Circle: 13 ...\n",
        "Training Ego:"
       ]
      },
      {
       "output_type": "stream",
       "stream": "stdout",
       "text": [
        " 13789 Circle: 303 ...\n",
        "Training Ego:"
       ]
      },
      {
       "output_type": "stream",
       "stream": "stdout",
       "text": [
        " 13789 Circle: 177 ...\n",
        "Training Ego:"
       ]
      },
      {
       "output_type": "stream",
       "stream": "stdout",
       "text": [
        " 13789 Circle: 306 ...\n",
        "Training Ego:"
       ]
      },
      {
       "output_type": "stream",
       "stream": "stdout",
       "text": [
        " 13789 Circle: 950 ...\n",
        "Training Ego:"
       ]
      },
      {
       "output_type": "stream",
       "stream": "stdout",
       "text": [
        " 13789 Circle: 953 ...\n",
        "Training Ego:"
       ]
      },
      {
       "output_type": "stream",
       "stream": "stdout",
       "text": [
        " 13789 Circle: 57 ...\n",
        "Training Ego:"
       ]
      },
      {
       "output_type": "stream",
       "stream": "stdout",
       "text": [
        " 13789 Circle: 954 ...\n",
        "Training Ego:"
       ]
      },
      {
       "output_type": "stream",
       "stream": "stdout",
       "text": [
        " 13789 Circle: 957 ...\n",
        "Training Ego:"
       ]
      },
      {
       "output_type": "stream",
       "stream": "stdout",
       "text": [
        " 13789 Circle: 958 ...\n",
        "Training Ego:"
       ]
      },
      {
       "output_type": "stream",
       "stream": "stdout",
       "text": [
        " 13789 Circle: 959 ...\n",
        "Training Ego:"
       ]
      },
      {
       "output_type": "stream",
       "stream": "stdout",
       "text": [
        " 15672 Circle: 1037 ...\n",
        "Training Ego:"
       ]
      },
      {
       "output_type": "stream",
       "stream": "stdout",
       "text": [
        " 15672 Circle: 1038 ...\n",
        "Training Ego:"
       ]
      },
      {
       "output_type": "stream",
       "stream": "stdout",
       "text": [
        " 15672 Circle: 1039 ...\n",
        "Training Ego:"
       ]
      },
      {
       "output_type": "stream",
       "stream": "stdout",
       "text": [
        " 15672 Circle: 1040 ...\n",
        "Training Ego:"
       ]
      },
      {
       "output_type": "stream",
       "stream": "stdout",
       "text": [
        " 15672 Circle: 1041 ...\n",
        "Training Ego:"
       ]
      },
      {
       "output_type": "stream",
       "stream": "stdout",
       "text": [
        " 15672 Circle: 1042 ...\n",
        "Training Ego:"
       ]
      },
      {
       "output_type": "stream",
       "stream": "stdout",
       "text": [
        " 15672 Circle: 1043 ...\n",
        "Training Ego:"
       ]
      },
      {
       "output_type": "stream",
       "stream": "stdout",
       "text": [
        " 15672 Circle: 1046 ...\n",
        "Training Ego:"
       ]
      },
      {
       "output_type": "stream",
       "stream": "stdout",
       "text": [
        " 15672 Circle: 1047 ...\n",
        "Training Ego:"
       ]
      },
      {
       "output_type": "stream",
       "stream": "stdout",
       "text": [
        " 15672 Circle: 1048 ...\n",
        "Training Ego:"
       ]
      },
      {
       "output_type": "stream",
       "stream": "stdout",
       "text": [
        " 15672 Circle: 1049 ...\n",
        "Training Ego:"
       ]
      },
      {
       "output_type": "stream",
       "stream": "stdout",
       "text": [
        " 15672 Circle: 1050 ...\n",
        "Training Ego:"
       ]
      },
      {
       "output_type": "stream",
       "stream": "stdout",
       "text": [
        " 15672 Circle: 1051 ...\n",
        "Training Ego:"
       ]
      },
      {
       "output_type": "stream",
       "stream": "stdout",
       "text": [
        " 15672 Circle: 1052 ...\n",
        "Training Ego:"
       ]
      },
      {
       "output_type": "stream",
       "stream": "stdout",
       "text": [
        " 15672 Circle: 1053 ...\n",
        "Training Ego:"
       ]
      },
      {
       "output_type": "stream",
       "stream": "stdout",
       "text": [
        " 15672 Circle: 1055 ...\n",
        "Training Ego:"
       ]
      },
      {
       "output_type": "stream",
       "stream": "stdout",
       "text": [
        " 15672 Circle: 1058 ...\n",
        "Training Ego:"
       ]
      },
      {
       "output_type": "stream",
       "stream": "stdout",
       "text": [
        " 15672 Circle: 1061 ...\n",
        "Training Ego:"
       ]
      },
      {
       "output_type": "stream",
       "stream": "stdout",
       "text": [
        " 15672 Circle: 1062 ...\n",
        "Training Ego:"
       ]
      },
      {
       "output_type": "stream",
       "stream": "stdout",
       "text": [
        " 15672 Circle: 1067 ...\n",
        "Training Ego:"
       ]
      },
      {
       "output_type": "stream",
       "stream": "stdout",
       "text": [
        " 15672 Circle: 1068 ...\n",
        "Training Ego:"
       ]
      },
      {
       "output_type": "stream",
       "stream": "stdout",
       "text": [
        " 15672 Circle: 1072 ...\n",
        "Training Ego:"
       ]
      },
      {
       "output_type": "stream",
       "stream": "stdout",
       "text": [
        " 15672 Circle: 709 ...\n",
        "Training Ego:"
       ]
      },
      {
       "output_type": "stream",
       "stream": "stdout",
       "text": [
        " 15672 Circle: 13 ...\n",
        "Training Ego:"
       ]
      },
      {
       "output_type": "stream",
       "stream": "stdout",
       "text": [
        " 15672 Circle: 273 ...\n",
        "Training Ego:"
       ]
      },
      {
       "output_type": "stream",
       "stream": "stdout",
       "text": [
        " 16203 Circle: 1088 ...\n",
        "Training Ego:"
       ]
      },
      {
       "output_type": "stream",
       "stream": "stdout",
       "text": [
        " 16203 Circle: 703 ...\n",
        "Training Ego:"
       ]
      },
      {
       "output_type": "stream",
       "stream": "stdout",
       "text": [
        " 16203 Circle: 150 ...\n",
        "Training Ego:"
       ]
      },
      {
       "output_type": "stream",
       "stream": "stdout",
       "text": [
        " 16203 Circle: 1087 ...\n",
        "Training Ego:"
       ]
      },
      {
       "output_type": "stream",
       "stream": "stdout",
       "text": [
        " 16378 Circle: 1091 ...\n",
        "Training Ego:"
       ]
      },
      {
       "output_type": "stream",
       "stream": "stdout",
       "text": [
        " 16378 Circle: 1092 ...\n",
        "Training Ego:"
       ]
      },
      {
       "output_type": "stream",
       "stream": "stdout",
       "text": [
        " 16378 Circle: 1093 ...\n",
        "Training Ego:"
       ]
      },
      {
       "output_type": "stream",
       "stream": "stdout",
       "text": [
        " 16378 Circle: 1094 ...\n",
        "Training Ego:"
       ]
      },
      {
       "output_type": "stream",
       "stream": "stdout",
       "text": [
        " 16378 Circle: 1095 ...\n",
        "Training Ego:"
       ]
      },
      {
       "output_type": "stream",
       "stream": "stdout",
       "text": [
        " 16642 Circle: 1120 ...\n",
        "Training Ego:"
       ]
      },
      {
       "output_type": "stream",
       "stream": "stdout",
       "text": [
        " 16642 Circle: 194 ...\n",
        "Training Ego:"
       ]
      },
      {
       "output_type": "stream",
       "stream": "stdout",
       "text": [
        " 16642 Circle: 1123 ...\n",
        "Training Ego:"
       ]
      },
      {
       "output_type": "stream",
       "stream": "stdout",
       "text": [
        " 16642 Circle: 1099 ...\n",
        "Training Ego:"
       ]
      },
      {
       "output_type": "stream",
       "stream": "stdout",
       "text": [
        " 16642 Circle: 1101 ...\n",
        "Training Ego:"
       ]
      },
      {
       "output_type": "stream",
       "stream": "stdout",
       "text": [
        " 16642 Circle: 1113 ...\n",
        "Training Ego:"
       ]
      },
      {
       "output_type": "stream",
       "stream": "stdout",
       "text": [
        " 16642 Circle: 1105 ...\n",
        "Training Ego:"
       ]
      },
      {
       "output_type": "stream",
       "stream": "stdout",
       "text": [
        " 16642 Circle: 1106 ...\n",
        "Training Ego:"
       ]
      },
      {
       "output_type": "stream",
       "stream": "stdout",
       "text": [
        " 16642 Circle: 1109 ...\n",
        "Training Ego:"
       ]
      },
      {
       "output_type": "stream",
       "stream": "stdout",
       "text": [
        " 16642 Circle: 1110 ...\n",
        "Training Ego:"
       ]
      },
      {
       "output_type": "stream",
       "stream": "stdout",
       "text": [
        " 16642 Circle: 1111 ...\n",
        "Training Ego:"
       ]
      },
      {
       "output_type": "stream",
       "stream": "stdout",
       "text": [
        " 16642 Circle: 1112 ...\n",
        "Training Ego:"
       ]
      },
      {
       "output_type": "stream",
       "stream": "stdout",
       "text": [
        " 16642 Circle: 153 ...\n",
        "Training Ego:"
       ]
      },
      {
       "output_type": "stream",
       "stream": "stdout",
       "text": [
        " 16642 Circle: 1114 ...\n",
        "Training Ego:"
       ]
      },
      {
       "output_type": "stream",
       "stream": "stdout",
       "text": [
        " 16642 Circle: 1117 ...\n",
        "Training Ego:"
       ]
      },
      {
       "output_type": "stream",
       "stream": "stdout",
       "text": [
        " 16642 Circle: 62 ...\n",
        "Training Ego:"
       ]
      },
      {
       "output_type": "stream",
       "stream": "stdout",
       "text": [
        " 16642 Circle: 1119 ...\n",
        "Training Ego:"
       ]
      },
      {
       "output_type": "stream",
       "stream": "stdout",
       "text": [
        " 16869 Circle: 1152 ...\n",
        "Training Ego:"
       ]
      },
      {
       "output_type": "stream",
       "stream": "stdout",
       "text": [
        " 16869 Circle: 74 ...\n",
        "Training Ego:"
       ]
      },
      {
       "output_type": "stream",
       "stream": "stdout",
       "text": [
        " 16869 Circle: 1156 ...\n",
        "Training Ego:"
       ]
      },
      {
       "output_type": "stream",
       "stream": "stdout",
       "text": [
        " 16869 Circle: 10 ...\n",
        "Training Ego:"
       ]
      },
      {
       "output_type": "stream",
       "stream": "stdout",
       "text": [
        " 16869 Circle: 13 ...\n",
        "Training Ego:"
       ]
      },
      {
       "output_type": "stream",
       "stream": "stdout",
       "text": [
        " 17951 Circle: 1217 ...\n",
        "Training Ego:"
       ]
      },
      {
       "output_type": "stream",
       "stream": "stdout",
       "text": [
        " 17951 Circle: 1218 ...\n",
        "Training Ego:"
       ]
      },
      {
       "output_type": "stream",
       "stream": "stdout",
       "text": [
        " 17951 Circle: 1219 ...\n",
        "Training Ego:"
       ]
      },
      {
       "output_type": "stream",
       "stream": "stdout",
       "text": [
        " 17951 Circle: 708 ...\n",
        "Training Ego:"
       ]
      },
      {
       "output_type": "stream",
       "stream": "stdout",
       "text": [
        " 17951 Circle: 1221 ...\n",
        "Training Ego:"
       ]
      },
      {
       "output_type": "stream",
       "stream": "stdout",
       "text": [
        " 18005 Circle: 1224 ...\n",
        "Training Ego:"
       ]
      },
      {
       "output_type": "stream",
       "stream": "stdout",
       "text": [
        " 18005 Circle: 1222 ...\n",
        "Training Ego:"
       ]
      },
      {
       "output_type": "stream",
       "stream": "stdout",
       "text": [
        " 18005 Circle: 1223 ...\n",
        "Training Ego:"
       ]
      },
      {
       "output_type": "stream",
       "stream": "stdout",
       "text": [
        " 1839 Circle: 113 ...\n",
        "Training Ego:"
       ]
      },
      {
       "output_type": "stream",
       "stream": "stdout",
       "text": [
        " 1839 Circle: 114 ...\n",
        "Training Ego:"
       ]
      },
      {
       "output_type": "stream",
       "stream": "stdout",
       "text": [
        " 1839 Circle: 115 ...\n",
        "Training Ego:"
       ]
      },
      {
       "output_type": "stream",
       "stream": "stdout",
       "text": [
        " 1839 Circle: 116 ...\n",
        "Training Ego:"
       ]
      },
      {
       "output_type": "stream",
       "stream": "stdout",
       "text": [
        " 1839 Circle: 118 ...\n",
        "Training Ego:"
       ]
      },
      {
       "output_type": "stream",
       "stream": "stdout",
       "text": [
        " 1839 Circle: 119 ...\n",
        "Training Ego:"
       ]
      },
      {
       "output_type": "stream",
       "stream": "stdout",
       "text": [
        " 1839 Circle: 120 ...\n",
        "Training Ego:"
       ]
      },
      {
       "output_type": "stream",
       "stream": "stdout",
       "text": [
        " 1839 Circle: 84 ...\n",
        "Training Ego:"
       ]
      },
      {
       "output_type": "stream",
       "stream": "stdout",
       "text": [
        " 18543 Circle: 1232 ...\n",
        "Training Ego:"
       ]
      },
      {
       "output_type": "stream",
       "stream": "stdout",
       "text": [
        " 18543 Circle: 1236 ...\n",
        "Training Ego:"
       ]
      },
      {
       "output_type": "stream",
       "stream": "stdout",
       "text": [
        " 18543 Circle: 1234 ...\n",
        "Training Ego:"
       ]
      },
      {
       "output_type": "stream",
       "stream": "stdout",
       "text": [
        " 18543 Circle: 84 ...\n",
        "Training Ego:"
       ]
      },
      {
       "output_type": "stream",
       "stream": "stdout",
       "text": [
        " 18543 Circle: 18 ...\n",
        "Training Ego:"
       ]
      },
      {
       "output_type": "stream",
       "stream": "stdout",
       "text": [
        " 19129 Circle: 1256 ...\n",
        "Training Ego:"
       ]
      },
      {
       "output_type": "stream",
       "stream": "stdout",
       "text": [
        " 19129 Circle: 1257 ...\n",
        "Training Ego:"
       ]
      },
      {
       "output_type": "stream",
       "stream": "stdout",
       "text": [
        " 19129 Circle: 74 ...\n",
        "Training Ego:"
       ]
      },
      {
       "output_type": "stream",
       "stream": "stdout",
       "text": [
        " 19129 Circle: 92 ...\n",
        "Training Ego:"
       ]
      },
      {
       "output_type": "stream",
       "stream": "stdout",
       "text": [
        " 19129 Circle: 62 ...\n",
        "Training Ego:"
       ]
      },
      {
       "output_type": "stream",
       "stream": "stdout",
       "text": [
        " 1968 Circle: 131 ...\n",
        "Training Ego:"
       ]
      },
      {
       "output_type": "stream",
       "stream": "stdout",
       "text": [
        " 1968 Circle: 132 ...\n",
        "Training Ego:"
       ]
      },
      {
       "output_type": "stream",
       "stream": "stdout",
       "text": [
        " 1968 Circle: 133 ...\n",
        "Training Ego:"
       ]
      },
      {
       "output_type": "stream",
       "stream": "stdout",
       "text": [
        " 1968 Circle: 74 ...\n",
        "Training Ego:"
       ]
      },
      {
       "output_type": "stream",
       "stream": "stdout",
       "text": [
        " 1968 Circle: 13 ...\n",
        "Training Ego:"
       ]
      },
      {
       "output_type": "stream",
       "stream": "stdout",
       "text": [
        " 1968 Circle: 125 ...\n",
        "Training Ego:"
       ]
      },
      {
       "output_type": "stream",
       "stream": "stdout",
       "text": [
        " 1968 Circle: 18 ...\n",
        "Training Ego:"
       ]
      },
      {
       "output_type": "stream",
       "stream": "stdout",
       "text": [
        " 1968 Circle: 121 ...\n",
        "Training Ego:"
       ]
      },
      {
       "output_type": "stream",
       "stream": "stdout",
       "text": [
        " 1968 Circle: 122 ...\n",
        "Training Ego:"
       ]
      },
      {
       "output_type": "stream",
       "stream": "stdout",
       "text": [
        " 1968 Circle: 123 ...\n",
        "Training Ego:"
       ]
      },
      {
       "output_type": "stream",
       "stream": "stdout",
       "text": [
        " 1968 Circle: 92 ...\n",
        "Training Ego:"
       ]
      },
      {
       "output_type": "stream",
       "stream": "stdout",
       "text": [
        " 1968 Circle: 10 ...\n",
        "Training Ego:"
       ]
      },
      {
       "output_type": "stream",
       "stream": "stdout",
       "text": [
        " 1968 Circle: 126 ...\n",
        "Training Ego:"
       ]
      },
      {
       "output_type": "stream",
       "stream": "stdout",
       "text": [
        " 1968 Circle: 127 ...\n",
        "Training Ego:"
       ]
      },
      {
       "output_type": "stream",
       "stream": "stdout",
       "text": [
        " 19788 Circle: 1282 ...\n",
        "Training Ego:"
       ]
      },
      {
       "output_type": "stream",
       "stream": "stdout",
       "text": [
        " 19788 Circle: 1273 ...\n",
        "Training Ego:"
       ]
      },
      {
       "output_type": "stream",
       "stream": "stdout",
       "text": [
        " 19788 Circle: 10 ...\n",
        "Training Ego:"
       ]
      },
      {
       "output_type": "stream",
       "stream": "stdout",
       "text": [
        " 19788 Circle: 338 ...\n",
        "Training Ego:"
       ]
      },
      {
       "output_type": "stream",
       "stream": "stdout",
       "text": [
        " 19788 Circle: 13 ...\n",
        "Training Ego:"
       ]
      },
      {
       "output_type": "stream",
       "stream": "stdout",
       "text": [
        " 19788 Circle: 1070 ...\n",
        "Training Ego:"
       ]
      },
      {
       "output_type": "stream",
       "stream": "stdout",
       "text": [
        " 19788 Circle: 1265 ...\n",
        "Training Ego:"
       ]
      },
      {
       "output_type": "stream",
       "stream": "stdout",
       "text": [
        " 19788 Circle: 1266 ...\n",
        "Training Ego:"
       ]
      },
      {
       "output_type": "stream",
       "stream": "stdout",
       "text": [
        " 19788 Circle: 1268 ...\n",
        "Training Ego:"
       ]
      },
      {
       "output_type": "stream",
       "stream": "stdout",
       "text": [
        " 19788 Circle: 1269 ...\n",
        "Training Ego:"
       ]
      },
      {
       "output_type": "stream",
       "stream": "stdout",
       "text": [
        " 19788 Circle: 1270 ...\n",
        "Training Ego:"
       ]
      },
      {
       "output_type": "stream",
       "stream": "stdout",
       "text": [
        " 19788 Circle: 1271 ...\n",
        "Training Ego:"
       ]
      },
      {
       "output_type": "stream",
       "stream": "stdout",
       "text": [
        " 19788 Circle: 1017 ...\n",
        "Training Ego:"
       ]
      },
      {
       "output_type": "stream",
       "stream": "stdout",
       "text": [
        " 19788 Circle: 1274 ...\n",
        "Training Ego:"
       ]
      },
      {
       "output_type": "stream",
       "stream": "stdout",
       "text": [
        " 19788 Circle: 1275 ...\n",
        "Training Ego:"
       ]
      },
      {
       "output_type": "stream",
       "stream": "stdout",
       "text": [
        " 19788 Circle: 1277 ...\n",
        "Training Ego:"
       ]
      },
      {
       "output_type": "stream",
       "stream": "stdout",
       "text": [
        " 2255 Circle: 18 ...\n",
        "Training Ego:"
       ]
      },
      {
       "output_type": "stream",
       "stream": "stdout",
       "text": [
        " 2255 Circle: 148 ...\n",
        "Training Ego:"
       ]
      },
      {
       "output_type": "stream",
       "stream": "stdout",
       "text": [
        " 2255 Circle: 78 ...\n",
        "Training Ego:"
       ]
      },
      {
       "output_type": "stream",
       "stream": "stdout",
       "text": [
        " 22650 Circle: 36 ...\n",
        "Training Ego:"
       ]
      },
      {
       "output_type": "stream",
       "stream": "stdout",
       "text": [
        " 22650 Circle: 1381 ...\n",
        "Training Ego:"
       ]
      },
      {
       "output_type": "stream",
       "stream": "stdout",
       "text": [
        " 22650 Circle: 1383 ...\n",
        "Training Ego:"
       ]
      },
      {
       "output_type": "stream",
       "stream": "stdout",
       "text": [
        " 22650 Circle: 1384 ...\n",
        "Training Ego:"
       ]
      },
      {
       "output_type": "stream",
       "stream": "stdout",
       "text": [
        " 22650 Circle: 1385 ...\n",
        "Training Ego:"
       ]
      },
      {
       "output_type": "stream",
       "stream": "stdout",
       "text": [
        " 22650 Circle: 1388 ...\n",
        "Training Ego:"
       ]
      },
      {
       "output_type": "stream",
       "stream": "stdout",
       "text": [
        " 22650 Circle: 13 ...\n",
        "Training Ego:"
       ]
      },
      {
       "output_type": "stream",
       "stream": "stdout",
       "text": [
        " 22650 Circle: 15 ...\n",
        "Training Ego:"
       ]
      },
      {
       "output_type": "stream",
       "stream": "stdout",
       "text": [
        " 22650 Circle: 1389 ...\n",
        "Training Ego:"
       ]
      },
      {
       "output_type": "stream",
       "stream": "stdout",
       "text": [
        " 22650 Circle: 1380 ...\n",
        "Training Ego:"
       ]
      },
      {
       "output_type": "stream",
       "stream": "stdout",
       "text": [
        " 22650 Circle: 1391 ...\n",
        "Training Ego:"
       ]
      },
      {
       "output_type": "stream",
       "stream": "stdout",
       "text": [
        " 22650 Circle: 127 ...\n",
        "Training Ego:"
       ]
      },
      {
       "output_type": "stream",
       "stream": "stdout",
       "text": [
        " 22824 Circle: 74 ...\n",
        "Training Ego:"
       ]
      },
      {
       "output_type": "stream",
       "stream": "stdout",
       "text": [
        " 22824 Circle: 13 ...\n",
        "Training Ego:"
       ]
      },
      {
       "output_type": "stream",
       "stream": "stdout",
       "text": [
        " 22824 Circle: 15 ...\n",
        "Training Ego:"
       ]
      },
      {
       "output_type": "stream",
       "stream": "stdout",
       "text": [
        " 22824 Circle: 1392 ...\n",
        "Training Ego:"
       ]
      },
      {
       "output_type": "stream",
       "stream": "stdout",
       "text": [
        " 22824 Circle: 1394 ...\n",
        "Training Ego:"
       ]
      },
      {
       "output_type": "stream",
       "stream": "stdout",
       "text": [
        " 22824 Circle: 1396 ...\n",
        "Training Ego:"
       ]
      },
      {
       "output_type": "stream",
       "stream": "stdout",
       "text": [
        " 22824 Circle: 1398 ...\n",
        "Training Ego:"
       ]
      },
      {
       "output_type": "stream",
       "stream": "stdout",
       "text": [
        " 22824 Circle: 1399 ...\n",
        "Training Ego:"
       ]
      },
      {
       "output_type": "stream",
       "stream": "stdout",
       "text": [
        " 22824 Circle: 281 ...\n",
        "Training Ego:"
       ]
      },
      {
       "output_type": "stream",
       "stream": "stdout",
       "text": [
        " 22824 Circle: 538 ...\n",
        "Training Ego:"
       ]
      },
      {
       "output_type": "stream",
       "stream": "stdout",
       "text": [
        " 22824 Circle: 62 ...\n",
        "Training Ego:"
       ]
      },
      {
       "output_type": "stream",
       "stream": "stdout",
       "text": [
        " 23157 Circle: 416 ...\n",
        "Training Ego:"
       ]
      },
      {
       "output_type": "stream",
       "stream": "stdout",
       "text": [
        " 23157 Circle: 1409 ...\n",
        "Training Ego:"
       ]
      },
      {
       "output_type": "stream",
       "stream": "stdout",
       "text": [
        " 23157 Circle: 1411 ...\n",
        "Training Ego:"
       ]
      },
      {
       "output_type": "stream",
       "stream": "stdout",
       "text": [
        " 23157 Circle: 36 ...\n",
        "Training Ego:"
       ]
      },
      {
       "output_type": "stream",
       "stream": "stdout",
       "text": [
        " 23157 Circle: 39 ...\n",
        "Training Ego:"
       ]
      },
      {
       "output_type": "stream",
       "stream": "stdout",
       "text": [
        " 23157 Circle: 10 ...\n",
        "Training Ego:"
       ]
      },
      {
       "output_type": "stream",
       "stream": "stdout",
       "text": [
        " 23157 Circle: 363 ...\n",
        "Training Ego:"
       ]
      },
      {
       "output_type": "stream",
       "stream": "stdout",
       "text": [
        " 23157 Circle: 13 ...\n",
        "Training Ego:"
       ]
      },
      {
       "output_type": "stream",
       "stream": "stdout",
       "text": [
        " 23157 Circle: 110 ...\n",
        "Training Ego:"
       ]
      },
      {
       "output_type": "stream",
       "stream": "stdout",
       "text": [
        " 23157 Circle: 1408 ...\n",
        "Training Ego:"
       ]
      },
      {
       "output_type": "stream",
       "stream": "stdout",
       "text": [
        " 23157 Circle: 1415 ...\n",
        "Training Ego:"
       ]
      },
      {
       "output_type": "stream",
       "stream": "stdout",
       "text": [
        " 23157 Circle: 1404 ...\n",
        "Training Ego:"
       ]
      },
      {
       "output_type": "stream",
       "stream": "stdout",
       "text": [
        " 23157 Circle: 1405 ...\n",
        "Training Ego:"
       ]
      },
      {
       "output_type": "stream",
       "stream": "stdout",
       "text": [
        " 23157 Circle: 1406 ...\n",
        "Training Ego:"
       ]
      },
      {
       "output_type": "stream",
       "stream": "stdout",
       "text": [
        " 23157 Circle: 1407 ...\n",
        "Training Ego:"
       ]
      },
      {
       "output_type": "stream",
       "stream": "stdout",
       "text": [
        " 23299 Circle: 731 ...\n",
        "Training Ego:"
       ]
      },
      {
       "output_type": "stream",
       "stream": "stdout",
       "text": [
        " 23299 Circle: 1319 ...\n",
        "Training Ego:"
       ]
      },
      {
       "output_type": "stream",
       "stream": "stdout",
       "text": [
        " 23299 Circle: 1417 ...\n",
        "Training Ego:"
       ]
      },
      {
       "output_type": "stream",
       "stream": "stdout",
       "text": [
        " 23299 Circle: 1418 ...\n",
        "Training Ego:"
       ]
      },
      {
       "output_type": "stream",
       "stream": "stdout",
       "text": [
        " 23299 Circle: 1419 ...\n",
        "Training Ego:"
       ]
      },
      {
       "output_type": "stream",
       "stream": "stdout",
       "text": [
        " 23299 Circle: 1420 ...\n",
        "Training Ego:"
       ]
      },
      {
       "output_type": "stream",
       "stream": "stdout",
       "text": [
        " 23299 Circle: 1421 ...\n",
        "Training Ego:"
       ]
      },
      {
       "output_type": "stream",
       "stream": "stdout",
       "text": [
        " 23299 Circle: 1422 ...\n",
        "Training Ego:"
       ]
      },
      {
       "output_type": "stream",
       "stream": "stdout",
       "text": [
        " 23299 Circle: 13 ...\n",
        "Training Ego:"
       ]
      },
      {
       "output_type": "stream",
       "stream": "stdout",
       "text": [
        " 23299 Circle: 1424 ...\n",
        "Training Ego:"
       ]
      },
      {
       "output_type": "stream",
       "stream": "stdout",
       "text": [
        " 23299 Circle: 205 ...\n",
        "Training Ego:"
       ]
      },
      {
       "output_type": "stream",
       "stream": "stdout",
       "text": [
        " 23299 Circle: 403 ...\n",
        "Training Ego:"
       ]
      },
      {
       "output_type": "stream",
       "stream": "stdout",
       "text": [
        " 23299 Circle: 281 ...\n",
        "Training Ego:"
       ]
      },
      {
       "output_type": "stream",
       "stream": "stdout",
       "text": [
        " 23299 Circle: 1423 ...\n",
        "Training Ego:"
       ]
      },
      {
       "output_type": "stream",
       "stream": "stdout",
       "text": [
        " 23299 Circle: 62 ...\n",
        "Training Ego:"
       ]
      },
      {
       "output_type": "stream",
       "stream": "stdout",
       "text": [
        " 2365 Circle: 160 ...\n",
        "Training Ego:"
       ]
      },
      {
       "output_type": "stream",
       "stream": "stdout",
       "text": [
        " 2365 Circle: 161 ...\n",
        "Training Ego:"
       ]
      },
      {
       "output_type": "stream",
       "stream": "stdout",
       "text": [
        " 2365 Circle: 162 ...\n",
        "Training Ego:"
       ]
      },
      {
       "output_type": "stream",
       "stream": "stdout",
       "text": [
        " 2365 Circle: 163 ...\n",
        "Training Ego:"
       ]
      },
      {
       "output_type": "stream",
       "stream": "stdout",
       "text": [
        " 2365 Circle: 164 ...\n",
        "Training Ego:"
       ]
      },
      {
       "output_type": "stream",
       "stream": "stdout",
       "text": [
        " 2365 Circle: 13 ...\n",
        "Training Ego:"
       ]
      },
      {
       "output_type": "stream",
       "stream": "stdout",
       "text": [
        " 2365 Circle: 154 ...\n",
        "Training Ego:"
       ]
      },
      {
       "output_type": "stream",
       "stream": "stdout",
       "text": [
        " 2365 Circle: 155 ...\n",
        "Training Ego:"
       ]
      },
      {
       "output_type": "stream",
       "stream": "stdout",
       "text": [
        " 2365 Circle: 156 ...\n",
        "Training Ego:"
       ]
      },
      {
       "output_type": "stream",
       "stream": "stdout",
       "text": [
        " 2365 Circle: 159 ...\n",
        "Training Ego:"
       ]
      },
      {
       "output_type": "stream",
       "stream": "stdout",
       "text": [
        " 239 Circle: 16 ...\n",
        "Training Ego:"
       ]
      },
      {
       "output_type": "stream",
       "stream": "stdout",
       "text": [
        " 239 Circle: 17 ...\n",
        "Training Ego:"
       ]
      },
      {
       "output_type": "stream",
       "stream": "stdout",
       "text": [
        " 239 Circle: 18 ...\n",
        "Training Ego:"
       ]
      },
      {
       "output_type": "stream",
       "stream": "stdout",
       "text": [
        " 239 Circle: 19 ...\n",
        "Training Ego:"
       ]
      },
      {
       "output_type": "stream",
       "stream": "stdout",
       "text": [
        " 24758 Circle: 1447 ...\n",
        "Training Ego:"
       ]
      },
      {
       "output_type": "stream",
       "stream": "stdout",
       "text": [
        " 24758 Circle: 1443 ...\n",
        "Training Ego:"
       ]
      },
      {
       "output_type": "stream",
       "stream": "stdout",
       "text": [
        " 24758 Circle: 1444 ...\n",
        "Training Ego:"
       ]
      },
      {
       "output_type": "stream",
       "stream": "stdout",
       "text": [
        " 24758 Circle: 13 ...\n",
        "Training Ego:"
       ]
      },
      {
       "output_type": "stream",
       "stream": "stdout",
       "text": [
        " 24758 Circle: 1445 ...\n",
        "Training Ego:"
       ]
      },
      {
       "output_type": "stream",
       "stream": "stdout",
       "text": [
        " 24857 Circle: 1473 ...\n",
        "Training Ego:"
       ]
      },
      {
       "output_type": "stream",
       "stream": "stdout",
       "text": [
        " 24857 Circle: 45 ...\n",
        "Training Ego:"
       ]
      },
      {
       "output_type": "stream",
       "stream": "stdout",
       "text": [
        " 24857 Circle: 78 ...\n",
        "Training Ego:"
       ]
      },
      {
       "output_type": "stream",
       "stream": "stdout",
       "text": [
        " 24857 Circle: 1464 ...\n",
        "Training Ego:"
       ]
      },
      {
       "output_type": "stream",
       "stream": "stdout",
       "text": [
        " 24857 Circle: 1465 ...\n",
        "Training Ego:"
       ]
      },
      {
       "output_type": "stream",
       "stream": "stdout",
       "text": [
        " 24857 Circle: 1467 ...\n",
        "Training Ego:"
       ]
      },
      {
       "output_type": "stream",
       "stream": "stdout",
       "text": [
        " 24857 Circle: 1468 ...\n",
        "Training Ego:"
       ]
      },
      {
       "output_type": "stream",
       "stream": "stdout",
       "text": [
        " 24857 Circle: 1470 ...\n",
        "Training Ego:"
       ]
      },
      {
       "output_type": "stream",
       "stream": "stdout",
       "text": [
        " 25159 Circle: 900 ...\n",
        "Training Ego:"
       ]
      },
      {
       "output_type": "stream",
       "stream": "stdout",
       "text": [
        " 25159 Circle: 1478 ...\n",
        "Training Ego:"
       ]
      },
      {
       "output_type": "stream",
       "stream": "stdout",
       "text": [
        " 25159 Circle: 1480 ...\n",
        "Training Ego:"
       ]
      },
      {
       "output_type": "stream",
       "stream": "stdout",
       "text": [
        " 25159 Circle: 1481 ...\n",
        "Training Ego:"
       ]
      },
      {
       "output_type": "stream",
       "stream": "stdout",
       "text": [
        " 25159 Circle: 1482 ...\n",
        "Training Ego:"
       ]
      },
      {
       "output_type": "stream",
       "stream": "stdout",
       "text": [
        " 25159 Circle: 1483 ...\n",
        "Training Ego:"
       ]
      },
      {
       "output_type": "stream",
       "stream": "stdout",
       "text": [
        " 25159 Circle: 1484 ...\n",
        "Training Ego:"
       ]
      },
      {
       "output_type": "stream",
       "stream": "stdout",
       "text": [
        " 25159 Circle: 110 ...\n",
        "Training Ego:"
       ]
      },
      {
       "output_type": "stream",
       "stream": "stdout",
       "text": [
        " 25159 Circle: 18 ...\n",
        "Training Ego:"
       ]
      },
      {
       "output_type": "stream",
       "stream": "stdout",
       "text": [
        " 25159 Circle: 78 ...\n",
        "Training Ego:"
       ]
      },
      {
       "output_type": "stream",
       "stream": "stdout",
       "text": [
        " 25159 Circle: 62 ...\n",
        "Training Ego:"
       ]
      },
      {
       "output_type": "stream",
       "stream": "stdout",
       "text": [
        " 25159 Circle: 25 ...\n",
        "Training Ego:"
       ]
      },
      {
       "output_type": "stream",
       "stream": "stdout",
       "text": [
        " 25159 Circle: 74 ...\n",
        "Training Ego:"
       ]
      },
      {
       "output_type": "stream",
       "stream": "stdout",
       "text": [
        " 25159 Circle: 190 ...\n",
        "Training Ego:"
       ]
      },
      {
       "output_type": "stream",
       "stream": "stdout",
       "text": [
        " 25568 Circle: 1505 ...\n",
        "Training Ego:"
       ]
      },
      {
       "output_type": "stream",
       "stream": "stdout",
       "text": [
        " 25568 Circle: 1507 ...\n",
        "Training Ego:"
       ]
      },
      {
       "output_type": "stream",
       "stream": "stdout",
       "text": [
        " 25568 Circle: 1508 ...\n",
        "Training Ego:"
       ]
      },
      {
       "output_type": "stream",
       "stream": "stdout",
       "text": [
        " 25568 Circle: 1509 ...\n",
        "Training Ego:"
       ]
      },
      {
       "output_type": "stream",
       "stream": "stdout",
       "text": [
        " 25568 Circle: 18 ...\n",
        "Training Ego:"
       ]
      },
      {
       "output_type": "stream",
       "stream": "stdout",
       "text": [
        " 25568 Circle: 84 ...\n",
        "Training Ego:"
       ]
      },
      {
       "output_type": "stream",
       "stream": "stdout",
       "text": [
        " 25568 Circle: 25 ...\n",
        "Training Ego:"
       ]
      },
      {
       "output_type": "stream",
       "stream": "stdout",
       "text": [
        " 25568 Circle: 410 ...\n",
        "Training Ego:"
       ]
      },
      {
       "output_type": "stream",
       "stream": "stdout",
       "text": [
        " 25568 Circle: 1503 ...\n",
        "Training Ego:"
       ]
      },
      {
       "output_type": "stream",
       "stream": "stdout",
       "text": [
        " 25568 Circle: 1501 ...\n",
        "Training Ego:"
       ]
      },
      {
       "output_type": "stream",
       "stream": "stdout",
       "text": [
        " 25568 Circle: 1502 ...\n",
        "Training Ego:"
       ]
      },
      {
       "output_type": "stream",
       "stream": "stdout",
       "text": [
        " 25568 Circle: 421 ...\n",
        "Training Ego:"
       ]
      },
      {
       "output_type": "stream",
       "stream": "stdout",
       "text": [
        " 25773 Circle: 1526 ...\n",
        "Training Ego:"
       ]
      },
      {
       "output_type": "stream",
       "stream": "stdout",
       "text": [
        " 25773 Circle: 198 ...\n",
        "Training Ego:"
       ]
      },
      {
       "output_type": "stream",
       "stream": "stdout",
       "text": [
        " 25773 Circle: 10 ...\n",
        "Training Ego:"
       ]
      },
      {
       "output_type": "stream",
       "stream": "stdout",
       "text": [
        " 25773 Circle: 76 ...\n",
        "Training Ego:"
       ]
      },
      {
       "output_type": "stream",
       "stream": "stdout",
       "text": [
        " 25773 Circle: 13 ...\n",
        "Training Ego:"
       ]
      },
      {
       "output_type": "stream",
       "stream": "stdout",
       "text": [
        " 25773 Circle: 273 ...\n",
        "Training Ego:"
       ]
      },
      {
       "output_type": "stream",
       "stream": "stdout",
       "text": [
        " 25773 Circle: 1524 ...\n",
        "Training Ego:"
       ]
      },
      {
       "output_type": "stream",
       "stream": "stdout",
       "text": [
        " 25773 Circle: 1525 ...\n",
        "Training Ego:"
       ]
      },
      {
       "output_type": "stream",
       "stream": "stdout",
       "text": [
        " 25773 Circle: 182 ...\n",
        "Training Ego:"
       ]
      },
      {
       "output_type": "stream",
       "stream": "stdout",
       "text": [
        " 25773 Circle: 1528 ...\n",
        "Training Ego:"
       ]
      },
      {
       "output_type": "stream",
       "stream": "stdout",
       "text": [
        " 25773 Circle: 281 ...\n",
        "Training Ego:"
       ]
      },
      {
       "output_type": "stream",
       "stream": "stdout",
       "text": [
        " 26321 Circle: 963 ...\n",
        "Training Ego:"
       ]
      },
      {
       "output_type": "stream",
       "stream": "stdout",
       "text": [
        " 26321 Circle: 10 ...\n",
        "Training Ego:"
       ]
      },
      {
       "output_type": "stream",
       "stream": "stdout",
       "text": [
        " 26321 Circle: 13 ...\n",
        "Training Ego:"
       ]
      },
      {
       "output_type": "stream",
       "stream": "stdout",
       "text": [
        " 26321 Circle: 1549 ...\n",
        "Training Ego:"
       ]
      },
      {
       "output_type": "stream",
       "stream": "stdout",
       "text": [
        " 26321 Circle: 18 ...\n",
        "Training Ego:"
       ]
      },
      {
       "output_type": "stream",
       "stream": "stdout",
       "text": [
        " 26321 Circle: 74 ...\n",
        "Training Ego:"
       ]
      },
      {
       "output_type": "stream",
       "stream": "stdout",
       "text": [
        " 26492 Circle: 897 ...\n",
        "Training Ego:"
       ]
      },
      {
       "output_type": "stream",
       "stream": "stdout",
       "text": [
        " 26492 Circle: 324 ...\n",
        "Training Ego:"
       ]
      },
      {
       "output_type": "stream",
       "stream": "stdout",
       "text": [
        " 26492 Circle: 179 ...\n",
        "Training Ego:"
       ]
      },
      {
       "output_type": "stream",
       "stream": "stdout",
       "text": [
        " 26492 Circle: 328 ...\n",
        "Training Ego:"
       ]
      },
      {
       "output_type": "stream",
       "stream": "stdout",
       "text": [
        " 26492 Circle: 74 ...\n",
        "Training Ego:"
       ]
      },
      {
       "output_type": "stream",
       "stream": "stdout",
       "text": [
        " 26492 Circle: 13 ...\n",
        "Training Ego:"
       ]
      },
      {
       "output_type": "stream",
       "stream": "stdout",
       "text": [
        " 26492 Circle: 1550 ...\n",
        "Training Ego:"
       ]
      },
      {
       "output_type": "stream",
       "stream": "stdout",
       "text": [
        " 26492 Circle: 1551 ...\n",
        "Training Ego:"
       ]
      },
      {
       "output_type": "stream",
       "stream": "stdout",
       "text": [
        " 26492 Circle: 1553 ...\n",
        "Training Ego:"
       ]
      },
      {
       "output_type": "stream",
       "stream": "stdout",
       "text": [
        " 26492 Circle: 18 ...\n",
        "Training Ego:"
       ]
      },
      {
       "output_type": "stream",
       "stream": "stdout",
       "text": [
        " 26492 Circle: 1555 ...\n",
        "Training Ego:"
       ]
      },
      {
       "output_type": "stream",
       "stream": "stdout",
       "text": [
        " 26492 Circle: 1556 ...\n",
        "Training Ego:"
       ]
      },
      {
       "output_type": "stream",
       "stream": "stdout",
       "text": [
        " 26492 Circle: 1558 ...\n",
        "Training Ego:"
       ]
      },
      {
       "output_type": "stream",
       "stream": "stdout",
       "text": [
        " 26492 Circle: 540 ...\n",
        "Training Ego:"
       ]
      },
      {
       "output_type": "stream",
       "stream": "stdout",
       "text": [
        " 26492 Circle: 62 ...\n",
        "Training Ego:"
       ]
      },
      {
       "output_type": "stream",
       "stream": "stdout",
       "text": [
        " 26492 Circle: 319 ...\n",
        "Training Ego:"
       ]
      },
      {
       "output_type": "stream",
       "stream": "stdout",
       "text": [
        " 27022 Circle: 538 ...\n",
        "Training Ego:"
       ]
      },
      {
       "output_type": "stream",
       "stream": "stdout",
       "text": [
        " 27022 Circle: 1581 ...\n",
        "Training Ego:"
       ]
      },
      {
       "output_type": "stream",
       "stream": "stdout",
       "text": [
        " 27022 Circle: 1580 ...\n",
        "Training Ego:"
       ]
      },
      {
       "output_type": "stream",
       "stream": "stdout",
       "text": [
        " 27022 Circle: 421 ...\n",
        "Training Ego:"
       ]
      },
      {
       "output_type": "stream",
       "stream": "stdout",
       "text": [
        " 27022 Circle: 1583 ...\n",
        "Training Ego:"
       ]
      },
      {
       "output_type": "stream",
       "stream": "stdout",
       "text": [
        " 2738 Circle: 224 ...\n",
        "Training Ego:"
       ]
      },
      {
       "output_type": "stream",
       "stream": "stdout",
       "text": [
        " 2738 Circle: 225 ...\n",
        "Training Ego:"
       ]
      },
      {
       "output_type": "stream",
       "stream": "stdout",
       "text": [
        " 2738 Circle: 227 ...\n",
        "Training Ego:"
       ]
      },
      {
       "output_type": "stream",
       "stream": "stdout",
       "text": [
        " 2738 Circle: 230 ...\n",
        "Training Ego:"
       ]
      },
      {
       "output_type": "stream",
       "stream": "stdout",
       "text": [
        " 2790 Circle: 257 ...\n",
        "Training Ego:"
       ]
      },
      {
       "output_type": "stream",
       "stream": "stdout",
       "text": [
        " 2790 Circle: 258 ...\n",
        "Training Ego:"
       ]
      },
      {
       "output_type": "stream",
       "stream": "stdout",
       "text": [
        " 2790 Circle: 259 ...\n",
        "Training Ego:"
       ]
      },
      {
       "output_type": "stream",
       "stream": "stdout",
       "text": [
        " 2790 Circle: 261 ...\n",
        "Training Ego:"
       ]
      },
      {
       "output_type": "stream",
       "stream": "stdout",
       "text": [
        " 2790 Circle: 268 ...\n",
        "Training Ego:"
       ]
      },
      {
       "output_type": "stream",
       "stream": "stdout",
       "text": [
        " 2790 Circle: 253 ...\n",
        "Training Ego:"
       ]
      },
      {
       "output_type": "stream",
       "stream": "stdout",
       "text": [
        " 2790 Circle: 254 ...\n",
        "Training Ego:"
       ]
      },
      {
       "output_type": "stream",
       "stream": "stdout",
       "text": [
        " 2790 Circle: 255 ...\n",
        "Training Ego:"
       ]
      },
      {
       "output_type": "stream",
       "stream": "stdout",
       "text": [
        " 2895 Circle: 276 ...\n",
        "Training Ego:"
       ]
      },
      {
       "output_type": "stream",
       "stream": "stdout",
       "text": [
        " 2895 Circle: 10 ...\n",
        "Training Ego:"
       ]
      },
      {
       "output_type": "stream",
       "stream": "stdout",
       "text": [
        " 2895 Circle: 84 ...\n",
        "Training Ego:"
       ]
      },
      {
       "output_type": "stream",
       "stream": "stdout",
       "text": [
        " 2895 Circle: 18 ...\n",
        "Training Ego:"
       ]
      },
      {
       "output_type": "stream",
       "stream": "stdout",
       "text": [
        " 2895 Circle: 278 ...\n",
        "Training Ego:"
       ]
      },
      {
       "output_type": "stream",
       "stream": "stdout",
       "text": [
        " 3059 Circle: 300 ...\n",
        "Training Ego:"
       ]
      },
      {
       "output_type": "stream",
       "stream": "stdout",
       "text": [
        " 3059 Circle: 301 ...\n",
        "Training Ego:"
       ]
      },
      {
       "output_type": "stream",
       "stream": "stdout",
       "text": [
        " 3059 Circle: 302 ...\n",
        "Training Ego:"
       ]
      },
      {
       "output_type": "stream",
       "stream": "stdout",
       "text": [
        " 3059 Circle: 303 ...\n",
        "Training Ego:"
       ]
      },
      {
       "output_type": "stream",
       "stream": "stdout",
       "text": [
        " 3059 Circle: 304 ...\n",
        "Training Ego:"
       ]
      },
      {
       "output_type": "stream",
       "stream": "stdout",
       "text": [
        " 3059 Circle: 305 ...\n",
        "Training Ego:"
       ]
      },
      {
       "output_type": "stream",
       "stream": "stdout",
       "text": [
        " 3059 Circle: 306 ...\n",
        "Training Ego:"
       ]
      },
      {
       "output_type": "stream",
       "stream": "stdout",
       "text": [
        " 3059 Circle: 307 ...\n",
        "Training Ego:"
       ]
      },
      {
       "output_type": "stream",
       "stream": "stdout",
       "text": [
        " 3059 Circle: 148 ...\n",
        "Training Ego:"
       ]
      },
      {
       "output_type": "stream",
       "stream": "stdout",
       "text": [
        " 3059 Circle: 309 ...\n",
        "Training Ego:"
       ]
      },
      {
       "output_type": "stream",
       "stream": "stdout",
       "text": [
        " 3059 Circle: 310 ...\n",
        "Training Ego:"
       ]
      },
      {
       "output_type": "stream",
       "stream": "stdout",
       "text": [
        " 3059 Circle: 311 ...\n",
        "Training Ego:"
       ]
      },
      {
       "output_type": "stream",
       "stream": "stdout",
       "text": [
        " 3059 Circle: 312 ...\n",
        "Training Ego:"
       ]
      },
      {
       "output_type": "stream",
       "stream": "stdout",
       "text": [
        " 3059 Circle: 308 ...\n",
        "Training Ego:"
       ]
      },
      {
       "output_type": "stream",
       "stream": "stdout",
       "text": [
        " 3059 Circle: 316 ...\n",
        "Training Ego:"
       ]
      },
      {
       "output_type": "stream",
       "stream": "stdout",
       "text": [
        " 345 Circle: 20 ...\n",
        "Training Ego:"
       ]
      },
      {
       "output_type": "stream",
       "stream": "stdout",
       "text": [
        " 345 Circle: 22 ...\n",
        "Training Ego:"
       ]
      },
      {
       "output_type": "stream",
       "stream": "stdout",
       "text": [
        " 345 Circle: 24 ...\n",
        "Training Ego:"
       ]
      },
      {
       "output_type": "stream",
       "stream": "stdout",
       "text": [
        " 345 Circle: 26 ...\n",
        "Training Ego:"
       ]
      },
      {
       "output_type": "stream",
       "stream": "stdout",
       "text": [
        " 345 Circle: 27 ...\n",
        "Training Ego:"
       ]
      },
      {
       "output_type": "stream",
       "stream": "stdout",
       "text": [
        " 345 Circle: 28 ...\n",
        "Training Ego:"
       ]
      },
      {
       "output_type": "stream",
       "stream": "stdout",
       "text": [
        " 345 Circle: 29 ...\n",
        "Training Ego:"
       ]
      },
      {
       "output_type": "stream",
       "stream": "stdout",
       "text": [
        " 3735 Circle: 363 ...\n",
        "Training Ego:"
       ]
      },
      {
       "output_type": "stream",
       "stream": "stdout",
       "text": [
        " 3735 Circle: 388 ...\n",
        "Training Ego:"
       ]
      },
      {
       "output_type": "stream",
       "stream": "stdout",
       "text": [
        " 3735 Circle: 39 ...\n",
        "Training Ego:"
       ]
      },
      {
       "output_type": "stream",
       "stream": "stdout",
       "text": [
        " 3735 Circle: 104 ...\n",
        "Training Ego:"
       ]
      },
      {
       "output_type": "stream",
       "stream": "stdout",
       "text": [
        " 3735 Circle: 205 ...\n",
        "Training Ego:"
       ]
      },
      {
       "output_type": "stream",
       "stream": "stdout",
       "text": [
        " 3735 Circle: 362 ...\n",
        "Training Ego:"
       ]
      },
      {
       "output_type": "stream",
       "stream": "stdout",
       "text": [
        " 3735 Circle: 203 ...\n",
        "Training Ego:"
       ]
      },
      {
       "output_type": "stream",
       "stream": "stdout",
       "text": [
        " 3735 Circle: 13 ...\n",
        "Training Ego:"
       ]
      },
      {
       "output_type": "stream",
       "stream": "stdout",
       "text": [
        " 3735 Circle: 365 ...\n",
        "Training Ego:"
       ]
      },
      {
       "output_type": "stream",
       "stream": "stdout",
       "text": [
        " 3735 Circle: 216 ...\n",
        "Training Ego:"
       ]
      },
      {
       "output_type": "stream",
       "stream": "stdout",
       "text": [
        " 3735 Circle: 370 ...\n",
        "Training Ego:"
       ]
      },
      {
       "output_type": "stream",
       "stream": "stdout",
       "text": [
        " 3735 Circle: 371 ...\n",
        "Training Ego:"
       ]
      },
      {
       "output_type": "stream",
       "stream": "stdout",
       "text": [
        " 3735 Circle: 84 ...\n",
        "Training Ego:"
       ]
      },
      {
       "output_type": "stream",
       "stream": "stdout",
       "text": [
        " 3735 Circle: 373 ...\n",
        "Training Ego:"
       ]
      },
      {
       "output_type": "stream",
       "stream": "stdout",
       "text": [
        " 3735 Circle: 374 ...\n",
        "Training Ego:"
       ]
      },
      {
       "output_type": "stream",
       "stream": "stdout",
       "text": [
        " 3735 Circle: 376 ...\n",
        "Training Ego:"
       ]
      },
      {
       "output_type": "stream",
       "stream": "stdout",
       "text": [
        " 3735 Circle: 62 ...\n",
        "Training Ego:"
       ]
      },
      {
       "output_type": "stream",
       "stream": "stdout",
       "text": [
        " 3735 Circle: 378 ...\n",
        "Training Ego:"
       ]
      },
      {
       "output_type": "stream",
       "stream": "stdout",
       "text": [
        " 3735 Circle: 367 ...\n",
        "Training Ego:"
       ]
      },
      {
       "output_type": "stream",
       "stream": "stdout",
       "text": [
        " 3735 Circle: 74 ...\n",
        "Training Ego:"
       ]
      },
      {
       "output_type": "stream",
       "stream": "stdout",
       "text": [
        " 3735 Circle: 382 ...\n",
        "Training Ego:"
       ]
      },
      {
       "output_type": "stream",
       "stream": "stdout",
       "text": [
        " 4406 Circle: 10 ...\n",
        "Training Ego:"
       ]
      },
      {
       "output_type": "stream",
       "stream": "stdout",
       "text": [
        " 4406 Circle: 395 ...\n",
        "Training Ego:"
       ]
      },
      {
       "output_type": "stream",
       "stream": "stdout",
       "text": [
        " 4406 Circle: 396 ...\n",
        "Training Ego:"
       ]
      },
      {
       "output_type": "stream",
       "stream": "stdout",
       "text": [
        " 4406 Circle: 13 ...\n",
        "Training Ego:"
       ]
      },
      {
       "output_type": "stream",
       "stream": "stdout",
       "text": [
        " 4406 Circle: 398 ...\n",
        "Training Ego:"
       ]
      },
      {
       "output_type": "stream",
       "stream": "stdout",
       "text": [
        " 4406 Circle: 400 ...\n",
        "Training Ego:"
       ]
      },
      {
       "output_type": "stream",
       "stream": "stdout",
       "text": [
        " 4406 Circle: 401 ...\n",
        "Training Ego:"
       ]
      },
      {
       "output_type": "stream",
       "stream": "stdout",
       "text": [
        " 4406 Circle: 402 ...\n",
        "Training Ego:"
       ]
      },
      {
       "output_type": "stream",
       "stream": "stdout",
       "text": [
        " 4406 Circle: 403 ...\n",
        "Training Ego:"
       ]
      },
      {
       "output_type": "stream",
       "stream": "stdout",
       "text": [
        " 4406 Circle: 404 ...\n",
        "Training Ego:"
       ]
      },
      {
       "output_type": "stream",
       "stream": "stdout",
       "text": [
        " 4406 Circle: 405 ...\n",
        "Training Ego:"
       ]
      },
      {
       "output_type": "stream",
       "stream": "stdout",
       "text": [
        " 4406 Circle: 407 ...\n",
        "Training Ego:"
       ]
      },
      {
       "output_type": "stream",
       "stream": "stdout",
       "text": [
        " 4406 Circle: 408 ...\n",
        "Training Ego:"
       ]
      },
      {
       "output_type": "stream",
       "stream": "stdout",
       "text": [
        " 4406 Circle: 25 ...\n",
        "Training Ego:"
       ]
      },
      {
       "output_type": "stream",
       "stream": "stdout",
       "text": [
        " 4406 Circle: 282 ...\n",
        "Training Ego:"
       ]
      },
      {
       "output_type": "stream",
       "stream": "stdout",
       "text": [
        " 4406 Circle: 414 ...\n",
        "Training Ego:"
       ]
      },
      {
       "output_type": "stream",
       "stream": "stdout",
       "text": [
        " 4406 Circle: 419 ...\n",
        "Training Ego:"
       ]
      },
      {
       "output_type": "stream",
       "stream": "stdout",
       "text": [
        " 4406 Circle: 420 ...\n",
        "Training Ego:"
       ]
      },
      {
       "output_type": "stream",
       "stream": "stdout",
       "text": [
        " 4406 Circle: 39 ...\n",
        "Training Ego:"
       ]
      },
      {
       "output_type": "stream",
       "stream": "stdout",
       "text": [
        " 4406 Circle: 424 ...\n",
        "Training Ego:"
       ]
      },
      {
       "output_type": "stream",
       "stream": "stdout",
       "text": [
        " 4406 Circle: 438 ...\n",
        "Training Ego:"
       ]
      },
      {
       "output_type": "stream",
       "stream": "stdout",
       "text": [
        " 4406 Circle: 443 ...\n",
        "Training Ego:"
       ]
      },
      {
       "output_type": "stream",
       "stream": "stdout",
       "text": [
        " 4406 Circle: 444 ...\n",
        "Training Ego:"
       ]
      },
      {
       "output_type": "stream",
       "stream": "stdout",
       "text": [
        " 4406 Circle: 449 ...\n",
        "Training Ego:"
       ]
      },
      {
       "output_type": "stream",
       "stream": "stdout",
       "text": [
        " 4406 Circle: 464 ...\n",
        "Training Ego:"
       ]
      },
      {
       "output_type": "stream",
       "stream": "stdout",
       "text": [
        " 4406 Circle: 486 ...\n",
        "Training Ego:"
       ]
      },
      {
       "output_type": "stream",
       "stream": "stdout",
       "text": [
        " 4406 Circle: 18 ...\n",
        "Training Ego:"
       ]
      },
      {
       "output_type": "stream",
       "stream": "stdout",
       "text": [
        " 4406 Circle: 377 ...\n",
        "Training Ego:"
       ]
      },
      {
       "output_type": "stream",
       "stream": "stdout",
       "text": [
        " 4829 Circle: 320 ...\n",
        "Training Ego:"
       ]
      },
      {
       "output_type": "stream",
       "stream": "stdout",
       "text": [
        " 4829 Circle: 13 ...\n",
        "Training Ego:"
       ]
      },
      {
       "output_type": "stream",
       "stream": "stdout",
       "text": [
        " 4829 Circle: 301 ...\n",
        "Training Ego:"
       ]
      },
      {
       "output_type": "stream",
       "stream": "stdout",
       "text": [
        " 4829 Circle: 503 ...\n",
        "Training Ego:"
       ]
      },
      {
       "output_type": "stream",
       "stream": "stdout",
       "text": [
        " 4829 Circle: 504 ...\n",
        "Training Ego:"
       ]
      },
      {
       "output_type": "stream",
       "stream": "stdout",
       "text": [
        " 4829 Circle: 505 ...\n",
        "Training Ego:"
       ]
      },
      {
       "output_type": "stream",
       "stream": "stdout",
       "text": [
        " 4829 Circle: 506 ...\n",
        "Training Ego:"
       ]
      },
      {
       "output_type": "stream",
       "stream": "stdout",
       "text": [
        " 4829 Circle: 508 ...\n",
        "Training Ego:"
       ]
      },
      {
       "output_type": "stream",
       "stream": "stdout",
       "text": [
        " 4829 Circle: 509 ...\n",
        "Training Ego:"
       ]
      },
      {
       "output_type": "stream",
       "stream": "stdout",
       "text": [
        " 4829 Circle: 510 ...\n",
        "Training Ego:"
       ]
      },
      {
       "output_type": "stream",
       "stream": "stdout",
       "text": [
        " 4829 Circle: 511 ...\n",
        "Training Ego:"
       ]
      },
      {
       "output_type": "stream",
       "stream": "stdout",
       "text": [
        " 5212 Circle: 1152 ...\n",
        "Training Ego:"
       ]
      },
      {
       "output_type": "stream",
       "stream": "stdout",
       "text": [
        " 5212 Circle: 1600 ...\n",
        "Training Ego:"
       ]
      },
      {
       "output_type": "stream",
       "stream": "stdout",
       "text": [
        " 5212 Circle: 518 ...\n",
        "Training Ego:"
       ]
      },
      {
       "output_type": "stream",
       "stream": "stdout",
       "text": [
        " 5212 Circle: 1606 ...\n",
        "Training Ego:"
       ]
      },
      {
       "output_type": "stream",
       "stream": "stdout",
       "text": [
        " 5212 Circle: 1585 ...\n",
        "Training Ego:"
       ]
      },
      {
       "output_type": "stream",
       "stream": "stdout",
       "text": [
        " 5212 Circle: 1161 ...\n",
        "Training Ego:"
       ]
      },
      {
       "output_type": "stream",
       "stream": "stdout",
       "text": [
        " 5212 Circle: 535 ...\n",
        "Training Ego:"
       ]
      },
      {
       "output_type": "stream",
       "stream": "stdout",
       "text": [
        " 5212 Circle: 13 ...\n",
        "Training Ego:"
       ]
      },
      {
       "output_type": "stream",
       "stream": "stdout",
       "text": [
        " 5212 Circle: 592 ...\n",
        "Training Ego:"
       ]
      },
      {
       "output_type": "stream",
       "stream": "stdout",
       "text": [
        " 5212 Circle: 273 ...\n",
        "Training Ego:"
       ]
      },
      {
       "output_type": "stream",
       "stream": "stdout",
       "text": [
        " 5212 Circle: 1587 ...\n",
        "Training Ego:"
       ]
      },
      {
       "output_type": "stream",
       "stream": "stdout",
       "text": [
        " 5212 Circle: 212 ...\n",
        "Training Ego:"
       ]
      },
      {
       "output_type": "stream",
       "stream": "stdout",
       "text": [
        " 5212 Circle: 1589 ...\n",
        "Training Ego:"
       ]
      },
      {
       "output_type": "stream",
       "stream": "stdout",
       "text": [
        " 5212 Circle: 1591 ...\n",
        "Training Ego:"
       ]
      },
      {
       "output_type": "stream",
       "stream": "stdout",
       "text": [
        " 5212 Circle: 1592 ...\n",
        "Training Ego:"
       ]
      },
      {
       "output_type": "stream",
       "stream": "stdout",
       "text": [
        " 5212 Circle: 1593 ...\n",
        "Training Ego:"
       ]
      },
      {
       "output_type": "stream",
       "stream": "stdout",
       "text": [
        " 5212 Circle: 538 ...\n",
        "Training Ego:"
       ]
      },
      {
       "output_type": "stream",
       "stream": "stdout",
       "text": [
        " 5212 Circle: 188 ...\n",
        "Training Ego:"
       ]
      },
      {
       "output_type": "stream",
       "stream": "stdout",
       "text": [
        " 5212 Circle: 639 ...\n",
        "Training Ego:"
       ]
      },
      {
       "output_type": "stream",
       "stream": "stdout",
       "text": [
        " 5494 Circle: 544 ...\n",
        "Training Ego:"
       ]
      },
      {
       "output_type": "stream",
       "stream": "stdout",
       "text": [
        " 5494 Circle: 539 ...\n",
        "Training Ego:"
       ]
      },
      {
       "output_type": "stream",
       "stream": "stdout",
       "text": [
        " 5494 Circle: 148 ...\n",
        "Training Ego:"
       ]
      },
      {
       "output_type": "stream",
       "stream": "stdout",
       "text": [
        " 5494 Circle: 533 ...\n",
        "Training Ego:"
       ]
      },
      {
       "output_type": "stream",
       "stream": "stdout",
       "text": [
        " 5494 Circle: 150 ...\n",
        "Training Ego:"
       ]
      },
      {
       "output_type": "stream",
       "stream": "stdout",
       "text": [
        " 5494 Circle: 535 ...\n",
        "Training Ego:"
       ]
      },
      {
       "output_type": "stream",
       "stream": "stdout",
       "text": [
        " 5494 Circle: 536 ...\n",
        "Training Ego:"
       ]
      },
      {
       "output_type": "stream",
       "stream": "stdout",
       "text": [
        " 5494 Circle: 537 ...\n",
        "Training Ego:"
       ]
      },
      {
       "output_type": "stream",
       "stream": "stdout",
       "text": [
        " 5494 Circle: 538 ...\n",
        "Training Ego:"
       ]
      },
      {
       "output_type": "stream",
       "stream": "stdout",
       "text": [
        " 5494 Circle: 59 ...\n",
        "Training Ego:"
       ]
      },
      {
       "output_type": "stream",
       "stream": "stdout",
       "text": [
        " 5494 Circle: 542 ...\n",
        "Training Ego:"
       ]
      },
      {
       "output_type": "stream",
       "stream": "stdout",
       "text": [
        " 5881 Circle: 585 ...\n",
        "Training Ego:"
       ]
      },
      {
       "output_type": "stream",
       "stream": "stdout",
       "text": [
        " 5881 Circle: 10 ...\n",
        "Training Ego:"
       ]
      },
      {
       "output_type": "stream",
       "stream": "stdout",
       "text": [
        " 5881 Circle: 588 ...\n",
        "Training Ego:"
       ]
      },
      {
       "output_type": "stream",
       "stream": "stdout",
       "text": [
        " 5881 Circle: 78 ...\n",
        "Training Ego:"
       ]
      },
      {
       "output_type": "stream",
       "stream": "stdout",
       "text": [
        " 5881 Circle: 503 ...\n",
        "Training Ego:"
       ]
      },
      {
       "output_type": "stream",
       "stream": "stdout",
       "text": [
        " 5881 Circle: 190 ...\n",
        "Training Ego:"
       ]
      },
      {
       "output_type": "stream",
       "stream": "stdout",
       "text": [
        " 611 Circle: 36 ...\n",
        "Training Ego:"
       ]
      },
      {
       "output_type": "stream",
       "stream": "stdout",
       "text": [
        " 611 Circle: 38 ...\n",
        "Training Ego:"
       ]
      },
      {
       "output_type": "stream",
       "stream": "stdout",
       "text": [
        " 611 Circle: 39 ...\n",
        "Training Ego:"
       ]
      },
      {
       "output_type": "stream",
       "stream": "stdout",
       "text": [
        " 611 Circle: 40 ...\n",
        "Training Ego:"
       ]
      },
      {
       "output_type": "stream",
       "stream": "stdout",
       "text": [
        " 611 Circle: 41 ...\n",
        "Training Ego:"
       ]
      },
      {
       "output_type": "stream",
       "stream": "stdout",
       "text": [
        " 611 Circle: 42 ...\n",
        "Training Ego:"
       ]
      },
      {
       "output_type": "stream",
       "stream": "stdout",
       "text": [
        " 611 Circle: 43 ...\n",
        "Training Ego:"
       ]
      },
      {
       "output_type": "stream",
       "stream": "stdout",
       "text": [
        " 611 Circle: 13 ...\n",
        "Training Ego:"
       ]
      },
      {
       "output_type": "stream",
       "stream": "stdout",
       "text": [
        " 611 Circle: 45 ...\n",
        "Training Ego:"
       ]
      },
      {
       "output_type": "stream",
       "stream": "stdout",
       "text": [
        " 611 Circle: 48 ...\n",
        "Training Ego:"
       ]
      },
      {
       "output_type": "stream",
       "stream": "stdout",
       "text": [
        " 6413 Circle: 593 ...\n",
        "Training Ego:"
       ]
      },
      {
       "output_type": "stream",
       "stream": "stdout",
       "text": [
        " 6413 Circle: 594 ...\n",
        "Training Ego:"
       ]
      },
      {
       "output_type": "stream",
       "stream": "stdout",
       "text": [
        " 6413 Circle: 45 ...\n",
        "Training Ego:"
       ]
      },
      {
       "output_type": "stream",
       "stream": "stdout",
       "text": [
        " 6726 Circle: 592 ...\n",
        "Training Ego:"
       ]
      },
      {
       "output_type": "stream",
       "stream": "stdout",
       "text": [
        " 6726 Circle: 594 ...\n",
        "Training Ego:"
       ]
      },
      {
       "output_type": "stream",
       "stream": "stdout",
       "text": [
        " 6726 Circle: 13 ...\n",
        "Training Ego:"
       ]
      },
      {
       "output_type": "stream",
       "stream": "stdout",
       "text": [
        " 6726 Circle: 62 ...\n",
        "Training Ego:"
       ]
      },
      {
       "output_type": "stream",
       "stream": "stdout",
       "text": [
        " 7667 Circle: 640 ...\n",
        "Training Ego:"
       ]
      },
      {
       "output_type": "stream",
       "stream": "stdout",
       "text": [
        " 7667 Circle: 641 ...\n",
        "Training Ego:"
       ]
      },
      {
       "output_type": "stream",
       "stream": "stdout",
       "text": [
        " 7667 Circle: 642 ...\n",
        "Training Ego:"
       ]
      },
      {
       "output_type": "stream",
       "stream": "stdout",
       "text": [
        " 7667 Circle: 643 ...\n",
        "Training Ego:"
       ]
      },
      {
       "output_type": "stream",
       "stream": "stdout",
       "text": [
        " 7667 Circle: 639 ...\n",
        "Training Ego:"
       ]
      },
      {
       "output_type": "stream",
       "stream": "stdout",
       "text": [
        " 8100 Circle: 650 ...\n",
        "Training Ego:"
       ]
      },
      {
       "output_type": "stream",
       "stream": "stdout",
       "text": [
        " 8100 Circle: 651 ...\n",
        "Training Ego:"
       ]
      },
      {
       "output_type": "stream",
       "stream": "stdout",
       "text": [
        " 8100 Circle: 652 ...\n",
        "Training Ego:"
       ]
      },
      {
       "output_type": "stream",
       "stream": "stdout",
       "text": [
        " 8100 Circle: 653 ...\n",
        "Training Ego:"
       ]
      },
      {
       "output_type": "stream",
       "stream": "stdout",
       "text": [
        " 8100 Circle: 655 ...\n",
        "Training Ego:"
       ]
      },
      {
       "output_type": "stream",
       "stream": "stdout",
       "text": [
        " 8100 Circle: 656 ...\n",
        "Training Ego:"
       ]
      },
      {
       "output_type": "stream",
       "stream": "stdout",
       "text": [
        " 8100 Circle: 664 ...\n",
        "Training Ego:"
       ]
      },
      {
       "output_type": "stream",
       "stream": "stdout",
       "text": [
        " 8100 Circle: 665 ...\n",
        "Training Ego:"
       ]
      },
      {
       "output_type": "stream",
       "stream": "stdout",
       "text": [
        " 8100 Circle: 13 ...\n",
        "Training Ego:"
       ]
      },
      {
       "output_type": "stream",
       "stream": "stdout",
       "text": [
        " 8239 Circle: 684 ...\n",
        "Training Ego:"
       ]
      },
      {
       "output_type": "stream",
       "stream": "stdout",
       "text": [
        " 8239 Circle: 212 ...\n",
        "Training Ego:"
       ]
      },
      {
       "output_type": "stream",
       "stream": "stdout",
       "text": [
        " 8239 Circle: 685 ...\n",
        "Training Ego:"
       ]
      },
      {
       "output_type": "stream",
       "stream": "stdout",
       "text": [
        " 8239 Circle: 678 ...\n",
        "Training Ego:"
       ]
      },
      {
       "output_type": "stream",
       "stream": "stdout",
       "text": [
        " 8239 Circle: 677 ...\n",
        "Training Ego:"
       ]
      },
      {
       "output_type": "stream",
       "stream": "stdout",
       "text": [
        " 8553 Circle: 704 ...\n",
        "Training Ego:"
       ]
      },
      {
       "output_type": "stream",
       "stream": "stdout",
       "text": [
        " 8553 Circle: 706 ...\n",
        "Training Ego:"
       ]
      },
      {
       "output_type": "stream",
       "stream": "stdout",
       "text": [
        " 8553 Circle: 707 ...\n",
        "Training Ego:"
       ]
      },
      {
       "output_type": "stream",
       "stream": "stdout",
       "text": [
        " 8553 Circle: 708 ...\n",
        "Training Ego:"
       ]
      },
      {
       "output_type": "stream",
       "stream": "stdout",
       "text": [
        " 8553 Circle: 709 ...\n",
        "Training Ego:"
       ]
      },
      {
       "output_type": "stream",
       "stream": "stdout",
       "text": [
        " 8553 Circle: 710 ...\n",
        "Training Ego:"
       ]
      },
      {
       "output_type": "stream",
       "stream": "stdout",
       "text": [
        " 8553 Circle: 711 ...\n",
        "Training Ego:"
       ]
      },
      {
       "output_type": "stream",
       "stream": "stdout",
       "text": [
        " 8553 Circle: 13 ...\n",
        "Training Ego:"
       ]
      },
      {
       "output_type": "stream",
       "stream": "stdout",
       "text": [
        " 8553 Circle: 190 ...\n",
        "Training Ego:"
       ]
      },
      {
       "output_type": "stream",
       "stream": "stdout",
       "text": [
        " 8553 Circle: 62 ...\n",
        "Training Ego:"
       ]
      },
      {
       "output_type": "stream",
       "stream": "stdout",
       "text": [
        " 8777 Circle: 712 ...\n",
        "Training Ego:"
       ]
      },
      {
       "output_type": "stream",
       "stream": "stdout",
       "text": [
        " 8777 Circle: 713 ...\n",
        "Training Ego:"
       ]
      },
      {
       "output_type": "stream",
       "stream": "stdout",
       "text": [
        " 8777 Circle: 714 ...\n",
        "Training Ego:"
       ]
      },
      {
       "output_type": "stream",
       "stream": "stdout",
       "text": [
        " 8777 Circle: 715 ...\n",
        "Training Ego:"
       ]
      },
      {
       "output_type": "stream",
       "stream": "stdout",
       "text": [
        " 8777 Circle: 716 ...\n",
        "Training Ego:"
       ]
      },
      {
       "output_type": "stream",
       "stream": "stdout",
       "text": [
        " 8777 Circle: 717 ...\n",
        "Training Ego:"
       ]
      },
      {
       "output_type": "stream",
       "stream": "stdout",
       "text": [
        " 8777 Circle: 718 ...\n",
        "Training Ego:"
       ]
      },
      {
       "output_type": "stream",
       "stream": "stdout",
       "text": [
        " 8777 Circle: 720 ...\n",
        "Training Ego:"
       ]
      },
      {
       "output_type": "stream",
       "stream": "stdout",
       "text": [
        " 8777 Circle: 721 ...\n",
        "Training Ego:"
       ]
      },
      {
       "output_type": "stream",
       "stream": "stdout",
       "text": [
        " 8777 Circle: 18 ...\n",
        "Training Ego:"
       ]
      },
      {
       "output_type": "stream",
       "stream": "stdout",
       "text": [
        " 8777 Circle: 84 ...\n",
        "Training Ego:"
       ]
      },
      {
       "output_type": "stream",
       "stream": "stdout",
       "text": [
        " 9103 Circle: 737 ...\n",
        "Training Ego:"
       ]
      },
      {
       "output_type": "stream",
       "stream": "stdout",
       "text": [
        " 9103 Circle: 738 ...\n",
        "Training Ego:"
       ]
      },
      {
       "output_type": "stream",
       "stream": "stdout",
       "text": [
        " 9103 Circle: 739 ...\n",
        "Training Ego:"
       ]
      },
      {
       "output_type": "stream",
       "stream": "stdout",
       "text": [
        " 9103 Circle: 740 ...\n",
        "Training Ego:"
       ]
      },
      {
       "output_type": "stream",
       "stream": "stdout",
       "text": [
        " 9103 Circle: 741 ...\n",
        "Training Ego:"
       ]
      },
      {
       "output_type": "stream",
       "stream": "stdout",
       "text": [
        " 9103 Circle: 742 ...\n",
        "Training Ego:"
       ]
      },
      {
       "output_type": "stream",
       "stream": "stdout",
       "text": [
        " 9103 Circle: 745 ...\n",
        "Training Ego:"
       ]
      },
      {
       "output_type": "stream",
       "stream": "stdout",
       "text": [
        " 9103 Circle: 62 ...\n",
        "Training Ego:"
       ]
      },
      {
       "output_type": "stream",
       "stream": "stdout",
       "text": [
        " 9642 Circle: 64 ...\n",
        "Training Ego:"
       ]
      },
      {
       "output_type": "stream",
       "stream": "stdout",
       "text": [
        " 9642 Circle: 720 ...\n",
        "Training Ego:"
       ]
      },
      {
       "output_type": "stream",
       "stream": "stdout",
       "text": [
        " 9642 Circle: 773 ...\n",
        "Training Ego:"
       ]
      },
      {
       "output_type": "stream",
       "stream": "stdout",
       "text": [
        " 9642 Circle: 774 ...\n",
        "Training Ego:"
       ]
      },
      {
       "output_type": "stream",
       "stream": "stdout",
       "text": [
        " 9642 Circle: 776 ...\n",
        "Training Ego:"
       ]
      },
      {
       "output_type": "stream",
       "stream": "stdout",
       "text": [
        " 9642 Circle: 777 ...\n",
        "Training Ego:"
       ]
      },
      {
       "output_type": "stream",
       "stream": "stdout",
       "text": [
        " 9642 Circle: 778 ...\n",
        "Training Ego:"
       ]
      },
      {
       "output_type": "stream",
       "stream": "stdout",
       "text": [
        " 9642 Circle: 779 ...\n",
        "Training Ego:"
       ]
      },
      {
       "output_type": "stream",
       "stream": "stdout",
       "text": [
        " 9642 Circle: 780 ...\n",
        "Training Ego:"
       ]
      },
      {
       "output_type": "stream",
       "stream": "stdout",
       "text": [
        " 9642 Circle: 781 ...\n",
        "Training Ego:"
       ]
      },
      {
       "output_type": "stream",
       "stream": "stdout",
       "text": [
        " 9642 Circle: 783 ...\n",
        "Training Ego:"
       ]
      },
      {
       "output_type": "stream",
       "stream": "stdout",
       "text": [
        " 9642 Circle: 784 ...\n",
        "Training Ego:"
       ]
      },
      {
       "output_type": "stream",
       "stream": "stdout",
       "text": [
        " 9642 Circle: 786 ...\n",
        "Training Ego:"
       ]
      },
      {
       "output_type": "stream",
       "stream": "stdout",
       "text": [
        " 9642 Circle: 787 ...\n",
        "Training Ego:"
       ]
      },
      {
       "output_type": "stream",
       "stream": "stdout",
       "text": [
        " 9642 Circle: 788 ...\n",
        "Training Ego:"
       ]
      },
      {
       "output_type": "stream",
       "stream": "stdout",
       "text": [
        " 9642 Circle: 789 ...\n",
        "Training Ego:"
       ]
      },
      {
       "output_type": "stream",
       "stream": "stdout",
       "text": [
        " 9642 Circle: 791 ...\n",
        "Training Ego:"
       ]
      },
      {
       "output_type": "stream",
       "stream": "stdout",
       "text": [
        " 9642 Circle: 212 ...\n",
        "Training Ego:"
       ]
      },
      {
       "output_type": "stream",
       "stream": "stdout",
       "text": [
        " 9642 Circle: 794 ...\n",
        "Training Ego:"
       ]
      },
      {
       "output_type": "stream",
       "stream": "stdout",
       "text": [
        " 9642 Circle: 13 ...\n",
        "Training Ego:"
       ]
      },
      {
       "output_type": "stream",
       "stream": "stdout",
       "text": [
        " 9642 Circle: 62 ...\n",
        "Training Ego:"
       ]
      },
      {
       "output_type": "stream",
       "stream": "stdout",
       "text": [
        " 9846 Circle: 800 ...\n",
        "Training Ego:"
       ]
      },
      {
       "output_type": "stream",
       "stream": "stdout",
       "text": [
        " 9846 Circle: 192 ...\n",
        "Training Ego:"
       ]
      },
      {
       "output_type": "stream",
       "stream": "stdout",
       "text": [
        " 9846 Circle: 804 ...\n",
        "Training Ego:"
       ]
      },
      {
       "output_type": "stream",
       "stream": "stdout",
       "text": [
        " 9846 Circle: 198 ...\n",
        "Training Ego:"
       ]
      },
      {
       "output_type": "stream",
       "stream": "stdout",
       "text": [
        " 9846 Circle: 104 ...\n",
        "Training Ego:"
       ]
      },
      {
       "output_type": "stream",
       "stream": "stdout",
       "text": [
        " 9846 Circle: 10 ...\n",
        "Training Ego:"
       ]
      },
      {
       "output_type": "stream",
       "stream": "stdout",
       "text": [
        " 9846 Circle: 13 ...\n",
        "Training Ego:"
       ]
      },
      {
       "output_type": "stream",
       "stream": "stdout",
       "text": [
        " 9846 Circle: 18 ...\n",
        "Training Ego:"
       ]
      },
      {
       "output_type": "stream",
       "stream": "stdout",
       "text": [
        " 9846 Circle: 798 ...\n",
        "Training Ego:"
       ]
      },
      {
       "output_type": "stream",
       "stream": "stdout",
       "text": [
        " 9947 Circle: 128 ...\n",
        "Training Ego:"
       ]
      },
      {
       "output_type": "stream",
       "stream": "stdout",
       "text": [
        " 9947 Circle: 74 ...\n",
        "Training Ego:"
       ]
      },
      {
       "output_type": "stream",
       "stream": "stdout",
       "text": [
        " 9947 Circle: 812 ...\n",
        "Training Ego:"
       ]
      },
      {
       "output_type": "stream",
       "stream": "stdout",
       "text": [
        " 9947 Circle: 45 ...\n",
        "Training Ego:"
       ]
      },
      {
       "output_type": "stream",
       "stream": "stdout",
       "text": [
        " 9947 Circle: 813 ...\n",
        "Training Ego:"
       ]
      },
      {
       "output_type": "stream",
       "stream": "stdout",
       "text": [
        " 9947 Circle: 816 ...\n",
        "Training Ego:"
       ]
      },
      {
       "output_type": "stream",
       "stream": "stdout",
       "text": [
        " 9947 Circle: 817 ...\n",
        "Training Ego:"
       ]
      },
      {
       "output_type": "stream",
       "stream": "stdout",
       "text": [
        " 9947 Circle: 338 ...\n",
        "Training Ego:"
       ]
      },
      {
       "output_type": "stream",
       "stream": "stdout",
       "text": [
        " 9947 Circle: 822 ...\n",
        "Training Ego:"
       ]
      },
      {
       "output_type": "stream",
       "stream": "stdout",
       "text": [
        " 9947 Circle: 823 ...\n",
        "Training Ego:"
       ]
      },
      {
       "output_type": "stream",
       "stream": "stdout",
       "text": [
        " 9947 Circle: 818 ...\n",
        "Training Ego:"
       ]
      },
      {
       "output_type": "stream",
       "stream": "stdout",
       "text": [
        " 9947 Circle: 13 ...\n",
        "Training Ego:"
       ]
      },
      {
       "output_type": "stream",
       "stream": "stdout",
       "text": [
        " 9947 Circle: 190 ...\n"
       ]
      }
     ],
     "prompt_number": 26
    },
    {
     "cell_type": "code",
     "collapsed": false,
     "input": [
      "df"
     ],
     "language": "python",
     "metadata": {},
     "outputs": [
      {
       "html": [
        "<div style=\"max-height:1000px;max-width:1500px;overflow:auto;\">\n",
        "<table border=\"1\" class=\"dataframe\">\n",
        "  <thead>\n",
        "    <tr style=\"text-align: right;\">\n",
        "      <th></th>\n",
        "      <th>Ego</th>\n",
        "      <th>Circle</th>\n",
        "      <th>birthday</th>\n",
        "      <th>education;classes;description</th>\n",
        "      <th>education;classes;from;id</th>\n",
        "      <th>education;classes;from;name</th>\n",
        "      <th>education;classes;id</th>\n",
        "      <th>education;classes;name</th>\n",
        "      <th>education;classes;with;id</th>\n",
        "      <th>education;classes;with;name</th>\n",
        "      <th>education;concentration;id</th>\n",
        "      <th>education;concentration;name</th>\n",
        "      <th>education;degree;id</th>\n",
        "      <th>education;degree;name</th>\n",
        "      <th>education;school;id</th>\n",
        "      <th>education;school;name</th>\n",
        "      <th>education;type</th>\n",
        "      <th>education;with;id</th>\n",
        "      <th>education;with;name</th>\n",
        "      <th>education;year;id</th>\n",
        "      <th></th>\n",
        "    </tr>\n",
        "  </thead>\n",
        "  <tbody>\n",
        "    <tr>\n",
        "      <th>0 </th>\n",
        "      <td> 10395</td>\n",
        "      <td>  10</td>\n",
        "      <td> 0</td>\n",
        "      <td> 0</td>\n",
        "      <td> 0.000000</td>\n",
        "      <td> 0.000000</td>\n",
        "      <td> 0.000000</td>\n",
        "      <td> 0.000000</td>\n",
        "      <td> 0.000000</td>\n",
        "      <td> 0.000000</td>\n",
        "      <td> 0.000000</td>\n",
        "      <td> 0.000000</td>\n",
        "      <td> 0.000000</td>\n",
        "      <td> 0.000000</td>\n",
        "      <td> 0.043414</td>\n",
        "      <td> 0.041734</td>\n",
        "      <td> 0.070957</td>\n",
        "      <td> 0</td>\n",
        "      <td> 0</td>\n",
        "      <td> 0.034581</td>\n",
        "      <td>...</td>\n",
        "    </tr>\n",
        "    <tr>\n",
        "      <th>1 </th>\n",
        "      <td> 10395</td>\n",
        "      <td>  78</td>\n",
        "      <td> 0</td>\n",
        "      <td> 0</td>\n",
        "      <td> 0.000000</td>\n",
        "      <td> 0.000000</td>\n",
        "      <td> 0.000000</td>\n",
        "      <td> 0.000000</td>\n",
        "      <td> 0.000000</td>\n",
        "      <td> 0.000000</td>\n",
        "      <td> 0.000000</td>\n",
        "      <td> 0.000000</td>\n",
        "      <td> 0.000000</td>\n",
        "      <td> 0.000000</td>\n",
        "      <td> 0.038699</td>\n",
        "      <td> 0.073493</td>\n",
        "      <td> 0.156294</td>\n",
        "      <td> 0</td>\n",
        "      <td> 0</td>\n",
        "      <td> 0.039025</td>\n",
        "      <td>...</td>\n",
        "    </tr>\n",
        "    <tr>\n",
        "      <th>2 </th>\n",
        "      <td> 10395</td>\n",
        "      <td>  84</td>\n",
        "      <td> 0</td>\n",
        "      <td> 0</td>\n",
        "      <td> 0.000000</td>\n",
        "      <td> 0.000000</td>\n",
        "      <td> 0.000000</td>\n",
        "      <td> 0.000000</td>\n",
        "      <td> 0.000000</td>\n",
        "      <td> 0.000000</td>\n",
        "      <td> 0.000000</td>\n",
        "      <td> 0.000000</td>\n",
        "      <td> 0.000000</td>\n",
        "      <td> 0.000000</td>\n",
        "      <td> 0.055303</td>\n",
        "      <td> 0.140168</td>\n",
        "      <td> 0.091992</td>\n",
        "      <td> 0</td>\n",
        "      <td> 0</td>\n",
        "      <td> 0.050296</td>\n",
        "      <td>...</td>\n",
        "    </tr>\n",
        "    <tr>\n",
        "      <th>3 </th>\n",
        "      <td> 10395</td>\n",
        "      <td> 377</td>\n",
        "      <td> 0</td>\n",
        "      <td> 0</td>\n",
        "      <td> 0.000000</td>\n",
        "      <td> 0.000000</td>\n",
        "      <td> 0.000000</td>\n",
        "      <td> 0.000000</td>\n",
        "      <td> 0.000000</td>\n",
        "      <td> 0.000000</td>\n",
        "      <td> 0.000000</td>\n",
        "      <td> 0.000000</td>\n",
        "      <td> 0.000000</td>\n",
        "      <td> 0.000000</td>\n",
        "      <td> 0.036916</td>\n",
        "      <td>-0.037764</td>\n",
        "      <td> 0.154006</td>\n",
        "      <td> 0</td>\n",
        "      <td> 0</td>\n",
        "      <td> 0.047943</td>\n",
        "      <td>...</td>\n",
        "    </tr>\n",
        "    <tr>\n",
        "      <th>4 </th>\n",
        "      <td> 10395</td>\n",
        "      <td> 827</td>\n",
        "      <td> 0</td>\n",
        "      <td> 0</td>\n",
        "      <td> 0.000000</td>\n",
        "      <td> 0.000000</td>\n",
        "      <td> 0.000000</td>\n",
        "      <td> 0.000000</td>\n",
        "      <td> 0.000000</td>\n",
        "      <td> 0.000000</td>\n",
        "      <td> 0.000000</td>\n",
        "      <td> 0.000000</td>\n",
        "      <td> 0.000000</td>\n",
        "      <td> 0.000000</td>\n",
        "      <td> 0.038257</td>\n",
        "      <td> 0.060793</td>\n",
        "      <td> 0.046973</td>\n",
        "      <td> 0</td>\n",
        "      <td> 0</td>\n",
        "      <td> 0.042162</td>\n",
        "      <td>...</td>\n",
        "    </tr>\n",
        "    <tr>\n",
        "      <th>5 </th>\n",
        "      <td> 10395</td>\n",
        "      <td> 828</td>\n",
        "      <td> 0</td>\n",
        "      <td> 0</td>\n",
        "      <td> 0.000000</td>\n",
        "      <td> 0.000000</td>\n",
        "      <td> 0.000000</td>\n",
        "      <td> 0.000000</td>\n",
        "      <td> 0.000000</td>\n",
        "      <td> 0.000000</td>\n",
        "      <td> 0.000000</td>\n",
        "      <td> 0.000000</td>\n",
        "      <td> 0.000000</td>\n",
        "      <td> 0.000000</td>\n",
        "      <td> 0.040733</td>\n",
        "      <td> 0.056600</td>\n",
        "      <td> 0.165253</td>\n",
        "      <td> 0</td>\n",
        "      <td> 0</td>\n",
        "      <td> 0.034461</td>\n",
        "      <td>...</td>\n",
        "    </tr>\n",
        "    <tr>\n",
        "      <th>6 </th>\n",
        "      <td> 10395</td>\n",
        "      <td> 830</td>\n",
        "      <td> 0</td>\n",
        "      <td> 0</td>\n",
        "      <td> 0.000000</td>\n",
        "      <td> 0.000000</td>\n",
        "      <td> 0.000000</td>\n",
        "      <td> 0.000000</td>\n",
        "      <td> 0.000000</td>\n",
        "      <td> 0.000000</td>\n",
        "      <td> 0.000000</td>\n",
        "      <td> 0.000000</td>\n",
        "      <td> 0.000000</td>\n",
        "      <td> 0.000000</td>\n",
        "      <td> 0.040710</td>\n",
        "      <td> 0.012832</td>\n",
        "      <td> 0.101844</td>\n",
        "      <td> 0</td>\n",
        "      <td> 0</td>\n",
        "      <td> 0.045704</td>\n",
        "      <td>...</td>\n",
        "    </tr>\n",
        "    <tr>\n",
        "      <th>7 </th>\n",
        "      <td> 10929</td>\n",
        "      <td> 839</td>\n",
        "      <td> 0</td>\n",
        "      <td> 0</td>\n",
        "      <td> 0.000000</td>\n",
        "      <td> 0.000000</td>\n",
        "      <td> 0.000000</td>\n",
        "      <td> 0.000000</td>\n",
        "      <td> 0.000000</td>\n",
        "      <td> 0.000000</td>\n",
        "      <td> 0.000000</td>\n",
        "      <td> 0.000000</td>\n",
        "      <td> 0.000000</td>\n",
        "      <td> 0.000000</td>\n",
        "      <td> 0.000000</td>\n",
        "      <td> 0.000000</td>\n",
        "      <td> 0.000000</td>\n",
        "      <td> 0</td>\n",
        "      <td> 0</td>\n",
        "      <td> 0.000000</td>\n",
        "      <td>...</td>\n",
        "    </tr>\n",
        "    <tr>\n",
        "      <th>8 </th>\n",
        "      <td> 10929</td>\n",
        "      <td> 840</td>\n",
        "      <td> 0</td>\n",
        "      <td> 0</td>\n",
        "      <td> 0.000000</td>\n",
        "      <td> 0.000000</td>\n",
        "      <td> 0.000000</td>\n",
        "      <td> 0.000000</td>\n",
        "      <td> 0.000000</td>\n",
        "      <td> 0.000000</td>\n",
        "      <td> 0.000000</td>\n",
        "      <td> 0.000000</td>\n",
        "      <td> 0.000000</td>\n",
        "      <td> 0.000000</td>\n",
        "      <td> 0.000000</td>\n",
        "      <td> 0.000000</td>\n",
        "      <td> 0.000000</td>\n",
        "      <td> 0</td>\n",
        "      <td> 0</td>\n",
        "      <td> 0.000000</td>\n",
        "      <td>...</td>\n",
        "    </tr>\n",
        "    <tr>\n",
        "      <th>9 </th>\n",
        "      <td> 10929</td>\n",
        "      <td> 841</td>\n",
        "      <td> 0</td>\n",
        "      <td> 0</td>\n",
        "      <td> 0.000000</td>\n",
        "      <td> 0.000000</td>\n",
        "      <td> 0.000000</td>\n",
        "      <td> 0.000000</td>\n",
        "      <td> 0.000000</td>\n",
        "      <td> 0.000000</td>\n",
        "      <td> 0.000000</td>\n",
        "      <td> 0.000000</td>\n",
        "      <td> 0.000000</td>\n",
        "      <td> 0.000000</td>\n",
        "      <td> 0.000000</td>\n",
        "      <td> 0.000000</td>\n",
        "      <td> 0.000000</td>\n",
        "      <td> 0</td>\n",
        "      <td> 0</td>\n",
        "      <td> 0.000000</td>\n",
        "      <td>...</td>\n",
        "    </tr>\n",
        "    <tr>\n",
        "      <th>10</th>\n",
        "      <td> 10929</td>\n",
        "      <td> 843</td>\n",
        "      <td> 0</td>\n",
        "      <td> 0</td>\n",
        "      <td> 0.000000</td>\n",
        "      <td> 0.000000</td>\n",
        "      <td> 0.000000</td>\n",
        "      <td> 0.000000</td>\n",
        "      <td> 0.000000</td>\n",
        "      <td> 0.000000</td>\n",
        "      <td> 0.000000</td>\n",
        "      <td> 0.000000</td>\n",
        "      <td> 0.000000</td>\n",
        "      <td> 0.000000</td>\n",
        "      <td> 0.000000</td>\n",
        "      <td> 0.000000</td>\n",
        "      <td> 0.000000</td>\n",
        "      <td> 0</td>\n",
        "      <td> 0</td>\n",
        "      <td> 0.000000</td>\n",
        "      <td>...</td>\n",
        "    </tr>\n",
        "    <tr>\n",
        "      <th>11</th>\n",
        "      <td> 10929</td>\n",
        "      <td> 844</td>\n",
        "      <td> 0</td>\n",
        "      <td> 0</td>\n",
        "      <td> 0.000000</td>\n",
        "      <td> 0.000000</td>\n",
        "      <td> 0.000000</td>\n",
        "      <td> 0.000000</td>\n",
        "      <td> 0.000000</td>\n",
        "      <td> 0.000000</td>\n",
        "      <td> 0.000000</td>\n",
        "      <td> 0.000000</td>\n",
        "      <td> 0.000000</td>\n",
        "      <td> 0.000000</td>\n",
        "      <td> 0.000000</td>\n",
        "      <td> 0.000000</td>\n",
        "      <td> 0.000000</td>\n",
        "      <td> 0</td>\n",
        "      <td> 0</td>\n",
        "      <td> 0.000000</td>\n",
        "      <td>...</td>\n",
        "    </tr>\n",
        "    <tr>\n",
        "      <th>12</th>\n",
        "      <td> 10929</td>\n",
        "      <td> 845</td>\n",
        "      <td> 0</td>\n",
        "      <td> 0</td>\n",
        "      <td> 0.000000</td>\n",
        "      <td> 0.000000</td>\n",
        "      <td> 0.000000</td>\n",
        "      <td> 0.000000</td>\n",
        "      <td> 0.000000</td>\n",
        "      <td> 0.000000</td>\n",
        "      <td> 0.000000</td>\n",
        "      <td> 0.000000</td>\n",
        "      <td> 0.000000</td>\n",
        "      <td> 0.000000</td>\n",
        "      <td> 0.000000</td>\n",
        "      <td> 0.000000</td>\n",
        "      <td> 0.000000</td>\n",
        "      <td> 0</td>\n",
        "      <td> 0</td>\n",
        "      <td> 0.000000</td>\n",
        "      <td>...</td>\n",
        "    </tr>\n",
        "    <tr>\n",
        "      <th>13</th>\n",
        "      <td> 11014</td>\n",
        "      <td> 194</td>\n",
        "      <td> 0</td>\n",
        "      <td> 0</td>\n",
        "      <td> 0.000000</td>\n",
        "      <td> 0.000000</td>\n",
        "      <td> 0.000000</td>\n",
        "      <td> 0.000000</td>\n",
        "      <td> 0.000000</td>\n",
        "      <td> 0.000000</td>\n",
        "      <td> 0.003255</td>\n",
        "      <td> 0.006686</td>\n",
        "      <td> 0.004714</td>\n",
        "      <td> 0.001225</td>\n",
        "      <td> 0.000048</td>\n",
        "      <td> 0.011690</td>\n",
        "      <td> 0.188163</td>\n",
        "      <td> 0</td>\n",
        "      <td> 0</td>\n",
        "      <td> 0.016908</td>\n",
        "      <td>...</td>\n",
        "    </tr>\n",
        "    <tr>\n",
        "      <th>14</th>\n",
        "      <td> 11014</td>\n",
        "      <td>  13</td>\n",
        "      <td> 0</td>\n",
        "      <td> 0</td>\n",
        "      <td> 0.000000</td>\n",
        "      <td> 0.000000</td>\n",
        "      <td> 0.000000</td>\n",
        "      <td> 0.000000</td>\n",
        "      <td> 0.000000</td>\n",
        "      <td> 0.000000</td>\n",
        "      <td> 0.006196</td>\n",
        "      <td> 0.007224</td>\n",
        "      <td> 0.002848</td>\n",
        "      <td> 0.002602</td>\n",
        "      <td> 0.021957</td>\n",
        "      <td> 0.041430</td>\n",
        "      <td> 0.401350</td>\n",
        "      <td> 0</td>\n",
        "      <td> 0</td>\n",
        "      <td> 0.049278</td>\n",
        "      <td>...</td>\n",
        "    </tr>\n",
        "    <tr>\n",
        "      <th>15</th>\n",
        "      <td> 11014</td>\n",
        "      <td> 848</td>\n",
        "      <td> 0</td>\n",
        "      <td> 0</td>\n",
        "      <td> 0.000000</td>\n",
        "      <td> 0.000000</td>\n",
        "      <td> 0.000000</td>\n",
        "      <td> 0.000000</td>\n",
        "      <td> 0.000000</td>\n",
        "      <td> 0.000000</td>\n",
        "      <td> 0.045446</td>\n",
        "      <td> 0.036637</td>\n",
        "      <td> 0.027731</td>\n",
        "      <td> 0.018465</td>\n",
        "      <td> 0.143645</td>\n",
        "      <td> 0.138534</td>\n",
        "      <td> 0.223227</td>\n",
        "      <td> 0</td>\n",
        "      <td> 0</td>\n",
        "      <td> 0.069526</td>\n",
        "      <td>...</td>\n",
        "    </tr>\n",
        "    <tr>\n",
        "      <th>16</th>\n",
        "      <td> 11014</td>\n",
        "      <td> 849</td>\n",
        "      <td> 0</td>\n",
        "      <td> 0</td>\n",
        "      <td> 0.000000</td>\n",
        "      <td> 0.000000</td>\n",
        "      <td> 0.000000</td>\n",
        "      <td> 0.000000</td>\n",
        "      <td> 0.000000</td>\n",
        "      <td> 0.000000</td>\n",
        "      <td> 0.016856</td>\n",
        "      <td> 0.008395</td>\n",
        "      <td> 0.011564</td>\n",
        "      <td> 0.018527</td>\n",
        "      <td> 0.118648</td>\n",
        "      <td> 0.146045</td>\n",
        "      <td> 0.200930</td>\n",
        "      <td> 0</td>\n",
        "      <td> 0</td>\n",
        "      <td> 0.064437</td>\n",
        "      <td>...</td>\n",
        "    </tr>\n",
        "    <tr>\n",
        "      <th>17</th>\n",
        "      <td> 11014</td>\n",
        "      <td> 850</td>\n",
        "      <td> 0</td>\n",
        "      <td> 0</td>\n",
        "      <td> 0.000000</td>\n",
        "      <td> 0.000000</td>\n",
        "      <td> 0.000000</td>\n",
        "      <td> 0.000000</td>\n",
        "      <td> 0.000000</td>\n",
        "      <td> 0.000000</td>\n",
        "      <td> 0.064554</td>\n",
        "      <td> 0.033778</td>\n",
        "      <td> 0.003983</td>\n",
        "      <td> 0.010410</td>\n",
        "      <td> 0.005005</td>\n",
        "      <td> 0.015121</td>\n",
        "      <td> 0.351432</td>\n",
        "      <td> 0</td>\n",
        "      <td> 0</td>\n",
        "      <td> 0.063422</td>\n",
        "      <td>...</td>\n",
        "    </tr>\n",
        "    <tr>\n",
        "      <th>18</th>\n",
        "      <td> 11014</td>\n",
        "      <td> 851</td>\n",
        "      <td> 0</td>\n",
        "      <td> 0</td>\n",
        "      <td> 0.000000</td>\n",
        "      <td> 0.000000</td>\n",
        "      <td> 0.000000</td>\n",
        "      <td> 0.000000</td>\n",
        "      <td> 0.000000</td>\n",
        "      <td> 0.000000</td>\n",
        "      <td> 0.065175</td>\n",
        "      <td> 0.009945</td>\n",
        "      <td>-0.001589</td>\n",
        "      <td> 0.000586</td>\n",
        "      <td> 0.056413</td>\n",
        "      <td> 0.027301</td>\n",
        "      <td> 0.310199</td>\n",
        "      <td> 0</td>\n",
        "      <td> 0</td>\n",
        "      <td> 0.122422</td>\n",
        "      <td>...</td>\n",
        "    </tr>\n",
        "    <tr>\n",
        "      <th>19</th>\n",
        "      <td> 11014</td>\n",
        "      <td> 852</td>\n",
        "      <td> 0</td>\n",
        "      <td> 0</td>\n",
        "      <td> 0.000000</td>\n",
        "      <td> 0.000000</td>\n",
        "      <td> 0.000000</td>\n",
        "      <td> 0.000000</td>\n",
        "      <td> 0.000000</td>\n",
        "      <td> 0.000000</td>\n",
        "      <td> 0.030303</td>\n",
        "      <td> 0.022213</td>\n",
        "      <td> 0.001176</td>\n",
        "      <td> 0.002922</td>\n",
        "      <td> 0.032376</td>\n",
        "      <td> 0.047007</td>\n",
        "      <td> 0.277713</td>\n",
        "      <td> 0</td>\n",
        "      <td> 0</td>\n",
        "      <td> 0.055368</td>\n",
        "      <td>...</td>\n",
        "    </tr>\n",
        "    <tr>\n",
        "      <th>20</th>\n",
        "      <td> 11014</td>\n",
        "      <td> 854</td>\n",
        "      <td> 0</td>\n",
        "      <td> 0</td>\n",
        "      <td> 0.000000</td>\n",
        "      <td> 0.000000</td>\n",
        "      <td> 0.000000</td>\n",
        "      <td> 0.000000</td>\n",
        "      <td> 0.000000</td>\n",
        "      <td> 0.000000</td>\n",
        "      <td> 0.008784</td>\n",
        "      <td> 0.024321</td>\n",
        "      <td> 0.001845</td>\n",
        "      <td> 0.001133</td>\n",
        "      <td> 0.014147</td>\n",
        "      <td> 0.005948</td>\n",
        "      <td> 0.319522</td>\n",
        "      <td> 0</td>\n",
        "      <td> 0</td>\n",
        "      <td> 0.078320</td>\n",
        "      <td>...</td>\n",
        "    </tr>\n",
        "    <tr>\n",
        "      <th>21</th>\n",
        "      <td> 11014</td>\n",
        "      <td> 855</td>\n",
        "      <td> 0</td>\n",
        "      <td> 0</td>\n",
        "      <td> 0.000000</td>\n",
        "      <td> 0.000000</td>\n",
        "      <td> 0.000000</td>\n",
        "      <td> 0.000000</td>\n",
        "      <td> 0.000000</td>\n",
        "      <td> 0.000000</td>\n",
        "      <td> 0.006102</td>\n",
        "      <td> 0.006599</td>\n",
        "      <td> 0.043620</td>\n",
        "      <td> 0.034285</td>\n",
        "      <td> 0.056135</td>\n",
        "      <td> 0.055482</td>\n",
        "      <td> 0.200065</td>\n",
        "      <td> 0</td>\n",
        "      <td> 0</td>\n",
        "      <td> 0.163252</td>\n",
        "      <td>...</td>\n",
        "    </tr>\n",
        "    <tr>\n",
        "      <th>22</th>\n",
        "      <td> 11014</td>\n",
        "      <td> 857</td>\n",
        "      <td> 0</td>\n",
        "      <td> 0</td>\n",
        "      <td> 0.000000</td>\n",
        "      <td> 0.000000</td>\n",
        "      <td> 0.000000</td>\n",
        "      <td> 0.000000</td>\n",
        "      <td> 0.000000</td>\n",
        "      <td> 0.000000</td>\n",
        "      <td> 0.014866</td>\n",
        "      <td> 0.055321</td>\n",
        "      <td> 0.000913</td>\n",
        "      <td> 0.008261</td>\n",
        "      <td> 0.011955</td>\n",
        "      <td> 0.155575</td>\n",
        "      <td> 0.296067</td>\n",
        "      <td> 0</td>\n",
        "      <td> 0</td>\n",
        "      <td> 0.040709</td>\n",
        "      <td>...</td>\n",
        "    </tr>\n",
        "    <tr>\n",
        "      <th>23</th>\n",
        "      <td> 11186</td>\n",
        "      <td> 992</td>\n",
        "      <td> 0</td>\n",
        "      <td> 0</td>\n",
        "      <td> 0.000000</td>\n",
        "      <td> 0.000000</td>\n",
        "      <td> 0.000000</td>\n",
        "      <td> 0.000000</td>\n",
        "      <td> 0.000000</td>\n",
        "      <td> 0.000000</td>\n",
        "      <td> 0.040105</td>\n",
        "      <td> 0.008283</td>\n",
        "      <td> 0.000000</td>\n",
        "      <td> 0.000000</td>\n",
        "      <td> 0.015536</td>\n",
        "      <td> 0.023905</td>\n",
        "      <td> 0.281038</td>\n",
        "      <td> 0</td>\n",
        "      <td> 0</td>\n",
        "      <td> 0.014498</td>\n",
        "      <td>...</td>\n",
        "    </tr>\n",
        "    <tr>\n",
        "      <th>24</th>\n",
        "      <td> 11186</td>\n",
        "      <td> 993</td>\n",
        "      <td> 0</td>\n",
        "      <td> 0</td>\n",
        "      <td> 0.000000</td>\n",
        "      <td> 0.000000</td>\n",
        "      <td> 0.000000</td>\n",
        "      <td> 0.000000</td>\n",
        "      <td> 0.000000</td>\n",
        "      <td> 0.000000</td>\n",
        "      <td> 0.006732</td>\n",
        "      <td>-0.003454</td>\n",
        "      <td> 0.000000</td>\n",
        "      <td> 0.000000</td>\n",
        "      <td> 0.047750</td>\n",
        "      <td> 0.043928</td>\n",
        "      <td> 0.396552</td>\n",
        "      <td> 0</td>\n",
        "      <td> 0</td>\n",
        "      <td>-0.010622</td>\n",
        "      <td>...</td>\n",
        "    </tr>\n",
        "    <tr>\n",
        "      <th>25</th>\n",
        "      <td> 11186</td>\n",
        "      <td> 994</td>\n",
        "      <td> 0</td>\n",
        "      <td> 0</td>\n",
        "      <td> 0.000000</td>\n",
        "      <td> 0.000000</td>\n",
        "      <td> 0.000000</td>\n",
        "      <td> 0.000000</td>\n",
        "      <td> 0.000000</td>\n",
        "      <td> 0.000000</td>\n",
        "      <td>-0.010217</td>\n",
        "      <td> 0.211799</td>\n",
        "      <td> 0.000000</td>\n",
        "      <td> 0.000000</td>\n",
        "      <td>-1.179484</td>\n",
        "      <td>-0.565305</td>\n",
        "      <td> 2.825637</td>\n",
        "      <td> 0</td>\n",
        "      <td> 0</td>\n",
        "      <td> 0.518408</td>\n",
        "      <td>...</td>\n",
        "    </tr>\n",
        "    <tr>\n",
        "      <th>26</th>\n",
        "      <td> 11186</td>\n",
        "      <td> 196</td>\n",
        "      <td> 0</td>\n",
        "      <td> 0</td>\n",
        "      <td> 0.000000</td>\n",
        "      <td> 0.000000</td>\n",
        "      <td> 0.000000</td>\n",
        "      <td> 0.000000</td>\n",
        "      <td> 0.000000</td>\n",
        "      <td> 0.000000</td>\n",
        "      <td>-0.002772</td>\n",
        "      <td> 0.002794</td>\n",
        "      <td> 0.000000</td>\n",
        "      <td> 0.000000</td>\n",
        "      <td> 0.130263</td>\n",
        "      <td> 0.126449</td>\n",
        "      <td> 0.344194</td>\n",
        "      <td> 0</td>\n",
        "      <td> 0</td>\n",
        "      <td> 0.004043</td>\n",
        "      <td>...</td>\n",
        "    </tr>\n",
        "    <tr>\n",
        "      <th>27</th>\n",
        "      <td> 11186</td>\n",
        "      <td>  39</td>\n",
        "      <td> 0</td>\n",
        "      <td> 0</td>\n",
        "      <td> 0.000000</td>\n",
        "      <td> 0.000000</td>\n",
        "      <td> 0.000000</td>\n",
        "      <td> 0.000000</td>\n",
        "      <td> 0.000000</td>\n",
        "      <td> 0.000000</td>\n",
        "      <td> 0.004713</td>\n",
        "      <td> 0.010852</td>\n",
        "      <td> 0.000000</td>\n",
        "      <td> 0.000000</td>\n",
        "      <td> 0.026597</td>\n",
        "      <td> 0.037346</td>\n",
        "      <td> 0.093864</td>\n",
        "      <td> 0</td>\n",
        "      <td> 0</td>\n",
        "      <td> 0.090364</td>\n",
        "      <td>...</td>\n",
        "    </tr>\n",
        "    <tr>\n",
        "      <th>28</th>\n",
        "      <td> 11186</td>\n",
        "      <td> 906</td>\n",
        "      <td> 0</td>\n",
        "      <td> 0</td>\n",
        "      <td> 0.000000</td>\n",
        "      <td> 0.000000</td>\n",
        "      <td> 0.000000</td>\n",
        "      <td> 0.000000</td>\n",
        "      <td> 0.000000</td>\n",
        "      <td> 0.000000</td>\n",
        "      <td>-0.031935</td>\n",
        "      <td>-0.184034</td>\n",
        "      <td> 0.000000</td>\n",
        "      <td> 0.000000</td>\n",
        "      <td> 0.141065</td>\n",
        "      <td> 0.019554</td>\n",
        "      <td> 0.230375</td>\n",
        "      <td> 0</td>\n",
        "      <td> 0</td>\n",
        "      <td> 0.071290</td>\n",
        "      <td>...</td>\n",
        "    </tr>\n",
        "    <tr>\n",
        "      <th>29</th>\n",
        "      <td> 11186</td>\n",
        "      <td> 363</td>\n",
        "      <td> 0</td>\n",
        "      <td> 0</td>\n",
        "      <td> 0.000000</td>\n",
        "      <td> 0.000000</td>\n",
        "      <td> 0.000000</td>\n",
        "      <td> 0.000000</td>\n",
        "      <td> 0.000000</td>\n",
        "      <td> 0.000000</td>\n",
        "      <td> 0.008914</td>\n",
        "      <td> 0.005153</td>\n",
        "      <td> 0.000000</td>\n",
        "      <td> 0.000000</td>\n",
        "      <td> 0.081694</td>\n",
        "      <td> 0.068112</td>\n",
        "      <td> 0.025398</td>\n",
        "      <td> 0</td>\n",
        "      <td> 0</td>\n",
        "      <td> 0.149743</td>\n",
        "      <td>...</td>\n",
        "    </tr>\n",
        "    <tr>\n",
        "      <th>30</th>\n",
        "      <td> 11186</td>\n",
        "      <td> 987</td>\n",
        "      <td> 0</td>\n",
        "      <td> 0</td>\n",
        "      <td> 0.000000</td>\n",
        "      <td> 0.000000</td>\n",
        "      <td> 0.000000</td>\n",
        "      <td> 0.000000</td>\n",
        "      <td> 0.000000</td>\n",
        "      <td> 0.000000</td>\n",
        "      <td> 0.046462</td>\n",
        "      <td> 0.036625</td>\n",
        "      <td> 0.000000</td>\n",
        "      <td> 0.000000</td>\n",
        "      <td> 0.066271</td>\n",
        "      <td> 0.056005</td>\n",
        "      <td> 0.256316</td>\n",
        "      <td> 0</td>\n",
        "      <td> 0</td>\n",
        "      <td> 0.026438</td>\n",
        "      <td>...</td>\n",
        "    </tr>\n",
        "    <tr>\n",
        "      <th>31</th>\n",
        "      <td> 11186</td>\n",
        "      <td> 988</td>\n",
        "      <td> 0</td>\n",
        "      <td> 0</td>\n",
        "      <td> 0.000000</td>\n",
        "      <td> 0.000000</td>\n",
        "      <td> 0.000000</td>\n",
        "      <td> 0.000000</td>\n",
        "      <td> 0.000000</td>\n",
        "      <td> 0.000000</td>\n",
        "      <td> 0.000622</td>\n",
        "      <td> 0.001008</td>\n",
        "      <td> 0.000000</td>\n",
        "      <td> 0.000000</td>\n",
        "      <td> 0.075172</td>\n",
        "      <td> 0.066235</td>\n",
        "      <td> 0.094672</td>\n",
        "      <td> 0</td>\n",
        "      <td> 0</td>\n",
        "      <td> 0.163682</td>\n",
        "      <td>...</td>\n",
        "    </tr>\n",
        "    <tr>\n",
        "      <th>32</th>\n",
        "      <td> 11186</td>\n",
        "      <td> 989</td>\n",
        "      <td> 0</td>\n",
        "      <td> 0</td>\n",
        "      <td> 0.000000</td>\n",
        "      <td> 0.000000</td>\n",
        "      <td> 0.000000</td>\n",
        "      <td> 0.000000</td>\n",
        "      <td> 0.000000</td>\n",
        "      <td> 0.000000</td>\n",
        "      <td> 0.039370</td>\n",
        "      <td> 0.031959</td>\n",
        "      <td> 0.000000</td>\n",
        "      <td> 0.000000</td>\n",
        "      <td> 0.058536</td>\n",
        "      <td> 0.043726</td>\n",
        "      <td> 0.240108</td>\n",
        "      <td> 0</td>\n",
        "      <td> 0</td>\n",
        "      <td> 0.053019</td>\n",
        "      <td>...</td>\n",
        "    </tr>\n",
        "    <tr>\n",
        "      <th>33</th>\n",
        "      <td> 11186</td>\n",
        "      <td> 990</td>\n",
        "      <td> 0</td>\n",
        "      <td> 0</td>\n",
        "      <td> 0.000000</td>\n",
        "      <td> 0.000000</td>\n",
        "      <td> 0.000000</td>\n",
        "      <td> 0.000000</td>\n",
        "      <td> 0.000000</td>\n",
        "      <td> 0.000000</td>\n",
        "      <td> 0.073656</td>\n",
        "      <td> 0.140680</td>\n",
        "      <td> 0.000000</td>\n",
        "      <td> 0.000000</td>\n",
        "      <td> 0.045608</td>\n",
        "      <td> 0.038337</td>\n",
        "      <td> 0.291749</td>\n",
        "      <td> 0</td>\n",
        "      <td> 0</td>\n",
        "      <td> 0.044257</td>\n",
        "      <td>...</td>\n",
        "    </tr>\n",
        "    <tr>\n",
        "      <th>34</th>\n",
        "      <td> 11186</td>\n",
        "      <td> 991</td>\n",
        "      <td> 0</td>\n",
        "      <td> 0</td>\n",
        "      <td> 0.000000</td>\n",
        "      <td> 0.000000</td>\n",
        "      <td> 0.000000</td>\n",
        "      <td> 0.000000</td>\n",
        "      <td> 0.000000</td>\n",
        "      <td> 0.000000</td>\n",
        "      <td> 0.013307</td>\n",
        "      <td> 0.021987</td>\n",
        "      <td> 0.000000</td>\n",
        "      <td> 0.000000</td>\n",
        "      <td> 0.017861</td>\n",
        "      <td> 0.035074</td>\n",
        "      <td> 0.375008</td>\n",
        "      <td> 0</td>\n",
        "      <td> 0</td>\n",
        "      <td> 0.062459</td>\n",
        "      <td>...</td>\n",
        "    </tr>\n",
        "    <tr>\n",
        "      <th>35</th>\n",
        "      <td> 11364</td>\n",
        "      <td> 153</td>\n",
        "      <td> 0</td>\n",
        "      <td> 0</td>\n",
        "      <td> 0.000000</td>\n",
        "      <td> 0.000000</td>\n",
        "      <td> 0.000000</td>\n",
        "      <td> 0.000000</td>\n",
        "      <td> 0.000000</td>\n",
        "      <td> 0.000000</td>\n",
        "      <td> 0.000000</td>\n",
        "      <td> 0.000000</td>\n",
        "      <td> 0.000000</td>\n",
        "      <td> 0.000000</td>\n",
        "      <td> 0.000000</td>\n",
        "      <td> 0.000000</td>\n",
        "      <td> 0.306393</td>\n",
        "      <td> 0</td>\n",
        "      <td> 0</td>\n",
        "      <td> 0.000000</td>\n",
        "      <td>...</td>\n",
        "    </tr>\n",
        "    <tr>\n",
        "      <th>36</th>\n",
        "      <td> 11364</td>\n",
        "      <td>  18</td>\n",
        "      <td> 0</td>\n",
        "      <td> 0</td>\n",
        "      <td> 0.000000</td>\n",
        "      <td> 0.000000</td>\n",
        "      <td> 0.000000</td>\n",
        "      <td> 0.000000</td>\n",
        "      <td> 0.000000</td>\n",
        "      <td> 0.000000</td>\n",
        "      <td> 0.000000</td>\n",
        "      <td> 0.000000</td>\n",
        "      <td> 0.000000</td>\n",
        "      <td> 0.000000</td>\n",
        "      <td> 0.000000</td>\n",
        "      <td> 0.000000</td>\n",
        "      <td> 0.312312</td>\n",
        "      <td> 0</td>\n",
        "      <td> 0</td>\n",
        "      <td> 0.000000</td>\n",
        "      <td>...</td>\n",
        "    </tr>\n",
        "    <tr>\n",
        "      <th>37</th>\n",
        "      <td> 11364</td>\n",
        "      <td> 148</td>\n",
        "      <td> 0</td>\n",
        "      <td> 0</td>\n",
        "      <td> 0.000000</td>\n",
        "      <td> 0.000000</td>\n",
        "      <td> 0.000000</td>\n",
        "      <td> 0.000000</td>\n",
        "      <td> 0.000000</td>\n",
        "      <td> 0.000000</td>\n",
        "      <td> 0.000000</td>\n",
        "      <td> 0.000000</td>\n",
        "      <td> 0.000000</td>\n",
        "      <td> 0.000000</td>\n",
        "      <td> 0.000000</td>\n",
        "      <td> 0.000000</td>\n",
        "      <td> 0.568260</td>\n",
        "      <td> 0</td>\n",
        "      <td> 0</td>\n",
        "      <td> 0.000000</td>\n",
        "      <td>...</td>\n",
        "    </tr>\n",
        "    <tr>\n",
        "      <th>38</th>\n",
        "      <td> 11364</td>\n",
        "      <td> 861</td>\n",
        "      <td> 0</td>\n",
        "      <td> 0</td>\n",
        "      <td> 0.000000</td>\n",
        "      <td> 0.000000</td>\n",
        "      <td> 0.000000</td>\n",
        "      <td> 0.000000</td>\n",
        "      <td> 0.000000</td>\n",
        "      <td> 0.000000</td>\n",
        "      <td> 0.000000</td>\n",
        "      <td> 0.000000</td>\n",
        "      <td> 0.000000</td>\n",
        "      <td> 0.000000</td>\n",
        "      <td> 0.000000</td>\n",
        "      <td> 0.000000</td>\n",
        "      <td> 0.458616</td>\n",
        "      <td> 0</td>\n",
        "      <td> 0</td>\n",
        "      <td> 0.000000</td>\n",
        "      <td>...</td>\n",
        "    </tr>\n",
        "    <tr>\n",
        "      <th>39</th>\n",
        "      <td> 11410</td>\n",
        "      <td> 864</td>\n",
        "      <td> 0</td>\n",
        "      <td> 0</td>\n",
        "      <td> 0.000998</td>\n",
        "      <td> 0.001693</td>\n",
        "      <td> 0.003435</td>\n",
        "      <td> 0.003221</td>\n",
        "      <td> 0.001167</td>\n",
        "      <td> 0.001657</td>\n",
        "      <td> 0.000000</td>\n",
        "      <td> 0.000000</td>\n",
        "      <td> 0.000000</td>\n",
        "      <td> 0.000000</td>\n",
        "      <td> 0.139547</td>\n",
        "      <td> 0.196569</td>\n",
        "      <td> 0.153667</td>\n",
        "      <td> 0</td>\n",
        "      <td> 0</td>\n",
        "      <td> 0.010962</td>\n",
        "      <td>...</td>\n",
        "    </tr>\n",
        "    <tr>\n",
        "      <th>40</th>\n",
        "      <td> 11410</td>\n",
        "      <td> 865</td>\n",
        "      <td> 0</td>\n",
        "      <td> 0</td>\n",
        "      <td> 0.014135</td>\n",
        "      <td> 0.012391</td>\n",
        "      <td> 0.021989</td>\n",
        "      <td> 0.021954</td>\n",
        "      <td> 0.018492</td>\n",
        "      <td> 0.024820</td>\n",
        "      <td> 0.000000</td>\n",
        "      <td> 0.000000</td>\n",
        "      <td> 0.000000</td>\n",
        "      <td> 0.000000</td>\n",
        "      <td> 0.093644</td>\n",
        "      <td> 0.088016</td>\n",
        "      <td> 0.103066</td>\n",
        "      <td> 0</td>\n",
        "      <td> 0</td>\n",
        "      <td> 0.020045</td>\n",
        "      <td>...</td>\n",
        "    </tr>\n",
        "    <tr>\n",
        "      <th>41</th>\n",
        "      <td> 11410</td>\n",
        "      <td> 866</td>\n",
        "      <td> 0</td>\n",
        "      <td> 0</td>\n",
        "      <td> 0.001648</td>\n",
        "      <td> 0.001005</td>\n",
        "      <td> 0.005131</td>\n",
        "      <td> 0.006914</td>\n",
        "      <td> 0.002195</td>\n",
        "      <td> 0.001846</td>\n",
        "      <td> 0.000000</td>\n",
        "      <td> 0.000000</td>\n",
        "      <td> 0.000000</td>\n",
        "      <td> 0.000000</td>\n",
        "      <td> 0.096219</td>\n",
        "      <td> 0.085585</td>\n",
        "      <td> 0.151717</td>\n",
        "      <td> 0</td>\n",
        "      <td> 0</td>\n",
        "      <td> 0.018679</td>\n",
        "      <td>...</td>\n",
        "    </tr>\n",
        "    <tr>\n",
        "      <th>42</th>\n",
        "      <td> 11410</td>\n",
        "      <td> 867</td>\n",
        "      <td> 0</td>\n",
        "      <td> 0</td>\n",
        "      <td>-0.000046</td>\n",
        "      <td> 0.000093</td>\n",
        "      <td> 0.003565</td>\n",
        "      <td> 0.001178</td>\n",
        "      <td> 0.000034</td>\n",
        "      <td>-0.000084</td>\n",
        "      <td> 0.000000</td>\n",
        "      <td> 0.000000</td>\n",
        "      <td> 0.000000</td>\n",
        "      <td> 0.000000</td>\n",
        "      <td> 0.061839</td>\n",
        "      <td> 0.083642</td>\n",
        "      <td> 0.137336</td>\n",
        "      <td> 0</td>\n",
        "      <td> 0</td>\n",
        "      <td> 0.006425</td>\n",
        "      <td>...</td>\n",
        "    </tr>\n",
        "    <tr>\n",
        "      <th>43</th>\n",
        "      <td> 11410</td>\n",
        "      <td> 874</td>\n",
        "      <td> 0</td>\n",
        "      <td> 0</td>\n",
        "      <td>-0.000226</td>\n",
        "      <td>-0.000131</td>\n",
        "      <td> 0.008085</td>\n",
        "      <td> 0.008519</td>\n",
        "      <td>-0.000127</td>\n",
        "      <td> 0.000234</td>\n",
        "      <td> 0.000000</td>\n",
        "      <td> 0.000000</td>\n",
        "      <td> 0.000000</td>\n",
        "      <td> 0.000000</td>\n",
        "      <td> 0.055467</td>\n",
        "      <td> 0.058694</td>\n",
        "      <td> 0.135247</td>\n",
        "      <td> 0</td>\n",
        "      <td> 0</td>\n",
        "      <td> 0.065993</td>\n",
        "      <td>...</td>\n",
        "    </tr>\n",
        "    <tr>\n",
        "      <th>44</th>\n",
        "      <td> 11410</td>\n",
        "      <td> 875</td>\n",
        "      <td> 0</td>\n",
        "      <td> 0</td>\n",
        "      <td> 0.000000</td>\n",
        "      <td> 0.000068</td>\n",
        "      <td>-0.001129</td>\n",
        "      <td> 0.003361</td>\n",
        "      <td> 0.000251</td>\n",
        "      <td> 0.000112</td>\n",
        "      <td> 0.000000</td>\n",
        "      <td> 0.000000</td>\n",
        "      <td> 0.000000</td>\n",
        "      <td> 0.000000</td>\n",
        "      <td> 0.040294</td>\n",
        "      <td> 0.146588</td>\n",
        "      <td> 0.200675</td>\n",
        "      <td> 0</td>\n",
        "      <td> 0</td>\n",
        "      <td> 0.003977</td>\n",
        "      <td>...</td>\n",
        "    </tr>\n",
        "    <tr>\n",
        "      <th>45</th>\n",
        "      <td> 11410</td>\n",
        "      <td> 877</td>\n",
        "      <td> 0</td>\n",
        "      <td> 0</td>\n",
        "      <td> 0.000073</td>\n",
        "      <td> 0.000325</td>\n",
        "      <td> 0.000753</td>\n",
        "      <td>-0.000231</td>\n",
        "      <td>-0.000194</td>\n",
        "      <td> 0.000742</td>\n",
        "      <td> 0.000000</td>\n",
        "      <td> 0.000000</td>\n",
        "      <td> 0.000000</td>\n",
        "      <td> 0.000000</td>\n",
        "      <td> 0.006137</td>\n",
        "      <td> 0.060801</td>\n",
        "      <td> 0.205863</td>\n",
        "      <td> 0</td>\n",
        "      <td> 0</td>\n",
        "      <td> 0.140055</td>\n",
        "      <td>...</td>\n",
        "    </tr>\n",
        "    <tr>\n",
        "      <th>46</th>\n",
        "      <td> 11410</td>\n",
        "      <td> 150</td>\n",
        "      <td> 0</td>\n",
        "      <td> 0</td>\n",
        "      <td>-0.000067</td>\n",
        "      <td>-0.000009</td>\n",
        "      <td> 0.001389</td>\n",
        "      <td> 0.000052</td>\n",
        "      <td>-0.000640</td>\n",
        "      <td>-0.000092</td>\n",
        "      <td> 0.000000</td>\n",
        "      <td> 0.000000</td>\n",
        "      <td> 0.000000</td>\n",
        "      <td> 0.000000</td>\n",
        "      <td> 0.014310</td>\n",
        "      <td> 0.045208</td>\n",
        "      <td> 0.223067</td>\n",
        "      <td> 0</td>\n",
        "      <td> 0</td>\n",
        "      <td> 0.000010</td>\n",
        "      <td>...</td>\n",
        "    </tr>\n",
        "    <tr>\n",
        "      <th>47</th>\n",
        "      <td> 11410</td>\n",
        "      <td> 153</td>\n",
        "      <td> 0</td>\n",
        "      <td> 0</td>\n",
        "      <td> 0.000000</td>\n",
        "      <td> 0.000192</td>\n",
        "      <td> 0.000230</td>\n",
        "      <td> 0.000430</td>\n",
        "      <td>-0.000161</td>\n",
        "      <td> 0.000137</td>\n",
        "      <td> 0.000000</td>\n",
        "      <td> 0.000000</td>\n",
        "      <td> 0.000000</td>\n",
        "      <td> 0.000000</td>\n",
        "      <td> 0.034398</td>\n",
        "      <td> 0.035230</td>\n",
        "      <td> 0.108440</td>\n",
        "      <td> 0</td>\n",
        "      <td> 0</td>\n",
        "      <td> 0.042404</td>\n",
        "      <td>...</td>\n",
        "    </tr>\n",
        "    <tr>\n",
        "      <th>48</th>\n",
        "      <td> 12800</td>\n",
        "      <td> 900</td>\n",
        "      <td> 0</td>\n",
        "      <td> 0</td>\n",
        "      <td> 0.000000</td>\n",
        "      <td> 0.000000</td>\n",
        "      <td> 0.000000</td>\n",
        "      <td> 0.000000</td>\n",
        "      <td> 0.000000</td>\n",
        "      <td> 0.000000</td>\n",
        "      <td> 0.007126</td>\n",
        "      <td> 0.006811</td>\n",
        "      <td> 0.000000</td>\n",
        "      <td> 0.000000</td>\n",
        "      <td> 0.068327</td>\n",
        "      <td> 0.063324</td>\n",
        "      <td> 0.121065</td>\n",
        "      <td> 0</td>\n",
        "      <td> 0</td>\n",
        "      <td> 0.056192</td>\n",
        "      <td>...</td>\n",
        "    </tr>\n",
        "    <tr>\n",
        "      <th>49</th>\n",
        "      <td> 12800</td>\n",
        "      <td> 901</td>\n",
        "      <td> 0</td>\n",
        "      <td> 0</td>\n",
        "      <td> 0.000000</td>\n",
        "      <td> 0.000000</td>\n",
        "      <td> 0.000000</td>\n",
        "      <td> 0.000000</td>\n",
        "      <td> 0.000000</td>\n",
        "      <td> 0.000000</td>\n",
        "      <td> 0.047805</td>\n",
        "      <td> 0.045279</td>\n",
        "      <td> 0.000000</td>\n",
        "      <td> 0.000000</td>\n",
        "      <td> 0.088571</td>\n",
        "      <td> 0.053601</td>\n",
        "      <td> 0.229336</td>\n",
        "      <td> 0</td>\n",
        "      <td> 0</td>\n",
        "      <td> 0.064234</td>\n",
        "      <td>...</td>\n",
        "    </tr>\n",
        "    <tr>\n",
        "      <th>50</th>\n",
        "      <td> 12800</td>\n",
        "      <td>  70</td>\n",
        "      <td> 0</td>\n",
        "      <td> 0</td>\n",
        "      <td> 0.000000</td>\n",
        "      <td> 0.000000</td>\n",
        "      <td> 0.000000</td>\n",
        "      <td> 0.000000</td>\n",
        "      <td> 0.000000</td>\n",
        "      <td> 0.000000</td>\n",
        "      <td> 0.000443</td>\n",
        "      <td> 0.000048</td>\n",
        "      <td> 0.000000</td>\n",
        "      <td> 0.000000</td>\n",
        "      <td> 0.062815</td>\n",
        "      <td> 0.082818</td>\n",
        "      <td> 0.151129</td>\n",
        "      <td> 0</td>\n",
        "      <td> 0</td>\n",
        "      <td> 0.132121</td>\n",
        "      <td>...</td>\n",
        "    </tr>\n",
        "    <tr>\n",
        "      <th>51</th>\n",
        "      <td> 12800</td>\n",
        "      <td> 903</td>\n",
        "      <td> 0</td>\n",
        "      <td> 0</td>\n",
        "      <td> 0.000000</td>\n",
        "      <td> 0.000000</td>\n",
        "      <td> 0.000000</td>\n",
        "      <td> 0.000000</td>\n",
        "      <td> 0.000000</td>\n",
        "      <td> 0.000000</td>\n",
        "      <td>-0.000208</td>\n",
        "      <td> 0.000252</td>\n",
        "      <td> 0.000000</td>\n",
        "      <td> 0.000000</td>\n",
        "      <td> 0.064710</td>\n",
        "      <td> 0.053679</td>\n",
        "      <td> 0.134077</td>\n",
        "      <td> 0</td>\n",
        "      <td> 0</td>\n",
        "      <td> 0.199656</td>\n",
        "      <td>...</td>\n",
        "    </tr>\n",
        "    <tr>\n",
        "      <th>52</th>\n",
        "      <td> 12800</td>\n",
        "      <td> 904</td>\n",
        "      <td> 0</td>\n",
        "      <td> 0</td>\n",
        "      <td> 0.000000</td>\n",
        "      <td> 0.000000</td>\n",
        "      <td> 0.000000</td>\n",
        "      <td> 0.000000</td>\n",
        "      <td> 0.000000</td>\n",
        "      <td> 0.000000</td>\n",
        "      <td> 0.001017</td>\n",
        "      <td> 0.001121</td>\n",
        "      <td> 0.000000</td>\n",
        "      <td> 0.000000</td>\n",
        "      <td> 0.019175</td>\n",
        "      <td> 0.020988</td>\n",
        "      <td> 0.098233</td>\n",
        "      <td> 0</td>\n",
        "      <td> 0</td>\n",
        "      <td> 0.045101</td>\n",
        "      <td>...</td>\n",
        "    </tr>\n",
        "    <tr>\n",
        "      <th>53</th>\n",
        "      <td> 12800</td>\n",
        "      <td> 906</td>\n",
        "      <td> 0</td>\n",
        "      <td> 0</td>\n",
        "      <td> 0.000000</td>\n",
        "      <td> 0.000000</td>\n",
        "      <td> 0.000000</td>\n",
        "      <td> 0.000000</td>\n",
        "      <td> 0.000000</td>\n",
        "      <td> 0.000000</td>\n",
        "      <td> 0.005293</td>\n",
        "      <td> 0.008639</td>\n",
        "      <td> 0.000000</td>\n",
        "      <td> 0.000000</td>\n",
        "      <td> 0.071152</td>\n",
        "      <td> 0.076839</td>\n",
        "      <td> 0.207362</td>\n",
        "      <td> 0</td>\n",
        "      <td> 0</td>\n",
        "      <td> 0.063175</td>\n",
        "      <td>...</td>\n",
        "    </tr>\n",
        "    <tr>\n",
        "      <th>54</th>\n",
        "      <td> 12800</td>\n",
        "      <td> 907</td>\n",
        "      <td> 0</td>\n",
        "      <td> 0</td>\n",
        "      <td> 0.000000</td>\n",
        "      <td> 0.000000</td>\n",
        "      <td> 0.000000</td>\n",
        "      <td> 0.000000</td>\n",
        "      <td> 0.000000</td>\n",
        "      <td> 0.000000</td>\n",
        "      <td> 0.000190</td>\n",
        "      <td>-0.001020</td>\n",
        "      <td> 0.000000</td>\n",
        "      <td> 0.000000</td>\n",
        "      <td> 0.111510</td>\n",
        "      <td> 0.128677</td>\n",
        "      <td> 0.091171</td>\n",
        "      <td> 0</td>\n",
        "      <td> 0</td>\n",
        "      <td> 0.173928</td>\n",
        "      <td>...</td>\n",
        "    </tr>\n",
        "    <tr>\n",
        "      <th>55</th>\n",
        "      <td> 12800</td>\n",
        "      <td> 908</td>\n",
        "      <td> 0</td>\n",
        "      <td> 0</td>\n",
        "      <td> 0.000000</td>\n",
        "      <td> 0.000000</td>\n",
        "      <td> 0.000000</td>\n",
        "      <td> 0.000000</td>\n",
        "      <td> 0.000000</td>\n",
        "      <td> 0.000000</td>\n",
        "      <td>-0.000291</td>\n",
        "      <td>-0.000012</td>\n",
        "      <td> 0.000000</td>\n",
        "      <td> 0.000000</td>\n",
        "      <td> 0.033348</td>\n",
        "      <td> 0.070202</td>\n",
        "      <td> 0.290660</td>\n",
        "      <td> 0</td>\n",
        "      <td> 0</td>\n",
        "      <td> 0.056816</td>\n",
        "      <td>...</td>\n",
        "    </tr>\n",
        "    <tr>\n",
        "      <th>56</th>\n",
        "      <td> 12800</td>\n",
        "      <td> 909</td>\n",
        "      <td> 0</td>\n",
        "      <td> 0</td>\n",
        "      <td> 0.000000</td>\n",
        "      <td> 0.000000</td>\n",
        "      <td> 0.000000</td>\n",
        "      <td> 0.000000</td>\n",
        "      <td> 0.000000</td>\n",
        "      <td> 0.000000</td>\n",
        "      <td> 0.000424</td>\n",
        "      <td> 0.000051</td>\n",
        "      <td> 0.000000</td>\n",
        "      <td> 0.000000</td>\n",
        "      <td> 0.090005</td>\n",
        "      <td> 0.090364</td>\n",
        "      <td> 0.114722</td>\n",
        "      <td> 0</td>\n",
        "      <td> 0</td>\n",
        "      <td> 0.050978</td>\n",
        "      <td>...</td>\n",
        "    </tr>\n",
        "    <tr>\n",
        "      <th>57</th>\n",
        "      <td> 12800</td>\n",
        "      <td> 911</td>\n",
        "      <td> 0</td>\n",
        "      <td> 0</td>\n",
        "      <td> 0.000000</td>\n",
        "      <td> 0.000000</td>\n",
        "      <td> 0.000000</td>\n",
        "      <td> 0.000000</td>\n",
        "      <td> 0.000000</td>\n",
        "      <td> 0.000000</td>\n",
        "      <td> 0.000413</td>\n",
        "      <td> 0.000794</td>\n",
        "      <td> 0.000000</td>\n",
        "      <td> 0.000000</td>\n",
        "      <td> 0.056660</td>\n",
        "      <td> 0.059301</td>\n",
        "      <td> 0.422516</td>\n",
        "      <td> 0</td>\n",
        "      <td> 0</td>\n",
        "      <td> 0.074276</td>\n",
        "      <td>...</td>\n",
        "    </tr>\n",
        "    <tr>\n",
        "      <th>58</th>\n",
        "      <td> 12800</td>\n",
        "      <td> 592</td>\n",
        "      <td> 0</td>\n",
        "      <td> 0</td>\n",
        "      <td> 0.000000</td>\n",
        "      <td> 0.000000</td>\n",
        "      <td> 0.000000</td>\n",
        "      <td> 0.000000</td>\n",
        "      <td> 0.000000</td>\n",
        "      <td> 0.000000</td>\n",
        "      <td> 0.009580</td>\n",
        "      <td> 0.015132</td>\n",
        "      <td> 0.000000</td>\n",
        "      <td> 0.000000</td>\n",
        "      <td> 0.057977</td>\n",
        "      <td> 0.053832</td>\n",
        "      <td> 0.249081</td>\n",
        "      <td> 0</td>\n",
        "      <td> 0</td>\n",
        "      <td> 0.087103</td>\n",
        "      <td>...</td>\n",
        "    </tr>\n",
        "    <tr>\n",
        "      <th>59</th>\n",
        "      <td> 12800</td>\n",
        "      <td> 338</td>\n",
        "      <td> 0</td>\n",
        "      <td> 0</td>\n",
        "      <td> 0.000000</td>\n",
        "      <td> 0.000000</td>\n",
        "      <td> 0.000000</td>\n",
        "      <td> 0.000000</td>\n",
        "      <td> 0.000000</td>\n",
        "      <td> 0.000000</td>\n",
        "      <td> 0.000830</td>\n",
        "      <td> 0.000724</td>\n",
        "      <td> 0.000000</td>\n",
        "      <td> 0.000000</td>\n",
        "      <td> 0.036198</td>\n",
        "      <td> 0.032466</td>\n",
        "      <td> 0.114365</td>\n",
        "      <td> 0</td>\n",
        "      <td> 0</td>\n",
        "      <td> 0.102330</td>\n",
        "      <td>...</td>\n",
        "    </tr>\n",
        "    <tr>\n",
        "      <th></th>\n",
        "      <td>...</td>\n",
        "      <td>...</td>\n",
        "      <td>...</td>\n",
        "      <td>...</td>\n",
        "      <td>...</td>\n",
        "      <td>...</td>\n",
        "      <td>...</td>\n",
        "      <td>...</td>\n",
        "      <td>...</td>\n",
        "      <td>...</td>\n",
        "      <td>...</td>\n",
        "      <td>...</td>\n",
        "      <td>...</td>\n",
        "      <td>...</td>\n",
        "      <td>...</td>\n",
        "      <td>...</td>\n",
        "      <td>...</td>\n",
        "      <td>...</td>\n",
        "      <td>...</td>\n",
        "      <td>...</td>\n",
        "    </tr>\n",
        "  </tbody>\n",
        "</table>\n",
        "<p>592 rows \u00d7 59 columns</p>\n",
        "</div>"
       ],
       "metadata": {},
       "output_type": "pyout",
       "prompt_number": 27,
       "text": [
        "      Ego  Circle  birthday  education;classes;description  \\\n",
        "0   10395      10         0                              0   \n",
        "1   10395      78         0                              0   \n",
        "2   10395      84         0                              0   \n",
        "3   10395     377         0                              0   \n",
        "4   10395     827         0                              0   \n",
        "5   10395     828         0                              0   \n",
        "6   10395     830         0                              0   \n",
        "7   10929     839         0                              0   \n",
        "8   10929     840         0                              0   \n",
        "9   10929     841         0                              0   \n",
        "10  10929     843         0                              0   \n",
        "11  10929     844         0                              0   \n",
        "12  10929     845         0                              0   \n",
        "13  11014     194         0                              0   \n",
        "14  11014      13         0                              0   \n",
        "15  11014     848         0                              0   \n",
        "16  11014     849         0                              0   \n",
        "17  11014     850         0                              0   \n",
        "18  11014     851         0                              0   \n",
        "19  11014     852         0                              0   \n",
        "20  11014     854         0                              0   \n",
        "21  11014     855         0                              0   \n",
        "22  11014     857         0                              0   \n",
        "23  11186     992         0                              0   \n",
        "24  11186     993         0                              0   \n",
        "25  11186     994         0                              0   \n",
        "26  11186     196         0                              0   \n",
        "27  11186      39         0                              0   \n",
        "28  11186     906         0                              0   \n",
        "29  11186     363         0                              0   \n",
        "30  11186     987         0                              0   \n",
        "31  11186     988         0                              0   \n",
        "32  11186     989         0                              0   \n",
        "33  11186     990         0                              0   \n",
        "34  11186     991         0                              0   \n",
        "35  11364     153         0                              0   \n",
        "36  11364      18         0                              0   \n",
        "37  11364     148         0                              0   \n",
        "38  11364     861         0                              0   \n",
        "39  11410     864         0                              0   \n",
        "40  11410     865         0                              0   \n",
        "41  11410     866         0                              0   \n",
        "42  11410     867         0                              0   \n",
        "43  11410     874         0                              0   \n",
        "44  11410     875         0                              0   \n",
        "45  11410     877         0                              0   \n",
        "46  11410     150         0                              0   \n",
        "47  11410     153         0                              0   \n",
        "48  12800     900         0                              0   \n",
        "49  12800     901         0                              0   \n",
        "50  12800      70         0                              0   \n",
        "51  12800     903         0                              0   \n",
        "52  12800     904         0                              0   \n",
        "53  12800     906         0                              0   \n",
        "54  12800     907         0                              0   \n",
        "55  12800     908         0                              0   \n",
        "56  12800     909         0                              0   \n",
        "57  12800     911         0                              0   \n",
        "58  12800     592         0                              0   \n",
        "59  12800     338         0                              0   \n",
        "      ...     ...       ...                            ...   \n",
        "\n",
        "    education;classes;from;id  education;classes;from;name  \\\n",
        "0                    0.000000                     0.000000   \n",
        "1                    0.000000                     0.000000   \n",
        "2                    0.000000                     0.000000   \n",
        "3                    0.000000                     0.000000   \n",
        "4                    0.000000                     0.000000   \n",
        "5                    0.000000                     0.000000   \n",
        "6                    0.000000                     0.000000   \n",
        "7                    0.000000                     0.000000   \n",
        "8                    0.000000                     0.000000   \n",
        "9                    0.000000                     0.000000   \n",
        "10                   0.000000                     0.000000   \n",
        "11                   0.000000                     0.000000   \n",
        "12                   0.000000                     0.000000   \n",
        "13                   0.000000                     0.000000   \n",
        "14                   0.000000                     0.000000   \n",
        "15                   0.000000                     0.000000   \n",
        "16                   0.000000                     0.000000   \n",
        "17                   0.000000                     0.000000   \n",
        "18                   0.000000                     0.000000   \n",
        "19                   0.000000                     0.000000   \n",
        "20                   0.000000                     0.000000   \n",
        "21                   0.000000                     0.000000   \n",
        "22                   0.000000                     0.000000   \n",
        "23                   0.000000                     0.000000   \n",
        "24                   0.000000                     0.000000   \n",
        "25                   0.000000                     0.000000   \n",
        "26                   0.000000                     0.000000   \n",
        "27                   0.000000                     0.000000   \n",
        "28                   0.000000                     0.000000   \n",
        "29                   0.000000                     0.000000   \n",
        "30                   0.000000                     0.000000   \n",
        "31                   0.000000                     0.000000   \n",
        "32                   0.000000                     0.000000   \n",
        "33                   0.000000                     0.000000   \n",
        "34                   0.000000                     0.000000   \n",
        "35                   0.000000                     0.000000   \n",
        "36                   0.000000                     0.000000   \n",
        "37                   0.000000                     0.000000   \n",
        "38                   0.000000                     0.000000   \n",
        "39                   0.000998                     0.001693   \n",
        "40                   0.014135                     0.012391   \n",
        "41                   0.001648                     0.001005   \n",
        "42                  -0.000046                     0.000093   \n",
        "43                  -0.000226                    -0.000131   \n",
        "44                   0.000000                     0.000068   \n",
        "45                   0.000073                     0.000325   \n",
        "46                  -0.000067                    -0.000009   \n",
        "47                   0.000000                     0.000192   \n",
        "48                   0.000000                     0.000000   \n",
        "49                   0.000000                     0.000000   \n",
        "50                   0.000000                     0.000000   \n",
        "51                   0.000000                     0.000000   \n",
        "52                   0.000000                     0.000000   \n",
        "53                   0.000000                     0.000000   \n",
        "54                   0.000000                     0.000000   \n",
        "55                   0.000000                     0.000000   \n",
        "56                   0.000000                     0.000000   \n",
        "57                   0.000000                     0.000000   \n",
        "58                   0.000000                     0.000000   \n",
        "59                   0.000000                     0.000000   \n",
        "                          ...                          ...   \n",
        "\n",
        "    education;classes;id  education;classes;name  education;classes;with;id  \\\n",
        "0               0.000000                0.000000                   0.000000   \n",
        "1               0.000000                0.000000                   0.000000   \n",
        "2               0.000000                0.000000                   0.000000   \n",
        "3               0.000000                0.000000                   0.000000   \n",
        "4               0.000000                0.000000                   0.000000   \n",
        "5               0.000000                0.000000                   0.000000   \n",
        "6               0.000000                0.000000                   0.000000   \n",
        "7               0.000000                0.000000                   0.000000   \n",
        "8               0.000000                0.000000                   0.000000   \n",
        "9               0.000000                0.000000                   0.000000   \n",
        "10              0.000000                0.000000                   0.000000   \n",
        "11              0.000000                0.000000                   0.000000   \n",
        "12              0.000000                0.000000                   0.000000   \n",
        "13              0.000000                0.000000                   0.000000   \n",
        "14              0.000000                0.000000                   0.000000   \n",
        "15              0.000000                0.000000                   0.000000   \n",
        "16              0.000000                0.000000                   0.000000   \n",
        "17              0.000000                0.000000                   0.000000   \n",
        "18              0.000000                0.000000                   0.000000   \n",
        "19              0.000000                0.000000                   0.000000   \n",
        "20              0.000000                0.000000                   0.000000   \n",
        "21              0.000000                0.000000                   0.000000   \n",
        "22              0.000000                0.000000                   0.000000   \n",
        "23              0.000000                0.000000                   0.000000   \n",
        "24              0.000000                0.000000                   0.000000   \n",
        "25              0.000000                0.000000                   0.000000   \n",
        "26              0.000000                0.000000                   0.000000   \n",
        "27              0.000000                0.000000                   0.000000   \n",
        "28              0.000000                0.000000                   0.000000   \n",
        "29              0.000000                0.000000                   0.000000   \n",
        "30              0.000000                0.000000                   0.000000   \n",
        "31              0.000000                0.000000                   0.000000   \n",
        "32              0.000000                0.000000                   0.000000   \n",
        "33              0.000000                0.000000                   0.000000   \n",
        "34              0.000000                0.000000                   0.000000   \n",
        "35              0.000000                0.000000                   0.000000   \n",
        "36              0.000000                0.000000                   0.000000   \n",
        "37              0.000000                0.000000                   0.000000   \n",
        "38              0.000000                0.000000                   0.000000   \n",
        "39              0.003435                0.003221                   0.001167   \n",
        "40              0.021989                0.021954                   0.018492   \n",
        "41              0.005131                0.006914                   0.002195   \n",
        "42              0.003565                0.001178                   0.000034   \n",
        "43              0.008085                0.008519                  -0.000127   \n",
        "44             -0.001129                0.003361                   0.000251   \n",
        "45              0.000753               -0.000231                  -0.000194   \n",
        "46              0.001389                0.000052                  -0.000640   \n",
        "47              0.000230                0.000430                  -0.000161   \n",
        "48              0.000000                0.000000                   0.000000   \n",
        "49              0.000000                0.000000                   0.000000   \n",
        "50              0.000000                0.000000                   0.000000   \n",
        "51              0.000000                0.000000                   0.000000   \n",
        "52              0.000000                0.000000                   0.000000   \n",
        "53              0.000000                0.000000                   0.000000   \n",
        "54              0.000000                0.000000                   0.000000   \n",
        "55              0.000000                0.000000                   0.000000   \n",
        "56              0.000000                0.000000                   0.000000   \n",
        "57              0.000000                0.000000                   0.000000   \n",
        "58              0.000000                0.000000                   0.000000   \n",
        "59              0.000000                0.000000                   0.000000   \n",
        "                     ...                     ...                        ...   \n",
        "\n",
        "    education;classes;with;name  education;concentration;id  \\\n",
        "0                      0.000000                    0.000000   \n",
        "1                      0.000000                    0.000000   \n",
        "2                      0.000000                    0.000000   \n",
        "3                      0.000000                    0.000000   \n",
        "4                      0.000000                    0.000000   \n",
        "5                      0.000000                    0.000000   \n",
        "6                      0.000000                    0.000000   \n",
        "7                      0.000000                    0.000000   \n",
        "8                      0.000000                    0.000000   \n",
        "9                      0.000000                    0.000000   \n",
        "10                     0.000000                    0.000000   \n",
        "11                     0.000000                    0.000000   \n",
        "12                     0.000000                    0.000000   \n",
        "13                     0.000000                    0.003255   \n",
        "14                     0.000000                    0.006196   \n",
        "15                     0.000000                    0.045446   \n",
        "16                     0.000000                    0.016856   \n",
        "17                     0.000000                    0.064554   \n",
        "18                     0.000000                    0.065175   \n",
        "19                     0.000000                    0.030303   \n",
        "20                     0.000000                    0.008784   \n",
        "21                     0.000000                    0.006102   \n",
        "22                     0.000000                    0.014866   \n",
        "23                     0.000000                    0.040105   \n",
        "24                     0.000000                    0.006732   \n",
        "25                     0.000000                   -0.010217   \n",
        "26                     0.000000                   -0.002772   \n",
        "27                     0.000000                    0.004713   \n",
        "28                     0.000000                   -0.031935   \n",
        "29                     0.000000                    0.008914   \n",
        "30                     0.000000                    0.046462   \n",
        "31                     0.000000                    0.000622   \n",
        "32                     0.000000                    0.039370   \n",
        "33                     0.000000                    0.073656   \n",
        "34                     0.000000                    0.013307   \n",
        "35                     0.000000                    0.000000   \n",
        "36                     0.000000                    0.000000   \n",
        "37                     0.000000                    0.000000   \n",
        "38                     0.000000                    0.000000   \n",
        "39                     0.001657                    0.000000   \n",
        "40                     0.024820                    0.000000   \n",
        "41                     0.001846                    0.000000   \n",
        "42                    -0.000084                    0.000000   \n",
        "43                     0.000234                    0.000000   \n",
        "44                     0.000112                    0.000000   \n",
        "45                     0.000742                    0.000000   \n",
        "46                    -0.000092                    0.000000   \n",
        "47                     0.000137                    0.000000   \n",
        "48                     0.000000                    0.007126   \n",
        "49                     0.000000                    0.047805   \n",
        "50                     0.000000                    0.000443   \n",
        "51                     0.000000                   -0.000208   \n",
        "52                     0.000000                    0.001017   \n",
        "53                     0.000000                    0.005293   \n",
        "54                     0.000000                    0.000190   \n",
        "55                     0.000000                   -0.000291   \n",
        "56                     0.000000                    0.000424   \n",
        "57                     0.000000                    0.000413   \n",
        "58                     0.000000                    0.009580   \n",
        "59                     0.000000                    0.000830   \n",
        "                            ...                         ...   \n",
        "\n",
        "    education;concentration;name  education;degree;id  education;degree;name  \\\n",
        "0                       0.000000             0.000000               0.000000   \n",
        "1                       0.000000             0.000000               0.000000   \n",
        "2                       0.000000             0.000000               0.000000   \n",
        "3                       0.000000             0.000000               0.000000   \n",
        "4                       0.000000             0.000000               0.000000   \n",
        "5                       0.000000             0.000000               0.000000   \n",
        "6                       0.000000             0.000000               0.000000   \n",
        "7                       0.000000             0.000000               0.000000   \n",
        "8                       0.000000             0.000000               0.000000   \n",
        "9                       0.000000             0.000000               0.000000   \n",
        "10                      0.000000             0.000000               0.000000   \n",
        "11                      0.000000             0.000000               0.000000   \n",
        "12                      0.000000             0.000000               0.000000   \n",
        "13                      0.006686             0.004714               0.001225   \n",
        "14                      0.007224             0.002848               0.002602   \n",
        "15                      0.036637             0.027731               0.018465   \n",
        "16                      0.008395             0.011564               0.018527   \n",
        "17                      0.033778             0.003983               0.010410   \n",
        "18                      0.009945            -0.001589               0.000586   \n",
        "19                      0.022213             0.001176               0.002922   \n",
        "20                      0.024321             0.001845               0.001133   \n",
        "21                      0.006599             0.043620               0.034285   \n",
        "22                      0.055321             0.000913               0.008261   \n",
        "23                      0.008283             0.000000               0.000000   \n",
        "24                     -0.003454             0.000000               0.000000   \n",
        "25                      0.211799             0.000000               0.000000   \n",
        "26                      0.002794             0.000000               0.000000   \n",
        "27                      0.010852             0.000000               0.000000   \n",
        "28                     -0.184034             0.000000               0.000000   \n",
        "29                      0.005153             0.000000               0.000000   \n",
        "30                      0.036625             0.000000               0.000000   \n",
        "31                      0.001008             0.000000               0.000000   \n",
        "32                      0.031959             0.000000               0.000000   \n",
        "33                      0.140680             0.000000               0.000000   \n",
        "34                      0.021987             0.000000               0.000000   \n",
        "35                      0.000000             0.000000               0.000000   \n",
        "36                      0.000000             0.000000               0.000000   \n",
        "37                      0.000000             0.000000               0.000000   \n",
        "38                      0.000000             0.000000               0.000000   \n",
        "39                      0.000000             0.000000               0.000000   \n",
        "40                      0.000000             0.000000               0.000000   \n",
        "41                      0.000000             0.000000               0.000000   \n",
        "42                      0.000000             0.000000               0.000000   \n",
        "43                      0.000000             0.000000               0.000000   \n",
        "44                      0.000000             0.000000               0.000000   \n",
        "45                      0.000000             0.000000               0.000000   \n",
        "46                      0.000000             0.000000               0.000000   \n",
        "47                      0.000000             0.000000               0.000000   \n",
        "48                      0.006811             0.000000               0.000000   \n",
        "49                      0.045279             0.000000               0.000000   \n",
        "50                      0.000048             0.000000               0.000000   \n",
        "51                      0.000252             0.000000               0.000000   \n",
        "52                      0.001121             0.000000               0.000000   \n",
        "53                      0.008639             0.000000               0.000000   \n",
        "54                     -0.001020             0.000000               0.000000   \n",
        "55                     -0.000012             0.000000               0.000000   \n",
        "56                      0.000051             0.000000               0.000000   \n",
        "57                      0.000794             0.000000               0.000000   \n",
        "58                      0.015132             0.000000               0.000000   \n",
        "59                      0.000724             0.000000               0.000000   \n",
        "                             ...                  ...                    ...   \n",
        "\n",
        "    education;school;id  education;school;name  education;type  \\\n",
        "0              0.043414               0.041734        0.070957   \n",
        "1              0.038699               0.073493        0.156294   \n",
        "2              0.055303               0.140168        0.091992   \n",
        "3              0.036916              -0.037764        0.154006   \n",
        "4              0.038257               0.060793        0.046973   \n",
        "5              0.040733               0.056600        0.165253   \n",
        "6              0.040710               0.012832        0.101844   \n",
        "7              0.000000               0.000000        0.000000   \n",
        "8              0.000000               0.000000        0.000000   \n",
        "9              0.000000               0.000000        0.000000   \n",
        "10             0.000000               0.000000        0.000000   \n",
        "11             0.000000               0.000000        0.000000   \n",
        "12             0.000000               0.000000        0.000000   \n",
        "13             0.000048               0.011690        0.188163   \n",
        "14             0.021957               0.041430        0.401350   \n",
        "15             0.143645               0.138534        0.223227   \n",
        "16             0.118648               0.146045        0.200930   \n",
        "17             0.005005               0.015121        0.351432   \n",
        "18             0.056413               0.027301        0.310199   \n",
        "19             0.032376               0.047007        0.277713   \n",
        "20             0.014147               0.005948        0.319522   \n",
        "21             0.056135               0.055482        0.200065   \n",
        "22             0.011955               0.155575        0.296067   \n",
        "23             0.015536               0.023905        0.281038   \n",
        "24             0.047750               0.043928        0.396552   \n",
        "25            -1.179484              -0.565305        2.825637   \n",
        "26             0.130263               0.126449        0.344194   \n",
        "27             0.026597               0.037346        0.093864   \n",
        "28             0.141065               0.019554        0.230375   \n",
        "29             0.081694               0.068112        0.025398   \n",
        "30             0.066271               0.056005        0.256316   \n",
        "31             0.075172               0.066235        0.094672   \n",
        "32             0.058536               0.043726        0.240108   \n",
        "33             0.045608               0.038337        0.291749   \n",
        "34             0.017861               0.035074        0.375008   \n",
        "35             0.000000               0.000000        0.306393   \n",
        "36             0.000000               0.000000        0.312312   \n",
        "37             0.000000               0.000000        0.568260   \n",
        "38             0.000000               0.000000        0.458616   \n",
        "39             0.139547               0.196569        0.153667   \n",
        "40             0.093644               0.088016        0.103066   \n",
        "41             0.096219               0.085585        0.151717   \n",
        "42             0.061839               0.083642        0.137336   \n",
        "43             0.055467               0.058694        0.135247   \n",
        "44             0.040294               0.146588        0.200675   \n",
        "45             0.006137               0.060801        0.205863   \n",
        "46             0.014310               0.045208        0.223067   \n",
        "47             0.034398               0.035230        0.108440   \n",
        "48             0.068327               0.063324        0.121065   \n",
        "49             0.088571               0.053601        0.229336   \n",
        "50             0.062815               0.082818        0.151129   \n",
        "51             0.064710               0.053679        0.134077   \n",
        "52             0.019175               0.020988        0.098233   \n",
        "53             0.071152               0.076839        0.207362   \n",
        "54             0.111510               0.128677        0.091171   \n",
        "55             0.033348               0.070202        0.290660   \n",
        "56             0.090005               0.090364        0.114722   \n",
        "57             0.056660               0.059301        0.422516   \n",
        "58             0.057977               0.053832        0.249081   \n",
        "59             0.036198               0.032466        0.114365   \n",
        "                    ...                    ...             ...   \n",
        "\n",
        "    education;with;id  education;with;name  education;year;id      \n",
        "0                   0                    0           0.034581 ...  \n",
        "1                   0                    0           0.039025 ...  \n",
        "2                   0                    0           0.050296 ...  \n",
        "3                   0                    0           0.047943 ...  \n",
        "4                   0                    0           0.042162 ...  \n",
        "5                   0                    0           0.034461 ...  \n",
        "6                   0                    0           0.045704 ...  \n",
        "7                   0                    0           0.000000 ...  \n",
        "8                   0                    0           0.000000 ...  \n",
        "9                   0                    0           0.000000 ...  \n",
        "10                  0                    0           0.000000 ...  \n",
        "11                  0                    0           0.000000 ...  \n",
        "12                  0                    0           0.000000 ...  \n",
        "13                  0                    0           0.016908 ...  \n",
        "14                  0                    0           0.049278 ...  \n",
        "15                  0                    0           0.069526 ...  \n",
        "16                  0                    0           0.064437 ...  \n",
        "17                  0                    0           0.063422 ...  \n",
        "18                  0                    0           0.122422 ...  \n",
        "19                  0                    0           0.055368 ...  \n",
        "20                  0                    0           0.078320 ...  \n",
        "21                  0                    0           0.163252 ...  \n",
        "22                  0                    0           0.040709 ...  \n",
        "23                  0                    0           0.014498 ...  \n",
        "24                  0                    0          -0.010622 ...  \n",
        "25                  0                    0           0.518408 ...  \n",
        "26                  0                    0           0.004043 ...  \n",
        "27                  0                    0           0.090364 ...  \n",
        "28                  0                    0           0.071290 ...  \n",
        "29                  0                    0           0.149743 ...  \n",
        "30                  0                    0           0.026438 ...  \n",
        "31                  0                    0           0.163682 ...  \n",
        "32                  0                    0           0.053019 ...  \n",
        "33                  0                    0           0.044257 ...  \n",
        "34                  0                    0           0.062459 ...  \n",
        "35                  0                    0           0.000000 ...  \n",
        "36                  0                    0           0.000000 ...  \n",
        "37                  0                    0           0.000000 ...  \n",
        "38                  0                    0           0.000000 ...  \n",
        "39                  0                    0           0.010962 ...  \n",
        "40                  0                    0           0.020045 ...  \n",
        "41                  0                    0           0.018679 ...  \n",
        "42                  0                    0           0.006425 ...  \n",
        "43                  0                    0           0.065993 ...  \n",
        "44                  0                    0           0.003977 ...  \n",
        "45                  0                    0           0.140055 ...  \n",
        "46                  0                    0           0.000010 ...  \n",
        "47                  0                    0           0.042404 ...  \n",
        "48                  0                    0           0.056192 ...  \n",
        "49                  0                    0           0.064234 ...  \n",
        "50                  0                    0           0.132121 ...  \n",
        "51                  0                    0           0.199656 ...  \n",
        "52                  0                    0           0.045101 ...  \n",
        "53                  0                    0           0.063175 ...  \n",
        "54                  0                    0           0.173928 ...  \n",
        "55                  0                    0           0.056816 ...  \n",
        "56                  0                    0           0.050978 ...  \n",
        "57                  0                    0           0.074276 ...  \n",
        "58                  0                    0           0.087103 ...  \n",
        "59                  0                    0           0.102330 ...  \n",
        "                  ...                  ...                ...      \n",
        "\n",
        "[592 rows x 59 columns]"
       ]
      }
     ],
     "prompt_number": 27
    },
    {
     "cell_type": "code",
     "collapsed": false,
     "input": [
      "df.mean()"
     ],
     "language": "python",
     "metadata": {},
     "outputs": [
      {
       "metadata": {},
       "output_type": "pyout",
       "prompt_number": 28,
       "text": [
        "Ego                              12204.152027\n",
        "Circle                             606.854730\n",
        "birthday                             0.000689\n",
        "education;classes;description        0.000000\n",
        "education;classes;from;id            0.000488\n",
        "education;classes;from;name          0.000466\n",
        "education;classes;id                 0.001138\n",
        "education;classes;name               0.001471\n",
        "education;classes;with;id            0.000790\n",
        "education;classes;with;name          0.000662\n",
        "education;concentration;id           0.009574\n",
        "education;concentration;name         0.010541\n",
        "education;degree;id                  0.003288\n",
        "education;degree;name                0.001533\n",
        "education;school;id                  0.042975\n",
        "education;school;name                0.057546\n",
        "education;type                       0.168063\n",
        "education;with;id                    0.000305\n",
        "education;with;name                  0.000323\n",
        "education;year;id                    0.031927\n",
        "education;year;name                  0.026888\n",
        "first_name                           0.013138\n",
        "gender                               0.188752\n",
        "hometown;id                          0.024528\n",
        "hometown;name                        0.019607\n",
        "id                                   0.000000\n",
        "languages;id                         0.012388\n",
        "languages;name                       0.013330\n",
        "last_name                            0.032317\n",
        "locale                               0.126804\n",
        "location                             0.000000\n",
        "location;id                          0.040699\n",
        "location;name                        0.029576\n",
        "middle_name                          0.000000\n",
        "name                                 0.000056\n",
        "political                            0.000301\n",
        "religion                             0.000382\n",
        "work;description                     0.000000\n",
        "work;employer;id                     0.021597\n",
        "work;employer;name                   0.027492\n",
        "work;end_date                        0.012054\n",
        "work;from;id                         0.000000\n",
        "work;from;name                       0.000000\n",
        "work;location;id                     0.006265\n",
        "work;location;name                   0.009131\n",
        "work;position;id                     0.002411\n",
        "work;position;name                   0.002972\n",
        "work;projects;description            0.000000\n",
        "work;projects;end_date               0.000143\n",
        "work;projects;from;id                0.000000\n",
        "work;projects;from;name              0.000000\n",
        "work;projects;id                     0.000000\n",
        "work;projects;name                   0.000000\n",
        "work;projects;start_date             0.000224\n",
        "work;projects;with;id                0.000000\n",
        "work;projects;with;name              0.000000\n",
        "work;start_date                      0.031558\n",
        "work;with;id                         0.000000\n",
        "work;with;name                       0.000000\n",
        "Length: 59, dtype: float64"
       ]
      }
     ],
     "prompt_number": 28
    },
    {
     "cell_type": "code",
     "collapsed": false,
     "input": [
      "df.to_csv('characterist_profiles.csv')"
     ],
     "language": "python",
     "metadata": {},
     "outputs": [],
     "prompt_number": 29
    },
    {
     "cell_type": "code",
     "collapsed": false,
     "input": [
      "# need to sort out negative importance cases, these indicate correlated variables, \n",
      "# may be case of two circles based on different schools"
     ],
     "language": "python",
     "metadata": {},
     "outputs": [],
     "prompt_number": 30
    },
    {
     "cell_type": "code",
     "collapsed": false,
     "input": [
      "df_pos = df[df.min(axis=1)>=0]\n",
      "df_neg = df[df.min(axis=1)<0]"
     ],
     "language": "python",
     "metadata": {},
     "outputs": [],
     "prompt_number": 31
    },
    {
     "cell_type": "code",
     "collapsed": false,
     "input": [
      "df_pos_mean = df_pos.mean()\n",
      "df_pos_mean.sort(ascending=False)\n",
      "rand_chance = (len(df_pos_mean)-2)\n",
      "df_pos_mean[df_pos_mean.gt(1./(rand_chance))]*rand_chance"
     ],
     "language": "python",
     "metadata": {},
     "outputs": [
      {
       "metadata": {},
       "output_type": "pyout",
       "prompt_number": 32,
       "text": [
        "Ego                      683592.913495\n",
        "Circle                    31528.889273\n",
        "education;type                8.902193\n",
        "gender                        8.852014\n",
        "locale                        8.218047\n",
        "education;school;name         3.686895\n",
        "education;school;id           3.325928\n",
        "work;employer;name            1.880796\n",
        "last_name                     1.874346\n",
        "hometown;name                 1.861293\n",
        "education;year;name           1.830659\n",
        "hometown;id                   1.784725\n",
        "location;id                   1.777912\n",
        "location;name                 1.770638\n",
        "education;year;id             1.750241\n",
        "work;employer;id              1.387770\n",
        "work;start_date               1.250572\n",
        "languages;name                1.062154\n",
        "dtype: float64"
       ]
      }
     ],
     "prompt_number": 32
    },
    {
     "cell_type": "code",
     "collapsed": false,
     "input": [
      "df_pos_mean*rand_chance"
     ],
     "language": "python",
     "metadata": {},
     "outputs": [
      {
       "metadata": {},
       "output_type": "pyout",
       "prompt_number": 33,
       "text": [
        "Ego                              683592.913495\n",
        "Circle                            31528.889273\n",
        "education;type                        8.902193\n",
        "gender                                8.852014\n",
        "locale                                8.218047\n",
        "education;school;name                 3.686895\n",
        "education;school;id                   3.325928\n",
        "work;employer;name                    1.880796\n",
        "last_name                             1.874346\n",
        "hometown;name                         1.861293\n",
        "education;year;name                   1.830659\n",
        "hometown;id                           1.784725\n",
        "location;id                           1.777912\n",
        "location;name                         1.770638\n",
        "education;year;id                     1.750241\n",
        "work;employer;id                      1.387770\n",
        "work;start_date                       1.250572\n",
        "languages;name                        1.062154\n",
        "languages;id                          0.907210\n",
        "first_name                            0.867610\n",
        "education;concentration;name          0.569063\n",
        "work;end_date                         0.551632\n",
        "education;concentration;id            0.510804\n",
        "work;location;id                      0.440102\n",
        "work;location;name                    0.425880\n",
        "work;position;name                    0.145280\n",
        "work;position;id                      0.127448\n",
        "education;degree;name                 0.123455\n",
        "education;degree;id                   0.119657\n",
        "education;classes;name                0.071657\n",
        "education;classes;id                  0.064392\n",
        "birthday                              0.061466\n",
        "education;classes;with;name           0.040470\n",
        "education;classes;with;id             0.039443\n",
        "education;with;name                   0.024463\n",
        "education;with;id                     0.022652\n",
        "education;classes;from;name           0.022075\n",
        "education;classes;from;id             0.020874\n",
        "religion                              0.020558\n",
        "name                                  0.016860\n",
        "political                             0.008344\n",
        "work;projects;end_date                0.003740\n",
        "work;projects;start_date              0.003602\n",
        "work;projects;with;name               0.000000\n",
        "work;projects;with;id                 0.000000\n",
        "id                                    0.000000\n",
        "work;projects;name                    0.000000\n",
        "work;with;id                          0.000000\n",
        "location                              0.000000\n",
        "middle_name                           0.000000\n",
        "work;description                      0.000000\n",
        "work;from;id                          0.000000\n",
        "work;from;name                        0.000000\n",
        "work;projects;description             0.000000\n",
        "work;projects;from;id                 0.000000\n",
        "education;classes;description         0.000000\n",
        "work;projects;from;name               0.000000\n",
        "work;projects;id                      0.000000\n",
        "work;with;name                        0.000000\n",
        "Length: 59, dtype: float64"
       ]
      }
     ],
     "prompt_number": 33
    },
    {
     "cell_type": "code",
     "collapsed": false,
     "input": [
      "df_pos.mean()[2:]"
     ],
     "language": "python",
     "metadata": {},
     "outputs": [
      {
       "metadata": {},
       "output_type": "pyout",
       "prompt_number": 36,
       "text": [
        "birthday                         0.001078\n",
        "education;classes;description    0.000000\n",
        "education;classes;from;id        0.000366\n",
        "education;classes;from;name      0.000387\n",
        "education;classes;id             0.001130\n",
        "education;classes;name           0.001257\n",
        "education;classes;with;id        0.000692\n",
        "education;classes;with;name      0.000710\n",
        "education;concentration;id       0.008961\n",
        "education;concentration;name     0.009984\n",
        "education;degree;id              0.002099\n",
        "education;degree;name            0.002166\n",
        "education;school;id              0.058350\n",
        "education;school;name            0.064682\n",
        "education;type                   0.156179\n",
        "education;with;id                0.000397\n",
        "education;with;name              0.000429\n",
        "education;year;id                0.030706\n",
        "education;year;name              0.032117\n",
        "first_name                       0.015221\n",
        "gender                           0.155298\n",
        "hometown;id                      0.031311\n",
        "hometown;name                    0.032654\n",
        "id                               0.000000\n",
        "languages;id                     0.015916\n",
        "languages;name                   0.018634\n",
        "last_name                        0.032883\n",
        "locale                           0.144176\n",
        "location                         0.000000\n",
        "location;id                      0.031191\n",
        "location;name                    0.031064\n",
        "middle_name                      0.000000\n",
        "name                             0.000296\n",
        "political                        0.000146\n",
        "religion                         0.000361\n",
        "work;description                 0.000000\n",
        "work;employer;id                 0.024347\n",
        "work;employer;name               0.032996\n",
        "work;end_date                    0.009678\n",
        "work;from;id                     0.000000\n",
        "work;from;name                   0.000000\n",
        "work;location;id                 0.007721\n",
        "work;location;name               0.007472\n",
        "work;position;id                 0.002236\n",
        "work;position;name               0.002549\n",
        "work;projects;description        0.000000\n",
        "work;projects;end_date           0.000066\n",
        "work;projects;from;id            0.000000\n",
        "work;projects;from;name          0.000000\n",
        "work;projects;id                 0.000000\n",
        "work;projects;name               0.000000\n",
        "work;projects;start_date         0.000063\n",
        "work;projects;with;id            0.000000\n",
        "work;projects;with;name          0.000000\n",
        "work;start_date                  0.021940\n",
        "work;with;id                     0.000000\n",
        "work;with;name                   0.000000\n",
        "Length: 57, dtype: float64"
       ]
      }
     ],
     "prompt_number": 36
    },
    {
     "cell_type": "code",
     "collapsed": false,
     "input": [],
     "language": "python",
     "metadata": {},
     "outputs": [],
     "prompt_number": 33
    }
   ],
   "metadata": {}
  }
 ]
}