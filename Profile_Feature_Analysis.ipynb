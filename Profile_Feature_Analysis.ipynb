{
 "metadata": {
  "name": ""
 },
 "nbformat": 3,
 "nbformat_minor": 0,
 "worksheets": [
  {
   "cells": [
    {
     "cell_type": "code",
     "collapsed": false,
     "input": [
      "%matplotlib inline\n",
      "import networkx as nx\n",
      "from utility_funcs import readcirclefile, read_nodeadjlist, cost_function\n",
      "import os\n",
      "import sklearn.cluster\n",
      "from sklearn.ensemble import RandomForestClassifier\n",
      "import pandas as pd"
     ],
     "language": "python",
     "metadata": {},
     "outputs": [],
     "prompt_number": 1
    },
    {
     "cell_type": "code",
     "collapsed": false,
     "input": [
      "def readfeaturelist(filename):\n",
      "    \"\"\"\n",
      "    reads a featurelist file and returns a list of the feature names\n",
      "    \"\"\"\n",
      "    with open(filename) as f:\n",
      "        out = []        # list of feature names\n",
      "        for line in f:\n",
      "            out.append(line.strip())\n",
      "        return sorted(out)"
     ],
     "language": "python",
     "metadata": {},
     "outputs": [],
     "prompt_number": 2
    },
    {
     "cell_type": "code",
     "collapsed": false,
     "input": [
      "features = readfeaturelist('featureList.txt')\n",
      "print features\n",
      "print len(features)"
     ],
     "language": "python",
     "metadata": {},
     "outputs": [
      {
       "output_type": "stream",
       "stream": "stdout",
       "text": [
        "['birthday', 'education;classes;description', 'education;classes;from;id', 'education;classes;from;name', 'education;classes;id', 'education;classes;name', 'education;classes;with;id', 'education;classes;with;name', 'education;concentration;id', 'education;concentration;name', 'education;degree;id', 'education;degree;name', 'education;school;id', 'education;school;name', 'education;type', 'education;with;id', 'education;with;name', 'education;year;id', 'education;year;name', 'first_name', 'gender', 'hometown;id', 'hometown;name', 'id', 'languages;id', 'languages;name', 'last_name', 'locale', 'location', 'location;id', 'location;name', 'middle_name', 'name', 'political', 'religion', 'work;description', 'work;employer;id', 'work;employer;name', 'work;end_date', 'work;from;id', 'work;from;name', 'work;location;id', 'work;location;name', 'work;position;id', 'work;position;name', 'work;projects;description', 'work;projects;end_date', 'work;projects;from;id', 'work;projects;from;name', 'work;projects;id', 'work;projects;name', 'work;projects;start_date', 'work;projects;with;id', 'work;projects;with;name', 'work;start_date', 'work;with;id', 'work;with;name']\n",
        "57\n"
       ]
      }
     ],
     "prompt_number": 3
    },
    {
     "cell_type": "code",
     "collapsed": false,
     "input": [
      "def readfeatures(featurefile):\n",
      "    \"\"\"\n",
      "    reads a featurefile consisting of userid feature;value feature;value\n",
      "    returns a list where index is user id, elements are dictionaries \n",
      "    of features as keys pointing to list of values maybe should be sets\n",
      "    \"\"\"\n",
      "    with open(featurefile) as f:\n",
      "        out = [] \n",
      "        for line in f:\n",
      "            tokens = line.split()\n",
      "            profile = {}  # empty profile for the user\n",
      "            for tok in tokens[1:]:\n",
      "                feature,val = tok.rsplit(';',1)\n",
      "                val = int(val)\n",
      "                if feature not in profile:\n",
      "                    profile[feature]=set([val])\n",
      "                else:\n",
      "                    profile[feature].add(val)\n",
      "            out.append( profile )\n",
      "        for i in range(len(out)):\n",
      "            assert out[i]['id'] == set([i])  # check that each line was read and placed in the correct place in the list\n",
      "        return out"
     ],
     "language": "python",
     "metadata": {},
     "outputs": [],
     "prompt_number": 4
    },
    {
     "cell_type": "code",
     "collapsed": false,
     "input": [
      "def convert_profile_dict_to_vector(profile,features):\n",
      "    out = []\n",
      "    for feature in features:\n",
      "        if feature in profile:\n",
      "            out.append(profile[feature])\n",
      "        else:\n",
      "            out.append(set())\n",
      "    return out"
     ],
     "language": "python",
     "metadata": {},
     "outputs": [],
     "prompt_number": 5
    },
    {
     "cell_type": "code",
     "collapsed": false,
     "input": [
      "def match_vector(profile1,profile2):\n",
      "    return [len(x.intersection(y)) for x,y in zip(profile1,profile2)]"
     ],
     "language": "python",
     "metadata": {},
     "outputs": [],
     "prompt_number": 6
    },
    {
     "cell_type": "code",
     "collapsed": false,
     "input": [
      "def generate_feature_matrix(profiles_dict,ego,G):\n",
      "    return [match_vector(profiles_dict[ego], profiles_dict[g]) for g in G.nodes()]"
     ],
     "language": "python",
     "metadata": {},
     "outputs": [],
     "prompt_number": 7
    },
    {
     "cell_type": "code",
     "collapsed": false,
     "input": [
      "def generate_class_matrix(G,true_circles):\n",
      "    return dict(zip(true_circles.keys(),[[int(g in circle) for g in G.nodes()] for circle in true_circles.values()]))"
     ],
     "language": "python",
     "metadata": {},
     "outputs": [],
     "prompt_number": 8
    },
    {
     "cell_type": "code",
     "collapsed": false,
     "input": [
      "profiles_dict = readfeatures('features.txt')"
     ],
     "language": "python",
     "metadata": {},
     "outputs": [],
     "prompt_number": 9
    },
    {
     "cell_type": "code",
     "collapsed": false,
     "input": [
      "profile_matrix = [convert_profile_dict_to_vector(profile,features) for profile in profiles_dict]"
     ],
     "language": "python",
     "metadata": {},
     "outputs": [],
     "prompt_number": 10
    },
    {
     "cell_type": "code",
     "collapsed": false,
     "input": [
      "ego = 345\n",
      "true_circles = readcirclefile('./Training/'+str(ego)+'.circles')\n",
      "G = read_nodeadjlist('./egonets/'+str(ego)+'.egonet')\n",
      "print 'Total friends:', len(G.nodes())\n",
      "class_matrix = generate_class_matrix(G,true_circles)\n",
      "feature_matrix = generate_feature_matrix(profile_matrix,ego,G)\n",
      "\n",
      "for label,circle in class_matrix.items():\n",
      "    print 'Training Ego:', ego,'Circle:',label,'...'\n",
      "    forest = RandomForestClassifier(n_estimators=100)\n",
      "    forest = forest.fit( feature_matrix, circle )\n",
      "    important_features = sorted(zip(features,forest.feature_importances_), key=lambda x: x[1], reverse=True)\n",
      "    importance_scores = [val for key,val in important_features]\n",
      "    importance_labels = [key for key,val in important_features]\n",
      "    ind = range(len(importance_scores))\n",
      "    plt.bar(ind, forest.feature_importances_)\n",
      "    plt.axis([min(ind), max(ind), 0, 0.7])\n",
      "    plt.show()"
     ],
     "language": "python",
     "metadata": {},
     "outputs": [
      {
       "output_type": "stream",
       "stream": "stdout",
       "text": [
        "Total friends: 265\n",
        "Training Ego: 345 Circle: 20 ...\n"
       ]
      },
      {
       "metadata": {},
       "output_type": "display_data",
       "png": "[encoded data removed]",
       "text": [
        "<matplotlib.figure.Figure at 0x241fd650>"
       ]
      },
      {
       "output_type": "stream",
       "stream": "stdout",
       "text": [
        "Training Ego: 345 Circle: 22 ...\n"
       ]
      },
      {
       "metadata": {},
       "output_type": "display_data",
       "png": "[encoded data removed]",
       "text": [
        "<matplotlib.figure.Figure at 0x241fd7d0>"
       ]
      },
      {
       "output_type": "stream",
       "stream": "stdout",
       "text": [
        "Training Ego: 345 Circle: 24 ...\n"
       ]
      },
      {
       "metadata": {},
       "output_type": "display_data",
       "png": "[encoded data removed]",
       "text": [
        "<matplotlib.figure.Figure at 0x5e0770>"
       ]
      },
      {
       "output_type": "stream",
       "stream": "stdout",
       "text": [
        "Training Ego: 345 Circle: 26 ...\n"
       ]
      },
      {
       "metadata": {},
       "output_type": "display_data",
       "png": "[encoded data removed]",
       "text": [
        "<matplotlib.figure.Figure at 0x5bb49d0>"
       ]
      },
      {
       "output_type": "stream",
       "stream": "stdout",
       "text": [
        "Training Ego: 345 Circle: 27 ...\n"
       ]
      },
      {
       "metadata": {},
       "output_type": "display_data",
       "png": "[encoded data removed]",
       "text": [
        "<matplotlib.figure.Figure at 0x245314f0>"
       ]
      },
      {
       "output_type": "stream",
       "stream": "stdout",
       "text": [
        "Training Ego: 345 Circle: 28 ...\n"
       ]
      },
      {
       "metadata": {},
       "output_type": "display_data",
       "png": "[encoded data removed]",
       "text": [
        "<matplotlib.figure.Figure at 0x5d7fd0>"
       ]
      },
      {
       "output_type": "stream",
       "stream": "stdout",
       "text": [
        "Training Ego: 345 Circle: 29 ...\n"
       ]
      },
      {
       "metadata": {},
       "output_type": "display_data",
       "png": "[encoded data removed]",
       "text": [
        "<matplotlib.figure.Figure at 0x5e0810>"
       ]
      }
     ],
     "prompt_number": 11
    },
    {
     "cell_type": "code",
     "collapsed": false,
     "input": [
      "dict(zip(true_circles.keys(),[[int(g in circle) for g in G.nodes()] for circle in true_circles.values()]))"
     ],
     "language": "python",
     "metadata": {},
     "outputs": [
      {
       "metadata": {},
       "output_type": "pyout",
       "prompt_number": 12,
       "text": [
        "{20: [1,\n",
        "  0,\n",
        "  0,\n",
        "  0,\n",
        "  0,\n",
        "  0,\n",
        "  0,\n",
        "  0,\n",
        "  0,\n",
        "  1,\n",
        "  0,\n",
        "  1,\n",
        "  0,\n",
        "  0,\n",
        "  0,\n",
        "  0,\n",
        "  0,\n",
        "  0,\n",
        "  0,\n",
        "  0,\n",
        "  0,\n",
        "  0,\n",
        "  0,\n",
        "  1,\n",
        "  0,\n",
        "  0,\n",
        "  1,\n",
        "  0,\n",
        "  0,\n",
        "  1,\n",
        "  0,\n",
        "  1,\n",
        "  0,\n",
        "  0,\n",
        "  0,\n",
        "  0,\n",
        "  0,\n",
        "  0,\n",
        "  0,\n",
        "  0,\n",
        "  0,\n",
        "  0,\n",
        "  0,\n",
        "  0,\n",
        "  0,\n",
        "  0,\n",
        "  0,\n",
        "  0,\n",
        "  0,\n",
        "  0,\n",
        "  1,\n",
        "  0,\n",
        "  0,\n",
        "  1,\n",
        "  0,\n",
        "  0,\n",
        "  0,\n",
        "  0,\n",
        "  1,\n",
        "  0,\n",
        "  0,\n",
        "  0,\n",
        "  0,\n",
        "  0,\n",
        "  0,\n",
        "  0,\n",
        "  1,\n",
        "  0,\n",
        "  0,\n",
        "  0,\n",
        "  0,\n",
        "  0,\n",
        "  0,\n",
        "  0,\n",
        "  0,\n",
        "  0,\n",
        "  1,\n",
        "  0,\n",
        "  0,\n",
        "  0,\n",
        "  0,\n",
        "  0,\n",
        "  1,\n",
        "  0,\n",
        "  0,\n",
        "  0,\n",
        "  0,\n",
        "  0,\n",
        "  0,\n",
        "  0,\n",
        "  0,\n",
        "  0,\n",
        "  0,\n",
        "  0,\n",
        "  0,\n",
        "  0,\n",
        "  0,\n",
        "  0,\n",
        "  1,\n",
        "  0,\n",
        "  0,\n",
        "  0,\n",
        "  1,\n",
        "  0,\n",
        "  0,\n",
        "  0,\n",
        "  1,\n",
        "  0,\n",
        "  0,\n",
        "  0,\n",
        "  0,\n",
        "  0,\n",
        "  0,\n",
        "  0,\n",
        "  0,\n",
        "  1,\n",
        "  0,\n",
        "  0,\n",
        "  0,\n",
        "  0,\n",
        "  0,\n",
        "  0,\n",
        "  0,\n",
        "  0,\n",
        "  0,\n",
        "  0,\n",
        "  0,\n",
        "  0,\n",
        "  0,\n",
        "  1,\n",
        "  0,\n",
        "  0,\n",
        "  0,\n",
        "  0,\n",
        "  0,\n",
        "  0,\n",
        "  0,\n",
        "  0,\n",
        "  0,\n",
        "  0,\n",
        "  0,\n",
        "  0,\n",
        "  0,\n",
        "  0,\n",
        "  0,\n",
        "  0,\n",
        "  0,\n",
        "  1,\n",
        "  0,\n",
        "  0,\n",
        "  0,\n",
        "  0,\n",
        "  0,\n",
        "  0,\n",
        "  0,\n",
        "  0,\n",
        "  0,\n",
        "  0,\n",
        "  0,\n",
        "  0,\n",
        "  0,\n",
        "  0,\n",
        "  0,\n",
        "  1,\n",
        "  0,\n",
        "  0,\n",
        "  1,\n",
        "  0,\n",
        "  0,\n",
        "  1,\n",
        "  1,\n",
        "  0,\n",
        "  0,\n",
        "  0,\n",
        "  0,\n",
        "  0,\n",
        "  0,\n",
        "  0,\n",
        "  0,\n",
        "  0,\n",
        "  0,\n",
        "  0,\n",
        "  0,\n",
        "  0,\n",
        "  1,\n",
        "  0,\n",
        "  0,\n",
        "  0,\n",
        "  0,\n",
        "  1,\n",
        "  0,\n",
        "  0,\n",
        "  0,\n",
        "  0,\n",
        "  0,\n",
        "  0,\n",
        "  0,\n",
        "  0,\n",
        "  0,\n",
        "  0,\n",
        "  0,\n",
        "  0,\n",
        "  0,\n",
        "  0,\n",
        "  0,\n",
        "  0,\n",
        "  0,\n",
        "  1,\n",
        "  0,\n",
        "  0,\n",
        "  0,\n",
        "  0,\n",
        "  0,\n",
        "  0,\n",
        "  0,\n",
        "  1,\n",
        "  0,\n",
        "  0,\n",
        "  0,\n",
        "  0,\n",
        "  0,\n",
        "  0,\n",
        "  0,\n",
        "  0,\n",
        "  0,\n",
        "  0,\n",
        "  0,\n",
        "  0,\n",
        "  0,\n",
        "  0,\n",
        "  0,\n",
        "  0,\n",
        "  0,\n",
        "  0,\n",
        "  1,\n",
        "  0,\n",
        "  0,\n",
        "  0,\n",
        "  0,\n",
        "  0,\n",
        "  0,\n",
        "  0,\n",
        "  1,\n",
        "  0,\n",
        "  0,\n",
        "  0,\n",
        "  0,\n",
        "  0,\n",
        "  0,\n",
        "  0,\n",
        "  1,\n",
        "  0,\n",
        "  0,\n",
        "  0,\n",
        "  0,\n",
        "  0,\n",
        "  0,\n",
        "  0,\n",
        "  0,\n",
        "  0,\n",
        "  0,\n",
        "  0,\n",
        "  0,\n",
        "  0,\n",
        "  0],\n",
        " 22: [0,\n",
        "  0,\n",
        "  1,\n",
        "  0,\n",
        "  1,\n",
        "  1,\n",
        "  1,\n",
        "  1,\n",
        "  1,\n",
        "  0,\n",
        "  1,\n",
        "  0,\n",
        "  0,\n",
        "  1,\n",
        "  0,\n",
        "  1,\n",
        "  1,\n",
        "  0,\n",
        "  0,\n",
        "  1,\n",
        "  0,\n",
        "  0,\n",
        "  1,\n",
        "  0,\n",
        "  0,\n",
        "  0,\n",
        "  0,\n",
        "  1,\n",
        "  1,\n",
        "  0,\n",
        "  1,\n",
        "  0,\n",
        "  0,\n",
        "  1,\n",
        "  1,\n",
        "  1,\n",
        "  0,\n",
        "  0,\n",
        "  1,\n",
        "  0,\n",
        "  0,\n",
        "  0,\n",
        "  1,\n",
        "  0,\n",
        "  1,\n",
        "  1,\n",
        "  1,\n",
        "  0,\n",
        "  1,\n",
        "  1,\n",
        "  0,\n",
        "  0,\n",
        "  0,\n",
        "  0,\n",
        "  1,\n",
        "  0,\n",
        "  1,\n",
        "  1,\n",
        "  0,\n",
        "  0,\n",
        "  1,\n",
        "  1,\n",
        "  0,\n",
        "  1,\n",
        "  0,\n",
        "  1,\n",
        "  0,\n",
        "  0,\n",
        "  1,\n",
        "  0,\n",
        "  1,\n",
        "  0,\n",
        "  1,\n",
        "  1,\n",
        "  1,\n",
        "  0,\n",
        "  0,\n",
        "  1,\n",
        "  1,\n",
        "  0,\n",
        "  1,\n",
        "  1,\n",
        "  0,\n",
        "  1,\n",
        "  0,\n",
        "  0,\n",
        "  0,\n",
        "  0,\n",
        "  1,\n",
        "  0,\n",
        "  0,\n",
        "  1,\n",
        "  1,\n",
        "  1,\n",
        "  1,\n",
        "  0,\n",
        "  1,\n",
        "  0,\n",
        "  0,\n",
        "  1,\n",
        "  1,\n",
        "  0,\n",
        "  0,\n",
        "  1,\n",
        "  0,\n",
        "  1,\n",
        "  0,\n",
        "  0,\n",
        "  1,\n",
        "  1,\n",
        "  1,\n",
        "  1,\n",
        "  0,\n",
        "  0,\n",
        "  0,\n",
        "  0,\n",
        "  1,\n",
        "  1,\n",
        "  0,\n",
        "  1,\n",
        "  0,\n",
        "  1,\n",
        "  0,\n",
        "  0,\n",
        "  1,\n",
        "  1,\n",
        "  1,\n",
        "  1,\n",
        "  1,\n",
        "  0,\n",
        "  1,\n",
        "  1,\n",
        "  1,\n",
        "  0,\n",
        "  1,\n",
        "  1,\n",
        "  0,\n",
        "  1,\n",
        "  1,\n",
        "  0,\n",
        "  0,\n",
        "  1,\n",
        "  1,\n",
        "  1,\n",
        "  0,\n",
        "  1,\n",
        "  1,\n",
        "  0,\n",
        "  1,\n",
        "  1,\n",
        "  1,\n",
        "  0,\n",
        "  0,\n",
        "  1,\n",
        "  0,\n",
        "  0,\n",
        "  1,\n",
        "  0,\n",
        "  1,\n",
        "  1,\n",
        "  0,\n",
        "  0,\n",
        "  1,\n",
        "  0,\n",
        "  0,\n",
        "  1,\n",
        "  0,\n",
        "  0,\n",
        "  1,\n",
        "  0,\n",
        "  0,\n",
        "  0,\n",
        "  1,\n",
        "  1,\n",
        "  1,\n",
        "  1,\n",
        "  0,\n",
        "  0,\n",
        "  1,\n",
        "  1,\n",
        "  1,\n",
        "  0,\n",
        "  1,\n",
        "  1,\n",
        "  0,\n",
        "  0,\n",
        "  0,\n",
        "  1,\n",
        "  1,\n",
        "  0,\n",
        "  0,\n",
        "  1,\n",
        "  1,\n",
        "  0,\n",
        "  1,\n",
        "  1,\n",
        "  0,\n",
        "  1,\n",
        "  0,\n",
        "  1,\n",
        "  1,\n",
        "  1,\n",
        "  0,\n",
        "  1,\n",
        "  1,\n",
        "  0,\n",
        "  0,\n",
        "  0,\n",
        "  0,\n",
        "  1,\n",
        "  1,\n",
        "  1,\n",
        "  1,\n",
        "  1,\n",
        "  1,\n",
        "  0,\n",
        "  0,\n",
        "  1,\n",
        "  1,\n",
        "  1,\n",
        "  0,\n",
        "  1,\n",
        "  1,\n",
        "  1,\n",
        "  1,\n",
        "  1,\n",
        "  1,\n",
        "  1,\n",
        "  1,\n",
        "  1,\n",
        "  1,\n",
        "  0,\n",
        "  0,\n",
        "  1,\n",
        "  0,\n",
        "  0,\n",
        "  0,\n",
        "  1,\n",
        "  0,\n",
        "  0,\n",
        "  1,\n",
        "  1,\n",
        "  0,\n",
        "  1,\n",
        "  1,\n",
        "  1,\n",
        "  0,\n",
        "  0,\n",
        "  1,\n",
        "  1,\n",
        "  0,\n",
        "  1,\n",
        "  1,\n",
        "  0,\n",
        "  1,\n",
        "  1,\n",
        "  0,\n",
        "  1,\n",
        "  1,\n",
        "  1,\n",
        "  1,\n",
        "  0,\n",
        "  1,\n",
        "  0,\n",
        "  0],\n",
        " 24: [0,\n",
        "  0,\n",
        "  0,\n",
        "  0,\n",
        "  0,\n",
        "  0,\n",
        "  0,\n",
        "  0,\n",
        "  0,\n",
        "  0,\n",
        "  0,\n",
        "  0,\n",
        "  0,\n",
        "  0,\n",
        "  0,\n",
        "  0,\n",
        "  0,\n",
        "  0,\n",
        "  0,\n",
        "  0,\n",
        "  0,\n",
        "  0,\n",
        "  0,\n",
        "  0,\n",
        "  0,\n",
        "  0,\n",
        "  0,\n",
        "  0,\n",
        "  0,\n",
        "  0,\n",
        "  0,\n",
        "  1,\n",
        "  0,\n",
        "  0,\n",
        "  0,\n",
        "  0,\n",
        "  1,\n",
        "  0,\n",
        "  0,\n",
        "  0,\n",
        "  0,\n",
        "  0,\n",
        "  0,\n",
        "  0,\n",
        "  0,\n",
        "  0,\n",
        "  0,\n",
        "  0,\n",
        "  0,\n",
        "  0,\n",
        "  0,\n",
        "  0,\n",
        "  0,\n",
        "  0,\n",
        "  0,\n",
        "  0,\n",
        "  0,\n",
        "  0,\n",
        "  0,\n",
        "  0,\n",
        "  0,\n",
        "  0,\n",
        "  0,\n",
        "  0,\n",
        "  0,\n",
        "  0,\n",
        "  0,\n",
        "  0,\n",
        "  0,\n",
        "  0,\n",
        "  0,\n",
        "  0,\n",
        "  0,\n",
        "  0,\n",
        "  0,\n",
        "  0,\n",
        "  0,\n",
        "  0,\n",
        "  0,\n",
        "  0,\n",
        "  0,\n",
        "  0,\n",
        "  0,\n",
        "  0,\n",
        "  0,\n",
        "  1,\n",
        "  0,\n",
        "  0,\n",
        "  0,\n",
        "  0,\n",
        "  0,\n",
        "  0,\n",
        "  0,\n",
        "  0,\n",
        "  0,\n",
        "  0,\n",
        "  0,\n",
        "  0,\n",
        "  0,\n",
        "  0,\n",
        "  0,\n",
        "  0,\n",
        "  0,\n",
        "  0,\n",
        "  0,\n",
        "  0,\n",
        "  0,\n",
        "  0,\n",
        "  0,\n",
        "  0,\n",
        "  0,\n",
        "  0,\n",
        "  1,\n",
        "  0,\n",
        "  0,\n",
        "  0,\n",
        "  0,\n",
        "  0,\n",
        "  0,\n",
        "  0,\n",
        "  0,\n",
        "  0,\n",
        "  0,\n",
        "  0,\n",
        "  0,\n",
        "  0,\n",
        "  0,\n",
        "  0,\n",
        "  0,\n",
        "  0,\n",
        "  0,\n",
        "  0,\n",
        "  0,\n",
        "  0,\n",
        "  0,\n",
        "  0,\n",
        "  0,\n",
        "  0,\n",
        "  0,\n",
        "  0,\n",
        "  0,\n",
        "  0,\n",
        "  0,\n",
        "  0,\n",
        "  0,\n",
        "  0,\n",
        "  0,\n",
        "  0,\n",
        "  0,\n",
        "  0,\n",
        "  0,\n",
        "  0,\n",
        "  0,\n",
        "  0,\n",
        "  0,\n",
        "  0,\n",
        "  0,\n",
        "  0,\n",
        "  0,\n",
        "  0,\n",
        "  0,\n",
        "  1,\n",
        "  0,\n",
        "  0,\n",
        "  0,\n",
        "  0,\n",
        "  0,\n",
        "  0,\n",
        "  0,\n",
        "  0,\n",
        "  0,\n",
        "  0,\n",
        "  0,\n",
        "  0,\n",
        "  0,\n",
        "  0,\n",
        "  0,\n",
        "  0,\n",
        "  0,\n",
        "  0,\n",
        "  0,\n",
        "  0,\n",
        "  0,\n",
        "  0,\n",
        "  0,\n",
        "  0,\n",
        "  0,\n",
        "  0,\n",
        "  0,\n",
        "  0,\n",
        "  0,\n",
        "  0,\n",
        "  0,\n",
        "  0,\n",
        "  0,\n",
        "  0,\n",
        "  0,\n",
        "  0,\n",
        "  0,\n",
        "  0,\n",
        "  0,\n",
        "  0,\n",
        "  0,\n",
        "  0,\n",
        "  0,\n",
        "  0,\n",
        "  0,\n",
        "  0,\n",
        "  0,\n",
        "  0,\n",
        "  0,\n",
        "  0,\n",
        "  0,\n",
        "  0,\n",
        "  0,\n",
        "  0,\n",
        "  1,\n",
        "  0,\n",
        "  0,\n",
        "  0,\n",
        "  0,\n",
        "  0,\n",
        "  0,\n",
        "  0,\n",
        "  0,\n",
        "  0,\n",
        "  0,\n",
        "  0,\n",
        "  0,\n",
        "  0,\n",
        "  0,\n",
        "  0,\n",
        "  0,\n",
        "  0,\n",
        "  0,\n",
        "  0,\n",
        "  0,\n",
        "  0,\n",
        "  0,\n",
        "  0,\n",
        "  0,\n",
        "  0,\n",
        "  0,\n",
        "  0,\n",
        "  0,\n",
        "  0,\n",
        "  0,\n",
        "  0,\n",
        "  0,\n",
        "  0,\n",
        "  0,\n",
        "  0,\n",
        "  0,\n",
        "  0,\n",
        "  0,\n",
        "  0,\n",
        "  0,\n",
        "  0,\n",
        "  0,\n",
        "  0,\n",
        "  0,\n",
        "  0,\n",
        "  0,\n",
        "  0,\n",
        "  0],\n",
        " 26: [0,\n",
        "  1,\n",
        "  0,\n",
        "  0,\n",
        "  0,\n",
        "  0,\n",
        "  0,\n",
        "  0,\n",
        "  0,\n",
        "  0,\n",
        "  0,\n",
        "  0,\n",
        "  0,\n",
        "  0,\n",
        "  0,\n",
        "  0,\n",
        "  0,\n",
        "  1,\n",
        "  0,\n",
        "  0,\n",
        "  0,\n",
        "  0,\n",
        "  0,\n",
        "  0,\n",
        "  1,\n",
        "  0,\n",
        "  0,\n",
        "  0,\n",
        "  0,\n",
        "  0,\n",
        "  0,\n",
        "  1,\n",
        "  0,\n",
        "  0,\n",
        "  0,\n",
        "  0,\n",
        "  0,\n",
        "  0,\n",
        "  0,\n",
        "  0,\n",
        "  0,\n",
        "  0,\n",
        "  0,\n",
        "  0,\n",
        "  0,\n",
        "  0,\n",
        "  0,\n",
        "  1,\n",
        "  0,\n",
        "  0,\n",
        "  0,\n",
        "  1,\n",
        "  0,\n",
        "  0,\n",
        "  0,\n",
        "  1,\n",
        "  0,\n",
        "  1,\n",
        "  0,\n",
        "  0,\n",
        "  0,\n",
        "  0,\n",
        "  1,\n",
        "  0,\n",
        "  1,\n",
        "  0,\n",
        "  0,\n",
        "  0,\n",
        "  0,\n",
        "  0,\n",
        "  0,\n",
        "  0,\n",
        "  0,\n",
        "  0,\n",
        "  0,\n",
        "  1,\n",
        "  0,\n",
        "  0,\n",
        "  0,\n",
        "  1,\n",
        "  0,\n",
        "  0,\n",
        "  0,\n",
        "  0,\n",
        "  0,\n",
        "  0,\n",
        "  0,\n",
        "  0,\n",
        "  0,\n",
        "  1,\n",
        "  1,\n",
        "  0,\n",
        "  0,\n",
        "  0,\n",
        "  0,\n",
        "  0,\n",
        "  0,\n",
        "  0,\n",
        "  0,\n",
        "  0,\n",
        "  0,\n",
        "  0,\n",
        "  0,\n",
        "  0,\n",
        "  0,\n",
        "  0,\n",
        "  0,\n",
        "  1,\n",
        "  0,\n",
        "  0,\n",
        "  0,\n",
        "  0,\n",
        "  0,\n",
        "  0,\n",
        "  0,\n",
        "  0,\n",
        "  0,\n",
        "  0,\n",
        "  0,\n",
        "  0,\n",
        "  1,\n",
        "  0,\n",
        "  0,\n",
        "  0,\n",
        "  0,\n",
        "  0,\n",
        "  0,\n",
        "  0,\n",
        "  0,\n",
        "  0,\n",
        "  0,\n",
        "  0,\n",
        "  0,\n",
        "  1,\n",
        "  0,\n",
        "  0,\n",
        "  0,\n",
        "  0,\n",
        "  0,\n",
        "  0,\n",
        "  0,\n",
        "  0,\n",
        "  0,\n",
        "  0,\n",
        "  0,\n",
        "  0,\n",
        "  0,\n",
        "  0,\n",
        "  0,\n",
        "  0,\n",
        "  0,\n",
        "  0,\n",
        "  0,\n",
        "  0,\n",
        "  1,\n",
        "  1,\n",
        "  0,\n",
        "  1,\n",
        "  0,\n",
        "  0,\n",
        "  0,\n",
        "  0,\n",
        "  0,\n",
        "  0,\n",
        "  0,\n",
        "  0,\n",
        "  0,\n",
        "  0,\n",
        "  0,\n",
        "  0,\n",
        "  0,\n",
        "  0,\n",
        "  0,\n",
        "  0,\n",
        "  0,\n",
        "  0,\n",
        "  0,\n",
        "  0,\n",
        "  0,\n",
        "  0,\n",
        "  0,\n",
        "  0,\n",
        "  0,\n",
        "  0,\n",
        "  0,\n",
        "  1,\n",
        "  0,\n",
        "  0,\n",
        "  0,\n",
        "  0,\n",
        "  0,\n",
        "  0,\n",
        "  0,\n",
        "  0,\n",
        "  0,\n",
        "  0,\n",
        "  0,\n",
        "  0,\n",
        "  1,\n",
        "  0,\n",
        "  0,\n",
        "  0,\n",
        "  0,\n",
        "  0,\n",
        "  0,\n",
        "  0,\n",
        "  0,\n",
        "  0,\n",
        "  0,\n",
        "  0,\n",
        "  0,\n",
        "  0,\n",
        "  0,\n",
        "  0,\n",
        "  0,\n",
        "  0,\n",
        "  0,\n",
        "  0,\n",
        "  0,\n",
        "  0,\n",
        "  1,\n",
        "  0,\n",
        "  0,\n",
        "  0,\n",
        "  0,\n",
        "  0,\n",
        "  0,\n",
        "  0,\n",
        "  0,\n",
        "  0,\n",
        "  0,\n",
        "  0,\n",
        "  1,\n",
        "  0,\n",
        "  0,\n",
        "  0,\n",
        "  1,\n",
        "  0,\n",
        "  0,\n",
        "  0,\n",
        "  0,\n",
        "  0,\n",
        "  0,\n",
        "  0,\n",
        "  0,\n",
        "  0,\n",
        "  0,\n",
        "  0,\n",
        "  0,\n",
        "  0,\n",
        "  0,\n",
        "  0,\n",
        "  0,\n",
        "  1,\n",
        "  1,\n",
        "  0,\n",
        "  0,\n",
        "  0,\n",
        "  0,\n",
        "  0,\n",
        "  0,\n",
        "  0,\n",
        "  0,\n",
        "  0,\n",
        "  0],\n",
        " 27: [0,\n",
        "  0,\n",
        "  0,\n",
        "  1,\n",
        "  0,\n",
        "  0,\n",
        "  0,\n",
        "  0,\n",
        "  0,\n",
        "  0,\n",
        "  0,\n",
        "  0,\n",
        "  0,\n",
        "  0,\n",
        "  1,\n",
        "  0,\n",
        "  0,\n",
        "  0,\n",
        "  0,\n",
        "  0,\n",
        "  0,\n",
        "  1,\n",
        "  0,\n",
        "  0,\n",
        "  0,\n",
        "  0,\n",
        "  0,\n",
        "  0,\n",
        "  0,\n",
        "  0,\n",
        "  0,\n",
        "  1,\n",
        "  0,\n",
        "  0,\n",
        "  0,\n",
        "  0,\n",
        "  0,\n",
        "  0,\n",
        "  0,\n",
        "  0,\n",
        "  0,\n",
        "  1,\n",
        "  0,\n",
        "  0,\n",
        "  0,\n",
        "  0,\n",
        "  0,\n",
        "  0,\n",
        "  0,\n",
        "  0,\n",
        "  0,\n",
        "  0,\n",
        "  0,\n",
        "  0,\n",
        "  0,\n",
        "  0,\n",
        "  0,\n",
        "  0,\n",
        "  0,\n",
        "  0,\n",
        "  0,\n",
        "  0,\n",
        "  0,\n",
        "  0,\n",
        "  0,\n",
        "  0,\n",
        "  0,\n",
        "  0,\n",
        "  0,\n",
        "  0,\n",
        "  0,\n",
        "  0,\n",
        "  0,\n",
        "  0,\n",
        "  0,\n",
        "  0,\n",
        "  0,\n",
        "  0,\n",
        "  0,\n",
        "  0,\n",
        "  0,\n",
        "  0,\n",
        "  0,\n",
        "  0,\n",
        "  1,\n",
        "  0,\n",
        "  0,\n",
        "  0,\n",
        "  1,\n",
        "  0,\n",
        "  0,\n",
        "  0,\n",
        "  0,\n",
        "  0,\n",
        "  0,\n",
        "  0,\n",
        "  0,\n",
        "  0,\n",
        "  0,\n",
        "  0,\n",
        "  0,\n",
        "  0,\n",
        "  0,\n",
        "  0,\n",
        "  1,\n",
        "  0,\n",
        "  0,\n",
        "  0,\n",
        "  0,\n",
        "  0,\n",
        "  0,\n",
        "  0,\n",
        "  0,\n",
        "  0,\n",
        "  0,\n",
        "  0,\n",
        "  0,\n",
        "  0,\n",
        "  1,\n",
        "  0,\n",
        "  0,\n",
        "  0,\n",
        "  0,\n",
        "  0,\n",
        "  0,\n",
        "  0,\n",
        "  0,\n",
        "  0,\n",
        "  0,\n",
        "  0,\n",
        "  0,\n",
        "  0,\n",
        "  0,\n",
        "  0,\n",
        "  0,\n",
        "  0,\n",
        "  0,\n",
        "  0,\n",
        "  0,\n",
        "  0,\n",
        "  0,\n",
        "  0,\n",
        "  0,\n",
        "  0,\n",
        "  0,\n",
        "  0,\n",
        "  0,\n",
        "  0,\n",
        "  0,\n",
        "  0,\n",
        "  0,\n",
        "  1,\n",
        "  0,\n",
        "  0,\n",
        "  0,\n",
        "  0,\n",
        "  0,\n",
        "  0,\n",
        "  0,\n",
        "  0,\n",
        "  0,\n",
        "  0,\n",
        "  0,\n",
        "  0,\n",
        "  0,\n",
        "  0,\n",
        "  0,\n",
        "  0,\n",
        "  0,\n",
        "  0,\n",
        "  0,\n",
        "  1,\n",
        "  0,\n",
        "  0,\n",
        "  0,\n",
        "  0,\n",
        "  0,\n",
        "  0,\n",
        "  0,\n",
        "  0,\n",
        "  0,\n",
        "  1,\n",
        "  0,\n",
        "  0,\n",
        "  0,\n",
        "  0,\n",
        "  0,\n",
        "  0,\n",
        "  0,\n",
        "  0,\n",
        "  0,\n",
        "  0,\n",
        "  0,\n",
        "  0,\n",
        "  0,\n",
        "  0,\n",
        "  1,\n",
        "  0,\n",
        "  0,\n",
        "  0,\n",
        "  0,\n",
        "  0,\n",
        "  1,\n",
        "  0,\n",
        "  0,\n",
        "  0,\n",
        "  0,\n",
        "  0,\n",
        "  1,\n",
        "  0,\n",
        "  0,\n",
        "  0,\n",
        "  0,\n",
        "  0,\n",
        "  0,\n",
        "  0,\n",
        "  0,\n",
        "  0,\n",
        "  0,\n",
        "  0,\n",
        "  0,\n",
        "  0,\n",
        "  0,\n",
        "  0,\n",
        "  0,\n",
        "  0,\n",
        "  0,\n",
        "  0,\n",
        "  0,\n",
        "  0,\n",
        "  0,\n",
        "  0,\n",
        "  0,\n",
        "  0,\n",
        "  0,\n",
        "  1,\n",
        "  0,\n",
        "  0,\n",
        "  0,\n",
        "  0,\n",
        "  0,\n",
        "  0,\n",
        "  0,\n",
        "  0,\n",
        "  0,\n",
        "  0,\n",
        "  0,\n",
        "  0,\n",
        "  0,\n",
        "  0,\n",
        "  0,\n",
        "  0,\n",
        "  0,\n",
        "  0,\n",
        "  0,\n",
        "  0,\n",
        "  0,\n",
        "  0,\n",
        "  0,\n",
        "  0,\n",
        "  0,\n",
        "  0,\n",
        "  0,\n",
        "  0,\n",
        "  0],\n",
        " 28: [0,\n",
        "  0,\n",
        "  0,\n",
        "  0,\n",
        "  1,\n",
        "  0,\n",
        "  0,\n",
        "  0,\n",
        "  0,\n",
        "  0,\n",
        "  0,\n",
        "  0,\n",
        "  0,\n",
        "  0,\n",
        "  0,\n",
        "  0,\n",
        "  0,\n",
        "  0,\n",
        "  0,\n",
        "  0,\n",
        "  0,\n",
        "  0,\n",
        "  0,\n",
        "  0,\n",
        "  0,\n",
        "  0,\n",
        "  0,\n",
        "  0,\n",
        "  0,\n",
        "  0,\n",
        "  0,\n",
        "  0,\n",
        "  0,\n",
        "  0,\n",
        "  0,\n",
        "  0,\n",
        "  0,\n",
        "  0,\n",
        "  0,\n",
        "  0,\n",
        "  0,\n",
        "  0,\n",
        "  0,\n",
        "  0,\n",
        "  0,\n",
        "  0,\n",
        "  0,\n",
        "  0,\n",
        "  0,\n",
        "  0,\n",
        "  0,\n",
        "  0,\n",
        "  0,\n",
        "  0,\n",
        "  0,\n",
        "  0,\n",
        "  0,\n",
        "  0,\n",
        "  0,\n",
        "  0,\n",
        "  0,\n",
        "  0,\n",
        "  0,\n",
        "  0,\n",
        "  0,\n",
        "  0,\n",
        "  0,\n",
        "  0,\n",
        "  0,\n",
        "  0,\n",
        "  0,\n",
        "  0,\n",
        "  0,\n",
        "  0,\n",
        "  0,\n",
        "  0,\n",
        "  0,\n",
        "  0,\n",
        "  0,\n",
        "  0,\n",
        "  0,\n",
        "  0,\n",
        "  0,\n",
        "  0,\n",
        "  0,\n",
        "  0,\n",
        "  0,\n",
        "  0,\n",
        "  0,\n",
        "  0,\n",
        "  0,\n",
        "  1,\n",
        "  0,\n",
        "  0,\n",
        "  0,\n",
        "  0,\n",
        "  0,\n",
        "  0,\n",
        "  0,\n",
        "  0,\n",
        "  0,\n",
        "  0,\n",
        "  0,\n",
        "  0,\n",
        "  0,\n",
        "  0,\n",
        "  0,\n",
        "  0,\n",
        "  0,\n",
        "  0,\n",
        "  0,\n",
        "  0,\n",
        "  0,\n",
        "  0,\n",
        "  0,\n",
        "  0,\n",
        "  1,\n",
        "  1,\n",
        "  0,\n",
        "  0,\n",
        "  0,\n",
        "  0,\n",
        "  0,\n",
        "  0,\n",
        "  0,\n",
        "  0,\n",
        "  0,\n",
        "  0,\n",
        "  0,\n",
        "  0,\n",
        "  0,\n",
        "  0,\n",
        "  0,\n",
        "  0,\n",
        "  0,\n",
        "  0,\n",
        "  0,\n",
        "  0,\n",
        "  0,\n",
        "  0,\n",
        "  0,\n",
        "  0,\n",
        "  0,\n",
        "  0,\n",
        "  0,\n",
        "  0,\n",
        "  0,\n",
        "  0,\n",
        "  0,\n",
        "  0,\n",
        "  0,\n",
        "  1,\n",
        "  0,\n",
        "  0,\n",
        "  0,\n",
        "  0,\n",
        "  0,\n",
        "  0,\n",
        "  0,\n",
        "  0,\n",
        "  0,\n",
        "  0,\n",
        "  0,\n",
        "  0,\n",
        "  0,\n",
        "  0,\n",
        "  0,\n",
        "  0,\n",
        "  0,\n",
        "  0,\n",
        "  0,\n",
        "  0,\n",
        "  0,\n",
        "  0,\n",
        "  0,\n",
        "  0,\n",
        "  0,\n",
        "  0,\n",
        "  0,\n",
        "  0,\n",
        "  0,\n",
        "  0,\n",
        "  0,\n",
        "  0,\n",
        "  0,\n",
        "  0,\n",
        "  0,\n",
        "  0,\n",
        "  0,\n",
        "  0,\n",
        "  0,\n",
        "  0,\n",
        "  0,\n",
        "  0,\n",
        "  0,\n",
        "  0,\n",
        "  1,\n",
        "  0,\n",
        "  0,\n",
        "  0,\n",
        "  0,\n",
        "  0,\n",
        "  0,\n",
        "  1,\n",
        "  0,\n",
        "  0,\n",
        "  0,\n",
        "  0,\n",
        "  0,\n",
        "  0,\n",
        "  0,\n",
        "  0,\n",
        "  0,\n",
        "  0,\n",
        "  0,\n",
        "  0,\n",
        "  0,\n",
        "  0,\n",
        "  0,\n",
        "  0,\n",
        "  0,\n",
        "  0,\n",
        "  0,\n",
        "  0,\n",
        "  0,\n",
        "  0,\n",
        "  0,\n",
        "  0,\n",
        "  0,\n",
        "  0,\n",
        "  0,\n",
        "  0,\n",
        "  0,\n",
        "  0,\n",
        "  0,\n",
        "  0,\n",
        "  0,\n",
        "  0,\n",
        "  0,\n",
        "  0,\n",
        "  0,\n",
        "  0,\n",
        "  0,\n",
        "  0,\n",
        "  0,\n",
        "  0,\n",
        "  0,\n",
        "  0,\n",
        "  0,\n",
        "  0,\n",
        "  0,\n",
        "  0,\n",
        "  0,\n",
        "  0,\n",
        "  0,\n",
        "  0,\n",
        "  0,\n",
        "  0,\n",
        "  0,\n",
        "  0,\n",
        "  0,\n",
        "  0,\n",
        "  0,\n",
        "  0,\n",
        "  0],\n",
        " 29: [0,\n",
        "  0,\n",
        "  0,\n",
        "  0,\n",
        "  0,\n",
        "  0,\n",
        "  0,\n",
        "  0,\n",
        "  0,\n",
        "  0,\n",
        "  0,\n",
        "  0,\n",
        "  0,\n",
        "  0,\n",
        "  0,\n",
        "  0,\n",
        "  0,\n",
        "  0,\n",
        "  1,\n",
        "  0,\n",
        "  1,\n",
        "  0,\n",
        "  0,\n",
        "  0,\n",
        "  1,\n",
        "  0,\n",
        "  0,\n",
        "  0,\n",
        "  0,\n",
        "  0,\n",
        "  0,\n",
        "  1,\n",
        "  0,\n",
        "  0,\n",
        "  0,\n",
        "  0,\n",
        "  1,\n",
        "  1,\n",
        "  0,\n",
        "  1,\n",
        "  1,\n",
        "  0,\n",
        "  0,\n",
        "  0,\n",
        "  0,\n",
        "  0,\n",
        "  0,\n",
        "  0,\n",
        "  0,\n",
        "  0,\n",
        "  0,\n",
        "  0,\n",
        "  1,\n",
        "  0,\n",
        "  0,\n",
        "  0,\n",
        "  0,\n",
        "  1,\n",
        "  0,\n",
        "  1,\n",
        "  0,\n",
        "  0,\n",
        "  0,\n",
        "  0,\n",
        "  1,\n",
        "  0,\n",
        "  0,\n",
        "  1,\n",
        "  0,\n",
        "  1,\n",
        "  0,\n",
        "  0,\n",
        "  0,\n",
        "  0,\n",
        "  0,\n",
        "  1,\n",
        "  0,\n",
        "  0,\n",
        "  0,\n",
        "  0,\n",
        "  0,\n",
        "  0,\n",
        "  0,\n",
        "  0,\n",
        "  0,\n",
        "  1,\n",
        "  1,\n",
        "  1,\n",
        "  0,\n",
        "  0,\n",
        "  0,\n",
        "  0,\n",
        "  0,\n",
        "  0,\n",
        "  0,\n",
        "  1,\n",
        "  0,\n",
        "  0,\n",
        "  1,\n",
        "  0,\n",
        "  0,\n",
        "  0,\n",
        "  0,\n",
        "  0,\n",
        "  0,\n",
        "  0,\n",
        "  0,\n",
        "  1,\n",
        "  0,\n",
        "  0,\n",
        "  0,\n",
        "  0,\n",
        "  1,\n",
        "  1,\n",
        "  1,\n",
        "  0,\n",
        "  0,\n",
        "  0,\n",
        "  0,\n",
        "  0,\n",
        "  0,\n",
        "  0,\n",
        "  0,\n",
        "  0,\n",
        "  0,\n",
        "  0,\n",
        "  0,\n",
        "  0,\n",
        "  0,\n",
        "  0,\n",
        "  0,\n",
        "  0,\n",
        "  0,\n",
        "  0,\n",
        "  0,\n",
        "  0,\n",
        "  1,\n",
        "  0,\n",
        "  0,\n",
        "  1,\n",
        "  1,\n",
        "  0,\n",
        "  0,\n",
        "  0,\n",
        "  1,\n",
        "  0,\n",
        "  0,\n",
        "  0,\n",
        "  0,\n",
        "  0,\n",
        "  0,\n",
        "  0,\n",
        "  0,\n",
        "  0,\n",
        "  0,\n",
        "  0,\n",
        "  0,\n",
        "  0,\n",
        "  0,\n",
        "  0,\n",
        "  1,\n",
        "  1,\n",
        "  0,\n",
        "  1,\n",
        "  1,\n",
        "  0,\n",
        "  0,\n",
        "  0,\n",
        "  0,\n",
        "  0,\n",
        "  0,\n",
        "  0,\n",
        "  0,\n",
        "  0,\n",
        "  0,\n",
        "  0,\n",
        "  1,\n",
        "  1,\n",
        "  0,\n",
        "  0,\n",
        "  0,\n",
        "  0,\n",
        "  0,\n",
        "  0,\n",
        "  0,\n",
        "  1,\n",
        "  1,\n",
        "  0,\n",
        "  0,\n",
        "  0,\n",
        "  1,\n",
        "  0,\n",
        "  0,\n",
        "  1,\n",
        "  0,\n",
        "  0,\n",
        "  0,\n",
        "  0,\n",
        "  0,\n",
        "  0,\n",
        "  0,\n",
        "  0,\n",
        "  0,\n",
        "  0,\n",
        "  0,\n",
        "  1,\n",
        "  1,\n",
        "  0,\n",
        "  0,\n",
        "  0,\n",
        "  0,\n",
        "  0,\n",
        "  0,\n",
        "  0,\n",
        "  0,\n",
        "  0,\n",
        "  0,\n",
        "  0,\n",
        "  0,\n",
        "  0,\n",
        "  0,\n",
        "  0,\n",
        "  0,\n",
        "  0,\n",
        "  0,\n",
        "  0,\n",
        "  0,\n",
        "  0,\n",
        "  0,\n",
        "  0,\n",
        "  0,\n",
        "  1,\n",
        "  0,\n",
        "  0,\n",
        "  0,\n",
        "  0,\n",
        "  0,\n",
        "  0,\n",
        "  1,\n",
        "  1,\n",
        "  0,\n",
        "  0,\n",
        "  0,\n",
        "  0,\n",
        "  0,\n",
        "  0,\n",
        "  0,\n",
        "  0,\n",
        "  0,\n",
        "  0,\n",
        "  0,\n",
        "  0,\n",
        "  0,\n",
        "  0,\n",
        "  1,\n",
        "  0,\n",
        "  1,\n",
        "  0,\n",
        "  0,\n",
        "  0,\n",
        "  0,\n",
        "  0,\n",
        "  0,\n",
        "  1,\n",
        "  1]}"
       ]
      }
     ],
     "prompt_number": 12
    },
    {
     "cell_type": "code",
     "collapsed": false,
     "input": [
      "t =[[1,2,3],[4,5,6],[2,6,1]]\n",
      "l = ['a','b','c']"
     ],
     "language": "python",
     "metadata": {},
     "outputs": [],
     "prompt_number": 13
    },
    {
     "cell_type": "code",
     "collapsed": false,
     "input": [
      "dict(zip(l,t))"
     ],
     "language": "python",
     "metadata": {},
     "outputs": [
      {
       "metadata": {},
       "output_type": "pyout",
       "prompt_number": 14,
       "text": [
        "{'a': [1, 2, 3], 'b': [4, 5, 6], 'c': [2, 6, 1]}"
       ]
      }
     ],
     "prompt_number": 14
    },
    {
     "cell_type": "code",
     "collapsed": false,
     "input": [
      "true_circles = readcirclefile('./Training/'+str(ego)+'.circles')\n",
      "G = read_nodeadjlist('./egonets/'+str(ego)+'.egonet')\n",
      "print 'Total friends:', len(G.nodes())\n",
      "class_matrix = generate_class_matrix(G,true_circles)\n",
      "feature_matrix = generate_feature_matrix(profile_matrix,ego,G)\n",
      "\n",
      "for label,circle in class_matrix.items():\n",
      "    print 'Training Ego:', ego,'Circle:',label,'...'\n",
      "    forest = RandomForestClassifier(n_estimators=100)\n",
      "    forest = forest.fit( feature_matrix, circle )\n",
      "    important_features = sorted(zip(features,forest.feature_importances_), key=lambda x: x[1], reverse=True)\n",
      "    importance_scores = [val for key,val in important_features]\n",
      "    importance_labels = [key for key,val in important_features]\n",
      "    ind = range(len(importance_scores))\n",
      "    plt.bar(ind, forest.feature_importances_)\n",
      "    plt.axis([min(ind), max(ind), 0, 0.7])\n",
      "    plt.show()"
     ],
     "language": "python",
     "metadata": {},
     "outputs": [
      {
       "output_type": "stream",
       "stream": "stdout",
       "text": [
        "Total friends: 265\n",
        "Training Ego: 345 Circle: 20 ...\n"
       ]
      },
      {
       "metadata": {},
       "output_type": "display_data",
       "png": "[encoded data removed]",
       "text": [
        "<matplotlib.figure.Figure at 0x244229d0>"
       ]
      },
      {
       "output_type": "stream",
       "stream": "stdout",
       "text": [
        "Training Ego: 345 Circle: 22 ...\n"
       ]
      },
      {
       "metadata": {},
       "output_type": "display_data",
       "png": "[encoded data removed]",
       "text": [
        "<matplotlib.figure.Figure at 0x24422e50>"
       ]
      },
      {
       "output_type": "stream",
       "stream": "stdout",
       "text": [
        "Training Ego: 345 Circle: 24 ...\n"
       ]
      },
      {
       "metadata": {},
       "output_type": "display_data",
       "png": "[encoded data removed]",
       "text": [
        "<matplotlib.figure.Figure at 0x2436af50>"
       ]
      },
      {
       "output_type": "stream",
       "stream": "stdout",
       "text": [
        "Training Ego: 345 Circle: 26 ...\n"
       ]
      },
      {
       "metadata": {},
       "output_type": "display_data",
       "png": "[encoded data removed]",
       "text": [
        "<matplotlib.figure.Figure at 0x241fd3b0>"
       ]
      },
      {
       "output_type": "stream",
       "stream": "stdout",
       "text": [
        "Training Ego: 345 Circle: 27 ...\n"
       ]
      },
      {
       "metadata": {},
       "output_type": "display_data",
       "png": "[encoded data removed]",
       "text": [
        "<matplotlib.figure.Figure at 0x24252130>"
       ]
      },
      {
       "output_type": "stream",
       "stream": "stdout",
       "text": [
        "Training Ego: 345 Circle: 28 ...\n"
       ]
      },
      {
       "metadata": {},
       "output_type": "display_data",
       "png": "[encoded data removed]",
       "text": [
        "<matplotlib.figure.Figure at 0x5e0810>"
       ]
      },
      {
       "output_type": "stream",
       "stream": "stdout",
       "text": [
        "Training Ego: 345 Circle: 29 ...\n"
       ]
      },
      {
       "metadata": {},
       "output_type": "display_data",
       "png": "[encoded data removed]",
       "text": [
        "<matplotlib.figure.Figure at 0x246c25b0>"
       ]
      }
     ],
     "prompt_number": 15
    },
    {
     "cell_type": "code",
     "collapsed": false,
     "input": [
      "trainingfiles = os.listdir('./Training/')\n",
      "\n",
      "df_labels = ['Ego','Circle']+features\n",
      "characteristic_profiles = []\n",
      "\n",
      "for item in trainingfiles:\n",
      "    ego = int((item.split('.')[0]))\n",
      "    true_circles = readcirclefile('./Training/'+item)\n",
      "    G = read_nodeadjlist('./egonets/'+str(ego)+'.egonet')\n",
      "    class_matrix = generate_class_matrix(G,true_circles)\n",
      "    feature_matrix = generate_feature_matrix(profile_matrix,ego,G)\n",
      "    \n",
      "    for label,circle in class_matrix.items():\n",
      "        print 'Training Ego:', ego,'Circle:',label,'...'\n",
      "        forest = RandomForestClassifier(n_estimators=100)\n",
      "        forest = forest.fit( feature_matrix, circle )\n",
      "        characteristic_profiles.append([ego]+[label]+list(forest.feature_importances_))\n",
      "\n",
      "df = pd.DataFrame(data=characteristic_profiles,columns=df_labels)"
     ],
     "language": "python",
     "metadata": {},
     "outputs": [
      {
       "output_type": "stream",
       "stream": "stdout",
       "text": [
        "Training Ego: 10395 Circle: 10 ...\n",
        "Training Ego:"
       ]
      },
      {
       "output_type": "stream",
       "stream": "stdout",
       "text": [
        " 10395 Circle: 78 ...\n",
        "Training Ego:"
       ]
      },
      {
       "output_type": "stream",
       "stream": "stdout",
       "text": [
        " 10395 Circle: 84 ...\n",
        "Training Ego:"
       ]
      },
      {
       "output_type": "stream",
       "stream": "stdout",
       "text": [
        " 10395 Circle: 377 ...\n",
        "Training Ego:"
       ]
      },
      {
       "output_type": "stream",
       "stream": "stdout",
       "text": [
        " 10395 Circle: 827 ...\n",
        "Training Ego:"
       ]
      },
      {
       "output_type": "stream",
       "stream": "stdout",
       "text": [
        " 10395 Circle: 828 ...\n",
        "Training Ego:"
       ]
      },
      {
       "output_type": "stream",
       "stream": "stdout",
       "text": [
        " 10395 Circle: 830 ...\n",
        "Training Ego:"
       ]
      },
      {
       "output_type": "stream",
       "stream": "stdout",
       "text": [
        " 10929 Circle: 839 ...\n",
        "Training Ego:"
       ]
      },
      {
       "output_type": "stream",
       "stream": "stdout",
       "text": [
        " 10929 Circle: 840 ...\n",
        "Training Ego:"
       ]
      },
      {
       "output_type": "stream",
       "stream": "stdout",
       "text": [
        " 10929 Circle: 841 ...\n",
        "Training Ego:"
       ]
      },
      {
       "output_type": "stream",
       "stream": "stdout",
       "text": [
        " 10929 Circle: 843 ...\n",
        "Training Ego:"
       ]
      },
      {
       "output_type": "stream",
       "stream": "stdout",
       "text": [
        " 10929 Circle: 844 ...\n",
        "Training Ego:"
       ]
      },
      {
       "output_type": "stream",
       "stream": "stdout",
       "text": [
        " 10929 Circle: 845 ...\n",
        "Training Ego:"
       ]
      },
      {
       "output_type": "stream",
       "stream": "stdout",
       "text": [
        " 11014 Circle: 194 ...\n",
        "Training Ego:"
       ]
      },
      {
       "output_type": "stream",
       "stream": "stdout",
       "text": [
        " 11014 Circle: 13 ...\n",
        "Training Ego:"
       ]
      },
      {
       "output_type": "stream",
       "stream": "stdout",
       "text": [
        " 11014 Circle: 848 ...\n",
        "Training Ego:"
       ]
      },
      {
       "output_type": "stream",
       "stream": "stdout",
       "text": [
        " 11014 Circle: 849 ...\n",
        "Training Ego:"
       ]
      },
      {
       "output_type": "stream",
       "stream": "stdout",
       "text": [
        " 11014 Circle: 850 ...\n",
        "Training Ego:"
       ]
      },
      {
       "output_type": "stream",
       "stream": "stdout",
       "text": [
        " 11014 Circle: 851 ...\n",
        "Training Ego:"
       ]
      },
      {
       "output_type": "stream",
       "stream": "stdout",
       "text": [
        " 11014 Circle: 852 ...\n",
        "Training Ego:"
       ]
      },
      {
       "output_type": "stream",
       "stream": "stdout",
       "text": [
        " 11014 Circle: 854 ...\n",
        "Training Ego:"
       ]
      },
      {
       "output_type": "stream",
       "stream": "stdout",
       "text": [
        " 11014 Circle: 855 ...\n",
        "Training Ego:"
       ]
      },
      {
       "output_type": "stream",
       "stream": "stdout",
       "text": [
        " 11014 Circle: 857 ...\n",
        "Training Ego:"
       ]
      },
      {
       "output_type": "stream",
       "stream": "stdout",
       "text": [
        " 11186 Circle: 992 ...\n",
        "Training Ego:"
       ]
      },
      {
       "output_type": "stream",
       "stream": "stdout",
       "text": [
        " 11186 Circle: 993 ...\n",
        "Training Ego:"
       ]
      },
      {
       "output_type": "stream",
       "stream": "stdout",
       "text": [
        " 11186 Circle: 994 ...\n",
        "Training Ego:"
       ]
      },
      {
       "output_type": "stream",
       "stream": "stdout",
       "text": [
        " 11186 Circle: 196 ...\n",
        "Training Ego:"
       ]
      },
      {
       "output_type": "stream",
       "stream": "stdout",
       "text": [
        " 11186 Circle: 39 ...\n",
        "Training Ego:"
       ]
      },
      {
       "output_type": "stream",
       "stream": "stdout",
       "text": [
        " 11186 Circle: 906 ...\n",
        "Training Ego:"
       ]
      },
      {
       "output_type": "stream",
       "stream": "stdout",
       "text": [
        " 11186 Circle: 363 ...\n",
        "Training Ego:"
       ]
      },
      {
       "output_type": "stream",
       "stream": "stdout",
       "text": [
        " 11186 Circle: 987 ...\n",
        "Training Ego:"
       ]
      },
      {
       "output_type": "stream",
       "stream": "stdout",
       "text": [
        " 11186 Circle: 988 ...\n",
        "Training Ego:"
       ]
      },
      {
       "output_type": "stream",
       "stream": "stdout",
       "text": [
        " 11186 Circle: 989 ...\n",
        "Training Ego:"
       ]
      },
      {
       "output_type": "stream",
       "stream": "stdout",
       "text": [
        " 11186 Circle: 990 ...\n",
        "Training Ego:"
       ]
      },
      {
       "output_type": "stream",
       "stream": "stdout",
       "text": [
        " 11186 Circle: 991 ...\n",
        "Training Ego:"
       ]
      },
      {
       "output_type": "stream",
       "stream": "stdout",
       "text": [
        " 11364 Circle: 153 ...\n",
        "Training Ego:"
       ]
      },
      {
       "output_type": "stream",
       "stream": "stdout",
       "text": [
        " 11364 Circle: 18 ...\n",
        "Training Ego:"
       ]
      },
      {
       "output_type": "stream",
       "stream": "stdout",
       "text": [
        " 11364 Circle: 148 ...\n",
        "Training Ego:"
       ]
      },
      {
       "output_type": "stream",
       "stream": "stdout",
       "text": [
        " 11364 Circle: 861 ...\n",
        "Training Ego:"
       ]
      },
      {
       "output_type": "stream",
       "stream": "stdout",
       "text": [
        " 11410 Circle: 864 ...\n",
        "Training Ego:"
       ]
      },
      {
       "output_type": "stream",
       "stream": "stdout",
       "text": [
        " 11410 Circle: 865 ...\n",
        "Training Ego:"
       ]
      },
      {
       "output_type": "stream",
       "stream": "stdout",
       "text": [
        " 11410 Circle: 866 ...\n",
        "Training Ego:"
       ]
      },
      {
       "output_type": "stream",
       "stream": "stdout",
       "text": [
        " 11410 Circle: 867 ...\n",
        "Training Ego:"
       ]
      },
      {
       "output_type": "stream",
       "stream": "stdout",
       "text": [
        " 11410 Circle: 874 ...\n",
        "Training Ego:"
       ]
      },
      {
       "output_type": "stream",
       "stream": "stdout",
       "text": [
        " 11410 Circle: 875 ...\n",
        "Training Ego:"
       ]
      },
      {
       "output_type": "stream",
       "stream": "stdout",
       "text": [
        " 11410 Circle: 877 ...\n",
        "Training Ego:"
       ]
      },
      {
       "output_type": "stream",
       "stream": "stdout",
       "text": [
        " 11410 Circle: 150 ...\n",
        "Training Ego:"
       ]
      },
      {
       "output_type": "stream",
       "stream": "stdout",
       "text": [
        " 11410 Circle: 153 ...\n",
        "Training Ego:"
       ]
      },
      {
       "output_type": "stream",
       "stream": "stdout",
       "text": [
        " 12800 Circle: 900 ...\n",
        "Training Ego:"
       ]
      },
      {
       "output_type": "stream",
       "stream": "stdout",
       "text": [
        " 12800 Circle: 901 ...\n",
        "Training Ego:"
       ]
      },
      {
       "output_type": "stream",
       "stream": "stdout",
       "text": [
        " 12800 Circle: 70 ...\n",
        "Training Ego:"
       ]
      },
      {
       "output_type": "stream",
       "stream": "stdout",
       "text": [
        " 12800 Circle: 903 ...\n",
        "Training Ego:"
       ]
      },
      {
       "output_type": "stream",
       "stream": "stdout",
       "text": [
        " 12800 Circle: 904 ...\n",
        "Training Ego:"
       ]
      },
      {
       "output_type": "stream",
       "stream": "stdout",
       "text": [
        " 12800 Circle: 906 ...\n",
        "Training Ego:"
       ]
      },
      {
       "output_type": "stream",
       "stream": "stdout",
       "text": [
        " 12800 Circle: 907 ...\n",
        "Training Ego:"
       ]
      },
      {
       "output_type": "stream",
       "stream": "stdout",
       "text": [
        " 12800 Circle: 908 ...\n",
        "Training Ego:"
       ]
      },
      {
       "output_type": "stream",
       "stream": "stdout",
       "text": [
        " 12800 Circle: 909 ...\n",
        "Training Ego:"
       ]
      },
      {
       "output_type": "stream",
       "stream": "stdout",
       "text": [
        " 12800 Circle: 911 ...\n",
        "Training Ego:"
       ]
      },
      {
       "output_type": "stream",
       "stream": "stdout",
       "text": [
        " 12800 Circle: 592 ...\n",
        "Training Ego:"
       ]
      },
      {
       "output_type": "stream",
       "stream": "stdout",
       "text": [
        " 12800 Circle: 338 ...\n",
        "Training Ego:"
       ]
      },
      {
       "output_type": "stream",
       "stream": "stdout",
       "text": [
        " 12800 Circle: 902 ...\n",
        "Training Ego:"
       ]
      },
      {
       "output_type": "stream",
       "stream": "stdout",
       "text": [
        " 12800 Circle: 62 ...\n",
        "Training Ego:"
       ]
      },
      {
       "output_type": "stream",
       "stream": "stdout",
       "text": [
        " 13353 Circle: 13 ...\n",
        "Training Ego:"
       ]
      },
      {
       "output_type": "stream",
       "stream": "stdout",
       "text": [
        " 13353 Circle: 916 ...\n",
        "Training Ego:"
       ]
      },
      {
       "output_type": "stream",
       "stream": "stdout",
       "text": [
        " 13353 Circle: 917 ...\n",
        "Training Ego:"
       ]
      },
      {
       "output_type": "stream",
       "stream": "stdout",
       "text": [
        " 13353 Circle: 918 ...\n",
        "Training Ego:"
       ]
      },
      {
       "output_type": "stream",
       "stream": "stdout",
       "text": [
        " 13353 Circle: 922 ...\n",
        "Training Ego:"
       ]
      },
      {
       "output_type": "stream",
       "stream": "stdout",
       "text": [
        " 13353 Circle: 925 ...\n",
        "Training Ego:"
       ]
      },
      {
       "output_type": "stream",
       "stream": "stdout",
       "text": [
        " 1357 Circle: 96 ...\n",
        "Training Ego:"
       ]
      },
      {
       "output_type": "stream",
       "stream": "stdout",
       "text": [
        " 1357 Circle: 98 ...\n",
        "Training Ego:"
       ]
      },
      {
       "output_type": "stream",
       "stream": "stdout",
       "text": [
        " 1357 Circle: 101 ...\n",
        "Training Ego:"
       ]
      },
      {
       "output_type": "stream",
       "stream": "stdout",
       "text": [
        " 1357 Circle: 85 ...\n",
        "Training Ego:"
       ]
      },
      {
       "output_type": "stream",
       "stream": "stdout",
       "text": [
        " 1357 Circle: 86 ...\n",
        "Training Ego:"
       ]
      },
      {
       "output_type": "stream",
       "stream": "stdout",
       "text": [
        " 1357 Circle: 87 ...\n",
        "Training Ego:"
       ]
      },
      {
       "output_type": "stream",
       "stream": "stdout",
       "text": [
        " 1357 Circle: 88 ...\n",
        "Training Ego:"
       ]
      },
      {
       "output_type": "stream",
       "stream": "stdout",
       "text": [
        " 1357 Circle: 90 ...\n",
        "Training Ego:"
       ]
      },
      {
       "output_type": "stream",
       "stream": "stdout",
       "text": [
        " 1357 Circle: 94 ...\n",
        "Training Ego:"
       ]
      },
      {
       "output_type": "stream",
       "stream": "stdout",
       "text": [
        " 1357 Circle: 95 ...\n",
        "Training Ego:"
       ]
      },
      {
       "output_type": "stream",
       "stream": "stdout",
       "text": [
        " 13789 Circle: 226 ...\n",
        "Training Ego:"
       ]
      },
      {
       "output_type": "stream",
       "stream": "stdout",
       "text": [
        " 13789 Circle: 13 ...\n",
        "Training Ego:"
       ]
      },
      {
       "output_type": "stream",
       "stream": "stdout",
       "text": [
        " 13789 Circle: 303 ...\n",
        "Training Ego:"
       ]
      },
      {
       "output_type": "stream",
       "stream": "stdout",
       "text": [
        " 13789 Circle: 177 ...\n",
        "Training Ego:"
       ]
      },
      {
       "output_type": "stream",
       "stream": "stdout",
       "text": [
        " 13789 Circle: 306 ...\n",
        "Training Ego:"
       ]
      },
      {
       "output_type": "stream",
       "stream": "stdout",
       "text": [
        " 13789 Circle: 950 ...\n",
        "Training Ego:"
       ]
      },
      {
       "output_type": "stream",
       "stream": "stdout",
       "text": [
        " 13789 Circle: 953 ...\n",
        "Training Ego:"
       ]
      },
      {
       "output_type": "stream",
       "stream": "stdout",
       "text": [
        " 13789 Circle: 57 ...\n",
        "Training Ego:"
       ]
      },
      {
       "output_type": "stream",
       "stream": "stdout",
       "text": [
        " 13789 Circle: 954 ...\n",
        "Training Ego:"
       ]
      },
      {
       "output_type": "stream",
       "stream": "stdout",
       "text": [
        " 13789 Circle: 957 ...\n",
        "Training Ego:"
       ]
      },
      {
       "output_type": "stream",
       "stream": "stdout",
       "text": [
        " 13789 Circle: 958 ...\n",
        "Training Ego:"
       ]
      },
      {
       "output_type": "stream",
       "stream": "stdout",
       "text": [
        " 13789 Circle: 959 ...\n",
        "Training Ego:"
       ]
      },
      {
       "output_type": "stream",
       "stream": "stdout",
       "text": [
        " 15672 Circle: 1037 ...\n",
        "Training Ego:"
       ]
      },
      {
       "output_type": "stream",
       "stream": "stdout",
       "text": [
        " 15672 Circle: 1038 ...\n",
        "Training Ego:"
       ]
      },
      {
       "output_type": "stream",
       "stream": "stdout",
       "text": [
        " 15672 Circle: 1039 ...\n",
        "Training Ego:"
       ]
      },
      {
       "output_type": "stream",
       "stream": "stdout",
       "text": [
        " 15672 Circle: 1040 ...\n",
        "Training Ego:"
       ]
      },
      {
       "output_type": "stream",
       "stream": "stdout",
       "text": [
        " 15672 Circle: 1041 ...\n",
        "Training Ego:"
       ]
      },
      {
       "output_type": "stream",
       "stream": "stdout",
       "text": [
        " 15672 Circle: 1042 ...\n",
        "Training Ego:"
       ]
      },
      {
       "output_type": "stream",
       "stream": "stdout",
       "text": [
        " 15672 Circle: 1043 ...\n",
        "Training Ego:"
       ]
      },
      {
       "output_type": "stream",
       "stream": "stdout",
       "text": [
        " 15672 Circle: 1046 ...\n",
        "Training Ego:"
       ]
      },
      {
       "output_type": "stream",
       "stream": "stdout",
       "text": [
        " 15672 Circle: 1047 ...\n",
        "Training Ego:"
       ]
      },
      {
       "output_type": "stream",
       "stream": "stdout",
       "text": [
        " 15672 Circle: 1048 ...\n",
        "Training Ego:"
       ]
      },
      {
       "output_type": "stream",
       "stream": "stdout",
       "text": [
        " 15672 Circle: 1049 ...\n",
        "Training Ego:"
       ]
      },
      {
       "output_type": "stream",
       "stream": "stdout",
       "text": [
        " 15672 Circle: 1050 ...\n",
        "Training Ego:"
       ]
      },
      {
       "output_type": "stream",
       "stream": "stdout",
       "text": [
        " 15672 Circle: 1051 ...\n",
        "Training Ego:"
       ]
      },
      {
       "output_type": "stream",
       "stream": "stdout",
       "text": [
        " 15672 Circle: 1052 ...\n",
        "Training Ego:"
       ]
      },
      {
       "output_type": "stream",
       "stream": "stdout",
       "text": [
        " 15672 Circle: 1053 ...\n",
        "Training Ego:"
       ]
      },
      {
       "output_type": "stream",
       "stream": "stdout",
       "text": [
        " 15672 Circle: 1055 ...\n",
        "Training Ego:"
       ]
      },
      {
       "output_type": "stream",
       "stream": "stdout",
       "text": [
        " 15672 Circle: 1058 ...\n",
        "Training Ego:"
       ]
      },
      {
       "output_type": "stream",
       "stream": "stdout",
       "text": [
        " 15672 Circle: 1061 ...\n",
        "Training Ego:"
       ]
      },
      {
       "output_type": "stream",
       "stream": "stdout",
       "text": [
        " 15672 Circle: 1062 ...\n",
        "Training Ego:"
       ]
      },
      {
       "output_type": "stream",
       "stream": "stdout",
       "text": [
        " 15672 Circle: 1067 ...\n",
        "Training Ego:"
       ]
      },
      {
       "output_type": "stream",
       "stream": "stdout",
       "text": [
        " 15672 Circle: 1068 ...\n",
        "Training Ego:"
       ]
      },
      {
       "output_type": "stream",
       "stream": "stdout",
       "text": [
        " 15672 Circle: 1072 ...\n",
        "Training Ego:"
       ]
      },
      {
       "output_type": "stream",
       "stream": "stdout",
       "text": [
        " 15672 Circle: 709 ...\n",
        "Training Ego:"
       ]
      },
      {
       "output_type": "stream",
       "stream": "stdout",
       "text": [
        " 15672 Circle: 13 ...\n",
        "Training Ego:"
       ]
      },
      {
       "output_type": "stream",
       "stream": "stdout",
       "text": [
        " 15672 Circle: 273 ...\n",
        "Training Ego:"
       ]
      },
      {
       "output_type": "stream",
       "stream": "stdout",
       "text": [
        " 16203 Circle: 1088 ...\n",
        "Training Ego:"
       ]
      },
      {
       "output_type": "stream",
       "stream": "stdout",
       "text": [
        " 16203 Circle: 703 ...\n",
        "Training Ego:"
       ]
      },
      {
       "output_type": "stream",
       "stream": "stdout",
       "text": [
        " 16203 Circle: 150 ...\n",
        "Training Ego:"
       ]
      },
      {
       "output_type": "stream",
       "stream": "stdout",
       "text": [
        " 16203 Circle: 1087 ...\n",
        "Training Ego:"
       ]
      },
      {
       "output_type": "stream",
       "stream": "stdout",
       "text": [
        " 16378 Circle: 1091 ...\n",
        "Training Ego:"
       ]
      },
      {
       "output_type": "stream",
       "stream": "stdout",
       "text": [
        " 16378 Circle: 1092 ...\n",
        "Training Ego:"
       ]
      },
      {
       "output_type": "stream",
       "stream": "stdout",
       "text": [
        " 16378 Circle: 1093 ...\n",
        "Training Ego:"
       ]
      },
      {
       "output_type": "stream",
       "stream": "stdout",
       "text": [
        " 16378 Circle: 1094 ...\n",
        "Training Ego:"
       ]
      },
      {
       "output_type": "stream",
       "stream": "stdout",
       "text": [
        " 16378 Circle: 1095 ...\n",
        "Training Ego:"
       ]
      },
      {
       "output_type": "stream",
       "stream": "stdout",
       "text": [
        " 16642 Circle: 1120 ...\n",
        "Training Ego:"
       ]
      },
      {
       "output_type": "stream",
       "stream": "stdout",
       "text": [
        " 16642 Circle: 194 ...\n",
        "Training Ego:"
       ]
      },
      {
       "output_type": "stream",
       "stream": "stdout",
       "text": [
        " 16642 Circle: 1123 ...\n",
        "Training Ego:"
       ]
      },
      {
       "output_type": "stream",
       "stream": "stdout",
       "text": [
        " 16642 Circle: 1099 ...\n",
        "Training Ego:"
       ]
      },
      {
       "output_type": "stream",
       "stream": "stdout",
       "text": [
        " 16642 Circle: 1101 ...\n",
        "Training Ego:"
       ]
      },
      {
       "output_type": "stream",
       "stream": "stdout",
       "text": [
        " 16642 Circle: 1113 ...\n",
        "Training Ego:"
       ]
      },
      {
       "output_type": "stream",
       "stream": "stdout",
       "text": [
        " 16642 Circle: 1105 ...\n",
        "Training Ego:"
       ]
      },
      {
       "output_type": "stream",
       "stream": "stdout",
       "text": [
        " 16642 Circle: 1106 ...\n",
        "Training Ego:"
       ]
      },
      {
       "output_type": "stream",
       "stream": "stdout",
       "text": [
        " 16642 Circle: 1109 ...\n",
        "Training Ego:"
       ]
      },
      {
       "output_type": "stream",
       "stream": "stdout",
       "text": [
        " 16642 Circle: 1110 ...\n",
        "Training Ego:"
       ]
      },
      {
       "output_type": "stream",
       "stream": "stdout",
       "text": [
        " 16642 Circle: 1111 ...\n",
        "Training Ego:"
       ]
      },
      {
       "output_type": "stream",
       "stream": "stdout",
       "text": [
        " 16642 Circle: 1112 ...\n",
        "Training Ego:"
       ]
      },
      {
       "output_type": "stream",
       "stream": "stdout",
       "text": [
        " 16642 Circle: 153 ...\n",
        "Training Ego:"
       ]
      },
      {
       "output_type": "stream",
       "stream": "stdout",
       "text": [
        " 16642 Circle: 1114 ...\n",
        "Training Ego:"
       ]
      },
      {
       "output_type": "stream",
       "stream": "stdout",
       "text": [
        " 16642 Circle: 1117 ...\n",
        "Training Ego:"
       ]
      },
      {
       "output_type": "stream",
       "stream": "stdout",
       "text": [
        " 16642 Circle: 62 ...\n",
        "Training Ego:"
       ]
      },
      {
       "output_type": "stream",
       "stream": "stdout",
       "text": [
        " 16642 Circle: 1119 ...\n",
        "Training Ego:"
       ]
      },
      {
       "output_type": "stream",
       "stream": "stdout",
       "text": [
        " 16869 Circle: 1152 ...\n",
        "Training Ego:"
       ]
      },
      {
       "output_type": "stream",
       "stream": "stdout",
       "text": [
        " 16869 Circle: 74 ...\n",
        "Training Ego:"
       ]
      },
      {
       "output_type": "stream",
       "stream": "stdout",
       "text": [
        " 16869 Circle: 1156 ...\n",
        "Training Ego:"
       ]
      },
      {
       "output_type": "stream",
       "stream": "stdout",
       "text": [
        " 16869 Circle: 10 ...\n",
        "Training Ego:"
       ]
      },
      {
       "output_type": "stream",
       "stream": "stdout",
       "text": [
        " 16869 Circle: 13 ...\n",
        "Training Ego:"
       ]
      },
      {
       "output_type": "stream",
       "stream": "stdout",
       "text": [
        " 17951 Circle: 1217 ...\n",
        "Training Ego:"
       ]
      },
      {
       "output_type": "stream",
       "stream": "stdout",
       "text": [
        " 17951 Circle: 1218 ...\n",
        "Training Ego:"
       ]
      },
      {
       "output_type": "stream",
       "stream": "stdout",
       "text": [
        " 17951 Circle: 1219 ...\n",
        "Training Ego:"
       ]
      },
      {
       "output_type": "stream",
       "stream": "stdout",
       "text": [
        " 17951 Circle: 708 ...\n",
        "Training Ego:"
       ]
      },
      {
       "output_type": "stream",
       "stream": "stdout",
       "text": [
        " 17951 Circle: 1221 ...\n",
        "Training Ego:"
       ]
      },
      {
       "output_type": "stream",
       "stream": "stdout",
       "text": [
        " 18005 Circle: 1224 ...\n",
        "Training Ego:"
       ]
      },
      {
       "output_type": "stream",
       "stream": "stdout",
       "text": [
        " 18005 Circle: 1222 ...\n",
        "Training Ego:"
       ]
      },
      {
       "output_type": "stream",
       "stream": "stdout",
       "text": [
        " 18005 Circle: 1223 ...\n",
        "Training Ego:"
       ]
      },
      {
       "output_type": "stream",
       "stream": "stdout",
       "text": [
        " 1839 Circle: 113 ...\n",
        "Training Ego:"
       ]
      },
      {
       "output_type": "stream",
       "stream": "stdout",
       "text": [
        " 1839 Circle: 114 ...\n",
        "Training Ego:"
       ]
      },
      {
       "output_type": "stream",
       "stream": "stdout",
       "text": [
        " 1839 Circle: 115 ...\n",
        "Training Ego:"
       ]
      },
      {
       "output_type": "stream",
       "stream": "stdout",
       "text": [
        " 1839 Circle: 116 ...\n",
        "Training Ego:"
       ]
      },
      {
       "output_type": "stream",
       "stream": "stdout",
       "text": [
        " 1839 Circle: 118 ...\n",
        "Training Ego:"
       ]
      },
      {
       "output_type": "stream",
       "stream": "stdout",
       "text": [
        " 1839 Circle: 119 ...\n",
        "Training Ego:"
       ]
      },
      {
       "output_type": "stream",
       "stream": "stdout",
       "text": [
        " 1839 Circle: 120 ...\n",
        "Training Ego:"
       ]
      },
      {
       "output_type": "stream",
       "stream": "stdout",
       "text": [
        " 1839 Circle: 84 ...\n",
        "Training Ego:"
       ]
      },
      {
       "output_type": "stream",
       "stream": "stdout",
       "text": [
        " 18543 Circle: 1232 ...\n",
        "Training Ego:"
       ]
      },
      {
       "output_type": "stream",
       "stream": "stdout",
       "text": [
        " 18543 Circle: 1236 ...\n",
        "Training Ego:"
       ]
      },
      {
       "output_type": "stream",
       "stream": "stdout",
       "text": [
        " 18543 Circle: 1234 ...\n",
        "Training Ego:"
       ]
      },
      {
       "output_type": "stream",
       "stream": "stdout",
       "text": [
        " 18543 Circle: 84 ...\n",
        "Training Ego:"
       ]
      },
      {
       "output_type": "stream",
       "stream": "stdout",
       "text": [
        " 18543 Circle: 18 ...\n",
        "Training Ego:"
       ]
      },
      {
       "output_type": "stream",
       "stream": "stdout",
       "text": [
        " 19129 Circle: 1256 ...\n",
        "Training Ego:"
       ]
      },
      {
       "output_type": "stream",
       "stream": "stdout",
       "text": [
        " 19129 Circle: 1257 ...\n",
        "Training Ego:"
       ]
      },
      {
       "output_type": "stream",
       "stream": "stdout",
       "text": [
        " 19129 Circle: 74 ...\n",
        "Training Ego:"
       ]
      },
      {
       "output_type": "stream",
       "stream": "stdout",
       "text": [
        " 19129 Circle: 92 ...\n",
        "Training Ego:"
       ]
      },
      {
       "output_type": "stream",
       "stream": "stdout",
       "text": [
        " 19129 Circle: 62 ...\n",
        "Training Ego:"
       ]
      },
      {
       "output_type": "stream",
       "stream": "stdout",
       "text": [
        " 1968 Circle: 131 ...\n",
        "Training Ego:"
       ]
      },
      {
       "output_type": "stream",
       "stream": "stdout",
       "text": [
        " 1968 Circle: 132 ...\n",
        "Training Ego:"
       ]
      },
      {
       "output_type": "stream",
       "stream": "stdout",
       "text": [
        " 1968 Circle: 133 ...\n",
        "Training Ego:"
       ]
      },
      {
       "output_type": "stream",
       "stream": "stdout",
       "text": [
        " 1968 Circle: 74 ...\n",
        "Training Ego:"
       ]
      },
      {
       "output_type": "stream",
       "stream": "stdout",
       "text": [
        " 1968 Circle: 13 ...\n",
        "Training Ego:"
       ]
      },
      {
       "output_type": "stream",
       "stream": "stdout",
       "text": [
        " 1968 Circle: 125 ...\n",
        "Training Ego:"
       ]
      },
      {
       "output_type": "stream",
       "stream": "stdout",
       "text": [
        " 1968 Circle: 18 ...\n",
        "Training Ego:"
       ]
      },
      {
       "output_type": "stream",
       "stream": "stdout",
       "text": [
        " 1968 Circle: 121 ...\n",
        "Training Ego:"
       ]
      },
      {
       "output_type": "stream",
       "stream": "stdout",
       "text": [
        " 1968 Circle: 122 ...\n",
        "Training Ego:"
       ]
      },
      {
       "output_type": "stream",
       "stream": "stdout",
       "text": [
        " 1968 Circle: 123 ...\n",
        "Training Ego:"
       ]
      },
      {
       "output_type": "stream",
       "stream": "stdout",
       "text": [
        " 1968 Circle: 92 ...\n",
        "Training Ego:"
       ]
      },
      {
       "output_type": "stream",
       "stream": "stdout",
       "text": [
        " 1968 Circle: 10 ...\n",
        "Training Ego:"
       ]
      },
      {
       "output_type": "stream",
       "stream": "stdout",
       "text": [
        " 1968 Circle: 126 ...\n",
        "Training Ego:"
       ]
      },
      {
       "output_type": "stream",
       "stream": "stdout",
       "text": [
        " 1968 Circle: 127 ...\n",
        "Training Ego:"
       ]
      },
      {
       "output_type": "stream",
       "stream": "stdout",
       "text": [
        " 19788 Circle: 1282 ...\n",
        "Training Ego:"
       ]
      },
      {
       "output_type": "stream",
       "stream": "stdout",
       "text": [
        " 19788 Circle: 1273 ...\n",
        "Training Ego:"
       ]
      },
      {
       "output_type": "stream",
       "stream": "stdout",
       "text": [
        " 19788 Circle: 10 ...\n",
        "Training Ego:"
       ]
      },
      {
       "output_type": "stream",
       "stream": "stdout",
       "text": [
        " 19788 Circle: 338 ...\n",
        "Training Ego:"
       ]
      },
      {
       "output_type": "stream",
       "stream": "stdout",
       "text": [
        " 19788 Circle: 13 ...\n",
        "Training Ego:"
       ]
      },
      {
       "output_type": "stream",
       "stream": "stdout",
       "text": [
        " 19788 Circle: 1070 ...\n",
        "Training Ego:"
       ]
      },
      {
       "output_type": "stream",
       "stream": "stdout",
       "text": [
        " 19788 Circle: 1265 ...\n",
        "Training Ego:"
       ]
      },
      {
       "output_type": "stream",
       "stream": "stdout",
       "text": [
        " 19788 Circle: 1266 ...\n",
        "Training Ego:"
       ]
      },
      {
       "output_type": "stream",
       "stream": "stdout",
       "text": [
        " 19788 Circle: 1268 ...\n",
        "Training Ego:"
       ]
      },
      {
       "output_type": "stream",
       "stream": "stdout",
       "text": [
        " 19788 Circle: 1269 ...\n",
        "Training Ego:"
       ]
      },
      {
       "output_type": "stream",
       "stream": "stdout",
       "text": [
        " 19788 Circle: 1270 ...\n",
        "Training Ego:"
       ]
      },
      {
       "output_type": "stream",
       "stream": "stdout",
       "text": [
        " 19788 Circle: 1271 ...\n",
        "Training Ego:"
       ]
      },
      {
       "output_type": "stream",
       "stream": "stdout",
       "text": [
        " 19788 Circle: 1017 ...\n",
        "Training Ego:"
       ]
      },
      {
       "output_type": "stream",
       "stream": "stdout",
       "text": [
        " 19788 Circle: 1274 ...\n",
        "Training Ego:"
       ]
      },
      {
       "output_type": "stream",
       "stream": "stdout",
       "text": [
        " 19788 Circle: 1275 ...\n",
        "Training Ego:"
       ]
      },
      {
       "output_type": "stream",
       "stream": "stdout",
       "text": [
        " 19788 Circle: 1277 ...\n",
        "Training Ego:"
       ]
      },
      {
       "output_type": "stream",
       "stream": "stdout",
       "text": [
        " 2255 Circle: 18 ...\n",
        "Training Ego:"
       ]
      },
      {
       "output_type": "stream",
       "stream": "stdout",
       "text": [
        " 2255 Circle: 148 ...\n",
        "Training Ego:"
       ]
      },
      {
       "output_type": "stream",
       "stream": "stdout",
       "text": [
        " 2255 Circle: 78 ...\n",
        "Training Ego:"
       ]
      },
      {
       "output_type": "stream",
       "stream": "stdout",
       "text": [
        " 22650 Circle: 36 ...\n",
        "Training Ego:"
       ]
      },
      {
       "output_type": "stream",
       "stream": "stdout",
       "text": [
        " 22650 Circle: 1381 ...\n",
        "Training Ego:"
       ]
      },
      {
       "output_type": "stream",
       "stream": "stdout",
       "text": [
        " 22650 Circle: 1383 ...\n",
        "Training Ego:"
       ]
      },
      {
       "output_type": "stream",
       "stream": "stdout",
       "text": [
        " 22650 Circle: 1384 ...\n",
        "Training Ego:"
       ]
      },
      {
       "output_type": "stream",
       "stream": "stdout",
       "text": [
        " 22650 Circle: 1385 ...\n",
        "Training Ego:"
       ]
      },
      {
       "output_type": "stream",
       "stream": "stdout",
       "text": [
        " 22650 Circle: 1388 ...\n",
        "Training Ego:"
       ]
      },
      {
       "output_type": "stream",
       "stream": "stdout",
       "text": [
        " 22650 Circle: 13 ...\n",
        "Training Ego:"
       ]
      },
      {
       "output_type": "stream",
       "stream": "stdout",
       "text": [
        " 22650 Circle: 15 ...\n",
        "Training Ego:"
       ]
      },
      {
       "output_type": "stream",
       "stream": "stdout",
       "text": [
        " 22650 Circle: 1389 ...\n",
        "Training Ego:"
       ]
      },
      {
       "output_type": "stream",
       "stream": "stdout",
       "text": [
        " 22650 Circle: 1380 ...\n",
        "Training Ego:"
       ]
      },
      {
       "output_type": "stream",
       "stream": "stdout",
       "text": [
        " 22650 Circle: 1391 ...\n",
        "Training Ego:"
       ]
      },
      {
       "output_type": "stream",
       "stream": "stdout",
       "text": [
        " 22650 Circle: 127 ...\n",
        "Training Ego:"
       ]
      },
      {
       "output_type": "stream",
       "stream": "stdout",
       "text": [
        " 22824 Circle: 74 ...\n",
        "Training Ego:"
       ]
      },
      {
       "output_type": "stream",
       "stream": "stdout",
       "text": [
        " 22824 Circle: 13 ...\n",
        "Training Ego:"
       ]
      },
      {
       "output_type": "stream",
       "stream": "stdout",
       "text": [
        " 22824 Circle: 15 ...\n",
        "Training Ego:"
       ]
      },
      {
       "output_type": "stream",
       "stream": "stdout",
       "text": [
        " 22824 Circle: 1392 ...\n",
        "Training Ego:"
       ]
      },
      {
       "output_type": "stream",
       "stream": "stdout",
       "text": [
        " 22824 Circle: 1394 ...\n",
        "Training Ego:"
       ]
      },
      {
       "output_type": "stream",
       "stream": "stdout",
       "text": [
        " 22824 Circle: 1396 ...\n",
        "Training Ego:"
       ]
      },
      {
       "output_type": "stream",
       "stream": "stdout",
       "text": [
        " 22824 Circle: 1398 ...\n",
        "Training Ego:"
       ]
      },
      {
       "output_type": "stream",
       "stream": "stdout",
       "text": [
        " 22824 Circle: 1399 ...\n",
        "Training Ego:"
       ]
      },
      {
       "output_type": "stream",
       "stream": "stdout",
       "text": [
        " 22824 Circle: 281 ...\n",
        "Training Ego:"
       ]
      },
      {
       "output_type": "stream",
       "stream": "stdout",
       "text": [
        " 22824 Circle: 538 ...\n",
        "Training Ego:"
       ]
      },
      {
       "output_type": "stream",
       "stream": "stdout",
       "text": [
        " 22824 Circle: 62 ...\n",
        "Training Ego:"
       ]
      },
      {
       "output_type": "stream",
       "stream": "stdout",
       "text": [
        " 23157 Circle: 416 ...\n",
        "Training Ego:"
       ]
      },
      {
       "output_type": "stream",
       "stream": "stdout",
       "text": [
        " 23157 Circle: 1409 ...\n",
        "Training Ego:"
       ]
      },
      {
       "output_type": "stream",
       "stream": "stdout",
       "text": [
        " 23157 Circle: 1411 ...\n",
        "Training Ego:"
       ]
      },
      {
       "output_type": "stream",
       "stream": "stdout",
       "text": [
        " 23157 Circle: 36 ...\n",
        "Training Ego:"
       ]
      },
      {
       "output_type": "stream",
       "stream": "stdout",
       "text": [
        " 23157 Circle: 39 ...\n",
        "Training Ego:"
       ]
      },
      {
       "output_type": "stream",
       "stream": "stdout",
       "text": [
        " 23157 Circle: 10 ...\n",
        "Training Ego:"
       ]
      },
      {
       "output_type": "stream",
       "stream": "stdout",
       "text": [
        " 23157 Circle: 363 ...\n",
        "Training Ego:"
       ]
      },
      {
       "output_type": "stream",
       "stream": "stdout",
       "text": [
        " 23157 Circle: 13 ...\n",
        "Training Ego:"
       ]
      },
      {
       "output_type": "stream",
       "stream": "stdout",
       "text": [
        " 23157 Circle: 110 ...\n",
        "Training Ego:"
       ]
      },
      {
       "output_type": "stream",
       "stream": "stdout",
       "text": [
        " 23157 Circle: 1408 ...\n",
        "Training Ego:"
       ]
      },
      {
       "output_type": "stream",
       "stream": "stdout",
       "text": [
        " 23157 Circle: 1415 ...\n",
        "Training Ego:"
       ]
      },
      {
       "output_type": "stream",
       "stream": "stdout",
       "text": [
        " 23157 Circle: 1404 ...\n",
        "Training Ego:"
       ]
      },
      {
       "output_type": "stream",
       "stream": "stdout",
       "text": [
        " 23157 Circle: 1405 ...\n",
        "Training Ego:"
       ]
      },
      {
       "output_type": "stream",
       "stream": "stdout",
       "text": [
        " 23157 Circle: 1406 ...\n",
        "Training Ego:"
       ]
      },
      {
       "output_type": "stream",
       "stream": "stdout",
       "text": [
        " 23157 Circle: 1407 ...\n",
        "Training Ego:"
       ]
      },
      {
       "output_type": "stream",
       "stream": "stdout",
       "text": [
        " 23299 Circle: 731 ...\n",
        "Training Ego:"
       ]
      },
      {
       "output_type": "stream",
       "stream": "stdout",
       "text": [
        " 23299 Circle: 1319 ...\n",
        "Training Ego:"
       ]
      },
      {
       "output_type": "stream",
       "stream": "stdout",
       "text": [
        " 23299 Circle: 1417 ...\n",
        "Training Ego:"
       ]
      },
      {
       "output_type": "stream",
       "stream": "stdout",
       "text": [
        " 23299 Circle: 1418 ...\n",
        "Training Ego:"
       ]
      },
      {
       "output_type": "stream",
       "stream": "stdout",
       "text": [
        " 23299 Circle: 1419 ...\n",
        "Training Ego:"
       ]
      },
      {
       "output_type": "stream",
       "stream": "stdout",
       "text": [
        " 23299 Circle: 1420 ...\n",
        "Training Ego:"
       ]
      },
      {
       "output_type": "stream",
       "stream": "stdout",
       "text": [
        " 23299 Circle: 1421 ...\n",
        "Training Ego:"
       ]
      },
      {
       "output_type": "stream",
       "stream": "stdout",
       "text": [
        " 23299 Circle: 1422 ...\n",
        "Training Ego:"
       ]
      },
      {
       "output_type": "stream",
       "stream": "stdout",
       "text": [
        " 23299 Circle: 13 ...\n",
        "Training Ego:"
       ]
      },
      {
       "output_type": "stream",
       "stream": "stdout",
       "text": [
        " 23299 Circle: 1424 ...\n",
        "Training Ego:"
       ]
      },
      {
       "output_type": "stream",
       "stream": "stdout",
       "text": [
        " 23299 Circle: 205 ...\n",
        "Training Ego:"
       ]
      },
      {
       "output_type": "stream",
       "stream": "stdout",
       "text": [
        " 23299 Circle: 403 ...\n",
        "Training Ego:"
       ]
      },
      {
       "output_type": "stream",
       "stream": "stdout",
       "text": [
        " 23299 Circle: 281 ...\n",
        "Training Ego:"
       ]
      },
      {
       "output_type": "stream",
       "stream": "stdout",
       "text": [
        " 23299 Circle: 1423 ...\n",
        "Training Ego:"
       ]
      },
      {
       "output_type": "stream",
       "stream": "stdout",
       "text": [
        " 23299 Circle: 62 ...\n",
        "Training Ego:"
       ]
      },
      {
       "output_type": "stream",
       "stream": "stdout",
       "text": [
        " 2365 Circle: 160 ...\n",
        "Training Ego:"
       ]
      },
      {
       "output_type": "stream",
       "stream": "stdout",
       "text": [
        " 2365 Circle: 161 ...\n",
        "Training Ego:"
       ]
      },
      {
       "output_type": "stream",
       "stream": "stdout",
       "text": [
        " 2365 Circle: 162 ...\n",
        "Training Ego:"
       ]
      },
      {
       "output_type": "stream",
       "stream": "stdout",
       "text": [
        " 2365 Circle: 163 ...\n",
        "Training Ego:"
       ]
      },
      {
       "output_type": "stream",
       "stream": "stdout",
       "text": [
        " 2365 Circle: 164 ...\n",
        "Training Ego:"
       ]
      },
      {
       "output_type": "stream",
       "stream": "stdout",
       "text": [
        " 2365 Circle: 13 ...\n",
        "Training Ego:"
       ]
      },
      {
       "output_type": "stream",
       "stream": "stdout",
       "text": [
        " 2365 Circle: 154 ...\n",
        "Training Ego:"
       ]
      },
      {
       "output_type": "stream",
       "stream": "stdout",
       "text": [
        " 2365 Circle: 155 ...\n",
        "Training Ego:"
       ]
      },
      {
       "output_type": "stream",
       "stream": "stdout",
       "text": [
        " 2365 Circle: 156 ...\n",
        "Training Ego:"
       ]
      },
      {
       "output_type": "stream",
       "stream": "stdout",
       "text": [
        " 2365 Circle: 159 ...\n",
        "Training Ego:"
       ]
      },
      {
       "output_type": "stream",
       "stream": "stdout",
       "text": [
        " 239 Circle: 16 ...\n",
        "Training Ego:"
       ]
      },
      {
       "output_type": "stream",
       "stream": "stdout",
       "text": [
        " 239 Circle: 17 ...\n",
        "Training Ego:"
       ]
      },
      {
       "output_type": "stream",
       "stream": "stdout",
       "text": [
        " 239 Circle: 18 ...\n",
        "Training Ego:"
       ]
      },
      {
       "output_type": "stream",
       "stream": "stdout",
       "text": [
        " 239 Circle: 19 ...\n",
        "Training Ego:"
       ]
      },
      {
       "output_type": "stream",
       "stream": "stdout",
       "text": [
        " 24758 Circle: 1447 ...\n",
        "Training Ego:"
       ]
      },
      {
       "output_type": "stream",
       "stream": "stdout",
       "text": [
        " 24758 Circle: 1443 ...\n",
        "Training Ego:"
       ]
      },
      {
       "output_type": "stream",
       "stream": "stdout",
       "text": [
        " 24758 Circle: 1444 ...\n",
        "Training Ego:"
       ]
      },
      {
       "output_type": "stream",
       "stream": "stdout",
       "text": [
        " 24758 Circle: 13 ...\n",
        "Training Ego:"
       ]
      },
      {
       "output_type": "stream",
       "stream": "stdout",
       "text": [
        " 24758 Circle: 1445 ...\n",
        "Training Ego:"
       ]
      },
      {
       "output_type": "stream",
       "stream": "stdout",
       "text": [
        " 24857 Circle: 1473 ...\n",
        "Training Ego:"
       ]
      },
      {
       "output_type": "stream",
       "stream": "stdout",
       "text": [
        " 24857 Circle: 45 ...\n",
        "Training Ego:"
       ]
      },
      {
       "output_type": "stream",
       "stream": "stdout",
       "text": [
        " 24857 Circle: 78 ...\n",
        "Training Ego:"
       ]
      },
      {
       "output_type": "stream",
       "stream": "stdout",
       "text": [
        " 24857 Circle: 1464 ...\n",
        "Training Ego:"
       ]
      },
      {
       "output_type": "stream",
       "stream": "stdout",
       "text": [
        " 24857 Circle: 1465 ...\n",
        "Training Ego:"
       ]
      },
      {
       "output_type": "stream",
       "stream": "stdout",
       "text": [
        " 24857 Circle: 1467 ...\n",
        "Training Ego:"
       ]
      },
      {
       "output_type": "stream",
       "stream": "stdout",
       "text": [
        " 24857 Circle: 1468 ...\n",
        "Training Ego:"
       ]
      },
      {
       "output_type": "stream",
       "stream": "stdout",
       "text": [
        " 24857 Circle: 1470 ...\n",
        "Training Ego:"
       ]
      },
      {
       "output_type": "stream",
       "stream": "stdout",
       "text": [
        " 25159 Circle: 900 ...\n",
        "Training Ego:"
       ]
      },
      {
       "output_type": "stream",
       "stream": "stdout",
       "text": [
        " 25159 Circle: 1478 ...\n",
        "Training Ego:"
       ]
      },
      {
       "output_type": "stream",
       "stream": "stdout",
       "text": [
        " 25159 Circle: 1480 ...\n",
        "Training Ego:"
       ]
      },
      {
       "output_type": "stream",
       "stream": "stdout",
       "text": [
        " 25159 Circle: 1481 ...\n",
        "Training Ego:"
       ]
      },
      {
       "output_type": "stream",
       "stream": "stdout",
       "text": [
        " 25159 Circle: 1482 ...\n",
        "Training Ego:"
       ]
      },
      {
       "output_type": "stream",
       "stream": "stdout",
       "text": [
        " 25159 Circle: 1483 ...\n",
        "Training Ego:"
       ]
      },
      {
       "output_type": "stream",
       "stream": "stdout",
       "text": [
        " 25159 Circle: 1484 ...\n",
        "Training Ego:"
       ]
      },
      {
       "output_type": "stream",
       "stream": "stdout",
       "text": [
        " 25159 Circle: 110 ...\n",
        "Training Ego:"
       ]
      },
      {
       "output_type": "stream",
       "stream": "stdout",
       "text": [
        " 25159 Circle: 18 ...\n",
        "Training Ego:"
       ]
      },
      {
       "output_type": "stream",
       "stream": "stdout",
       "text": [
        " 25159 Circle: 78 ...\n",
        "Training Ego:"
       ]
      },
      {
       "output_type": "stream",
       "stream": "stdout",
       "text": [
        " 25159 Circle: 62 ...\n",
        "Training Ego:"
       ]
      },
      {
       "output_type": "stream",
       "stream": "stdout",
       "text": [
        " 25159 Circle: 25 ...\n",
        "Training Ego:"
       ]
      },
      {
       "output_type": "stream",
       "stream": "stdout",
       "text": [
        " 25159 Circle: 74 ...\n",
        "Training Ego:"
       ]
      },
      {
       "output_type": "stream",
       "stream": "stdout",
       "text": [
        " 25159 Circle: 190 ...\n",
        "Training Ego:"
       ]
      },
      {
       "output_type": "stream",
       "stream": "stdout",
       "text": [
        " 25568 Circle: 1505 ...\n",
        "Training Ego:"
       ]
      },
      {
       "output_type": "stream",
       "stream": "stdout",
       "text": [
        " 25568 Circle: 1507 ...\n",
        "Training Ego:"
       ]
      },
      {
       "output_type": "stream",
       "stream": "stdout",
       "text": [
        " 25568 Circle: 1508 ...\n",
        "Training Ego:"
       ]
      },
      {
       "output_type": "stream",
       "stream": "stdout",
       "text": [
        " 25568 Circle: 1509 ...\n",
        "Training Ego:"
       ]
      },
      {
       "output_type": "stream",
       "stream": "stdout",
       "text": [
        " 25568 Circle: 18 ...\n",
        "Training Ego:"
       ]
      },
      {
       "output_type": "stream",
       "stream": "stdout",
       "text": [
        " 25568 Circle: 84 ...\n",
        "Training Ego:"
       ]
      },
      {
       "output_type": "stream",
       "stream": "stdout",
       "text": [
        " 25568 Circle: 25 ...\n",
        "Training Ego:"
       ]
      },
      {
       "output_type": "stream",
       "stream": "stdout",
       "text": [
        " 25568 Circle: 410 ...\n",
        "Training Ego:"
       ]
      },
      {
       "output_type": "stream",
       "stream": "stdout",
       "text": [
        " 25568 Circle: 1503 ...\n",
        "Training Ego:"
       ]
      },
      {
       "output_type": "stream",
       "stream": "stdout",
       "text": [
        " 25568 Circle: 1501 ...\n",
        "Training Ego:"
       ]
      },
      {
       "output_type": "stream",
       "stream": "stdout",
       "text": [
        " 25568 Circle: 1502 ...\n",
        "Training Ego:"
       ]
      },
      {
       "output_type": "stream",
       "stream": "stdout",
       "text": [
        " 25568 Circle: 421 ...\n",
        "Training Ego:"
       ]
      },
      {
       "output_type": "stream",
       "stream": "stdout",
       "text": [
        " 25773 Circle: 1526 ...\n",
        "Training Ego:"
       ]
      },
      {
       "output_type": "stream",
       "stream": "stdout",
       "text": [
        " 25773 Circle: 198 ...\n",
        "Training Ego:"
       ]
      },
      {
       "output_type": "stream",
       "stream": "stdout",
       "text": [
        " 25773 Circle: 10 ...\n",
        "Training Ego:"
       ]
      },
      {
       "output_type": "stream",
       "stream": "stdout",
       "text": [
        " 25773 Circle: 76 ...\n",
        "Training Ego:"
       ]
      },
      {
       "output_type": "stream",
       "stream": "stdout",
       "text": [
        " 25773 Circle: 13 ...\n",
        "Training Ego:"
       ]
      },
      {
       "output_type": "stream",
       "stream": "stdout",
       "text": [
        " 25773 Circle: 273 ...\n",
        "Training Ego:"
       ]
      },
      {
       "output_type": "stream",
       "stream": "stdout",
       "text": [
        " 25773 Circle: 1524 ...\n",
        "Training Ego:"
       ]
      },
      {
       "output_type": "stream",
       "stream": "stdout",
       "text": [
        " 25773 Circle: 1525 ...\n",
        "Training Ego:"
       ]
      },
      {
       "output_type": "stream",
       "stream": "stdout",
       "text": [
        " 25773 Circle: 182 ...\n",
        "Training Ego:"
       ]
      },
      {
       "output_type": "stream",
       "stream": "stdout",
       "text": [
        " 25773 Circle: 1528 ...\n",
        "Training Ego:"
       ]
      },
      {
       "output_type": "stream",
       "stream": "stdout",
       "text": [
        " 25773 Circle: 281 ...\n",
        "Training Ego:"
       ]
      },
      {
       "output_type": "stream",
       "stream": "stdout",
       "text": [
        " 26321 Circle: 963 ...\n",
        "Training Ego:"
       ]
      },
      {
       "output_type": "stream",
       "stream": "stdout",
       "text": [
        " 26321 Circle: 10 ...\n",
        "Training Ego:"
       ]
      },
      {
       "output_type": "stream",
       "stream": "stdout",
       "text": [
        " 26321 Circle: 13 ...\n",
        "Training Ego:"
       ]
      },
      {
       "output_type": "stream",
       "stream": "stdout",
       "text": [
        " 26321 Circle: 1549 ...\n",
        "Training Ego:"
       ]
      },
      {
       "output_type": "stream",
       "stream": "stdout",
       "text": [
        " 26321 Circle: 18 ...\n",
        "Training Ego:"
       ]
      },
      {
       "output_type": "stream",
       "stream": "stdout",
       "text": [
        " 26321 Circle: 74 ...\n",
        "Training Ego:"
       ]
      },
      {
       "output_type": "stream",
       "stream": "stdout",
       "text": [
        " 26492 Circle: 897 ...\n",
        "Training Ego:"
       ]
      },
      {
       "output_type": "stream",
       "stream": "stdout",
       "text": [
        " 26492 Circle: 324 ...\n",
        "Training Ego:"
       ]
      },
      {
       "output_type": "stream",
       "stream": "stdout",
       "text": [
        " 26492 Circle: 179 ...\n",
        "Training Ego:"
       ]
      },
      {
       "output_type": "stream",
       "stream": "stdout",
       "text": [
        " 26492 Circle: 328 ...\n",
        "Training Ego:"
       ]
      },
      {
       "output_type": "stream",
       "stream": "stdout",
       "text": [
        " 26492 Circle: 74 ...\n",
        "Training Ego:"
       ]
      },
      {
       "output_type": "stream",
       "stream": "stdout",
       "text": [
        " 26492 Circle: 13 ...\n",
        "Training Ego:"
       ]
      },
      {
       "output_type": "stream",
       "stream": "stdout",
       "text": [
        " 26492 Circle: 1550 ...\n",
        "Training Ego:"
       ]
      },
      {
       "output_type": "stream",
       "stream": "stdout",
       "text": [
        " 26492 Circle: 1551 ...\n",
        "Training Ego:"
       ]
      },
      {
       "output_type": "stream",
       "stream": "stdout",
       "text": [
        " 26492 Circle: 1553 ...\n",
        "Training Ego:"
       ]
      },
      {
       "output_type": "stream",
       "stream": "stdout",
       "text": [
        " 26492 Circle: 18 ...\n",
        "Training Ego:"
       ]
      },
      {
       "output_type": "stream",
       "stream": "stdout",
       "text": [
        " 26492 Circle: 1555 ...\n",
        "Training Ego:"
       ]
      },
      {
       "output_type": "stream",
       "stream": "stdout",
       "text": [
        " 26492 Circle: 1556 ...\n",
        "Training Ego:"
       ]
      },
      {
       "output_type": "stream",
       "stream": "stdout",
       "text": [
        " 26492 Circle: 1558 ...\n",
        "Training Ego:"
       ]
      },
      {
       "output_type": "stream",
       "stream": "stdout",
       "text": [
        " 26492 Circle: 540 ...\n",
        "Training Ego:"
       ]
      },
      {
       "output_type": "stream",
       "stream": "stdout",
       "text": [
        " 26492 Circle: 62 ...\n",
        "Training Ego:"
       ]
      },
      {
       "output_type": "stream",
       "stream": "stdout",
       "text": [
        " 26492 Circle: 319 ...\n",
        "Training Ego:"
       ]
      },
      {
       "output_type": "stream",
       "stream": "stdout",
       "text": [
        " 27022 Circle: 538 ...\n",
        "Training Ego:"
       ]
      },
      {
       "output_type": "stream",
       "stream": "stdout",
       "text": [
        " 27022 Circle: 1581 ...\n",
        "Training Ego:"
       ]
      },
      {
       "output_type": "stream",
       "stream": "stdout",
       "text": [
        " 27022 Circle: 1580 ...\n",
        "Training Ego:"
       ]
      },
      {
       "output_type": "stream",
       "stream": "stdout",
       "text": [
        " 27022 Circle: 421 ...\n",
        "Training Ego:"
       ]
      },
      {
       "output_type": "stream",
       "stream": "stdout",
       "text": [
        " 27022 Circle: 1583 ...\n",
        "Training Ego:"
       ]
      },
      {
       "output_type": "stream",
       "stream": "stdout",
       "text": [
        " 2738 Circle: 224 ...\n",
        "Training Ego:"
       ]
      },
      {
       "output_type": "stream",
       "stream": "stdout",
       "text": [
        " 2738 Circle: 225 ...\n",
        "Training Ego:"
       ]
      },
      {
       "output_type": "stream",
       "stream": "stdout",
       "text": [
        " 2738 Circle: 227 ...\n",
        "Training Ego:"
       ]
      },
      {
       "output_type": "stream",
       "stream": "stdout",
       "text": [
        " 2738 Circle: 230 ...\n",
        "Training Ego:"
       ]
      },
      {
       "output_type": "stream",
       "stream": "stdout",
       "text": [
        " 2790 Circle: 257 ...\n",
        "Training Ego:"
       ]
      },
      {
       "output_type": "stream",
       "stream": "stdout",
       "text": [
        " 2790 Circle: 258 ...\n",
        "Training Ego:"
       ]
      },
      {
       "output_type": "stream",
       "stream": "stdout",
       "text": [
        " 2790 Circle: 259 ...\n",
        "Training Ego:"
       ]
      },
      {
       "output_type": "stream",
       "stream": "stdout",
       "text": [
        " 2790 Circle: 261 ...\n",
        "Training Ego:"
       ]
      },
      {
       "output_type": "stream",
       "stream": "stdout",
       "text": [
        " 2790 Circle: 268 ...\n",
        "Training Ego:"
       ]
      },
      {
       "output_type": "stream",
       "stream": "stdout",
       "text": [
        " 2790 Circle: 253 ...\n",
        "Training Ego:"
       ]
      },
      {
       "output_type": "stream",
       "stream": "stdout",
       "text": [
        " 2790 Circle: 254 ...\n",
        "Training Ego:"
       ]
      },
      {
       "output_type": "stream",
       "stream": "stdout",
       "text": [
        " 2790 Circle: 255 ...\n",
        "Training Ego:"
       ]
      },
      {
       "output_type": "stream",
       "stream": "stdout",
       "text": [
        " 2895 Circle: 276 ...\n",
        "Training Ego:"
       ]
      },
      {
       "output_type": "stream",
       "stream": "stdout",
       "text": [
        " 2895 Circle: 10 ...\n",
        "Training Ego:"
       ]
      },
      {
       "output_type": "stream",
       "stream": "stdout",
       "text": [
        " 2895 Circle: 84 ...\n",
        "Training Ego:"
       ]
      },
      {
       "output_type": "stream",
       "stream": "stdout",
       "text": [
        " 2895 Circle: 18 ...\n",
        "Training Ego:"
       ]
      },
      {
       "output_type": "stream",
       "stream": "stdout",
       "text": [
        " 2895 Circle: 278 ...\n",
        "Training Ego:"
       ]
      },
      {
       "output_type": "stream",
       "stream": "stdout",
       "text": [
        " 3059 Circle: 300 ...\n",
        "Training Ego:"
       ]
      },
      {
       "output_type": "stream",
       "stream": "stdout",
       "text": [
        " 3059 Circle: 301 ...\n",
        "Training Ego:"
       ]
      },
      {
       "output_type": "stream",
       "stream": "stdout",
       "text": [
        " 3059 Circle: 302 ...\n",
        "Training Ego:"
       ]
      },
      {
       "output_type": "stream",
       "stream": "stdout",
       "text": [
        " 3059 Circle: 303 ...\n",
        "Training Ego:"
       ]
      },
      {
       "output_type": "stream",
       "stream": "stdout",
       "text": [
        " 3059 Circle: 304 ...\n",
        "Training Ego:"
       ]
      },
      {
       "output_type": "stream",
       "stream": "stdout",
       "text": [
        " 3059 Circle: 305 ...\n",
        "Training Ego:"
       ]
      },
      {
       "output_type": "stream",
       "stream": "stdout",
       "text": [
        " 3059 Circle: 306 ...\n",
        "Training Ego:"
       ]
      },
      {
       "output_type": "stream",
       "stream": "stdout",
       "text": [
        " 3059 Circle: 307 ...\n",
        "Training Ego:"
       ]
      },
      {
       "output_type": "stream",
       "stream": "stdout",
       "text": [
        " 3059 Circle: 148 ...\n",
        "Training Ego:"
       ]
      },
      {
       "output_type": "stream",
       "stream": "stdout",
       "text": [
        " 3059 Circle: 309 ...\n",
        "Training Ego:"
       ]
      },
      {
       "output_type": "stream",
       "stream": "stdout",
       "text": [
        " 3059 Circle: 310 ...\n",
        "Training Ego:"
       ]
      },
      {
       "output_type": "stream",
       "stream": "stdout",
       "text": [
        " 3059 Circle: 311 ...\n",
        "Training Ego:"
       ]
      },
      {
       "output_type": "stream",
       "stream": "stdout",
       "text": [
        " 3059 Circle: 312 ...\n",
        "Training Ego:"
       ]
      },
      {
       "output_type": "stream",
       "stream": "stdout",
       "text": [
        " 3059 Circle: 308 ...\n",
        "Training Ego:"
       ]
      },
      {
       "output_type": "stream",
       "stream": "stdout",
       "text": [
        " 3059 Circle: 316 ...\n",
        "Training Ego:"
       ]
      },
      {
       "output_type": "stream",
       "stream": "stdout",
       "text": [
        " 345 Circle: 20 ...\n",
        "Training Ego:"
       ]
      },
      {
       "output_type": "stream",
       "stream": "stdout",
       "text": [
        " 345 Circle: 22 ...\n",
        "Training Ego:"
       ]
      },
      {
       "output_type": "stream",
       "stream": "stdout",
       "text": [
        " 345 Circle: 24 ...\n",
        "Training Ego:"
       ]
      },
      {
       "output_type": "stream",
       "stream": "stdout",
       "text": [
        " 345 Circle: 26 ...\n",
        "Training Ego:"
       ]
      },
      {
       "output_type": "stream",
       "stream": "stdout",
       "text": [
        " 345 Circle: 27 ...\n",
        "Training Ego:"
       ]
      },
      {
       "output_type": "stream",
       "stream": "stdout",
       "text": [
        " 345 Circle: 28 ...\n",
        "Training Ego:"
       ]
      },
      {
       "output_type": "stream",
       "stream": "stdout",
       "text": [
        " 345 Circle: 29 ...\n",
        "Training Ego:"
       ]
      },
      {
       "output_type": "stream",
       "stream": "stdout",
       "text": [
        " 3735 Circle: 363 ...\n",
        "Training Ego:"
       ]
      },
      {
       "output_type": "stream",
       "stream": "stdout",
       "text": [
        " 3735 Circle: 388 ...\n",
        "Training Ego:"
       ]
      },
      {
       "output_type": "stream",
       "stream": "stdout",
       "text": [
        " 3735 Circle: 39 ...\n",
        "Training Ego:"
       ]
      },
      {
       "output_type": "stream",
       "stream": "stdout",
       "text": [
        " 3735 Circle: 104 ...\n",
        "Training Ego:"
       ]
      },
      {
       "output_type": "stream",
       "stream": "stdout",
       "text": [
        " 3735 Circle: 205 ...\n",
        "Training Ego:"
       ]
      },
      {
       "output_type": "stream",
       "stream": "stdout",
       "text": [
        " 3735 Circle: 362 ...\n",
        "Training Ego:"
       ]
      },
      {
       "output_type": "stream",
       "stream": "stdout",
       "text": [
        " 3735 Circle: 203 ...\n",
        "Training Ego:"
       ]
      },
      {
       "output_type": "stream",
       "stream": "stdout",
       "text": [
        " 3735 Circle: 13 ...\n",
        "Training Ego:"
       ]
      },
      {
       "output_type": "stream",
       "stream": "stdout",
       "text": [
        " 3735 Circle: 365 ...\n",
        "Training Ego:"
       ]
      },
      {
       "output_type": "stream",
       "stream": "stdout",
       "text": [
        " 3735 Circle: 216 ...\n",
        "Training Ego:"
       ]
      },
      {
       "output_type": "stream",
       "stream": "stdout",
       "text": [
        " 3735 Circle: 370 ...\n",
        "Training Ego:"
       ]
      },
      {
       "output_type": "stream",
       "stream": "stdout",
       "text": [
        " 3735 Circle: 371 ...\n",
        "Training Ego:"
       ]
      },
      {
       "output_type": "stream",
       "stream": "stdout",
       "text": [
        " 3735 Circle: 84 ...\n",
        "Training Ego:"
       ]
      },
      {
       "output_type": "stream",
       "stream": "stdout",
       "text": [
        " 3735 Circle: 373 ...\n",
        "Training Ego:"
       ]
      },
      {
       "output_type": "stream",
       "stream": "stdout",
       "text": [
        " 3735 Circle: 374 ...\n",
        "Training Ego:"
       ]
      },
      {
       "output_type": "stream",
       "stream": "stdout",
       "text": [
        " 3735 Circle: 376 ...\n",
        "Training Ego:"
       ]
      },
      {
       "output_type": "stream",
       "stream": "stdout",
       "text": [
        " 3735 Circle: 62 ...\n",
        "Training Ego:"
       ]
      },
      {
       "output_type": "stream",
       "stream": "stdout",
       "text": [
        " 3735 Circle: 378 ...\n",
        "Training Ego:"
       ]
      },
      {
       "output_type": "stream",
       "stream": "stdout",
       "text": [
        " 3735 Circle: 367 ...\n",
        "Training Ego:"
       ]
      },
      {
       "output_type": "stream",
       "stream": "stdout",
       "text": [
        " 3735 Circle: 74 ...\n",
        "Training Ego:"
       ]
      },
      {
       "output_type": "stream",
       "stream": "stdout",
       "text": [
        " 3735 Circle: 382 ...\n",
        "Training Ego:"
       ]
      },
      {
       "output_type": "stream",
       "stream": "stdout",
       "text": [
        " 4406 Circle: 10 ...\n",
        "Training Ego:"
       ]
      },
      {
       "output_type": "stream",
       "stream": "stdout",
       "text": [
        " 4406 Circle: 395 ...\n",
        "Training Ego:"
       ]
      },
      {
       "output_type": "stream",
       "stream": "stdout",
       "text": [
        " 4406 Circle: 396 ...\n",
        "Training Ego:"
       ]
      },
      {
       "output_type": "stream",
       "stream": "stdout",
       "text": [
        " 4406 Circle: 13 ...\n",
        "Training Ego:"
       ]
      },
      {
       "output_type": "stream",
       "stream": "stdout",
       "text": [
        " 4406 Circle: 398 ...\n",
        "Training Ego:"
       ]
      },
      {
       "output_type": "stream",
       "stream": "stdout",
       "text": [
        " 4406 Circle: 400 ...\n",
        "Training Ego:"
       ]
      },
      {
       "output_type": "stream",
       "stream": "stdout",
       "text": [
        " 4406 Circle: 401 ...\n",
        "Training Ego:"
       ]
      },
      {
       "output_type": "stream",
       "stream": "stdout",
       "text": [
        " 4406 Circle: 402 ...\n",
        "Training Ego:"
       ]
      },
      {
       "output_type": "stream",
       "stream": "stdout",
       "text": [
        " 4406 Circle: 403 ...\n",
        "Training Ego:"
       ]
      },
      {
       "output_type": "stream",
       "stream": "stdout",
       "text": [
        " 4406 Circle: 404 ...\n",
        "Training Ego:"
       ]
      },
      {
       "output_type": "stream",
       "stream": "stdout",
       "text": [
        " 4406 Circle: 405 ...\n",
        "Training Ego:"
       ]
      },
      {
       "output_type": "stream",
       "stream": "stdout",
       "text": [
        " 4406 Circle: 407 ...\n",
        "Training Ego:"
       ]
      },
      {
       "output_type": "stream",
       "stream": "stdout",
       "text": [
        " 4406 Circle: 408 ...\n",
        "Training Ego:"
       ]
      },
      {
       "output_type": "stream",
       "stream": "stdout",
       "text": [
        " 4406 Circle: 25 ...\n",
        "Training Ego:"
       ]
      },
      {
       "output_type": "stream",
       "stream": "stdout",
       "text": [
        " 4406 Circle: 282 ...\n",
        "Training Ego:"
       ]
      },
      {
       "output_type": "stream",
       "stream": "stdout",
       "text": [
        " 4406 Circle: 414 ...\n",
        "Training Ego:"
       ]
      },
      {
       "output_type": "stream",
       "stream": "stdout",
       "text": [
        " 4406 Circle: 419 ...\n",
        "Training Ego:"
       ]
      },
      {
       "output_type": "stream",
       "stream": "stdout",
       "text": [
        " 4406 Circle: 420 ...\n",
        "Training Ego:"
       ]
      },
      {
       "output_type": "stream",
       "stream": "stdout",
       "text": [
        " 4406 Circle: 39 ...\n",
        "Training Ego:"
       ]
      },
      {
       "output_type": "stream",
       "stream": "stdout",
       "text": [
        " 4406 Circle: 424 ...\n",
        "Training Ego:"
       ]
      },
      {
       "output_type": "stream",
       "stream": "stdout",
       "text": [
        " 4406 Circle: 438 ...\n",
        "Training Ego:"
       ]
      },
      {
       "output_type": "stream",
       "stream": "stdout",
       "text": [
        " 4406 Circle: 443 ...\n",
        "Training Ego:"
       ]
      },
      {
       "output_type": "stream",
       "stream": "stdout",
       "text": [
        " 4406 Circle: 444 ...\n",
        "Training Ego:"
       ]
      },
      {
       "output_type": "stream",
       "stream": "stdout",
       "text": [
        " 4406 Circle: 449 ...\n",
        "Training Ego:"
       ]
      },
      {
       "output_type": "stream",
       "stream": "stdout",
       "text": [
        " 4406 Circle: 464 ...\n",
        "Training Ego:"
       ]
      },
      {
       "output_type": "stream",
       "stream": "stdout",
       "text": [
        " 4406 Circle: 486 ...\n",
        "Training Ego:"
       ]
      },
      {
       "output_type": "stream",
       "stream": "stdout",
       "text": [
        " 4406 Circle: 18 ...\n",
        "Training Ego:"
       ]
      },
      {
       "output_type": "stream",
       "stream": "stdout",
       "text": [
        " 4406 Circle: 377 ...\n",
        "Training Ego:"
       ]
      },
      {
       "output_type": "stream",
       "stream": "stdout",
       "text": [
        " 4829 Circle: 320 ...\n",
        "Training Ego:"
       ]
      },
      {
       "output_type": "stream",
       "stream": "stdout",
       "text": [
        " 4829 Circle: 13 ...\n",
        "Training Ego:"
       ]
      },
      {
       "output_type": "stream",
       "stream": "stdout",
       "text": [
        " 4829 Circle: 301 ...\n",
        "Training Ego:"
       ]
      },
      {
       "output_type": "stream",
       "stream": "stdout",
       "text": [
        " 4829 Circle: 503 ...\n",
        "Training Ego:"
       ]
      },
      {
       "output_type": "stream",
       "stream": "stdout",
       "text": [
        " 4829 Circle: 504 ...\n",
        "Training Ego:"
       ]
      },
      {
       "output_type": "stream",
       "stream": "stdout",
       "text": [
        " 4829 Circle: 505 ...\n",
        "Training Ego:"
       ]
      },
      {
       "output_type": "stream",
       "stream": "stdout",
       "text": [
        " 4829 Circle: 506 ...\n",
        "Training Ego:"
       ]
      },
      {
       "output_type": "stream",
       "stream": "stdout",
       "text": [
        " 4829 Circle: 508 ...\n",
        "Training Ego:"
       ]
      },
      {
       "output_type": "stream",
       "stream": "stdout",
       "text": [
        " 4829 Circle: 509 ...\n",
        "Training Ego:"
       ]
      },
      {
       "output_type": "stream",
       "stream": "stdout",
       "text": [
        " 4829 Circle: 510 ...\n",
        "Training Ego:"
       ]
      },
      {
       "output_type": "stream",
       "stream": "stdout",
       "text": [
        " 4829 Circle: 511 ...\n",
        "Training Ego:"
       ]
      },
      {
       "output_type": "stream",
       "stream": "stdout",
       "text": [
        " 5212 Circle: 1152 ...\n",
        "Training Ego:"
       ]
      },
      {
       "output_type": "stream",
       "stream": "stdout",
       "text": [
        " 5212 Circle: 1600 ...\n",
        "Training Ego:"
       ]
      },
      {
       "output_type": "stream",
       "stream": "stdout",
       "text": [
        " 5212 Circle: 518 ...\n",
        "Training Ego:"
       ]
      },
      {
       "output_type": "stream",
       "stream": "stdout",
       "text": [
        " 5212 Circle: 1606 ...\n",
        "Training Ego:"
       ]
      },
      {
       "output_type": "stream",
       "stream": "stdout",
       "text": [
        " 5212 Circle: 1585 ...\n",
        "Training Ego:"
       ]
      },
      {
       "output_type": "stream",
       "stream": "stdout",
       "text": [
        " 5212 Circle: 1161 ...\n",
        "Training Ego:"
       ]
      },
      {
       "output_type": "stream",
       "stream": "stdout",
       "text": [
        " 5212 Circle: 535 ...\n",
        "Training Ego:"
       ]
      },
      {
       "output_type": "stream",
       "stream": "stdout",
       "text": [
        " 5212 Circle: 13 ...\n",
        "Training Ego:"
       ]
      },
      {
       "output_type": "stream",
       "stream": "stdout",
       "text": [
        " 5212 Circle: 592 ...\n",
        "Training Ego:"
       ]
      },
      {
       "output_type": "stream",
       "stream": "stdout",
       "text": [
        " 5212 Circle: 273 ...\n",
        "Training Ego:"
       ]
      },
      {
       "output_type": "stream",
       "stream": "stdout",
       "text": [
        " 5212 Circle: 1587 ...\n",
        "Training Ego:"
       ]
      },
      {
       "output_type": "stream",
       "stream": "stdout",
       "text": [
        " 5212 Circle: 212 ...\n",
        "Training Ego:"
       ]
      },
      {
       "output_type": "stream",
       "stream": "stdout",
       "text": [
        " 5212 Circle: 1589 ...\n",
        "Training Ego:"
       ]
      },
      {
       "output_type": "stream",
       "stream": "stdout",
       "text": [
        " 5212 Circle: 1591 ...\n",
        "Training Ego:"
       ]
      },
      {
       "output_type": "stream",
       "stream": "stdout",
       "text": [
        " 5212 Circle: 1592 ...\n",
        "Training Ego:"
       ]
      },
      {
       "output_type": "stream",
       "stream": "stdout",
       "text": [
        " 5212 Circle: 1593 ...\n",
        "Training Ego:"
       ]
      },
      {
       "output_type": "stream",
       "stream": "stdout",
       "text": [
        " 5212 Circle: 538 ...\n",
        "Training Ego:"
       ]
      },
      {
       "output_type": "stream",
       "stream": "stdout",
       "text": [
        " 5212 Circle: 188 ...\n",
        "Training Ego:"
       ]
      },
      {
       "output_type": "stream",
       "stream": "stdout",
       "text": [
        " 5212 Circle: 639 ...\n",
        "Training Ego:"
       ]
      },
      {
       "output_type": "stream",
       "stream": "stdout",
       "text": [
        " 5494 Circle: 544 ...\n",
        "Training Ego:"
       ]
      },
      {
       "output_type": "stream",
       "stream": "stdout",
       "text": [
        " 5494 Circle: 539 ...\n",
        "Training Ego:"
       ]
      },
      {
       "output_type": "stream",
       "stream": "stdout",
       "text": [
        " 5494 Circle: 148 ...\n",
        "Training Ego:"
       ]
      },
      {
       "output_type": "stream",
       "stream": "stdout",
       "text": [
        " 5494 Circle: 533 ...\n",
        "Training Ego:"
       ]
      },
      {
       "output_type": "stream",
       "stream": "stdout",
       "text": [
        " 5494 Circle: 150 ...\n",
        "Training Ego:"
       ]
      },
      {
       "output_type": "stream",
       "stream": "stdout",
       "text": [
        " 5494 Circle: 535 ...\n",
        "Training Ego:"
       ]
      },
      {
       "output_type": "stream",
       "stream": "stdout",
       "text": [
        " 5494 Circle: 536 ...\n",
        "Training Ego:"
       ]
      },
      {
       "output_type": "stream",
       "stream": "stdout",
       "text": [
        " 5494 Circle: 537 ...\n",
        "Training Ego:"
       ]
      },
      {
       "output_type": "stream",
       "stream": "stdout",
       "text": [
        " 5494 Circle: 538 ...\n",
        "Training Ego:"
       ]
      },
      {
       "output_type": "stream",
       "stream": "stdout",
       "text": [
        " 5494 Circle: 59 ...\n",
        "Training Ego:"
       ]
      },
      {
       "output_type": "stream",
       "stream": "stdout",
       "text": [
        " 5494 Circle: 542 ...\n",
        "Training Ego:"
       ]
      },
      {
       "output_type": "stream",
       "stream": "stdout",
       "text": [
        " 5881 Circle: 585 ...\n",
        "Training Ego:"
       ]
      },
      {
       "output_type": "stream",
       "stream": "stdout",
       "text": [
        " 5881 Circle: 10 ...\n",
        "Training Ego:"
       ]
      },
      {
       "output_type": "stream",
       "stream": "stdout",
       "text": [
        " 5881 Circle: 588 ...\n",
        "Training Ego:"
       ]
      },
      {
       "output_type": "stream",
       "stream": "stdout",
       "text": [
        " 5881 Circle: 78 ...\n",
        "Training Ego:"
       ]
      },
      {
       "output_type": "stream",
       "stream": "stdout",
       "text": [
        " 5881 Circle: 503 ...\n",
        "Training Ego:"
       ]
      },
      {
       "output_type": "stream",
       "stream": "stdout",
       "text": [
        " 5881 Circle: 190 ...\n",
        "Training Ego:"
       ]
      },
      {
       "output_type": "stream",
       "stream": "stdout",
       "text": [
        " 611 Circle: 36 ...\n",
        "Training Ego:"
       ]
      },
      {
       "output_type": "stream",
       "stream": "stdout",
       "text": [
        " 611 Circle: 38 ...\n",
        "Training Ego:"
       ]
      },
      {
       "output_type": "stream",
       "stream": "stdout",
       "text": [
        " 611 Circle: 39 ...\n",
        "Training Ego:"
       ]
      },
      {
       "output_type": "stream",
       "stream": "stdout",
       "text": [
        " 611 Circle: 40 ...\n",
        "Training Ego:"
       ]
      },
      {
       "output_type": "stream",
       "stream": "stdout",
       "text": [
        " 611 Circle: 41 ...\n",
        "Training Ego:"
       ]
      },
      {
       "output_type": "stream",
       "stream": "stdout",
       "text": [
        " 611 Circle: 42 ...\n",
        "Training Ego:"
       ]
      },
      {
       "output_type": "stream",
       "stream": "stdout",
       "text": [
        " 611 Circle: 43 ...\n",
        "Training Ego:"
       ]
      },
      {
       "output_type": "stream",
       "stream": "stdout",
       "text": [
        " 611 Circle: 13 ...\n",
        "Training Ego:"
       ]
      },
      {
       "output_type": "stream",
       "stream": "stdout",
       "text": [
        " 611 Circle: 45 ...\n",
        "Training Ego:"
       ]
      },
      {
       "output_type": "stream",
       "stream": "stdout",
       "text": [
        " 611 Circle: 48 ...\n",
        "Training Ego:"
       ]
      },
      {
       "output_type": "stream",
       "stream": "stdout",
       "text": [
        " 6413 Circle: 593 ...\n",
        "Training Ego:"
       ]
      },
      {
       "output_type": "stream",
       "stream": "stdout",
       "text": [
        " 6413 Circle: 594 ...\n",
        "Training Ego:"
       ]
      },
      {
       "output_type": "stream",
       "stream": "stdout",
       "text": [
        " 6413 Circle: 45 ...\n",
        "Training Ego:"
       ]
      },
      {
       "output_type": "stream",
       "stream": "stdout",
       "text": [
        " 6726 Circle: 592 ...\n",
        "Training Ego:"
       ]
      },
      {
       "output_type": "stream",
       "stream": "stdout",
       "text": [
        " 6726 Circle: 594 ...\n",
        "Training Ego:"
       ]
      },
      {
       "output_type": "stream",
       "stream": "stdout",
       "text": [
        " 6726 Circle: 13 ...\n",
        "Training Ego:"
       ]
      },
      {
       "output_type": "stream",
       "stream": "stdout",
       "text": [
        " 6726 Circle: 62 ...\n",
        "Training Ego:"
       ]
      },
      {
       "output_type": "stream",
       "stream": "stdout",
       "text": [
        " 7667 Circle: 640 ...\n",
        "Training Ego:"
       ]
      },
      {
       "output_type": "stream",
       "stream": "stdout",
       "text": [
        " 7667 Circle: 641 ...\n",
        "Training Ego:"
       ]
      },
      {
       "output_type": "stream",
       "stream": "stdout",
       "text": [
        " 7667 Circle: 642 ...\n",
        "Training Ego:"
       ]
      },
      {
       "output_type": "stream",
       "stream": "stdout",
       "text": [
        " 7667 Circle: 643 ...\n",
        "Training Ego:"
       ]
      },
      {
       "output_type": "stream",
       "stream": "stdout",
       "text": [
        " 7667 Circle: 639 ...\n",
        "Training Ego:"
       ]
      },
      {
       "output_type": "stream",
       "stream": "stdout",
       "text": [
        " 8100 Circle: 650 ...\n",
        "Training Ego:"
       ]
      },
      {
       "output_type": "stream",
       "stream": "stdout",
       "text": [
        " 8100 Circle: 651 ...\n",
        "Training Ego:"
       ]
      },
      {
       "output_type": "stream",
       "stream": "stdout",
       "text": [
        " 8100 Circle: 652 ...\n",
        "Training Ego:"
       ]
      },
      {
       "output_type": "stream",
       "stream": "stdout",
       "text": [
        " 8100 Circle: 653 ...\n",
        "Training Ego:"
       ]
      },
      {
       "output_type": "stream",
       "stream": "stdout",
       "text": [
        " 8100 Circle: 655 ...\n",
        "Training Ego:"
       ]
      },
      {
       "output_type": "stream",
       "stream": "stdout",
       "text": [
        " 8100 Circle: 656 ...\n",
        "Training Ego:"
       ]
      },
      {
       "output_type": "stream",
       "stream": "stdout",
       "text": [
        " 8100 Circle: 664 ...\n",
        "Training Ego:"
       ]
      },
      {
       "output_type": "stream",
       "stream": "stdout",
       "text": [
        " 8100 Circle: 665 ...\n",
        "Training Ego:"
       ]
      },
      {
       "output_type": "stream",
       "stream": "stdout",
       "text": [
        " 8100 Circle: 13 ...\n",
        "Training Ego:"
       ]
      },
      {
       "output_type": "stream",
       "stream": "stdout",
       "text": [
        " 8239 Circle: 684 ...\n",
        "Training Ego:"
       ]
      },
      {
       "output_type": "stream",
       "stream": "stdout",
       "text": [
        " 8239 Circle: 212 ...\n",
        "Training Ego:"
       ]
      },
      {
       "output_type": "stream",
       "stream": "stdout",
       "text": [
        " 8239 Circle: 685 ...\n",
        "Training Ego:"
       ]
      },
      {
       "output_type": "stream",
       "stream": "stdout",
       "text": [
        " 8239 Circle: 678 ...\n",
        "Training Ego:"
       ]
      },
      {
       "output_type": "stream",
       "stream": "stdout",
       "text": [
        " 8239 Circle: 677 ...\n",
        "Training Ego:"
       ]
      },
      {
       "output_type": "stream",
       "stream": "stdout",
       "text": [
        " 8553 Circle: 704 ...\n",
        "Training Ego:"
       ]
      },
      {
       "output_type": "stream",
       "stream": "stdout",
       "text": [
        " 8553 Circle: 706 ...\n",
        "Training Ego:"
       ]
      },
      {
       "output_type": "stream",
       "stream": "stdout",
       "text": [
        " 8553 Circle: 707 ...\n",
        "Training Ego:"
       ]
      },
      {
       "output_type": "stream",
       "stream": "stdout",
       "text": [
        " 8553 Circle: 708 ...\n",
        "Training Ego:"
       ]
      },
      {
       "output_type": "stream",
       "stream": "stdout",
       "text": [
        " 8553 Circle: 709 ...\n",
        "Training Ego:"
       ]
      },
      {
       "output_type": "stream",
       "stream": "stdout",
       "text": [
        " 8553 Circle: 710 ...\n",
        "Training Ego:"
       ]
      },
      {
       "output_type": "stream",
       "stream": "stdout",
       "text": [
        " 8553 Circle: 711 ...\n",
        "Training Ego:"
       ]
      },
      {
       "output_type": "stream",
       "stream": "stdout",
       "text": [
        " 8553 Circle: 13 ...\n",
        "Training Ego:"
       ]
      },
      {
       "output_type": "stream",
       "stream": "stdout",
       "text": [
        " 8553 Circle: 190 ...\n",
        "Training Ego:"
       ]
      },
      {
       "output_type": "stream",
       "stream": "stdout",
       "text": [
        " 8553 Circle: 62 ...\n",
        "Training Ego:"
       ]
      },
      {
       "output_type": "stream",
       "stream": "stdout",
       "text": [
        " 8777 Circle: 712 ...\n",
        "Training Ego:"
       ]
      },
      {
       "output_type": "stream",
       "stream": "stdout",
       "text": [
        " 8777 Circle: 713 ...\n",
        "Training Ego:"
       ]
      },
      {
       "output_type": "stream",
       "stream": "stdout",
       "text": [
        " 8777 Circle: 714 ...\n",
        "Training Ego:"
       ]
      },
      {
       "output_type": "stream",
       "stream": "stdout",
       "text": [
        " 8777 Circle: 715 ...\n",
        "Training Ego:"
       ]
      },
      {
       "output_type": "stream",
       "stream": "stdout",
       "text": [
        " 8777 Circle: 716 ...\n",
        "Training Ego:"
       ]
      },
      {
       "output_type": "stream",
       "stream": "stdout",
       "text": [
        " 8777 Circle: 717 ...\n",
        "Training Ego:"
       ]
      },
      {
       "output_type": "stream",
       "stream": "stdout",
       "text": [
        " 8777 Circle: 718 ...\n",
        "Training Ego:"
       ]
      },
      {
       "output_type": "stream",
       "stream": "stdout",
       "text": [
        " 8777 Circle: 720 ...\n",
        "Training Ego:"
       ]
      },
      {
       "output_type": "stream",
       "stream": "stdout",
       "text": [
        " 8777 Circle: 721 ...\n",
        "Training Ego:"
       ]
      },
      {
       "output_type": "stream",
       "stream": "stdout",
       "text": [
        " 8777 Circle: 18 ...\n",
        "Training Ego:"
       ]
      },
      {
       "output_type": "stream",
       "stream": "stdout",
       "text": [
        " 8777 Circle: 84 ...\n",
        "Training Ego:"
       ]
      },
      {
       "output_type": "stream",
       "stream": "stdout",
       "text": [
        " 9103 Circle: 737 ...\n",
        "Training Ego:"
       ]
      },
      {
       "output_type": "stream",
       "stream": "stdout",
       "text": [
        " 9103 Circle: 738 ...\n",
        "Training Ego:"
       ]
      },
      {
       "output_type": "stream",
       "stream": "stdout",
       "text": [
        " 9103 Circle: 739 ...\n",
        "Training Ego:"
       ]
      },
      {
       "output_type": "stream",
       "stream": "stdout",
       "text": [
        " 9103 Circle: 740 ...\n",
        "Training Ego:"
       ]
      },
      {
       "output_type": "stream",
       "stream": "stdout",
       "text": [
        " 9103 Circle: 741 ...\n",
        "Training Ego:"
       ]
      },
      {
       "output_type": "stream",
       "stream": "stdout",
       "text": [
        " 9103 Circle: 742 ...\n",
        "Training Ego:"
       ]
      },
      {
       "output_type": "stream",
       "stream": "stdout",
       "text": [
        " 9103 Circle: 745 ...\n",
        "Training Ego:"
       ]
      },
      {
       "output_type": "stream",
       "stream": "stdout",
       "text": [
        " 9103 Circle: 62 ...\n",
        "Training Ego:"
       ]
      },
      {
       "output_type": "stream",
       "stream": "stdout",
       "text": [
        " 9642 Circle: 64 ...\n",
        "Training Ego:"
       ]
      },
      {
       "output_type": "stream",
       "stream": "stdout",
       "text": [
        " 9642 Circle: 720 ...\n",
        "Training Ego:"
       ]
      },
      {
       "output_type": "stream",
       "stream": "stdout",
       "text": [
        " 9642 Circle: 773 ...\n",
        "Training Ego:"
       ]
      },
      {
       "output_type": "stream",
       "stream": "stdout",
       "text": [
        " 9642 Circle: 774 ...\n",
        "Training Ego:"
       ]
      },
      {
       "output_type": "stream",
       "stream": "stdout",
       "text": [
        " 9642 Circle: 776 ...\n",
        "Training Ego:"
       ]
      },
      {
       "output_type": "stream",
       "stream": "stdout",
       "text": [
        " 9642 Circle: 777 ...\n",
        "Training Ego:"
       ]
      },
      {
       "output_type": "stream",
       "stream": "stdout",
       "text": [
        " 9642 Circle: 778 ...\n",
        "Training Ego:"
       ]
      },
      {
       "output_type": "stream",
       "stream": "stdout",
       "text": [
        " 9642 Circle: 779 ...\n",
        "Training Ego:"
       ]
      },
      {
       "output_type": "stream",
       "stream": "stdout",
       "text": [
        " 9642 Circle: 780 ...\n",
        "Training Ego:"
       ]
      },
      {
       "output_type": "stream",
       "stream": "stdout",
       "text": [
        " 9642 Circle: 781 ...\n",
        "Training Ego:"
       ]
      },
      {
       "output_type": "stream",
       "stream": "stdout",
       "text": [
        " 9642 Circle: 783 ...\n",
        "Training Ego:"
       ]
      },
      {
       "output_type": "stream",
       "stream": "stdout",
       "text": [
        " 9642 Circle: 784 ...\n",
        "Training Ego:"
       ]
      },
      {
       "output_type": "stream",
       "stream": "stdout",
       "text": [
        " 9642 Circle: 786 ...\n",
        "Training Ego:"
       ]
      },
      {
       "output_type": "stream",
       "stream": "stdout",
       "text": [
        " 9642 Circle: 787 ...\n",
        "Training Ego:"
       ]
      },
      {
       "output_type": "stream",
       "stream": "stdout",
       "text": [
        " 9642 Circle: 788 ...\n",
        "Training Ego:"
       ]
      },
      {
       "output_type": "stream",
       "stream": "stdout",
       "text": [
        " 9642 Circle: 789 ...\n",
        "Training Ego:"
       ]
      },
      {
       "output_type": "stream",
       "stream": "stdout",
       "text": [
        " 9642 Circle: 791 ...\n",
        "Training Ego:"
       ]
      },
      {
       "output_type": "stream",
       "stream": "stdout",
       "text": [
        " 9642 Circle: 212 ...\n",
        "Training Ego:"
       ]
      },
      {
       "output_type": "stream",
       "stream": "stdout",
       "text": [
        " 9642 Circle: 794 ...\n",
        "Training Ego:"
       ]
      },
      {
       "output_type": "stream",
       "stream": "stdout",
       "text": [
        " 9642 Circle: 13 ...\n",
        "Training Ego:"
       ]
      },
      {
       "output_type": "stream",
       "stream": "stdout",
       "text": [
        " 9642 Circle: 62 ...\n",
        "Training Ego:"
       ]
      },
      {
       "output_type": "stream",
       "stream": "stdout",
       "text": [
        " 9846 Circle: 800 ...\n",
        "Training Ego:"
       ]
      },
      {
       "output_type": "stream",
       "stream": "stdout",
       "text": [
        " 9846 Circle: 192 ...\n",
        "Training Ego:"
       ]
      },
      {
       "output_type": "stream",
       "stream": "stdout",
       "text": [
        " 9846 Circle: 804 ...\n",
        "Training Ego:"
       ]
      },
      {
       "output_type": "stream",
       "stream": "stdout",
       "text": [
        " 9846 Circle: 198 ...\n",
        "Training Ego:"
       ]
      },
      {
       "output_type": "stream",
       "stream": "stdout",
       "text": [
        " 9846 Circle: 104 ...\n",
        "Training Ego:"
       ]
      },
      {
       "output_type": "stream",
       "stream": "stdout",
       "text": [
        " 9846 Circle: 10 ...\n",
        "Training Ego:"
       ]
      },
      {
       "output_type": "stream",
       "stream": "stdout",
       "text": [
        " 9846 Circle: 13 ...\n",
        "Training Ego:"
       ]
      },
      {
       "output_type": "stream",
       "stream": "stdout",
       "text": [
        " 9846 Circle: 18 ...\n",
        "Training Ego:"
       ]
      },
      {
       "output_type": "stream",
       "stream": "stdout",
       "text": [
        " 9846 Circle: 798 ...\n",
        "Training Ego:"
       ]
      },
      {
       "output_type": "stream",
       "stream": "stdout",
       "text": [
        " 9947 Circle: 128 ...\n",
        "Training Ego:"
       ]
      },
      {
       "output_type": "stream",
       "stream": "stdout",
       "text": [
        " 9947 Circle: 74 ...\n",
        "Training Ego:"
       ]
      },
      {
       "output_type": "stream",
       "stream": "stdout",
       "text": [
        " 9947 Circle: 812 ...\n",
        "Training Ego:"
       ]
      },
      {
       "output_type": "stream",
       "stream": "stdout",
       "text": [
        " 9947 Circle: 45 ...\n",
        "Training Ego:"
       ]
      },
      {
       "output_type": "stream",
       "stream": "stdout",
       "text": [
        " 9947 Circle: 813 ...\n",
        "Training Ego:"
       ]
      },
      {
       "output_type": "stream",
       "stream": "stdout",
       "text": [
        " 9947 Circle: 816 ...\n",
        "Training Ego:"
       ]
      },
      {
       "output_type": "stream",
       "stream": "stdout",
       "text": [
        " 9947 Circle: 817 ...\n",
        "Training Ego:"
       ]
      },
      {
       "output_type": "stream",
       "stream": "stdout",
       "text": [
        " 9947 Circle: 338 ...\n",
        "Training Ego:"
       ]
      },
      {
       "output_type": "stream",
       "stream": "stdout",
       "text": [
        " 9947 Circle: 822 ...\n",
        "Training Ego:"
       ]
      },
      {
       "output_type": "stream",
       "stream": "stdout",
       "text": [
        " 9947 Circle: 823 ...\n",
        "Training Ego:"
       ]
      },
      {
       "output_type": "stream",
       "stream": "stdout",
       "text": [
        " 9947 Circle: 818 ...\n",
        "Training Ego:"
       ]
      },
      {
       "output_type": "stream",
       "stream": "stdout",
       "text": [
        " 9947 Circle: 13 ...\n",
        "Training Ego:"
       ]
      },
      {
       "output_type": "stream",
       "stream": "stdout",
       "text": [
        " 9947 Circle: 190 ...\n"
       ]
      }
     ],
     "prompt_number": 16
    },
    {
     "cell_type": "code",
     "collapsed": false,
     "input": [
      "df"
     ],
     "language": "python",
     "metadata": {},
     "outputs": [
      {
       "html": [
        "<div style=\"max-height:1000px;max-width:1500px;overflow:auto;\">\n",
        "<table border=\"1\" class=\"dataframe\">\n",
        "  <thead>\n",
        "    <tr style=\"text-align: right;\">\n",
        "      <th></th>\n",
        "      <th>Ego</th>\n",
        "      <th>Circle</th>\n",
        "      <th>birthday</th>\n",
        "      <th>education;classes;description</th>\n",
        "      <th>education;classes;from;id</th>\n",
        "      <th>education;classes;from;name</th>\n",
        "      <th>education;classes;id</th>\n",
        "      <th>education;classes;name</th>\n",
        "      <th>education;classes;with;id</th>\n",
        "      <th>education;classes;with;name</th>\n",
        "      <th>education;concentration;id</th>\n",
        "      <th>education;concentration;name</th>\n",
        "      <th>education;degree;id</th>\n",
        "      <th>education;degree;name</th>\n",
        "      <th>education;school;id</th>\n",
        "      <th>education;school;name</th>\n",
        "      <th>education;type</th>\n",
        "      <th>education;with;id</th>\n",
        "      <th>education;with;name</th>\n",
        "      <th>education;year;id</th>\n",
        "      <th></th>\n",
        "    </tr>\n",
        "  </thead>\n",
        "  <tbody>\n",
        "    <tr>\n",
        "      <th>0 </th>\n",
        "      <td> 10395</td>\n",
        "      <td>  10</td>\n",
        "      <td> 0</td>\n",
        "      <td> 0</td>\n",
        "      <td> 0.000000</td>\n",
        "      <td> 0.000000</td>\n",
        "      <td> 0.000000</td>\n",
        "      <td> 0.000000</td>\n",
        "      <td> 0.000000</td>\n",
        "      <td> 0.000000</td>\n",
        "      <td> 0.000000</td>\n",
        "      <td> 0.000000</td>\n",
        "      <td> 0.000000</td>\n",
        "      <td> 0.000000</td>\n",
        "      <td> 0.038982</td>\n",
        "      <td> 0.044637</td>\n",
        "      <td> 0.069508</td>\n",
        "      <td> 0</td>\n",
        "      <td> 0</td>\n",
        "      <td> 0.034050</td>\n",
        "      <td>...</td>\n",
        "    </tr>\n",
        "    <tr>\n",
        "      <th>1 </th>\n",
        "      <td> 10395</td>\n",
        "      <td>  78</td>\n",
        "      <td> 0</td>\n",
        "      <td> 0</td>\n",
        "      <td> 0.000000</td>\n",
        "      <td> 0.000000</td>\n",
        "      <td> 0.000000</td>\n",
        "      <td> 0.000000</td>\n",
        "      <td> 0.000000</td>\n",
        "      <td> 0.000000</td>\n",
        "      <td> 0.000000</td>\n",
        "      <td> 0.000000</td>\n",
        "      <td> 0.000000</td>\n",
        "      <td> 0.000000</td>\n",
        "      <td> 0.034336</td>\n",
        "      <td> 0.078928</td>\n",
        "      <td> 0.174745</td>\n",
        "      <td> 0</td>\n",
        "      <td> 0</td>\n",
        "      <td> 0.032815</td>\n",
        "      <td>...</td>\n",
        "    </tr>\n",
        "    <tr>\n",
        "      <th>2 </th>\n",
        "      <td> 10395</td>\n",
        "      <td>  84</td>\n",
        "      <td> 0</td>\n",
        "      <td> 0</td>\n",
        "      <td> 0.000000</td>\n",
        "      <td> 0.000000</td>\n",
        "      <td> 0.000000</td>\n",
        "      <td> 0.000000</td>\n",
        "      <td> 0.000000</td>\n",
        "      <td> 0.000000</td>\n",
        "      <td> 0.000000</td>\n",
        "      <td> 0.000000</td>\n",
        "      <td> 0.000000</td>\n",
        "      <td> 0.000000</td>\n",
        "      <td> 0.059876</td>\n",
        "      <td> 0.139754</td>\n",
        "      <td> 0.093281</td>\n",
        "      <td> 0</td>\n",
        "      <td> 0</td>\n",
        "      <td> 0.048198</td>\n",
        "      <td>...</td>\n",
        "    </tr>\n",
        "    <tr>\n",
        "      <th>3 </th>\n",
        "      <td> 10395</td>\n",
        "      <td> 377</td>\n",
        "      <td> 0</td>\n",
        "      <td> 0</td>\n",
        "      <td> 0.000000</td>\n",
        "      <td> 0.000000</td>\n",
        "      <td> 0.000000</td>\n",
        "      <td> 0.000000</td>\n",
        "      <td> 0.000000</td>\n",
        "      <td> 0.000000</td>\n",
        "      <td> 0.000000</td>\n",
        "      <td> 0.000000</td>\n",
        "      <td> 0.000000</td>\n",
        "      <td> 0.000000</td>\n",
        "      <td> 0.084358</td>\n",
        "      <td> 0.070995</td>\n",
        "      <td> 0.351619</td>\n",
        "      <td> 0</td>\n",
        "      <td> 0</td>\n",
        "      <td> 0.064020</td>\n",
        "      <td>...</td>\n",
        "    </tr>\n",
        "    <tr>\n",
        "      <th>4 </th>\n",
        "      <td> 10395</td>\n",
        "      <td> 827</td>\n",
        "      <td> 0</td>\n",
        "      <td> 0</td>\n",
        "      <td> 0.000000</td>\n",
        "      <td> 0.000000</td>\n",
        "      <td> 0.000000</td>\n",
        "      <td> 0.000000</td>\n",
        "      <td> 0.000000</td>\n",
        "      <td> 0.000000</td>\n",
        "      <td> 0.000000</td>\n",
        "      <td> 0.000000</td>\n",
        "      <td> 0.000000</td>\n",
        "      <td> 0.000000</td>\n",
        "      <td> 0.041441</td>\n",
        "      <td> 0.058887</td>\n",
        "      <td> 0.045526</td>\n",
        "      <td> 0</td>\n",
        "      <td> 0</td>\n",
        "      <td> 0.042207</td>\n",
        "      <td>...</td>\n",
        "    </tr>\n",
        "    <tr>\n",
        "      <th>5 </th>\n",
        "      <td> 10395</td>\n",
        "      <td> 828</td>\n",
        "      <td> 0</td>\n",
        "      <td> 0</td>\n",
        "      <td> 0.000000</td>\n",
        "      <td> 0.000000</td>\n",
        "      <td> 0.000000</td>\n",
        "      <td> 0.000000</td>\n",
        "      <td> 0.000000</td>\n",
        "      <td> 0.000000</td>\n",
        "      <td> 0.000000</td>\n",
        "      <td> 0.000000</td>\n",
        "      <td> 0.000000</td>\n",
        "      <td> 0.000000</td>\n",
        "      <td> 0.051386</td>\n",
        "      <td> 0.052138</td>\n",
        "      <td> 0.150792</td>\n",
        "      <td> 0</td>\n",
        "      <td> 0</td>\n",
        "      <td> 0.025165</td>\n",
        "      <td>...</td>\n",
        "    </tr>\n",
        "    <tr>\n",
        "      <th>6 </th>\n",
        "      <td> 10395</td>\n",
        "      <td> 830</td>\n",
        "      <td> 0</td>\n",
        "      <td> 0</td>\n",
        "      <td> 0.000000</td>\n",
        "      <td> 0.000000</td>\n",
        "      <td> 0.000000</td>\n",
        "      <td> 0.000000</td>\n",
        "      <td> 0.000000</td>\n",
        "      <td> 0.000000</td>\n",
        "      <td> 0.000000</td>\n",
        "      <td> 0.000000</td>\n",
        "      <td> 0.000000</td>\n",
        "      <td> 0.000000</td>\n",
        "      <td> 0.041831</td>\n",
        "      <td> 0.029094</td>\n",
        "      <td> 0.098512</td>\n",
        "      <td> 0</td>\n",
        "      <td> 0</td>\n",
        "      <td> 0.061617</td>\n",
        "      <td>...</td>\n",
        "    </tr>\n",
        "    <tr>\n",
        "      <th>7 </th>\n",
        "      <td> 10929</td>\n",
        "      <td> 839</td>\n",
        "      <td> 0</td>\n",
        "      <td> 0</td>\n",
        "      <td> 0.000000</td>\n",
        "      <td> 0.000000</td>\n",
        "      <td> 0.000000</td>\n",
        "      <td> 0.000000</td>\n",
        "      <td> 0.000000</td>\n",
        "      <td> 0.000000</td>\n",
        "      <td> 0.000000</td>\n",
        "      <td> 0.000000</td>\n",
        "      <td> 0.000000</td>\n",
        "      <td> 0.000000</td>\n",
        "      <td> 0.000000</td>\n",
        "      <td> 0.000000</td>\n",
        "      <td> 0.000000</td>\n",
        "      <td> 0</td>\n",
        "      <td> 0</td>\n",
        "      <td> 0.000000</td>\n",
        "      <td>...</td>\n",
        "    </tr>\n",
        "    <tr>\n",
        "      <th>8 </th>\n",
        "      <td> 10929</td>\n",
        "      <td> 840</td>\n",
        "      <td> 0</td>\n",
        "      <td> 0</td>\n",
        "      <td> 0.000000</td>\n",
        "      <td> 0.000000</td>\n",
        "      <td> 0.000000</td>\n",
        "      <td> 0.000000</td>\n",
        "      <td> 0.000000</td>\n",
        "      <td> 0.000000</td>\n",
        "      <td> 0.000000</td>\n",
        "      <td> 0.000000</td>\n",
        "      <td> 0.000000</td>\n",
        "      <td> 0.000000</td>\n",
        "      <td> 0.000000</td>\n",
        "      <td> 0.000000</td>\n",
        "      <td> 0.000000</td>\n",
        "      <td> 0</td>\n",
        "      <td> 0</td>\n",
        "      <td> 0.000000</td>\n",
        "      <td>...</td>\n",
        "    </tr>\n",
        "    <tr>\n",
        "      <th>9 </th>\n",
        "      <td> 10929</td>\n",
        "      <td> 841</td>\n",
        "      <td> 0</td>\n",
        "      <td> 0</td>\n",
        "      <td> 0.000000</td>\n",
        "      <td> 0.000000</td>\n",
        "      <td> 0.000000</td>\n",
        "      <td> 0.000000</td>\n",
        "      <td> 0.000000</td>\n",
        "      <td> 0.000000</td>\n",
        "      <td> 0.000000</td>\n",
        "      <td> 0.000000</td>\n",
        "      <td> 0.000000</td>\n",
        "      <td> 0.000000</td>\n",
        "      <td> 0.000000</td>\n",
        "      <td> 0.000000</td>\n",
        "      <td> 0.000000</td>\n",
        "      <td> 0</td>\n",
        "      <td> 0</td>\n",
        "      <td> 0.000000</td>\n",
        "      <td>...</td>\n",
        "    </tr>\n",
        "    <tr>\n",
        "      <th>10</th>\n",
        "      <td> 10929</td>\n",
        "      <td> 843</td>\n",
        "      <td> 0</td>\n",
        "      <td> 0</td>\n",
        "      <td> 0.000000</td>\n",
        "      <td> 0.000000</td>\n",
        "      <td> 0.000000</td>\n",
        "      <td> 0.000000</td>\n",
        "      <td> 0.000000</td>\n",
        "      <td> 0.000000</td>\n",
        "      <td> 0.000000</td>\n",
        "      <td> 0.000000</td>\n",
        "      <td> 0.000000</td>\n",
        "      <td> 0.000000</td>\n",
        "      <td> 0.000000</td>\n",
        "      <td> 0.000000</td>\n",
        "      <td> 0.000000</td>\n",
        "      <td> 0</td>\n",
        "      <td> 0</td>\n",
        "      <td> 0.000000</td>\n",
        "      <td>...</td>\n",
        "    </tr>\n",
        "    <tr>\n",
        "      <th>11</th>\n",
        "      <td> 10929</td>\n",
        "      <td> 844</td>\n",
        "      <td> 0</td>\n",
        "      <td> 0</td>\n",
        "      <td> 0.000000</td>\n",
        "      <td> 0.000000</td>\n",
        "      <td> 0.000000</td>\n",
        "      <td> 0.000000</td>\n",
        "      <td> 0.000000</td>\n",
        "      <td> 0.000000</td>\n",
        "      <td> 0.000000</td>\n",
        "      <td> 0.000000</td>\n",
        "      <td> 0.000000</td>\n",
        "      <td> 0.000000</td>\n",
        "      <td> 0.000000</td>\n",
        "      <td> 0.000000</td>\n",
        "      <td> 0.000000</td>\n",
        "      <td> 0</td>\n",
        "      <td> 0</td>\n",
        "      <td> 0.000000</td>\n",
        "      <td>...</td>\n",
        "    </tr>\n",
        "    <tr>\n",
        "      <th>12</th>\n",
        "      <td> 10929</td>\n",
        "      <td> 845</td>\n",
        "      <td> 0</td>\n",
        "      <td> 0</td>\n",
        "      <td> 0.000000</td>\n",
        "      <td> 0.000000</td>\n",
        "      <td> 0.000000</td>\n",
        "      <td> 0.000000</td>\n",
        "      <td> 0.000000</td>\n",
        "      <td> 0.000000</td>\n",
        "      <td> 0.000000</td>\n",
        "      <td> 0.000000</td>\n",
        "      <td> 0.000000</td>\n",
        "      <td> 0.000000</td>\n",
        "      <td> 0.000000</td>\n",
        "      <td> 0.000000</td>\n",
        "      <td> 0.000000</td>\n",
        "      <td> 0</td>\n",
        "      <td> 0</td>\n",
        "      <td> 0.000000</td>\n",
        "      <td>...</td>\n",
        "    </tr>\n",
        "    <tr>\n",
        "      <th>13</th>\n",
        "      <td> 11014</td>\n",
        "      <td> 194</td>\n",
        "      <td> 0</td>\n",
        "      <td> 0</td>\n",
        "      <td> 0.000000</td>\n",
        "      <td> 0.000000</td>\n",
        "      <td> 0.000000</td>\n",
        "      <td> 0.000000</td>\n",
        "      <td> 0.000000</td>\n",
        "      <td> 0.000000</td>\n",
        "      <td> 0.005177</td>\n",
        "      <td>-0.004036</td>\n",
        "      <td>-0.000371</td>\n",
        "      <td>-0.000905</td>\n",
        "      <td> 0.001700</td>\n",
        "      <td> 0.000759</td>\n",
        "      <td> 0.350534</td>\n",
        "      <td> 0</td>\n",
        "      <td> 0</td>\n",
        "      <td> 0.019913</td>\n",
        "      <td>...</td>\n",
        "    </tr>\n",
        "    <tr>\n",
        "      <th>14</th>\n",
        "      <td> 11014</td>\n",
        "      <td>  13</td>\n",
        "      <td> 0</td>\n",
        "      <td> 0</td>\n",
        "      <td> 0.000000</td>\n",
        "      <td> 0.000000</td>\n",
        "      <td> 0.000000</td>\n",
        "      <td> 0.000000</td>\n",
        "      <td> 0.000000</td>\n",
        "      <td> 0.000000</td>\n",
        "      <td> 0.007712</td>\n",
        "      <td> 0.008807</td>\n",
        "      <td> 0.002773</td>\n",
        "      <td> 0.003059</td>\n",
        "      <td> 0.027608</td>\n",
        "      <td> 0.032421</td>\n",
        "      <td> 0.403165</td>\n",
        "      <td> 0</td>\n",
        "      <td> 0</td>\n",
        "      <td> 0.044311</td>\n",
        "      <td>...</td>\n",
        "    </tr>\n",
        "    <tr>\n",
        "      <th>15</th>\n",
        "      <td> 11014</td>\n",
        "      <td> 848</td>\n",
        "      <td> 0</td>\n",
        "      <td> 0</td>\n",
        "      <td> 0.000000</td>\n",
        "      <td> 0.000000</td>\n",
        "      <td> 0.000000</td>\n",
        "      <td> 0.000000</td>\n",
        "      <td> 0.000000</td>\n",
        "      <td> 0.000000</td>\n",
        "      <td> 0.036061</td>\n",
        "      <td> 0.035206</td>\n",
        "      <td> 0.021983</td>\n",
        "      <td> 0.025832</td>\n",
        "      <td> 0.124821</td>\n",
        "      <td> 0.152739</td>\n",
        "      <td> 0.226433</td>\n",
        "      <td> 0</td>\n",
        "      <td> 0</td>\n",
        "      <td> 0.081745</td>\n",
        "      <td>...</td>\n",
        "    </tr>\n",
        "    <tr>\n",
        "      <th>16</th>\n",
        "      <td> 11014</td>\n",
        "      <td> 849</td>\n",
        "      <td> 0</td>\n",
        "      <td> 0</td>\n",
        "      <td> 0.000000</td>\n",
        "      <td> 0.000000</td>\n",
        "      <td> 0.000000</td>\n",
        "      <td> 0.000000</td>\n",
        "      <td> 0.000000</td>\n",
        "      <td> 0.000000</td>\n",
        "      <td> 0.017080</td>\n",
        "      <td> 0.009731</td>\n",
        "      <td> 0.012825</td>\n",
        "      <td> 0.015249</td>\n",
        "      <td> 0.164780</td>\n",
        "      <td> 0.120552</td>\n",
        "      <td> 0.215927</td>\n",
        "      <td> 0</td>\n",
        "      <td> 0</td>\n",
        "      <td> 0.059191</td>\n",
        "      <td>...</td>\n",
        "    </tr>\n",
        "    <tr>\n",
        "      <th>17</th>\n",
        "      <td> 11014</td>\n",
        "      <td> 850</td>\n",
        "      <td> 0</td>\n",
        "      <td> 0</td>\n",
        "      <td> 0.000000</td>\n",
        "      <td> 0.000000</td>\n",
        "      <td> 0.000000</td>\n",
        "      <td> 0.000000</td>\n",
        "      <td> 0.000000</td>\n",
        "      <td> 0.000000</td>\n",
        "      <td> 0.033917</td>\n",
        "      <td> 0.032276</td>\n",
        "      <td>-0.000654</td>\n",
        "      <td> 0.009484</td>\n",
        "      <td> 0.062736</td>\n",
        "      <td>-0.012892</td>\n",
        "      <td> 0.291257</td>\n",
        "      <td> 0</td>\n",
        "      <td> 0</td>\n",
        "      <td> 0.058311</td>\n",
        "      <td>...</td>\n",
        "    </tr>\n",
        "    <tr>\n",
        "      <th>18</th>\n",
        "      <td> 11014</td>\n",
        "      <td> 851</td>\n",
        "      <td> 0</td>\n",
        "      <td> 0</td>\n",
        "      <td> 0.000000</td>\n",
        "      <td> 0.000000</td>\n",
        "      <td> 0.000000</td>\n",
        "      <td> 0.000000</td>\n",
        "      <td> 0.000000</td>\n",
        "      <td> 0.000000</td>\n",
        "      <td> 0.053235</td>\n",
        "      <td> 0.006525</td>\n",
        "      <td> 0.004580</td>\n",
        "      <td> 0.008731</td>\n",
        "      <td> 0.043298</td>\n",
        "      <td> 0.039199</td>\n",
        "      <td> 0.381094</td>\n",
        "      <td> 0</td>\n",
        "      <td> 0</td>\n",
        "      <td> 0.081563</td>\n",
        "      <td>...</td>\n",
        "    </tr>\n",
        "    <tr>\n",
        "      <th>19</th>\n",
        "      <td> 11014</td>\n",
        "      <td> 852</td>\n",
        "      <td> 0</td>\n",
        "      <td> 0</td>\n",
        "      <td> 0.000000</td>\n",
        "      <td> 0.000000</td>\n",
        "      <td> 0.000000</td>\n",
        "      <td> 0.000000</td>\n",
        "      <td> 0.000000</td>\n",
        "      <td> 0.000000</td>\n",
        "      <td> 0.024099</td>\n",
        "      <td> 0.025942</td>\n",
        "      <td> 0.004733</td>\n",
        "      <td> 0.003649</td>\n",
        "      <td> 0.028445</td>\n",
        "      <td> 0.044439</td>\n",
        "      <td> 0.278780</td>\n",
        "      <td> 0</td>\n",
        "      <td> 0</td>\n",
        "      <td> 0.048619</td>\n",
        "      <td>...</td>\n",
        "    </tr>\n",
        "    <tr>\n",
        "      <th>20</th>\n",
        "      <td> 11014</td>\n",
        "      <td> 854</td>\n",
        "      <td> 0</td>\n",
        "      <td> 0</td>\n",
        "      <td> 0.000000</td>\n",
        "      <td> 0.000000</td>\n",
        "      <td> 0.000000</td>\n",
        "      <td> 0.000000</td>\n",
        "      <td> 0.000000</td>\n",
        "      <td> 0.000000</td>\n",
        "      <td> 0.037742</td>\n",
        "      <td> 0.042564</td>\n",
        "      <td>-0.001080</td>\n",
        "      <td>-0.022935</td>\n",
        "      <td> 0.034227</td>\n",
        "      <td>-0.098282</td>\n",
        "      <td> 0.355762</td>\n",
        "      <td> 0</td>\n",
        "      <td> 0</td>\n",
        "      <td>-0.152345</td>\n",
        "      <td>...</td>\n",
        "    </tr>\n",
        "    <tr>\n",
        "      <th>21</th>\n",
        "      <td> 11014</td>\n",
        "      <td> 855</td>\n",
        "      <td> 0</td>\n",
        "      <td> 0</td>\n",
        "      <td> 0.000000</td>\n",
        "      <td> 0.000000</td>\n",
        "      <td> 0.000000</td>\n",
        "      <td> 0.000000</td>\n",
        "      <td> 0.000000</td>\n",
        "      <td> 0.000000</td>\n",
        "      <td> 0.008000</td>\n",
        "      <td> 0.005964</td>\n",
        "      <td> 0.041988</td>\n",
        "      <td> 0.038113</td>\n",
        "      <td> 0.060644</td>\n",
        "      <td> 0.053813</td>\n",
        "      <td> 0.213954</td>\n",
        "      <td> 0</td>\n",
        "      <td> 0</td>\n",
        "      <td> 0.147539</td>\n",
        "      <td>...</td>\n",
        "    </tr>\n",
        "    <tr>\n",
        "      <th>22</th>\n",
        "      <td> 11014</td>\n",
        "      <td> 857</td>\n",
        "      <td> 0</td>\n",
        "      <td> 0</td>\n",
        "      <td> 0.000000</td>\n",
        "      <td> 0.000000</td>\n",
        "      <td> 0.000000</td>\n",
        "      <td> 0.000000</td>\n",
        "      <td> 0.000000</td>\n",
        "      <td> 0.000000</td>\n",
        "      <td> 0.012308</td>\n",
        "      <td> 0.054401</td>\n",
        "      <td>-0.006596</td>\n",
        "      <td>-0.002300</td>\n",
        "      <td> 0.011256</td>\n",
        "      <td> 0.010592</td>\n",
        "      <td> 0.291032</td>\n",
        "      <td> 0</td>\n",
        "      <td> 0</td>\n",
        "      <td> 0.082978</td>\n",
        "      <td>...</td>\n",
        "    </tr>\n",
        "    <tr>\n",
        "      <th>23</th>\n",
        "      <td> 11186</td>\n",
        "      <td> 992</td>\n",
        "      <td> 0</td>\n",
        "      <td> 0</td>\n",
        "      <td> 0.000000</td>\n",
        "      <td> 0.000000</td>\n",
        "      <td> 0.000000</td>\n",
        "      <td> 0.000000</td>\n",
        "      <td> 0.000000</td>\n",
        "      <td> 0.000000</td>\n",
        "      <td> 0.020811</td>\n",
        "      <td> 0.034397</td>\n",
        "      <td> 0.000000</td>\n",
        "      <td> 0.000000</td>\n",
        "      <td> 0.007098</td>\n",
        "      <td> 0.008915</td>\n",
        "      <td> 0.306631</td>\n",
        "      <td> 0</td>\n",
        "      <td> 0</td>\n",
        "      <td> 0.034183</td>\n",
        "      <td>...</td>\n",
        "    </tr>\n",
        "    <tr>\n",
        "      <th>24</th>\n",
        "      <td> 11186</td>\n",
        "      <td> 993</td>\n",
        "      <td> 0</td>\n",
        "      <td> 0</td>\n",
        "      <td> 0.000000</td>\n",
        "      <td> 0.000000</td>\n",
        "      <td> 0.000000</td>\n",
        "      <td> 0.000000</td>\n",
        "      <td> 0.000000</td>\n",
        "      <td> 0.000000</td>\n",
        "      <td> 0.001614</td>\n",
        "      <td> 0.000032</td>\n",
        "      <td> 0.000000</td>\n",
        "      <td> 0.000000</td>\n",
        "      <td>-0.072510</td>\n",
        "      <td> 0.135257</td>\n",
        "      <td> 0.354366</td>\n",
        "      <td> 0</td>\n",
        "      <td> 0</td>\n",
        "      <td> 0.032051</td>\n",
        "      <td>...</td>\n",
        "    </tr>\n",
        "    <tr>\n",
        "      <th>25</th>\n",
        "      <td> 11186</td>\n",
        "      <td> 994</td>\n",
        "      <td> 0</td>\n",
        "      <td> 0</td>\n",
        "      <td> 0.000000</td>\n",
        "      <td> 0.000000</td>\n",
        "      <td> 0.000000</td>\n",
        "      <td> 0.000000</td>\n",
        "      <td> 0.000000</td>\n",
        "      <td> 0.000000</td>\n",
        "      <td> 0.061439</td>\n",
        "      <td> 0.033835</td>\n",
        "      <td> 0.000000</td>\n",
        "      <td> 0.000000</td>\n",
        "      <td>-0.001815</td>\n",
        "      <td> 0.047385</td>\n",
        "      <td> 0.446876</td>\n",
        "      <td> 0</td>\n",
        "      <td> 0</td>\n",
        "      <td>-0.165761</td>\n",
        "      <td>...</td>\n",
        "    </tr>\n",
        "    <tr>\n",
        "      <th>26</th>\n",
        "      <td> 11186</td>\n",
        "      <td> 196</td>\n",
        "      <td> 0</td>\n",
        "      <td> 0</td>\n",
        "      <td> 0.000000</td>\n",
        "      <td> 0.000000</td>\n",
        "      <td> 0.000000</td>\n",
        "      <td> 0.000000</td>\n",
        "      <td> 0.000000</td>\n",
        "      <td> 0.000000</td>\n",
        "      <td> 0.034904</td>\n",
        "      <td>-0.005273</td>\n",
        "      <td> 0.000000</td>\n",
        "      <td> 0.000000</td>\n",
        "      <td>-0.020450</td>\n",
        "      <td> 0.116236</td>\n",
        "      <td> 0.397474</td>\n",
        "      <td> 0</td>\n",
        "      <td> 0</td>\n",
        "      <td> 0.100695</td>\n",
        "      <td>...</td>\n",
        "    </tr>\n",
        "    <tr>\n",
        "      <th>27</th>\n",
        "      <td> 11186</td>\n",
        "      <td>  39</td>\n",
        "      <td> 0</td>\n",
        "      <td> 0</td>\n",
        "      <td> 0.000000</td>\n",
        "      <td> 0.000000</td>\n",
        "      <td> 0.000000</td>\n",
        "      <td> 0.000000</td>\n",
        "      <td> 0.000000</td>\n",
        "      <td> 0.000000</td>\n",
        "      <td> 0.007822</td>\n",
        "      <td> 0.009470</td>\n",
        "      <td> 0.000000</td>\n",
        "      <td> 0.000000</td>\n",
        "      <td> 0.042780</td>\n",
        "      <td> 0.033282</td>\n",
        "      <td> 0.094727</td>\n",
        "      <td> 0</td>\n",
        "      <td> 0</td>\n",
        "      <td> 0.088241</td>\n",
        "      <td>...</td>\n",
        "    </tr>\n",
        "    <tr>\n",
        "      <th>28</th>\n",
        "      <td> 11186</td>\n",
        "      <td> 906</td>\n",
        "      <td> 0</td>\n",
        "      <td> 0</td>\n",
        "      <td> 0.000000</td>\n",
        "      <td> 0.000000</td>\n",
        "      <td> 0.000000</td>\n",
        "      <td> 0.000000</td>\n",
        "      <td> 0.000000</td>\n",
        "      <td> 0.000000</td>\n",
        "      <td> 0.073918</td>\n",
        "      <td> 0.166852</td>\n",
        "      <td> 0.000000</td>\n",
        "      <td> 0.000000</td>\n",
        "      <td>-0.023286</td>\n",
        "      <td>-0.004054</td>\n",
        "      <td> 0.467754</td>\n",
        "      <td> 0</td>\n",
        "      <td> 0</td>\n",
        "      <td> 0.048660</td>\n",
        "      <td>...</td>\n",
        "    </tr>\n",
        "    <tr>\n",
        "      <th>29</th>\n",
        "      <td> 11186</td>\n",
        "      <td> 363</td>\n",
        "      <td> 0</td>\n",
        "      <td> 0</td>\n",
        "      <td> 0.000000</td>\n",
        "      <td> 0.000000</td>\n",
        "      <td> 0.000000</td>\n",
        "      <td> 0.000000</td>\n",
        "      <td> 0.000000</td>\n",
        "      <td> 0.000000</td>\n",
        "      <td> 0.002555</td>\n",
        "      <td> 0.007056</td>\n",
        "      <td> 0.000000</td>\n",
        "      <td> 0.000000</td>\n",
        "      <td> 0.107334</td>\n",
        "      <td> 0.055547</td>\n",
        "      <td> 0.269245</td>\n",
        "      <td> 0</td>\n",
        "      <td> 0</td>\n",
        "      <td> 0.070069</td>\n",
        "      <td>...</td>\n",
        "    </tr>\n",
        "    <tr>\n",
        "      <th>30</th>\n",
        "      <td> 11186</td>\n",
        "      <td> 987</td>\n",
        "      <td> 0</td>\n",
        "      <td> 0</td>\n",
        "      <td> 0.000000</td>\n",
        "      <td> 0.000000</td>\n",
        "      <td> 0.000000</td>\n",
        "      <td> 0.000000</td>\n",
        "      <td> 0.000000</td>\n",
        "      <td> 0.000000</td>\n",
        "      <td> 0.042209</td>\n",
        "      <td> 0.030700</td>\n",
        "      <td> 0.000000</td>\n",
        "      <td> 0.000000</td>\n",
        "      <td> 0.058476</td>\n",
        "      <td> 0.056463</td>\n",
        "      <td> 0.267078</td>\n",
        "      <td> 0</td>\n",
        "      <td> 0</td>\n",
        "      <td> 0.038980</td>\n",
        "      <td>...</td>\n",
        "    </tr>\n",
        "    <tr>\n",
        "      <th>31</th>\n",
        "      <td> 11186</td>\n",
        "      <td> 988</td>\n",
        "      <td> 0</td>\n",
        "      <td> 0</td>\n",
        "      <td> 0.000000</td>\n",
        "      <td> 0.000000</td>\n",
        "      <td> 0.000000</td>\n",
        "      <td> 0.000000</td>\n",
        "      <td> 0.000000</td>\n",
        "      <td> 0.000000</td>\n",
        "      <td>-0.000181</td>\n",
        "      <td> 0.001609</td>\n",
        "      <td> 0.000000</td>\n",
        "      <td> 0.000000</td>\n",
        "      <td> 0.068462</td>\n",
        "      <td> 0.051409</td>\n",
        "      <td> 0.075640</td>\n",
        "      <td> 0</td>\n",
        "      <td> 0</td>\n",
        "      <td> 0.160902</td>\n",
        "      <td>...</td>\n",
        "    </tr>\n",
        "    <tr>\n",
        "      <th>32</th>\n",
        "      <td> 11186</td>\n",
        "      <td> 989</td>\n",
        "      <td> 0</td>\n",
        "      <td> 0</td>\n",
        "      <td> 0.000000</td>\n",
        "      <td> 0.000000</td>\n",
        "      <td> 0.000000</td>\n",
        "      <td> 0.000000</td>\n",
        "      <td> 0.000000</td>\n",
        "      <td> 0.000000</td>\n",
        "      <td> 0.026828</td>\n",
        "      <td> 0.032600</td>\n",
        "      <td> 0.000000</td>\n",
        "      <td> 0.000000</td>\n",
        "      <td> 0.038072</td>\n",
        "      <td> 0.041458</td>\n",
        "      <td> 0.230497</td>\n",
        "      <td> 0</td>\n",
        "      <td> 0</td>\n",
        "      <td> 0.054294</td>\n",
        "      <td>...</td>\n",
        "    </tr>\n",
        "    <tr>\n",
        "      <th>33</th>\n",
        "      <td> 11186</td>\n",
        "      <td> 990</td>\n",
        "      <td> 0</td>\n",
        "      <td> 0</td>\n",
        "      <td> 0.000000</td>\n",
        "      <td> 0.000000</td>\n",
        "      <td> 0.000000</td>\n",
        "      <td> 0.000000</td>\n",
        "      <td> 0.000000</td>\n",
        "      <td> 0.000000</td>\n",
        "      <td> 0.119812</td>\n",
        "      <td> 0.134098</td>\n",
        "      <td> 0.000000</td>\n",
        "      <td> 0.000000</td>\n",
        "      <td> 0.040986</td>\n",
        "      <td> 0.045212</td>\n",
        "      <td> 0.278716</td>\n",
        "      <td> 0</td>\n",
        "      <td> 0</td>\n",
        "      <td> 0.040387</td>\n",
        "      <td>...</td>\n",
        "    </tr>\n",
        "    <tr>\n",
        "      <th>34</th>\n",
        "      <td> 11186</td>\n",
        "      <td> 991</td>\n",
        "      <td> 0</td>\n",
        "      <td> 0</td>\n",
        "      <td> 0.000000</td>\n",
        "      <td> 0.000000</td>\n",
        "      <td> 0.000000</td>\n",
        "      <td> 0.000000</td>\n",
        "      <td> 0.000000</td>\n",
        "      <td> 0.000000</td>\n",
        "      <td> 0.003413</td>\n",
        "      <td> 0.009555</td>\n",
        "      <td> 0.000000</td>\n",
        "      <td> 0.000000</td>\n",
        "      <td> 0.011128</td>\n",
        "      <td> 0.083866</td>\n",
        "      <td> 0.643441</td>\n",
        "      <td> 0</td>\n",
        "      <td> 0</td>\n",
        "      <td> 0.022568</td>\n",
        "      <td>...</td>\n",
        "    </tr>\n",
        "    <tr>\n",
        "      <th>35</th>\n",
        "      <td> 11364</td>\n",
        "      <td> 153</td>\n",
        "      <td> 0</td>\n",
        "      <td> 0</td>\n",
        "      <td> 0.000000</td>\n",
        "      <td> 0.000000</td>\n",
        "      <td> 0.000000</td>\n",
        "      <td> 0.000000</td>\n",
        "      <td> 0.000000</td>\n",
        "      <td> 0.000000</td>\n",
        "      <td> 0.000000</td>\n",
        "      <td> 0.000000</td>\n",
        "      <td> 0.000000</td>\n",
        "      <td> 0.000000</td>\n",
        "      <td> 0.000000</td>\n",
        "      <td> 0.000000</td>\n",
        "      <td> 0.335385</td>\n",
        "      <td> 0</td>\n",
        "      <td> 0</td>\n",
        "      <td> 0.000000</td>\n",
        "      <td>...</td>\n",
        "    </tr>\n",
        "    <tr>\n",
        "      <th>36</th>\n",
        "      <td> 11364</td>\n",
        "      <td>  18</td>\n",
        "      <td> 0</td>\n",
        "      <td> 0</td>\n",
        "      <td> 0.000000</td>\n",
        "      <td> 0.000000</td>\n",
        "      <td> 0.000000</td>\n",
        "      <td> 0.000000</td>\n",
        "      <td> 0.000000</td>\n",
        "      <td> 0.000000</td>\n",
        "      <td> 0.000000</td>\n",
        "      <td> 0.000000</td>\n",
        "      <td> 0.000000</td>\n",
        "      <td> 0.000000</td>\n",
        "      <td> 0.000000</td>\n",
        "      <td> 0.000000</td>\n",
        "      <td> 0.178667</td>\n",
        "      <td> 0</td>\n",
        "      <td> 0</td>\n",
        "      <td> 0.000000</td>\n",
        "      <td>...</td>\n",
        "    </tr>\n",
        "    <tr>\n",
        "      <th>37</th>\n",
        "      <td> 11364</td>\n",
        "      <td> 148</td>\n",
        "      <td> 0</td>\n",
        "      <td> 0</td>\n",
        "      <td> 0.000000</td>\n",
        "      <td> 0.000000</td>\n",
        "      <td> 0.000000</td>\n",
        "      <td> 0.000000</td>\n",
        "      <td> 0.000000</td>\n",
        "      <td> 0.000000</td>\n",
        "      <td> 0.000000</td>\n",
        "      <td> 0.000000</td>\n",
        "      <td> 0.000000</td>\n",
        "      <td> 0.000000</td>\n",
        "      <td> 0.000000</td>\n",
        "      <td> 0.000000</td>\n",
        "      <td> 0.464739</td>\n",
        "      <td> 0</td>\n",
        "      <td> 0</td>\n",
        "      <td> 0.000000</td>\n",
        "      <td>...</td>\n",
        "    </tr>\n",
        "    <tr>\n",
        "      <th>38</th>\n",
        "      <td> 11364</td>\n",
        "      <td> 861</td>\n",
        "      <td> 0</td>\n",
        "      <td> 0</td>\n",
        "      <td> 0.000000</td>\n",
        "      <td> 0.000000</td>\n",
        "      <td> 0.000000</td>\n",
        "      <td> 0.000000</td>\n",
        "      <td> 0.000000</td>\n",
        "      <td> 0.000000</td>\n",
        "      <td> 0.000000</td>\n",
        "      <td> 0.000000</td>\n",
        "      <td> 0.000000</td>\n",
        "      <td> 0.000000</td>\n",
        "      <td> 0.000000</td>\n",
        "      <td> 0.000000</td>\n",
        "      <td> 0.449024</td>\n",
        "      <td> 0</td>\n",
        "      <td> 0</td>\n",
        "      <td> 0.000000</td>\n",
        "      <td>...</td>\n",
        "    </tr>\n",
        "    <tr>\n",
        "      <th>39</th>\n",
        "      <td> 11410</td>\n",
        "      <td> 864</td>\n",
        "      <td> 0</td>\n",
        "      <td> 0</td>\n",
        "      <td> 0.001371</td>\n",
        "      <td> 0.000886</td>\n",
        "      <td> 0.003641</td>\n",
        "      <td> 0.003626</td>\n",
        "      <td> 0.000611</td>\n",
        "      <td> 0.001436</td>\n",
        "      <td> 0.000000</td>\n",
        "      <td> 0.000000</td>\n",
        "      <td> 0.000000</td>\n",
        "      <td> 0.000000</td>\n",
        "      <td> 0.152660</td>\n",
        "      <td> 0.186230</td>\n",
        "      <td> 0.147214</td>\n",
        "      <td> 0</td>\n",
        "      <td> 0</td>\n",
        "      <td> 0.012158</td>\n",
        "      <td>...</td>\n",
        "    </tr>\n",
        "    <tr>\n",
        "      <th>40</th>\n",
        "      <td> 11410</td>\n",
        "      <td> 865</td>\n",
        "      <td> 0</td>\n",
        "      <td> 0</td>\n",
        "      <td> 0.015278</td>\n",
        "      <td> 0.014604</td>\n",
        "      <td> 0.026593</td>\n",
        "      <td> 0.022875</td>\n",
        "      <td> 0.019136</td>\n",
        "      <td> 0.015798</td>\n",
        "      <td> 0.000000</td>\n",
        "      <td> 0.000000</td>\n",
        "      <td> 0.000000</td>\n",
        "      <td> 0.000000</td>\n",
        "      <td> 0.096144</td>\n",
        "      <td> 0.086959</td>\n",
        "      <td> 0.101544</td>\n",
        "      <td> 0</td>\n",
        "      <td> 0</td>\n",
        "      <td> 0.020251</td>\n",
        "      <td>...</td>\n",
        "    </tr>\n",
        "    <tr>\n",
        "      <th>41</th>\n",
        "      <td> 11410</td>\n",
        "      <td> 866</td>\n",
        "      <td> 0</td>\n",
        "      <td> 0</td>\n",
        "      <td> 0.000487</td>\n",
        "      <td> 0.000943</td>\n",
        "      <td> 0.007314</td>\n",
        "      <td> 0.006984</td>\n",
        "      <td> 0.001648</td>\n",
        "      <td> 0.002700</td>\n",
        "      <td> 0.000000</td>\n",
        "      <td> 0.000000</td>\n",
        "      <td> 0.000000</td>\n",
        "      <td> 0.000000</td>\n",
        "      <td> 0.087026</td>\n",
        "      <td> 0.094126</td>\n",
        "      <td> 0.151106</td>\n",
        "      <td> 0</td>\n",
        "      <td> 0</td>\n",
        "      <td> 0.018085</td>\n",
        "      <td>...</td>\n",
        "    </tr>\n",
        "    <tr>\n",
        "      <th>42</th>\n",
        "      <td> 11410</td>\n",
        "      <td> 867</td>\n",
        "      <td> 0</td>\n",
        "      <td> 0</td>\n",
        "      <td> 0.000124</td>\n",
        "      <td>-0.000001</td>\n",
        "      <td> 0.001895</td>\n",
        "      <td> 0.002007</td>\n",
        "      <td> 0.000091</td>\n",
        "      <td> 0.000018</td>\n",
        "      <td> 0.000000</td>\n",
        "      <td> 0.000000</td>\n",
        "      <td> 0.000000</td>\n",
        "      <td> 0.000000</td>\n",
        "      <td> 0.055337</td>\n",
        "      <td> 0.085426</td>\n",
        "      <td> 0.147711</td>\n",
        "      <td> 0</td>\n",
        "      <td> 0</td>\n",
        "      <td> 0.006038</td>\n",
        "      <td>...</td>\n",
        "    </tr>\n",
        "    <tr>\n",
        "      <th>43</th>\n",
        "      <td> 11410</td>\n",
        "      <td> 874</td>\n",
        "      <td> 0</td>\n",
        "      <td> 0</td>\n",
        "      <td>-0.000043</td>\n",
        "      <td> 0.000044</td>\n",
        "      <td> 0.005272</td>\n",
        "      <td> 0.004268</td>\n",
        "      <td> 0.000952</td>\n",
        "      <td>-0.000123</td>\n",
        "      <td> 0.000000</td>\n",
        "      <td> 0.000000</td>\n",
        "      <td> 0.000000</td>\n",
        "      <td> 0.000000</td>\n",
        "      <td> 0.050897</td>\n",
        "      <td> 0.061903</td>\n",
        "      <td> 0.108130</td>\n",
        "      <td> 0</td>\n",
        "      <td> 0</td>\n",
        "      <td> 0.037795</td>\n",
        "      <td>...</td>\n",
        "    </tr>\n",
        "    <tr>\n",
        "      <th>44</th>\n",
        "      <td> 11410</td>\n",
        "      <td> 875</td>\n",
        "      <td> 0</td>\n",
        "      <td> 0</td>\n",
        "      <td> 0.000027</td>\n",
        "      <td> 0.000000</td>\n",
        "      <td> 0.001550</td>\n",
        "      <td> 0.002602</td>\n",
        "      <td> 0.000000</td>\n",
        "      <td> 0.000000</td>\n",
        "      <td> 0.000000</td>\n",
        "      <td> 0.000000</td>\n",
        "      <td> 0.000000</td>\n",
        "      <td> 0.000000</td>\n",
        "      <td> 0.056270</td>\n",
        "      <td> 0.169244</td>\n",
        "      <td> 0.186255</td>\n",
        "      <td> 0</td>\n",
        "      <td> 0</td>\n",
        "      <td> 0.001586</td>\n",
        "      <td>...</td>\n",
        "    </tr>\n",
        "    <tr>\n",
        "      <th>45</th>\n",
        "      <td> 11410</td>\n",
        "      <td> 877</td>\n",
        "      <td> 0</td>\n",
        "      <td> 0</td>\n",
        "      <td> 0.000705</td>\n",
        "      <td>-0.000607</td>\n",
        "      <td> 0.000261</td>\n",
        "      <td>-0.001451</td>\n",
        "      <td>-0.000202</td>\n",
        "      <td> 0.000027</td>\n",
        "      <td> 0.000000</td>\n",
        "      <td> 0.000000</td>\n",
        "      <td> 0.000000</td>\n",
        "      <td> 0.000000</td>\n",
        "      <td> 0.049112</td>\n",
        "      <td> 0.041858</td>\n",
        "      <td> 0.174107</td>\n",
        "      <td> 0</td>\n",
        "      <td> 0</td>\n",
        "      <td> 0.140021</td>\n",
        "      <td>...</td>\n",
        "    </tr>\n",
        "    <tr>\n",
        "      <th>46</th>\n",
        "      <td> 11410</td>\n",
        "      <td> 150</td>\n",
        "      <td> 0</td>\n",
        "      <td> 0</td>\n",
        "      <td> 0.000222</td>\n",
        "      <td>-0.000034</td>\n",
        "      <td> 0.000784</td>\n",
        "      <td>-0.000517</td>\n",
        "      <td>-0.000878</td>\n",
        "      <td>-0.000207</td>\n",
        "      <td> 0.000000</td>\n",
        "      <td> 0.000000</td>\n",
        "      <td> 0.000000</td>\n",
        "      <td> 0.000000</td>\n",
        "      <td> 0.008013</td>\n",
        "      <td> 0.025458</td>\n",
        "      <td> 0.270895</td>\n",
        "      <td> 0</td>\n",
        "      <td> 0</td>\n",
        "      <td> 0.003856</td>\n",
        "      <td>...</td>\n",
        "    </tr>\n",
        "    <tr>\n",
        "      <th>47</th>\n",
        "      <td> 11410</td>\n",
        "      <td> 153</td>\n",
        "      <td> 0</td>\n",
        "      <td> 0</td>\n",
        "      <td> 0.000194</td>\n",
        "      <td> 0.000001</td>\n",
        "      <td>-0.000165</td>\n",
        "      <td> 0.000226</td>\n",
        "      <td> 0.000140</td>\n",
        "      <td>-0.000097</td>\n",
        "      <td> 0.000000</td>\n",
        "      <td> 0.000000</td>\n",
        "      <td> 0.000000</td>\n",
        "      <td> 0.000000</td>\n",
        "      <td> 0.030188</td>\n",
        "      <td> 0.040452</td>\n",
        "      <td> 0.097039</td>\n",
        "      <td> 0</td>\n",
        "      <td> 0</td>\n",
        "      <td> 0.045036</td>\n",
        "      <td>...</td>\n",
        "    </tr>\n",
        "    <tr>\n",
        "      <th>48</th>\n",
        "      <td> 12800</td>\n",
        "      <td> 900</td>\n",
        "      <td> 0</td>\n",
        "      <td> 0</td>\n",
        "      <td> 0.000000</td>\n",
        "      <td> 0.000000</td>\n",
        "      <td> 0.000000</td>\n",
        "      <td> 0.000000</td>\n",
        "      <td> 0.000000</td>\n",
        "      <td> 0.000000</td>\n",
        "      <td> 0.008229</td>\n",
        "      <td> 0.008065</td>\n",
        "      <td> 0.000000</td>\n",
        "      <td> 0.000000</td>\n",
        "      <td> 0.062712</td>\n",
        "      <td> 0.064221</td>\n",
        "      <td> 0.131430</td>\n",
        "      <td> 0</td>\n",
        "      <td> 0</td>\n",
        "      <td> 0.050811</td>\n",
        "      <td>...</td>\n",
        "    </tr>\n",
        "    <tr>\n",
        "      <th>49</th>\n",
        "      <td> 12800</td>\n",
        "      <td> 901</td>\n",
        "      <td> 0</td>\n",
        "      <td> 0</td>\n",
        "      <td> 0.000000</td>\n",
        "      <td> 0.000000</td>\n",
        "      <td> 0.000000</td>\n",
        "      <td> 0.000000</td>\n",
        "      <td> 0.000000</td>\n",
        "      <td> 0.000000</td>\n",
        "      <td> 0.036229</td>\n",
        "      <td> 0.055996</td>\n",
        "      <td> 0.000000</td>\n",
        "      <td> 0.000000</td>\n",
        "      <td> 0.069157</td>\n",
        "      <td> 0.050612</td>\n",
        "      <td> 0.263723</td>\n",
        "      <td> 0</td>\n",
        "      <td> 0</td>\n",
        "      <td> 0.055516</td>\n",
        "      <td>...</td>\n",
        "    </tr>\n",
        "    <tr>\n",
        "      <th>50</th>\n",
        "      <td> 12800</td>\n",
        "      <td>  70</td>\n",
        "      <td> 0</td>\n",
        "      <td> 0</td>\n",
        "      <td> 0.000000</td>\n",
        "      <td> 0.000000</td>\n",
        "      <td> 0.000000</td>\n",
        "      <td> 0.000000</td>\n",
        "      <td> 0.000000</td>\n",
        "      <td> 0.000000</td>\n",
        "      <td> 0.000301</td>\n",
        "      <td> 0.000267</td>\n",
        "      <td> 0.000000</td>\n",
        "      <td> 0.000000</td>\n",
        "      <td> 0.072510</td>\n",
        "      <td> 0.072982</td>\n",
        "      <td> 0.144467</td>\n",
        "      <td> 0</td>\n",
        "      <td> 0</td>\n",
        "      <td> 0.140434</td>\n",
        "      <td>...</td>\n",
        "    </tr>\n",
        "    <tr>\n",
        "      <th>51</th>\n",
        "      <td> 12800</td>\n",
        "      <td> 903</td>\n",
        "      <td> 0</td>\n",
        "      <td> 0</td>\n",
        "      <td> 0.000000</td>\n",
        "      <td> 0.000000</td>\n",
        "      <td> 0.000000</td>\n",
        "      <td> 0.000000</td>\n",
        "      <td> 0.000000</td>\n",
        "      <td> 0.000000</td>\n",
        "      <td>-0.000409</td>\n",
        "      <td>-0.000227</td>\n",
        "      <td> 0.000000</td>\n",
        "      <td> 0.000000</td>\n",
        "      <td> 0.050669</td>\n",
        "      <td> 0.043986</td>\n",
        "      <td> 0.126212</td>\n",
        "      <td> 0</td>\n",
        "      <td> 0</td>\n",
        "      <td> 0.206030</td>\n",
        "      <td>...</td>\n",
        "    </tr>\n",
        "    <tr>\n",
        "      <th>52</th>\n",
        "      <td> 12800</td>\n",
        "      <td> 904</td>\n",
        "      <td> 0</td>\n",
        "      <td> 0</td>\n",
        "      <td> 0.000000</td>\n",
        "      <td> 0.000000</td>\n",
        "      <td> 0.000000</td>\n",
        "      <td> 0.000000</td>\n",
        "      <td> 0.000000</td>\n",
        "      <td> 0.000000</td>\n",
        "      <td> 0.000884</td>\n",
        "      <td> 0.001138</td>\n",
        "      <td> 0.000000</td>\n",
        "      <td> 0.000000</td>\n",
        "      <td> 0.015599</td>\n",
        "      <td> 0.022954</td>\n",
        "      <td> 0.104371</td>\n",
        "      <td> 0</td>\n",
        "      <td> 0</td>\n",
        "      <td> 0.045509</td>\n",
        "      <td>...</td>\n",
        "    </tr>\n",
        "    <tr>\n",
        "      <th>53</th>\n",
        "      <td> 12800</td>\n",
        "      <td> 906</td>\n",
        "      <td> 0</td>\n",
        "      <td> 0</td>\n",
        "      <td> 0.000000</td>\n",
        "      <td> 0.000000</td>\n",
        "      <td> 0.000000</td>\n",
        "      <td> 0.000000</td>\n",
        "      <td> 0.000000</td>\n",
        "      <td> 0.000000</td>\n",
        "      <td> 0.008099</td>\n",
        "      <td> 0.005023</td>\n",
        "      <td> 0.000000</td>\n",
        "      <td> 0.000000</td>\n",
        "      <td> 0.062109</td>\n",
        "      <td> 0.079368</td>\n",
        "      <td> 0.210624</td>\n",
        "      <td> 0</td>\n",
        "      <td> 0</td>\n",
        "      <td> 0.071089</td>\n",
        "      <td>...</td>\n",
        "    </tr>\n",
        "    <tr>\n",
        "      <th>54</th>\n",
        "      <td> 12800</td>\n",
        "      <td> 907</td>\n",
        "      <td> 0</td>\n",
        "      <td> 0</td>\n",
        "      <td> 0.000000</td>\n",
        "      <td> 0.000000</td>\n",
        "      <td> 0.000000</td>\n",
        "      <td> 0.000000</td>\n",
        "      <td> 0.000000</td>\n",
        "      <td> 0.000000</td>\n",
        "      <td>-0.007491</td>\n",
        "      <td>-0.000349</td>\n",
        "      <td> 0.000000</td>\n",
        "      <td> 0.000000</td>\n",
        "      <td> 0.123707</td>\n",
        "      <td> 0.098906</td>\n",
        "      <td> 0.117589</td>\n",
        "      <td> 0</td>\n",
        "      <td> 0</td>\n",
        "      <td> 0.135486</td>\n",
        "      <td>...</td>\n",
        "    </tr>\n",
        "    <tr>\n",
        "      <th>55</th>\n",
        "      <td> 12800</td>\n",
        "      <td> 908</td>\n",
        "      <td> 0</td>\n",
        "      <td> 0</td>\n",
        "      <td> 0.000000</td>\n",
        "      <td> 0.000000</td>\n",
        "      <td> 0.000000</td>\n",
        "      <td> 0.000000</td>\n",
        "      <td> 0.000000</td>\n",
        "      <td> 0.000000</td>\n",
        "      <td> 0.000040</td>\n",
        "      <td>-0.000021</td>\n",
        "      <td> 0.000000</td>\n",
        "      <td> 0.000000</td>\n",
        "      <td> 0.036700</td>\n",
        "      <td> 0.069165</td>\n",
        "      <td> 0.292406</td>\n",
        "      <td> 0</td>\n",
        "      <td> 0</td>\n",
        "      <td> 0.060230</td>\n",
        "      <td>...</td>\n",
        "    </tr>\n",
        "    <tr>\n",
        "      <th>56</th>\n",
        "      <td> 12800</td>\n",
        "      <td> 909</td>\n",
        "      <td> 0</td>\n",
        "      <td> 0</td>\n",
        "      <td> 0.000000</td>\n",
        "      <td> 0.000000</td>\n",
        "      <td> 0.000000</td>\n",
        "      <td> 0.000000</td>\n",
        "      <td> 0.000000</td>\n",
        "      <td> 0.000000</td>\n",
        "      <td> 0.000672</td>\n",
        "      <td> 0.000195</td>\n",
        "      <td> 0.000000</td>\n",
        "      <td> 0.000000</td>\n",
        "      <td> 0.103281</td>\n",
        "      <td> 0.123068</td>\n",
        "      <td> 0.132972</td>\n",
        "      <td> 0</td>\n",
        "      <td> 0</td>\n",
        "      <td> 0.043115</td>\n",
        "      <td>...</td>\n",
        "    </tr>\n",
        "    <tr>\n",
        "      <th>57</th>\n",
        "      <td> 12800</td>\n",
        "      <td> 911</td>\n",
        "      <td> 0</td>\n",
        "      <td> 0</td>\n",
        "      <td> 0.000000</td>\n",
        "      <td> 0.000000</td>\n",
        "      <td> 0.000000</td>\n",
        "      <td> 0.000000</td>\n",
        "      <td> 0.000000</td>\n",
        "      <td> 0.000000</td>\n",
        "      <td> 0.000285</td>\n",
        "      <td>-0.000459</td>\n",
        "      <td> 0.000000</td>\n",
        "      <td> 0.000000</td>\n",
        "      <td> 0.055645</td>\n",
        "      <td> 0.104690</td>\n",
        "      <td> 0.419372</td>\n",
        "      <td> 0</td>\n",
        "      <td> 0</td>\n",
        "      <td> 0.053652</td>\n",
        "      <td>...</td>\n",
        "    </tr>\n",
        "    <tr>\n",
        "      <th>58</th>\n",
        "      <td> 12800</td>\n",
        "      <td> 592</td>\n",
        "      <td> 0</td>\n",
        "      <td> 0</td>\n",
        "      <td> 0.000000</td>\n",
        "      <td> 0.000000</td>\n",
        "      <td> 0.000000</td>\n",
        "      <td> 0.000000</td>\n",
        "      <td> 0.000000</td>\n",
        "      <td> 0.000000</td>\n",
        "      <td> 0.013896</td>\n",
        "      <td> 0.011545</td>\n",
        "      <td> 0.000000</td>\n",
        "      <td> 0.000000</td>\n",
        "      <td> 0.063456</td>\n",
        "      <td> 0.056557</td>\n",
        "      <td> 0.250220</td>\n",
        "      <td> 0</td>\n",
        "      <td> 0</td>\n",
        "      <td> 0.084826</td>\n",
        "      <td>...</td>\n",
        "    </tr>\n",
        "    <tr>\n",
        "      <th>59</th>\n",
        "      <td> 12800</td>\n",
        "      <td> 338</td>\n",
        "      <td> 0</td>\n",
        "      <td> 0</td>\n",
        "      <td> 0.000000</td>\n",
        "      <td> 0.000000</td>\n",
        "      <td> 0.000000</td>\n",
        "      <td> 0.000000</td>\n",
        "      <td> 0.000000</td>\n",
        "      <td> 0.000000</td>\n",
        "      <td> 0.000438</td>\n",
        "      <td> 0.000780</td>\n",
        "      <td> 0.000000</td>\n",
        "      <td> 0.000000</td>\n",
        "      <td> 0.034594</td>\n",
        "      <td> 0.033971</td>\n",
        "      <td> 0.115316</td>\n",
        "      <td> 0</td>\n",
        "      <td> 0</td>\n",
        "      <td> 0.095870</td>\n",
        "      <td>...</td>\n",
        "    </tr>\n",
        "    <tr>\n",
        "      <th></th>\n",
        "      <td>...</td>\n",
        "      <td>...</td>\n",
        "      <td>...</td>\n",
        "      <td>...</td>\n",
        "      <td>...</td>\n",
        "      <td>...</td>\n",
        "      <td>...</td>\n",
        "      <td>...</td>\n",
        "      <td>...</td>\n",
        "      <td>...</td>\n",
        "      <td>...</td>\n",
        "      <td>...</td>\n",
        "      <td>...</td>\n",
        "      <td>...</td>\n",
        "      <td>...</td>\n",
        "      <td>...</td>\n",
        "      <td>...</td>\n",
        "      <td>...</td>\n",
        "      <td>...</td>\n",
        "      <td>...</td>\n",
        "    </tr>\n",
        "  </tbody>\n",
        "</table>\n",
        "<p>592 rows \u00d7 59 columns</p>\n",
        "</div>"
       ],
       "metadata": {},
       "output_type": "pyout",
       "prompt_number": 17,
       "text": [
        "      Ego  Circle  birthday  education;classes;description  \\\n",
        "0   10395      10         0                              0   \n",
        "1   10395      78         0                              0   \n",
        "2   10395      84         0                              0   \n",
        "3   10395     377         0                              0   \n",
        "4   10395     827         0                              0   \n",
        "5   10395     828         0                              0   \n",
        "6   10395     830         0                              0   \n",
        "7   10929     839         0                              0   \n",
        "8   10929     840         0                              0   \n",
        "9   10929     841         0                              0   \n",
        "10  10929     843         0                              0   \n",
        "11  10929     844         0                              0   \n",
        "12  10929     845         0                              0   \n",
        "13  11014     194         0                              0   \n",
        "14  11014      13         0                              0   \n",
        "15  11014     848         0                              0   \n",
        "16  11014     849         0                              0   \n",
        "17  11014     850         0                              0   \n",
        "18  11014     851         0                              0   \n",
        "19  11014     852         0                              0   \n",
        "20  11014     854         0                              0   \n",
        "21  11014     855         0                              0   \n",
        "22  11014     857         0                              0   \n",
        "23  11186     992         0                              0   \n",
        "24  11186     993         0                              0   \n",
        "25  11186     994         0                              0   \n",
        "26  11186     196         0                              0   \n",
        "27  11186      39         0                              0   \n",
        "28  11186     906         0                              0   \n",
        "29  11186     363         0                              0   \n",
        "30  11186     987         0                              0   \n",
        "31  11186     988         0                              0   \n",
        "32  11186     989         0                              0   \n",
        "33  11186     990         0                              0   \n",
        "34  11186     991         0                              0   \n",
        "35  11364     153         0                              0   \n",
        "36  11364      18         0                              0   \n",
        "37  11364     148         0                              0   \n",
        "38  11364     861         0                              0   \n",
        "39  11410     864         0                              0   \n",
        "40  11410     865         0                              0   \n",
        "41  11410     866         0                              0   \n",
        "42  11410     867         0                              0   \n",
        "43  11410     874         0                              0   \n",
        "44  11410     875         0                              0   \n",
        "45  11410     877         0                              0   \n",
        "46  11410     150         0                              0   \n",
        "47  11410     153         0                              0   \n",
        "48  12800     900         0                              0   \n",
        "49  12800     901         0                              0   \n",
        "50  12800      70         0                              0   \n",
        "51  12800     903         0                              0   \n",
        "52  12800     904         0                              0   \n",
        "53  12800     906         0                              0   \n",
        "54  12800     907         0                              0   \n",
        "55  12800     908         0                              0   \n",
        "56  12800     909         0                              0   \n",
        "57  12800     911         0                              0   \n",
        "58  12800     592         0                              0   \n",
        "59  12800     338         0                              0   \n",
        "      ...     ...       ...                            ...   \n",
        "\n",
        "    education;classes;from;id  education;classes;from;name  \\\n",
        "0                    0.000000                     0.000000   \n",
        "1                    0.000000                     0.000000   \n",
        "2                    0.000000                     0.000000   \n",
        "3                    0.000000                     0.000000   \n",
        "4                    0.000000                     0.000000   \n",
        "5                    0.000000                     0.000000   \n",
        "6                    0.000000                     0.000000   \n",
        "7                    0.000000                     0.000000   \n",
        "8                    0.000000                     0.000000   \n",
        "9                    0.000000                     0.000000   \n",
        "10                   0.000000                     0.000000   \n",
        "11                   0.000000                     0.000000   \n",
        "12                   0.000000                     0.000000   \n",
        "13                   0.000000                     0.000000   \n",
        "14                   0.000000                     0.000000   \n",
        "15                   0.000000                     0.000000   \n",
        "16                   0.000000                     0.000000   \n",
        "17                   0.000000                     0.000000   \n",
        "18                   0.000000                     0.000000   \n",
        "19                   0.000000                     0.000000   \n",
        "20                   0.000000                     0.000000   \n",
        "21                   0.000000                     0.000000   \n",
        "22                   0.000000                     0.000000   \n",
        "23                   0.000000                     0.000000   \n",
        "24                   0.000000                     0.000000   \n",
        "25                   0.000000                     0.000000   \n",
        "26                   0.000000                     0.000000   \n",
        "27                   0.000000                     0.000000   \n",
        "28                   0.000000                     0.000000   \n",
        "29                   0.000000                     0.000000   \n",
        "30                   0.000000                     0.000000   \n",
        "31                   0.000000                     0.000000   \n",
        "32                   0.000000                     0.000000   \n",
        "33                   0.000000                     0.000000   \n",
        "34                   0.000000                     0.000000   \n",
        "35                   0.000000                     0.000000   \n",
        "36                   0.000000                     0.000000   \n",
        "37                   0.000000                     0.000000   \n",
        "38                   0.000000                     0.000000   \n",
        "39                   0.001371                     0.000886   \n",
        "40                   0.015278                     0.014604   \n",
        "41                   0.000487                     0.000943   \n",
        "42                   0.000124                    -0.000001   \n",
        "43                  -0.000043                     0.000044   \n",
        "44                   0.000027                     0.000000   \n",
        "45                   0.000705                    -0.000607   \n",
        "46                   0.000222                    -0.000034   \n",
        "47                   0.000194                     0.000001   \n",
        "48                   0.000000                     0.000000   \n",
        "49                   0.000000                     0.000000   \n",
        "50                   0.000000                     0.000000   \n",
        "51                   0.000000                     0.000000   \n",
        "52                   0.000000                     0.000000   \n",
        "53                   0.000000                     0.000000   \n",
        "54                   0.000000                     0.000000   \n",
        "55                   0.000000                     0.000000   \n",
        "56                   0.000000                     0.000000   \n",
        "57                   0.000000                     0.000000   \n",
        "58                   0.000000                     0.000000   \n",
        "59                   0.000000                     0.000000   \n",
        "                          ...                          ...   \n",
        "\n",
        "    education;classes;id  education;classes;name  education;classes;with;id  \\\n",
        "0               0.000000                0.000000                   0.000000   \n",
        "1               0.000000                0.000000                   0.000000   \n",
        "2               0.000000                0.000000                   0.000000   \n",
        "3               0.000000                0.000000                   0.000000   \n",
        "4               0.000000                0.000000                   0.000000   \n",
        "5               0.000000                0.000000                   0.000000   \n",
        "6               0.000000                0.000000                   0.000000   \n",
        "7               0.000000                0.000000                   0.000000   \n",
        "8               0.000000                0.000000                   0.000000   \n",
        "9               0.000000                0.000000                   0.000000   \n",
        "10              0.000000                0.000000                   0.000000   \n",
        "11              0.000000                0.000000                   0.000000   \n",
        "12              0.000000                0.000000                   0.000000   \n",
        "13              0.000000                0.000000                   0.000000   \n",
        "14              0.000000                0.000000                   0.000000   \n",
        "15              0.000000                0.000000                   0.000000   \n",
        "16              0.000000                0.000000                   0.000000   \n",
        "17              0.000000                0.000000                   0.000000   \n",
        "18              0.000000                0.000000                   0.000000   \n",
        "19              0.000000                0.000000                   0.000000   \n",
        "20              0.000000                0.000000                   0.000000   \n",
        "21              0.000000                0.000000                   0.000000   \n",
        "22              0.000000                0.000000                   0.000000   \n",
        "23              0.000000                0.000000                   0.000000   \n",
        "24              0.000000                0.000000                   0.000000   \n",
        "25              0.000000                0.000000                   0.000000   \n",
        "26              0.000000                0.000000                   0.000000   \n",
        "27              0.000000                0.000000                   0.000000   \n",
        "28              0.000000                0.000000                   0.000000   \n",
        "29              0.000000                0.000000                   0.000000   \n",
        "30              0.000000                0.000000                   0.000000   \n",
        "31              0.000000                0.000000                   0.000000   \n",
        "32              0.000000                0.000000                   0.000000   \n",
        "33              0.000000                0.000000                   0.000000   \n",
        "34              0.000000                0.000000                   0.000000   \n",
        "35              0.000000                0.000000                   0.000000   \n",
        "36              0.000000                0.000000                   0.000000   \n",
        "37              0.000000                0.000000                   0.000000   \n",
        "38              0.000000                0.000000                   0.000000   \n",
        "39              0.003641                0.003626                   0.000611   \n",
        "40              0.026593                0.022875                   0.019136   \n",
        "41              0.007314                0.006984                   0.001648   \n",
        "42              0.001895                0.002007                   0.000091   \n",
        "43              0.005272                0.004268                   0.000952   \n",
        "44              0.001550                0.002602                   0.000000   \n",
        "45              0.000261               -0.001451                  -0.000202   \n",
        "46              0.000784               -0.000517                  -0.000878   \n",
        "47             -0.000165                0.000226                   0.000140   \n",
        "48              0.000000                0.000000                   0.000000   \n",
        "49              0.000000                0.000000                   0.000000   \n",
        "50              0.000000                0.000000                   0.000000   \n",
        "51              0.000000                0.000000                   0.000000   \n",
        "52              0.000000                0.000000                   0.000000   \n",
        "53              0.000000                0.000000                   0.000000   \n",
        "54              0.000000                0.000000                   0.000000   \n",
        "55              0.000000                0.000000                   0.000000   \n",
        "56              0.000000                0.000000                   0.000000   \n",
        "57              0.000000                0.000000                   0.000000   \n",
        "58              0.000000                0.000000                   0.000000   \n",
        "59              0.000000                0.000000                   0.000000   \n",
        "                     ...                     ...                        ...   \n",
        "\n",
        "    education;classes;with;name  education;concentration;id  \\\n",
        "0                      0.000000                    0.000000   \n",
        "1                      0.000000                    0.000000   \n",
        "2                      0.000000                    0.000000   \n",
        "3                      0.000000                    0.000000   \n",
        "4                      0.000000                    0.000000   \n",
        "5                      0.000000                    0.000000   \n",
        "6                      0.000000                    0.000000   \n",
        "7                      0.000000                    0.000000   \n",
        "8                      0.000000                    0.000000   \n",
        "9                      0.000000                    0.000000   \n",
        "10                     0.000000                    0.000000   \n",
        "11                     0.000000                    0.000000   \n",
        "12                     0.000000                    0.000000   \n",
        "13                     0.000000                    0.005177   \n",
        "14                     0.000000                    0.007712   \n",
        "15                     0.000000                    0.036061   \n",
        "16                     0.000000                    0.017080   \n",
        "17                     0.000000                    0.033917   \n",
        "18                     0.000000                    0.053235   \n",
        "19                     0.000000                    0.024099   \n",
        "20                     0.000000                    0.037742   \n",
        "21                     0.000000                    0.008000   \n",
        "22                     0.000000                    0.012308   \n",
        "23                     0.000000                    0.020811   \n",
        "24                     0.000000                    0.001614   \n",
        "25                     0.000000                    0.061439   \n",
        "26                     0.000000                    0.034904   \n",
        "27                     0.000000                    0.007822   \n",
        "28                     0.000000                    0.073918   \n",
        "29                     0.000000                    0.002555   \n",
        "30                     0.000000                    0.042209   \n",
        "31                     0.000000                   -0.000181   \n",
        "32                     0.000000                    0.026828   \n",
        "33                     0.000000                    0.119812   \n",
        "34                     0.000000                    0.003413   \n",
        "35                     0.000000                    0.000000   \n",
        "36                     0.000000                    0.000000   \n",
        "37                     0.000000                    0.000000   \n",
        "38                     0.000000                    0.000000   \n",
        "39                     0.001436                    0.000000   \n",
        "40                     0.015798                    0.000000   \n",
        "41                     0.002700                    0.000000   \n",
        "42                     0.000018                    0.000000   \n",
        "43                    -0.000123                    0.000000   \n",
        "44                     0.000000                    0.000000   \n",
        "45                     0.000027                    0.000000   \n",
        "46                    -0.000207                    0.000000   \n",
        "47                    -0.000097                    0.000000   \n",
        "48                     0.000000                    0.008229   \n",
        "49                     0.000000                    0.036229   \n",
        "50                     0.000000                    0.000301   \n",
        "51                     0.000000                   -0.000409   \n",
        "52                     0.000000                    0.000884   \n",
        "53                     0.000000                    0.008099   \n",
        "54                     0.000000                   -0.007491   \n",
        "55                     0.000000                    0.000040   \n",
        "56                     0.000000                    0.000672   \n",
        "57                     0.000000                    0.000285   \n",
        "58                     0.000000                    0.013896   \n",
        "59                     0.000000                    0.000438   \n",
        "                            ...                         ...   \n",
        "\n",
        "    education;concentration;name  education;degree;id  education;degree;name  \\\n",
        "0                       0.000000             0.000000               0.000000   \n",
        "1                       0.000000             0.000000               0.000000   \n",
        "2                       0.000000             0.000000               0.000000   \n",
        "3                       0.000000             0.000000               0.000000   \n",
        "4                       0.000000             0.000000               0.000000   \n",
        "5                       0.000000             0.000000               0.000000   \n",
        "6                       0.000000             0.000000               0.000000   \n",
        "7                       0.000000             0.000000               0.000000   \n",
        "8                       0.000000             0.000000               0.000000   \n",
        "9                       0.000000             0.000000               0.000000   \n",
        "10                      0.000000             0.000000               0.000000   \n",
        "11                      0.000000             0.000000               0.000000   \n",
        "12                      0.000000             0.000000               0.000000   \n",
        "13                     -0.004036            -0.000371              -0.000905   \n",
        "14                      0.008807             0.002773               0.003059   \n",
        "15                      0.035206             0.021983               0.025832   \n",
        "16                      0.009731             0.012825               0.015249   \n",
        "17                      0.032276            -0.000654               0.009484   \n",
        "18                      0.006525             0.004580               0.008731   \n",
        "19                      0.025942             0.004733               0.003649   \n",
        "20                      0.042564            -0.001080              -0.022935   \n",
        "21                      0.005964             0.041988               0.038113   \n",
        "22                      0.054401            -0.006596              -0.002300   \n",
        "23                      0.034397             0.000000               0.000000   \n",
        "24                      0.000032             0.000000               0.000000   \n",
        "25                      0.033835             0.000000               0.000000   \n",
        "26                     -0.005273             0.000000               0.000000   \n",
        "27                      0.009470             0.000000               0.000000   \n",
        "28                      0.166852             0.000000               0.000000   \n",
        "29                      0.007056             0.000000               0.000000   \n",
        "30                      0.030700             0.000000               0.000000   \n",
        "31                      0.001609             0.000000               0.000000   \n",
        "32                      0.032600             0.000000               0.000000   \n",
        "33                      0.134098             0.000000               0.000000   \n",
        "34                      0.009555             0.000000               0.000000   \n",
        "35                      0.000000             0.000000               0.000000   \n",
        "36                      0.000000             0.000000               0.000000   \n",
        "37                      0.000000             0.000000               0.000000   \n",
        "38                      0.000000             0.000000               0.000000   \n",
        "39                      0.000000             0.000000               0.000000   \n",
        "40                      0.000000             0.000000               0.000000   \n",
        "41                      0.000000             0.000000               0.000000   \n",
        "42                      0.000000             0.000000               0.000000   \n",
        "43                      0.000000             0.000000               0.000000   \n",
        "44                      0.000000             0.000000               0.000000   \n",
        "45                      0.000000             0.000000               0.000000   \n",
        "46                      0.000000             0.000000               0.000000   \n",
        "47                      0.000000             0.000000               0.000000   \n",
        "48                      0.008065             0.000000               0.000000   \n",
        "49                      0.055996             0.000000               0.000000   \n",
        "50                      0.000267             0.000000               0.000000   \n",
        "51                     -0.000227             0.000000               0.000000   \n",
        "52                      0.001138             0.000000               0.000000   \n",
        "53                      0.005023             0.000000               0.000000   \n",
        "54                     -0.000349             0.000000               0.000000   \n",
        "55                     -0.000021             0.000000               0.000000   \n",
        "56                      0.000195             0.000000               0.000000   \n",
        "57                     -0.000459             0.000000               0.000000   \n",
        "58                      0.011545             0.000000               0.000000   \n",
        "59                      0.000780             0.000000               0.000000   \n",
        "                             ...                  ...                    ...   \n",
        "\n",
        "    education;school;id  education;school;name  education;type  \\\n",
        "0              0.038982               0.044637        0.069508   \n",
        "1              0.034336               0.078928        0.174745   \n",
        "2              0.059876               0.139754        0.093281   \n",
        "3              0.084358               0.070995        0.351619   \n",
        "4              0.041441               0.058887        0.045526   \n",
        "5              0.051386               0.052138        0.150792   \n",
        "6              0.041831               0.029094        0.098512   \n",
        "7              0.000000               0.000000        0.000000   \n",
        "8              0.000000               0.000000        0.000000   \n",
        "9              0.000000               0.000000        0.000000   \n",
        "10             0.000000               0.000000        0.000000   \n",
        "11             0.000000               0.000000        0.000000   \n",
        "12             0.000000               0.000000        0.000000   \n",
        "13             0.001700               0.000759        0.350534   \n",
        "14             0.027608               0.032421        0.403165   \n",
        "15             0.124821               0.152739        0.226433   \n",
        "16             0.164780               0.120552        0.215927   \n",
        "17             0.062736              -0.012892        0.291257   \n",
        "18             0.043298               0.039199        0.381094   \n",
        "19             0.028445               0.044439        0.278780   \n",
        "20             0.034227              -0.098282        0.355762   \n",
        "21             0.060644               0.053813        0.213954   \n",
        "22             0.011256               0.010592        0.291032   \n",
        "23             0.007098               0.008915        0.306631   \n",
        "24            -0.072510               0.135257        0.354366   \n",
        "25            -0.001815               0.047385        0.446876   \n",
        "26            -0.020450               0.116236        0.397474   \n",
        "27             0.042780               0.033282        0.094727   \n",
        "28            -0.023286              -0.004054        0.467754   \n",
        "29             0.107334               0.055547        0.269245   \n",
        "30             0.058476               0.056463        0.267078   \n",
        "31             0.068462               0.051409        0.075640   \n",
        "32             0.038072               0.041458        0.230497   \n",
        "33             0.040986               0.045212        0.278716   \n",
        "34             0.011128               0.083866        0.643441   \n",
        "35             0.000000               0.000000        0.335385   \n",
        "36             0.000000               0.000000        0.178667   \n",
        "37             0.000000               0.000000        0.464739   \n",
        "38             0.000000               0.000000        0.449024   \n",
        "39             0.152660               0.186230        0.147214   \n",
        "40             0.096144               0.086959        0.101544   \n",
        "41             0.087026               0.094126        0.151106   \n",
        "42             0.055337               0.085426        0.147711   \n",
        "43             0.050897               0.061903        0.108130   \n",
        "44             0.056270               0.169244        0.186255   \n",
        "45             0.049112               0.041858        0.174107   \n",
        "46             0.008013               0.025458        0.270895   \n",
        "47             0.030188               0.040452        0.097039   \n",
        "48             0.062712               0.064221        0.131430   \n",
        "49             0.069157               0.050612        0.263723   \n",
        "50             0.072510               0.072982        0.144467   \n",
        "51             0.050669               0.043986        0.126212   \n",
        "52             0.015599               0.022954        0.104371   \n",
        "53             0.062109               0.079368        0.210624   \n",
        "54             0.123707               0.098906        0.117589   \n",
        "55             0.036700               0.069165        0.292406   \n",
        "56             0.103281               0.123068        0.132972   \n",
        "57             0.055645               0.104690        0.419372   \n",
        "58             0.063456               0.056557        0.250220   \n",
        "59             0.034594               0.033971        0.115316   \n",
        "                    ...                    ...             ...   \n",
        "\n",
        "    education;with;id  education;with;name  education;year;id      \n",
        "0                   0                    0           0.034050 ...  \n",
        "1                   0                    0           0.032815 ...  \n",
        "2                   0                    0           0.048198 ...  \n",
        "3                   0                    0           0.064020 ...  \n",
        "4                   0                    0           0.042207 ...  \n",
        "5                   0                    0           0.025165 ...  \n",
        "6                   0                    0           0.061617 ...  \n",
        "7                   0                    0           0.000000 ...  \n",
        "8                   0                    0           0.000000 ...  \n",
        "9                   0                    0           0.000000 ...  \n",
        "10                  0                    0           0.000000 ...  \n",
        "11                  0                    0           0.000000 ...  \n",
        "12                  0                    0           0.000000 ...  \n",
        "13                  0                    0           0.019913 ...  \n",
        "14                  0                    0           0.044311 ...  \n",
        "15                  0                    0           0.081745 ...  \n",
        "16                  0                    0           0.059191 ...  \n",
        "17                  0                    0           0.058311 ...  \n",
        "18                  0                    0           0.081563 ...  \n",
        "19                  0                    0           0.048619 ...  \n",
        "20                  0                    0          -0.152345 ...  \n",
        "21                  0                    0           0.147539 ...  \n",
        "22                  0                    0           0.082978 ...  \n",
        "23                  0                    0           0.034183 ...  \n",
        "24                  0                    0           0.032051 ...  \n",
        "25                  0                    0          -0.165761 ...  \n",
        "26                  0                    0           0.100695 ...  \n",
        "27                  0                    0           0.088241 ...  \n",
        "28                  0                    0           0.048660 ...  \n",
        "29                  0                    0           0.070069 ...  \n",
        "30                  0                    0           0.038980 ...  \n",
        "31                  0                    0           0.160902 ...  \n",
        "32                  0                    0           0.054294 ...  \n",
        "33                  0                    0           0.040387 ...  \n",
        "34                  0                    0           0.022568 ...  \n",
        "35                  0                    0           0.000000 ...  \n",
        "36                  0                    0           0.000000 ...  \n",
        "37                  0                    0           0.000000 ...  \n",
        "38                  0                    0           0.000000 ...  \n",
        "39                  0                    0           0.012158 ...  \n",
        "40                  0                    0           0.020251 ...  \n",
        "41                  0                    0           0.018085 ...  \n",
        "42                  0                    0           0.006038 ...  \n",
        "43                  0                    0           0.037795 ...  \n",
        "44                  0                    0           0.001586 ...  \n",
        "45                  0                    0           0.140021 ...  \n",
        "46                  0                    0           0.003856 ...  \n",
        "47                  0                    0           0.045036 ...  \n",
        "48                  0                    0           0.050811 ...  \n",
        "49                  0                    0           0.055516 ...  \n",
        "50                  0                    0           0.140434 ...  \n",
        "51                  0                    0           0.206030 ...  \n",
        "52                  0                    0           0.045509 ...  \n",
        "53                  0                    0           0.071089 ...  \n",
        "54                  0                    0           0.135486 ...  \n",
        "55                  0                    0           0.060230 ...  \n",
        "56                  0                    0           0.043115 ...  \n",
        "57                  0                    0           0.053652 ...  \n",
        "58                  0                    0           0.084826 ...  \n",
        "59                  0                    0           0.095870 ...  \n",
        "                  ...                  ...                ...      \n",
        "\n",
        "[592 rows x 59 columns]"
       ]
      }
     ],
     "prompt_number": 17
    },
    {
     "cell_type": "code",
     "collapsed": false,
     "input": [
      "df.mean()"
     ],
     "language": "python",
     "metadata": {},
     "outputs": [
      {
       "metadata": {},
       "output_type": "pyout",
       "prompt_number": 18,
       "text": [
        "Ego                              12204.152027\n",
        "Circle                             606.854730\n",
        "birthday                             0.001239\n",
        "education;classes;description        0.000000\n",
        "education;classes;from;id            0.000284\n",
        "education;classes;from;name          0.000525\n",
        "education;classes;id                 0.001179\n",
        "education;classes;name               0.001172\n",
        "education;classes;with;id            0.000725\n",
        "education;classes;with;name          0.000673\n",
        "education;concentration;id           0.009856\n",
        "education;concentration;name         0.011557\n",
        "education;degree;id                  0.002502\n",
        "education;degree;name                0.002732\n",
        "education;school;id                  0.039925\n",
        "education;school;name                0.055887\n",
        "education;type                       0.154020\n",
        "education;with;id                    0.000274\n",
        "education;with;name                  0.000226\n",
        "education;year;id                    0.032979\n",
        "education;year;name                  0.035084\n",
        "first_name                           0.003008\n",
        "gender                               0.199791\n",
        "hometown;id                          0.034839\n",
        "hometown;name                        0.013600\n",
        "id                                   0.000000\n",
        "languages;id                         0.011533\n",
        "languages;name                       0.013512\n",
        "last_name                            0.037805\n",
        "locale                               0.128530\n",
        "location                             0.000000\n",
        "location;id                          0.033797\n",
        "location;name                        0.031382\n",
        "middle_name                          0.000000\n",
        "name                                 0.000518\n",
        "political                            0.000286\n",
        "religion                             0.000291\n",
        "work;description                     0.000000\n",
        "work;employer;id                    -0.003239\n",
        "work;employer;name                   0.040131\n",
        "work;end_date                        0.012140\n",
        "work;from;id                         0.000000\n",
        "work;from;name                       0.000000\n",
        "work;location;id                    -0.003954\n",
        "work;location;name                   0.010612\n",
        "work;position;id                     0.002383\n",
        "work;position;name                   0.002866\n",
        "work;projects;description            0.000000\n",
        "work;projects;end_date               0.000245\n",
        "work;projects;from;id                0.000000\n",
        "work;projects;from;name              0.000000\n",
        "work;projects;id                     0.000000\n",
        "work;projects;name                   0.000000\n",
        "work;projects;start_date             0.000191\n",
        "work;projects;with;id                0.000000\n",
        "work;projects;with;name              0.000000\n",
        "work;start_date                      0.054840\n",
        "work;with;id                         0.000000\n",
        "work;with;name                       0.000000\n",
        "Length: 59, dtype: float64"
       ]
      }
     ],
     "prompt_number": 18
    },
    {
     "cell_type": "code",
     "collapsed": false,
     "input": [
      "df.to_csv('characterist_profiles.csv')"
     ],
     "language": "python",
     "metadata": {},
     "outputs": [],
     "prompt_number": 19
    },
    {
     "cell_type": "code",
     "collapsed": false,
     "input": [
      "# need to sort out negative importance cases, these indicate correlated variables, \n",
      "# may be case of two circles based on different schools"
     ],
     "language": "python",
     "metadata": {},
     "outputs": [],
     "prompt_number": 20
    },
    {
     "cell_type": "code",
     "collapsed": false,
     "input": [
      "df_pos = df[df.min(axis=1)>=0]\n",
      "df_neg = df[df.min(axis=1)<0]"
     ],
     "language": "python",
     "metadata": {},
     "outputs": [],
     "prompt_number": 25
    },
    {
     "cell_type": "code",
     "collapsed": false,
     "input": [
      "df_pos_mean = df_pos.mean()\n",
      "df_pos_mean.sort(ascending=False)\n",
      "rand_chance = (len(df_pos_mean)-2)\n",
      "df_pos_mean[df_pos_mean.gt(1./(rand_chance))]*rand_chance"
     ],
     "language": "python",
     "metadata": {},
     "outputs": [
      {
       "metadata": {},
       "output_type": "pyout",
       "prompt_number": 53,
       "text": [
        "Ego                      701097.784452\n",
        "Circle                    32825.353357\n",
        "gender                        8.810754\n",
        "locale                        8.750499\n",
        "education;type                8.462451\n",
        "education;school;name         3.641486\n",
        "education;school;id           3.208812\n",
        "last_name                     2.396849\n",
        "location;id                   1.859843\n",
        "work;employer;name            1.822698\n",
        "location;name                 1.794512\n",
        "education;year;name           1.740475\n",
        "hometown;name                 1.719216\n",
        "education;year;id             1.701443\n",
        "hometown;id                   1.638400\n",
        "work;employer;id              1.339230\n",
        "work;start_date               1.267989\n",
        "languages;name                1.003919\n",
        "dtype: float64"
       ]
      }
     ],
     "prompt_number": 53
    },
    {
     "cell_type": "code",
     "collapsed": false,
     "input": [
      "df_pos_mean*rand_chance"
     ],
     "language": "python",
     "metadata": {},
     "outputs": [
      {
       "metadata": {},
       "output_type": "pyout",
       "prompt_number": 54,
       "text": [
        "Ego                              701097.784452\n",
        "Circle                            32825.353357\n",
        "gender                                8.810754\n",
        "locale                                8.750499\n",
        "education;type                        8.462451\n",
        "education;school;name                 3.641486\n",
        "education;school;id                   3.208812\n",
        "last_name                             2.396849\n",
        "location;id                           1.859843\n",
        "work;employer;name                    1.822698\n",
        "location;name                         1.794512\n",
        "education;year;name                   1.740475\n",
        "hometown;name                         1.719216\n",
        "education;year;id                     1.701443\n",
        "hometown;id                           1.638400\n",
        "work;employer;id                      1.339230\n",
        "work;start_date                       1.267989\n",
        "languages;name                        1.003919\n",
        "languages;id                          0.879217\n",
        "first_name                            0.799241\n",
        "education;concentration;name          0.603119\n",
        "education;concentration;id            0.545744\n",
        "work;location;name                    0.487186\n",
        "work;location;id                      0.480107\n",
        "work;end_date                         0.465592\n",
        "work;position;name                    0.164612\n",
        "work;position;id                      0.137034\n",
        "education;degree;id                   0.094219\n",
        "education;degree;name                 0.093735\n",
        "education;classes;id                  0.079414\n",
        "education;classes;name                0.074898\n",
        "birthday                              0.056577\n",
        "education;classes;with;id             0.047925\n",
        "education;classes;with;name           0.044904\n",
        "education;with;id                     0.027201\n",
        "education;classes;from;id             0.024340\n",
        "religion                              0.022375\n",
        "education;with;name                   0.022100\n",
        "education;classes;from;name           0.020837\n",
        "name                                  0.013416\n",
        "political                             0.007822\n",
        "work;projects;end_date                0.004808\n",
        "work;projects;start_date              0.003473\n",
        "education;classes;description         0.000000\n",
        "work;projects;with;id                 0.000000\n",
        "work;projects;with;name               0.000000\n",
        "id                                    0.000000\n",
        "work;with;id                          0.000000\n",
        "location                              0.000000\n",
        "middle_name                           0.000000\n",
        "work;description                      0.000000\n",
        "work;from;id                          0.000000\n",
        "work;from;name                        0.000000\n",
        "work;projects;description             0.000000\n",
        "work;projects;from;id                 0.000000\n",
        "work;projects;from;name               0.000000\n",
        "work;projects;id                      0.000000\n",
        "work;projects;name                    0.000000\n",
        "work;with;name                        0.000000\n",
        "Length: 59, dtype: float64"
       ]
      }
     ],
     "prompt_number": 54
    },
    {
     "cell_type": "code",
     "collapsed": false,
     "input": [],
     "language": "python",
     "metadata": {},
     "outputs": [],
     "prompt_number": 54
    },
    {
     "cell_type": "code",
     "collapsed": false,
     "input": [],
     "language": "python",
     "metadata": {},
     "outputs": []
    }
   ],
   "metadata": {}
  }
 ]
}