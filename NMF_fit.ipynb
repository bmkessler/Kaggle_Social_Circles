{
 "metadata": {
  "name": ""
 },
 "nbformat": 3,
 "nbformat_minor": 0,
 "worksheets": [
  {
   "cells": [
    {
     "cell_type": "code",
     "collapsed": false,
     "input": [
      "%matplotlib inline\n",
      "import networkx as nx\n",
      "from utility_funcs import readcirclefile, cost_function\n",
      "import os\n",
      "import sklearn.cluster\n",
      "import community\n",
      "import itertools\n",
      "import numpy as np\n",
      "import scipy as sp\n",
      "import sklearn as sk"
     ],
     "language": "python",
     "metadata": {},
     "outputs": [],
     "prompt_number": 1
    },
    {
     "cell_type": "code",
     "collapsed": false,
     "input": [
      "def read_nodeadjlist(filename):\n",
      "  ego = int(filename.rsplit('/',1)[1].split('.')[0])\n",
      "  G = nx.Graph()\n",
      "  for line in open(filename):\n",
      "    e1, es = line.split(':')\n",
      "    G.add_edge(ego,int(e1))\n",
      "    es = es.split()\n",
      "    for e in es:\n",
      "      if e == e1: continue\n",
      "      G.add_edge(int(e1),int(e))\n",
      "  return G"
     ],
     "language": "python",
     "metadata": {},
     "outputs": [],
     "prompt_number": 2
    },
    {
     "cell_type": "code",
     "collapsed": false,
     "input": [
      "def compute_training_score(cluster_function):\n",
      "    trainingfiles = os.listdir('./Training/')\n",
      "    pred_score = {}\n",
      "    \n",
      "    for item in trainingfiles:\n",
      "        ego = int((item.split('.')[0]))\n",
      "        true_circles = readcirclefile('./Training/'+item)\n",
      "        G = read_nodeadjlist('./egonets/'+str(ego)+'.egonet')\n",
      "        pred_circles = cluster_function(G)\n",
      "        for key,val in pred_circles.items():\n",
      "                if ego in val:\n",
      "                    pred_circles[key].remove(ego)\n",
      "        pred_score[ego] = cost_function(pred_circles,true_circles)\n",
      "    return pred_score"
     ],
     "language": "python",
     "metadata": {},
     "outputs": [],
     "prompt_number": 3
    },
    {
     "cell_type": "code",
     "collapsed": false,
     "input": [
      "def NMF_cluster(G,beta=0.2,thresh=0.5,N_comp=20,min_circle=5):\n",
      "    \n",
      "    L = -nx.laplacian_matrix(G)\n",
      "    expL = sp.linalg.expm(beta * L)\n",
      "    \n",
      "    N_nodes = len(G.nodes())\n",
      "    B = np.zeros([N_nodes,N_nodes])\n",
      "    \n",
      "    for i in range(N_nodes):\n",
      "        for j in range(N_nodes):\n",
      "            B[i,j] = expL[i,j]/np.sqrt(expL[i,i]*expL[j,j])\n",
      "            \n",
      "    N_comp = min(N_comp,N_nodes)\n",
      "            \n",
      "    nmf = sk.decomposition.NMF(n_components=N_comp)\n",
      "    comps= nmf.fit_transform(B)\n",
      "    \n",
      "\n",
      "    pred_circles = dict(zip(range(N_comp),[[] for _ in range(N_comp)]))\n",
      "    node_list = G.nodes()\n",
      "    for i in range(N_comp):\n",
      "        for j,val in enumerate(comps[:,i]):\n",
      "            if val>thresh:\n",
      "                pred_circles[i].append(node_list[j])\n",
      "    return dict(( (i,circle) for i,circle in pred_circles.items() if len(circle)>=min_circle))        \n"
     ],
     "language": "python",
     "metadata": {},
     "outputs": [],
     "prompt_number": 4
    },
    {
     "cell_type": "code",
     "collapsed": false,
     "input": [
      "ego=239\n",
      "G = read_nodeadjlist('./egonets/'+str(ego)+'.egonet')\n",
      "true_circles = readcirclefile('./Training/'+str(ego)+'.circles')\n",
      "\n",
      "pred_circle = NMF_cluster(G)\n",
      "print ego,cost_function(pred_circle,true_circles)\n",
      "\n",
      "ego=345\n",
      "G = read_nodeadjlist('./egonets/'+str(ego)+'.egonet')\n",
      "true_circles = readcirclefile('./Training/'+str(ego)+'.circles')\n",
      "\n",
      "pred_circle = NMF_cluster(G)\n",
      "print ego,cost_function(pred_circle,true_circles)"
     ],
     "language": "python",
     "metadata": {},
     "outputs": [
      {
       "output_type": "stream",
       "stream": "stdout",
       "text": [
        "239 94\n",
        "345"
       ]
      },
      {
       "output_type": "stream",
       "stream": "stdout",
       "text": [
        " 112\n"
       ]
      },
      {
       "output_type": "stream",
       "stream": "stderr",
       "text": [
        "C:\\Python27\\lib\\site-packages\\sklearn\\decomposition\\nmf.py:539: UserWarning: Iteration limit reached during fit\n",
        "  warnings.warn(\"Iteration limit reached during fit\")\n"
       ]
      }
     ],
     "prompt_number": 5
    },
    {
     "cell_type": "code",
     "collapsed": false,
     "input": [
      "pred_score = compute_training_score(NMF_cluster)\n",
      "for ego,score in pred_score.items():\n",
      "    print ego,score\n",
      "print 'Total:',sum(pred_score.values())"
     ],
     "language": "python",
     "metadata": {},
     "outputs": [
      {
       "output_type": "stream",
       "stream": "stdout",
       "text": [
        "12800 530\n",
        "16642 321\n",
        "23299 435\n",
        "11014 259\n",
        "8239 64\n",
        "6413 221\n",
        "27022 303\n",
        "239 94\n",
        "11410 296\n",
        "22650 100\n",
        "3735 961\n",
        "24857 151\n",
        "10395 349\n",
        "17951 49\n",
        "9947 332\n",
        "8100 120\n",
        "22824 150\n",
        "13353 93\n",
        "9642 363\n",
        "25773 239\n",
        "1839 164\n",
        "1968 287\n",
        "10929 48\n",
        "11186 258\n",
        "7667 206\n",
        "24758 33\n",
        "2738 25\n",
        "15672 716\n",
        "19129 165\n",
        "2365 116\n",
        "4406 905\n",
        "6726 136\n",
        "25159 198\n",
        "8777 277\n",
        "16203 79\n",
        "19788 274\n",
        "1357 334\n",
        "2255 111\n",
        "26321 99\n",
        "18005 355\n",
        "345 111\n",
        "2895 67\n",
        "5212 538\n",
        "13789 211\n",
        "25568 173\n",
        "611 228\n",
        "11364 26\n",
        "16869 97\n",
        "2790 111\n",
        "8553 168\n",
        "18543 22\n",
        "9103 78\n",
        "3059 238\n",
        "23157 293\n",
        "5494 277\n",
        "9846 123\n",
        "5881 371\n",
        "16378 137\n",
        "26492 187\n",
        "4829 170\n",
        "Total: 13842\n"
       ]
      }
     ],
     "prompt_number": 15
    },
    {
     "cell_type": "code",
     "collapsed": false,
     "input": [
      "def writeline(_string,fh):\n",
      "    fh.write(_string+'\\n')\n",
      "\n",
      "def write_test_file(output_file,cluster_function):\n",
      "    test_egos = []\n",
      "    with open('sample_submission.csv','r') as f:\n",
      "        for line in f:\n",
      "            friend = line.split(',')[0]\n",
      "            if friend != 'UserId':\n",
      "                test_egos.append( int(line.split(',')[0]) )\n",
      "    with open(output_file,'w') as f:\n",
      "        writeline('UserId,Predicted',f)\n",
      "        for ego in test_egos:\n",
      "            print 'Processing',ego,'...'\n",
      "            G = read_nodeadjlist('./egonets/'+str(ego)+'.egonet')\n",
      "            pred_circles = cluster_function(G)\n",
      "            for key,val in pred_circles.items():\n",
      "                if ego in val:\n",
      "                    pred_circles[key].remove(ego)\n",
      "            cs = [' '.join([str(y) for y in x]) for x in pred_circles.values() if len(x)>0]\n",
      "            outline =  str(ego) + ',' + ';'.join(cs)\n",
      "            writeline(outline, f)"
     ],
     "language": "python",
     "metadata": {},
     "outputs": [],
     "prompt_number": 16
    },
    {
     "cell_type": "code",
     "collapsed": false,
     "input": [
      "write_test_file('fixed_NMF.csv',NMF_cluster)"
     ],
     "language": "python",
     "metadata": {},
     "outputs": [],
     "prompt_number": 17
    }
   ],
   "metadata": {}
  }
 ]
}