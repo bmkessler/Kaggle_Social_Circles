{
 "metadata": {
  "name": ""
 },
 "nbformat": 3,
 "nbformat_minor": 0,
 "worksheets": [
  {
   "cells": [
    {
     "cell_type": "code",
     "collapsed": false,
     "input": [
      "%matplotlib inline\n",
      "import networkx as nx\n",
      "from utility_funcs import readcirclefile, read_nodeadjlist, cost_function\n",
      "import os\n",
      "import sklearn.cluster\n",
      "from sklearn.ensemble import RandomForestClassifier\n",
      "import itertools"
     ],
     "language": "python",
     "metadata": {},
     "outputs": [],
     "prompt_number": 1
    },
    {
     "cell_type": "markdown",
     "metadata": {},
     "source": [
      "Compute the overlap of each circle in a dictonary by computing the maximum intersection with any other circle divided by the size of circle"
     ]
    },
    {
     "cell_type": "code",
     "collapsed": false,
     "input": [
      "def compute_circle_overlaps(circles):\n",
      "    return [max([len(set(circle1).intersection(set(circle2))) for label1,circle1 in circles.items() if label1 != label2])*1./len(circle2) for label2,circle2 in circles.items()]"
     ],
     "language": "python",
     "metadata": {},
     "outputs": [],
     "prompt_number": 2
    },
    {
     "cell_type": "markdown",
     "metadata": {},
     "source": [
      "An example calculation on user 345"
     ]
    },
    {
     "cell_type": "code",
     "collapsed": false,
     "input": [
      "ego = 345\n",
      "true_circles = readcirclefile('./Training/'+str(ego)+'.circles')\n",
      "compute_circle_overlaps(true_circles)"
     ],
     "language": "python",
     "metadata": {},
     "outputs": [
      {
       "metadata": {},
       "output_type": "pyout",
       "prompt_number": 3,
       "text": [
        "[0.1,\n",
        " 0.034482758620689655,\n",
        " 0.8333333333333334,\n",
        " 0.2962962962962963,\n",
        " 0.125,\n",
        " 0.7142857142857143,\n",
        " 0.1702127659574468]"
       ]
      }
     ],
     "prompt_number": 3
    },
    {
     "cell_type": "code",
     "collapsed": false,
     "input": [
      "trainingfiles = os.listdir('./Training/')\n",
      "\n",
      "all_circles = dict()\n",
      "\n",
      "for item in trainingfiles:\n",
      "    ego = int((item.split('.')[0]))\n",
      "    all_circles[ego] = readcirclefile('./Training/'+item)"
     ],
     "language": "python",
     "metadata": {},
     "outputs": [],
     "prompt_number": 4
    },
    {
     "cell_type": "code",
     "collapsed": false,
     "input": [
      "all_overlaps = [compute_circle_overlaps(circle) for circle in all_circles.values()]\n",
      "flattened_overlaps = list(itertools.chain.from_iterable(all_overlaps))\n",
      "hist(flattened_overlaps)\n",
      "show()"
     ],
     "language": "python",
     "metadata": {},
     "outputs": [
      {
       "metadata": {},
       "output_type": "display_data",
       "png": "[encoded data removed]",
       "text": [
        "<matplotlib.figure.Figure at 0xd9a3470>"
       ]
      }
     ],
     "prompt_number": 5
    },
    {
     "cell_type": "code",
     "collapsed": false,
     "input": [
      "np.percentile(flattened_overlaps,75)"
     ],
     "language": "python",
     "metadata": {},
     "outputs": [
      {
       "metadata": {},
       "output_type": "pyout",
       "prompt_number": 6,
       "text": [
        "0.81876456876456882"
       ]
      }
     ],
     "prompt_number": 6
    },
    {
     "cell_type": "code",
     "collapsed": false,
     "input": [
      "cdf_x = np.sort(flattened_overlaps)\n",
      "yvals=np.arange(len(cdf_x))/float(len(cdf_x))\n",
      "plt.plot( cdf_x, yvals )\n",
      "plt.show()"
     ],
     "language": "python",
     "metadata": {},
     "outputs": [
      {
       "metadata": {},
       "output_type": "display_data",
       "png": "[encoded data removed]",
       "text": [
        "<matplotlib.figure.Figure at 0xda99890>"
       ]
      }
     ],
     "prompt_number": 7
    },
    {
     "cell_type": "code",
     "collapsed": false,
     "input": [
      "total_circle_count = len(flattened_overlaps)\n",
      "disjoint_circle_count = flattened_overlaps.count(0)\n",
      "fully_nested_circle_count = flattened_overlaps.count(1)\n",
      "partial_nested_circle_count = total_circle_count - disjoint_circle_count - fully_nested_circle_count\n",
      "\n",
      "print 'Disjoint: {:.0f} Fully Nested: {:.0f} Partially Nested: {:.0f}'.format(disjoint_circle_count, fully_nested_circle_count,partial_nested_circle_count)\n",
      "print 'Disjoint: {:.2%} Fully Nested: {:.2%} Partially Nested: {:.2%}'.format( disjoint_circle_count*1./total_circle_count, fully_nested_circle_count*1./total_circle_count,partial_nested_circle_count*1./total_circle_count)"
     ],
     "language": "python",
     "metadata": {},
     "outputs": [
      {
       "output_type": "stream",
       "stream": "stdout",
       "text": [
        "Disjoint: 95 Fully Nested: 86 Partially Nested: 411\n",
        "Disjoint: 16.05% Fully Nested: 14.53% Partially Nested: 69.43%\n"
       ]
      }
     ],
     "prompt_number": 8
    },
    {
     "cell_type": "markdown",
     "metadata": {},
     "source": [
      "However, with each full nesting, we should remove the partial score from the result for the parent to get a true picture of the ammount of partial nesting.  That is each fully nested result accounts for a partially nested result.  Find ones and eliminate the columns with those results in them."
     ]
    },
    {
     "cell_type": "code",
     "collapsed": false,
     "input": [
      "ego = 345\n",
      "true_circles = readcirclefile('./Training/'+str(ego)+'.circles')\n",
      "G = read_nodeadjlist('./egonets/'+str(ego)+'.egonet')\n",
      "friends = set(G.nodes())\n",
      "print len(friends)\n",
      "print compute_circle_overlaps(true_circles)\n",
      "out = dict()\n",
      "for label,circle in true_circles.items():\n",
      "    newcircle = set(circle)\n",
      "    for plabel,pcircle in out.items():\n",
      "        newcircle = newcircle.difference(set(pcircle))\n",
      "    if len(newcircle)>0:\n",
      "        out[label] = list(newcircle)\n",
      "out['no_circle'] = list(friends.difference(*map(set,out.values())))\n",
      "print out\n",
      "print compute_circle_overlaps(out)\n",
      "friends.difference(*map(set,out.values()))\n"
     ],
     "language": "python",
     "metadata": {},
     "outputs": [
      {
       "output_type": "stream",
       "stream": "stdout",
       "text": [
        "265\n",
        "[0.1, 0.034482758620689655, 0.8333333333333334, 0.2962962962962963, 0.125, 0.7142857142857143, 0.1702127659574468]\n",
        "{'no_circle': [524, 537, 544, 555, 583, 609, 348, 369, 370, 399, 414, 493, 494, 508], 20: [512, 521, 394, 523, 535, 538, 413, 410, 543, 416, 417, 431, 562, 436, 565, 570, 578, 454, 353, 588, 462, 594, 349, 481, 610, 489, 362, 497, 376, 541], 22: [514, 516, 517, 518, 519, 520, 522, 525, 527, 528, 531, 534, 539, 540, 542, 545, 546, 547, 550, 554, 556, 557, 558, 560, 561, 566, 568, 569, 572, 573, 575, 577, 580, 582, 584, 585, 586, 589, 590, 592, 593, 595, 600, 603, 604, 605, 606, 608, 346, 347, 350, 352, 355, 356, 357, 358, 363, 364, 366, 368, 371, 372, 373, 374, 375, 377, 378, 379, 381, 382, 384, 385, 388, 389, 390, 392, 393, 395, 396, 397, 400, 403, 405, 406, 409, 412, 415, 419, 420, 421, 422, 425, 426, 427, 429, 430, 434, 435, 438, 439, 441, 442, 444, 446, 447, 448, 450, 451, 456, 457, 458, 459, 460, 461, 464, 465, 466, 468, 469, 470, 471, 472, 473, 474, 475, 476, 477, 480, 484, 487, 488, 490, 491, 492, 495, 496, 498, 499, 501, 502, 504, 505, 506, 507, 509], 24: [408, 359, 548, 597, 463], 26: [513, 401, 402, 404, 536, 559, 432, 563, 567, 445, 574, 576, 587, 591, 467, 601, 602, 479, 354, 483, 529, 367, 500, 380], 27: [449, 482, 515, 455, 553, 428, 365, 526, 418, 596, 533, 398, 443, 351], 29: [386, 387, 391, 530, 532, 407, 411, 453, 549, 423, 424, 433, 564, 437, 440, 571, 579, 452, 581, 598, 599, 478, 607, 485, 486, 360, 361, 551, 552, 503, 383, 510, 511]}\n",
        "[0.0, 0.0, 0.0, 0.0, 0.0, 0.0, 0.0]\n"
       ]
      },
      {
       "metadata": {},
       "output_type": "pyout",
       "prompt_number": 9,
       "text": [
        "set()"
       ]
      }
     ],
     "prompt_number": 9
    },
    {
     "cell_type": "code",
     "collapsed": false,
     "input": [
      "set([1,2,3,4]).difference(set([1,2,5,6]\n",
      "                              ))"
     ],
     "language": "python",
     "metadata": {},
     "outputs": [
      {
       "metadata": {},
       "output_type": "pyout",
       "prompt_number": 10,
       "text": [
        "{3, 4}"
       ]
      }
     ],
     "prompt_number": 10
    },
    {
     "cell_type": "code",
     "collapsed": false,
     "input": [
      "len(list(itertools.chain.from_iterable(out.values())))"
     ],
     "language": "python",
     "metadata": {},
     "outputs": [
      {
       "metadata": {},
       "output_type": "pyout",
       "prompt_number": 11,
       "text": [
        "265"
       ]
      }
     ],
     "prompt_number": 11
    },
    {
     "cell_type": "code",
     "collapsed": false,
     "input": [
      "len(friends.difference(*map(set,out.values())))"
     ],
     "language": "python",
     "metadata": {},
     "outputs": [
      {
       "metadata": {},
       "output_type": "pyout",
       "prompt_number": 12,
       "text": [
        "0"
       ]
      }
     ],
     "prompt_number": 12
    },
    {
     "cell_type": "code",
     "collapsed": false,
     "input": [
      "len(friends)"
     ],
     "language": "python",
     "metadata": {},
     "outputs": [
      {
       "metadata": {},
       "output_type": "pyout",
       "prompt_number": 13,
       "text": [
        "265"
       ]
      }
     ],
     "prompt_number": 13
    },
    {
     "cell_type": "code",
     "collapsed": false,
     "input": [
      "def convert_nested_circles_to_partition(circles,G):\n",
      "    friends = set(G.nodes())\n",
      "    out = dict()\n",
      "    for label,circle in circles.items():\n",
      "        newcircle = set(circle)\n",
      "        for plabel,pcircle in out.items():\n",
      "            newcircle = newcircle.difference(set(pcircle))\n",
      "        if len(newcircle)>0:\n",
      "            out[label] = list(newcircle)\n",
      "    no_circle = list(friends.difference(*map(set,out.values())))\n",
      "    if len(no_circle)>0:\n",
      "        out['no_circle'] = no_circle\n",
      "    return out"
     ],
     "language": "python",
     "metadata": {},
     "outputs": [
      {
       "output_type": "stream",
       "stream": "stdout",
       "text": [
        "\n"
       ]
      }
     ],
     "prompt_number": 24
    },
    {
     "cell_type": "code",
     "collapsed": false,
     "input": [
      "convert_nested_circles_to_partition(true_circles,G)"
     ],
     "language": "python",
     "metadata": {},
     "outputs": [
      {
       "metadata": {},
       "output_type": "pyout",
       "prompt_number": 15,
       "text": [
        "{20: [512,\n",
        "  521,\n",
        "  394,\n",
        "  523,\n",
        "  535,\n",
        "  538,\n",
        "  413,\n",
        "  410,\n",
        "  543,\n",
        "  416,\n",
        "  417,\n",
        "  431,\n",
        "  562,\n",
        "  436,\n",
        "  565,\n",
        "  570,\n",
        "  578,\n",
        "  454,\n",
        "  353,\n",
        "  588,\n",
        "  462,\n",
        "  594,\n",
        "  349,\n",
        "  481,\n",
        "  610,\n",
        "  489,\n",
        "  362,\n",
        "  497,\n",
        "  376,\n",
        "  541],\n",
        " 22: [514,\n",
        "  516,\n",
        "  517,\n",
        "  518,\n",
        "  519,\n",
        "  520,\n",
        "  522,\n",
        "  525,\n",
        "  527,\n",
        "  528,\n",
        "  531,\n",
        "  534,\n",
        "  539,\n",
        "  540,\n",
        "  542,\n",
        "  545,\n",
        "  546,\n",
        "  547,\n",
        "  550,\n",
        "  554,\n",
        "  556,\n",
        "  557,\n",
        "  558,\n",
        "  560,\n",
        "  561,\n",
        "  566,\n",
        "  568,\n",
        "  569,\n",
        "  572,\n",
        "  573,\n",
        "  575,\n",
        "  577,\n",
        "  580,\n",
        "  582,\n",
        "  584,\n",
        "  585,\n",
        "  586,\n",
        "  589,\n",
        "  590,\n",
        "  592,\n",
        "  593,\n",
        "  595,\n",
        "  600,\n",
        "  603,\n",
        "  604,\n",
        "  605,\n",
        "  606,\n",
        "  608,\n",
        "  346,\n",
        "  347,\n",
        "  350,\n",
        "  352,\n",
        "  355,\n",
        "  356,\n",
        "  357,\n",
        "  358,\n",
        "  363,\n",
        "  364,\n",
        "  366,\n",
        "  368,\n",
        "  371,\n",
        "  372,\n",
        "  373,\n",
        "  374,\n",
        "  375,\n",
        "  377,\n",
        "  378,\n",
        "  379,\n",
        "  381,\n",
        "  382,\n",
        "  384,\n",
        "  385,\n",
        "  388,\n",
        "  389,\n",
        "  390,\n",
        "  392,\n",
        "  393,\n",
        "  395,\n",
        "  396,\n",
        "  397,\n",
        "  400,\n",
        "  403,\n",
        "  405,\n",
        "  406,\n",
        "  409,\n",
        "  412,\n",
        "  415,\n",
        "  419,\n",
        "  420,\n",
        "  421,\n",
        "  422,\n",
        "  425,\n",
        "  426,\n",
        "  427,\n",
        "  429,\n",
        "  430,\n",
        "  434,\n",
        "  435,\n",
        "  438,\n",
        "  439,\n",
        "  441,\n",
        "  442,\n",
        "  444,\n",
        "  446,\n",
        "  447,\n",
        "  448,\n",
        "  450,\n",
        "  451,\n",
        "  456,\n",
        "  457,\n",
        "  458,\n",
        "  459,\n",
        "  460,\n",
        "  461,\n",
        "  464,\n",
        "  465,\n",
        "  466,\n",
        "  468,\n",
        "  469,\n",
        "  470,\n",
        "  471,\n",
        "  472,\n",
        "  473,\n",
        "  474,\n",
        "  475,\n",
        "  476,\n",
        "  477,\n",
        "  480,\n",
        "  484,\n",
        "  487,\n",
        "  488,\n",
        "  490,\n",
        "  491,\n",
        "  492,\n",
        "  495,\n",
        "  496,\n",
        "  498,\n",
        "  499,\n",
        "  501,\n",
        "  502,\n",
        "  504,\n",
        "  505,\n",
        "  506,\n",
        "  507,\n",
        "  509],\n",
        " 24: [408, 359, 548, 597, 463],\n",
        " 26: [513,\n",
        "  401,\n",
        "  402,\n",
        "  404,\n",
        "  536,\n",
        "  559,\n",
        "  432,\n",
        "  563,\n",
        "  567,\n",
        "  445,\n",
        "  574,\n",
        "  576,\n",
        "  587,\n",
        "  591,\n",
        "  467,\n",
        "  601,\n",
        "  602,\n",
        "  479,\n",
        "  354,\n",
        "  483,\n",
        "  529,\n",
        "  367,\n",
        "  500,\n",
        "  380],\n",
        " 27: [449, 482, 515, 455, 553, 428, 365, 526, 418, 596, 533, 398, 443, 351],\n",
        " 29: [386,\n",
        "  387,\n",
        "  391,\n",
        "  530,\n",
        "  532,\n",
        "  407,\n",
        "  411,\n",
        "  453,\n",
        "  549,\n",
        "  423,\n",
        "  424,\n",
        "  433,\n",
        "  564,\n",
        "  437,\n",
        "  440,\n",
        "  571,\n",
        "  579,\n",
        "  452,\n",
        "  581,\n",
        "  598,\n",
        "  599,\n",
        "  478,\n",
        "  607,\n",
        "  485,\n",
        "  486,\n",
        "  360,\n",
        "  361,\n",
        "  551,\n",
        "  552,\n",
        "  503,\n",
        "  383,\n",
        "  510,\n",
        "  511],\n",
        " 'no_circle': [524,\n",
        "  537,\n",
        "  544,\n",
        "  555,\n",
        "  583,\n",
        "  609,\n",
        "  348,\n",
        "  369,\n",
        "  370,\n",
        "  399,\n",
        "  414,\n",
        "  493,\n",
        "  494,\n",
        "  508]}"
       ]
      }
     ],
     "prompt_number": 15
    },
    {
     "cell_type": "code",
     "collapsed": false,
     "input": [
      "print compute_circle_overlaps(true_circles)\n",
      "print compute_circle_overlaps(convert_nested_circles_to_partition(true_circles,G))"
     ],
     "language": "python",
     "metadata": {},
     "outputs": [
      {
       "output_type": "stream",
       "stream": "stdout",
       "text": [
        "[0.1, 0.034482758620689655, 0.8333333333333334, 0.2962962962962963, 0.125, 0.7142857142857143, 0.1702127659574468]\n",
        "[0.0, 0.0, 0.0, 0.0, 0.0, 0.0, 0.0]\n"
       ]
      }
     ],
     "prompt_number": 25
    },
    {
     "cell_type": "code",
     "collapsed": false,
     "input": [
      "all_partitions = dict()\n",
      "\n",
      "for ego, circles in all_circles.items():\n",
      "    G = read_nodeadjlist('./egonets/'+str(ego)+'.egonet')\n",
      "    all_partitions[ego] = convert_nested_circles_to_partition(circles,G)"
     ],
     "language": "python",
     "metadata": {},
     "outputs": [],
     "prompt_number": 26
    },
    {
     "cell_type": "code",
     "collapsed": false,
     "input": [
      "for ego,part in all_partitions.items():\n",
      "    print ego, compute_circle_overlaps(part)"
     ],
     "language": "python",
     "metadata": {},
     "outputs": [
      {
       "output_type": "stream",
       "stream": "stdout",
       "text": [
        "12800 [0.0, 0.0, 0.0, 0.0, 0.0, 0.0, 0.0, 0.0, 0.0, 0.0, 0.0, 0.0]\n",
        "16642 [0.0, 0.0, 0.0, 0.0, 0.0, 0.0, 0.0, 0.0, 0.0, 0.0]\n",
        "23299 [0.0, 0.0, 0.0, 0.0, 0.0, 0.0, 0.0, 0.0, 0.0, 0.0, 0.0, 0.0, 0.0, 0.0, 0.0, 0.0]\n",
        "11014 [0.0, 0.0, 0.0, 0.0, 0.0, 0.0, 0.0, 0.0, 0.0, 0.0, 0.0]\n",
        "18543 [0.0, 0.0, 0.0, 0.0, 0.0, 0.0]\n",
        "6413 [0.0, 0.0, 0.0, 0.0]\n",
        "27022 [0.0, 0.0, 0.0, 0.0, 0.0]\n",
        "9103 [0.0, 0.0, 0.0, 0.0, 0.0, 0.0, 0.0, 0.0, 0.0]\n",
        "11410 [0.0, 0.0, 0.0, 0.0, 0.0, 0.0, 0.0, 0.0, 0.0, 0.0]\n",
        "3735 [0.0, 0.0, 0.0, 0.0, 0.0, 0.0, 0.0, 0.0, 0.0, 0.0, 0.0, 0.0, 0.0, 0.0, 0.0, 0.0, 0.0, 0.0, 0.0]\n",
        "24857 [0.0, 0.0, 0.0, 0.0, 0.0, 0.0, 0.0, 0.0, 0.0]\n",
        "8239 [0.0, 0.0, 0.0, 0.0, 0.0, 0.0]\n",
        "17951 [0.0, 0.0, 0.0, 0.0, 0.0]\n",
        "2895 [0.0, 0.0, 0.0, 0.0, 0.0, 0.0]\n",
        "10395 [0.0, 0.0, 0.0, 0.0, 0.0, 0.0, 0.0, 0.0]\n",
        "8100 [0.0, 0.0, 0.0, 0.0, 0.0, 0.0, 0.0, 0.0, 0.0]\n",
        "16378 [0.0, 0.0, 0.0, 0.0, 0.0, 0.0]\n",
        "22824 [0.0, 0.0, 0.0, 0.0, 0.0, 0.0, 0.0, 0.0, 0.0, 0.0, 0.0, 0.0]\n",
        "13353 [0.0, 0.0, 0.0, 0.0]\n",
        "9642 [0.0, 0.0, 0.0, 0.0, 0.0, 0.0, 0.0, 0.0, 0.0, 0.0, 0.0, 0.0, 0.0]\n",
        "25773 [0.0, 0.0, 0.0, 0.0, 0.0, 0.0, 0.0, 0.0, 0.0, 0.0]\n",
        "1839 [0.0, 0.0, 0.0, 0.0, 0.0, 0.0, 0.0, 0.0]\n",
        "1968 [0.0, 0.0, 0.0, 0.0, 0.0, 0.0, 0.0, 0.0, 0.0, 0.0, 0.0, 0.0, 0.0]\n",
        "10929 [0.0, 0.0, 0.0, 0.0, 0.0, 0.0, 0.0]\n",
        "11186 [0.0, 0.0, 0.0, 0.0, 0.0, 0.0, 0.0, 0.0, 0.0, 0.0]\n",
        "3059 [0.0, 0.0, 0.0, 0.0, 0.0, 0.0, 0.0, 0.0, 0.0, 0.0, 0.0, 0.0]\n",
        "24758 [0.0, 0.0, 0.0, 0.0, 0.0, 0.0]\n",
        "2738 [0.0, 0.0, 0.0, 0.0, 0.0]\n",
        "15672 [0.0, 0.0, 0.0, 0.0, 0.0, 0.0, 0.0, 0.0, 0.0, 0.0, 0.0, 0.0, 0.0, 0.0, 0.0, 0.0, 0.0, 0.0, 0.0, 0.0, 0.0, 0.0, 0.0, 0.0, 0.0]\n",
        "19129 [0.0, 0.0, 0.0, 0.0, 0.0, 0.0]\n",
        "2365 [0.0, 0.0, 0.0, 0.0, 0.0, 0.0, 0.0, 0.0, 0.0]\n",
        "4406 [0.0, 0.0, 0.0, 0.0, 0.0, 0.0, 0.0, 0.0, 0.0, 0.0, 0.0, 0.0, 0.0, 0.0, 0.0, 0.0, 0.0, 0.0]\n",
        "6726 [0.0, 0.0, 0.0, 0.0, 0.0]\n",
        "25159 [0.0, 0.0, 0.0, 0.0, 0.0, 0.0, 0.0, 0.0, 0.0, 0.0]\n",
        "8777 [0.0, 0.0, 0.0, 0.0, 0.0, 0.0]\n",
        "16203 [0.0, 0.0, 0.0, 0.0, 0.0]\n",
        "19788 [0.0, 0.0, 0.0, 0.0, 0.0, 0.0, 0.0, 0.0, 0.0, 0.0, 0.0, 0.0, 0.0, 0.0, 0.0, 0.0]\n",
        "1357 [0.0, 0.0, 0.0, 0.0, 0.0, 0.0, 0.0, 0.0, 0.0, 0.0]\n",
        "2255 [0.0, 0.0, 0.0]\n",
        "26321 [0.0, 0.0, 0.0, 0.0, 0.0, 0.0, 0.0]\n",
        "18005 [0.0, 0.0, 0.0, 0.0]\n",
        "345 [0.0, 0.0, 0.0, 0.0, 0.0, 0.0, 0.0]\n",
        "9947 [0.0, 0.0, 0.0, 0.0, 0.0, 0.0, 0.0, 0.0, 0.0, 0.0, 0.0, 0.0, 0.0, 0.0]\n",
        "5212 [0.0, 0.0, 0.0, 0.0, 0.0, 0.0, 0.0, 0.0, 0.0, 0.0, 0.0, 0.0, 0.0, 0.0, 0.0, 0.0]\n",
        "13789 [0.0, 0.0, 0.0, 0.0, 0.0, 0.0, 0.0, 0.0, 0.0, 0.0, 0.0, 0.0]\n",
        "25568 [0.0, 0.0, 0.0, 0.0, 0.0, 0.0, 0.0, 0.0, 0.0, 0.0, 0.0, 0.0, 0.0]\n",
        "611 [0.0, 0.0, 0.0, 0.0, 0.0, 0.0, 0.0, 0.0, 0.0, 0.0, 0.0]\n",
        "11364 [0.0, 0.0, 0.0, 0.0]\n",
        "16869 [0.0, 0.0, 0.0, 0.0, 0.0, 0.0]\n",
        "2790 [0.0, 0.0, 0.0, 0.0, 0.0, 0.0]\n",
        "8553 [0.0, 0.0, 0.0, 0.0, 0.0, 0.0, 0.0, 0.0, 0.0, 0.0, 0.0]\n",
        "239 [0.0, 0.0, 0.0, 0.0, 0.0]\n",
        "7667 [0.0, 0.0, 0.0, 0.0, 0.0, 0.0]\n",
        "23157 [0.0, 0.0, 0.0, 0.0, 0.0, 0.0, 0.0, 0.0, 0.0, 0.0]\n",
        "5494 [0.0, 0.0, 0.0, 0.0, 0.0, 0.0, 0.0, 0.0, 0.0, 0.0, 0.0]\n",
        "9846 [0.0, 0.0, 0.0, 0.0, 0.0, 0.0, 0.0, 0.0, 0.0, 0.0]\n",
        "5881 [0.0, 0.0, 0.0, 0.0, 0.0, 0.0, 0.0]\n",
        "22650 [0.0, 0.0, 0.0, 0.0, 0.0, 0.0, 0.0, 0.0, 0.0, 0.0, 0.0, 0.0, 0.0]\n",
        "26492 [0.0, 0.0, 0.0, 0.0, 0.0, 0.0, 0.0, 0.0, 0.0, 0.0, 0.0, 0.0, 0.0, 0.0, 0.0, 0.0, 0.0]\n",
        "4829 [0.0, 0.0, 0.0, 0.0, 0.0, 0.0, 0.0, 0.0, 0.0]\n"
       ]
      }
     ],
     "prompt_number": 27
    },
    {
     "cell_type": "code",
     "collapsed": false,
     "input": [
      "def compute_training_score(cluster_function):\n",
      "    trainingfiles = os.listdir('./Training/')\n",
      "    pred_score = {}\n",
      "    \n",
      "    for item in trainingfiles:\n",
      "        ego = int((item.split('.')[0]))\n",
      "        true_circles = readcirclefile('./Training/'+item)\n",
      "        pred_circles = cluster_function(ego)\n",
      "        for key,val in pred_circles.items():\n",
      "                if ego in val:\n",
      "                    pred_circles[key].remove(ego)\n",
      "        pred_score[ego] = cost_function(pred_circles,true_circles)\n",
      "    return pred_score"
     ],
     "language": "python",
     "metadata": {},
     "outputs": [],
     "prompt_number": 28
    },
    {
     "cell_type": "code",
     "collapsed": false,
     "input": [
      "def part_from_true(ego):\n",
      "    G = read_nodeadjlist('./egonets/'+str(ego)+'.egonet')\n",
      "    true_circles = readcirclefile('./Training/'+str(ego)+'.circles')\n",
      "    return convert_nested_circles_to_partition(true_circles,G)"
     ],
     "language": "python",
     "metadata": {},
     "outputs": [],
     "prompt_number": 30
    },
    {
     "cell_type": "code",
     "collapsed": false,
     "input": [
      "part_score = compute_training_score(part_from_true)\n",
      "for ego,score in part_score.items():\n",
      "    print ego,score\n",
      "print sum(part_score.values())"
     ],
     "language": "python",
     "metadata": {},
     "outputs": [
      {
       "output_type": "stream",
       "stream": "stdout",
       "text": [
        "12800 396\n",
        "16642 247\n",
        "23299 46\n",
        "11014 63\n",
        "8239 21\n",
        "6413 211\n",
        "27022 200\n",
        "239 6\n",
        "11410 28\n",
        "22650 23\n",
        "3735 549\n",
        "24857 23\n",
        "10395 54\n",
        "17951 32\n",
        "9947 95\n",
        "8100 56\n",
        "22824 150\n",
        "13353 94\n",
        "9642 268\n",
        "25773 133\n",
        "1839 92\n",
        "1968 133\n",
        "10929 7\n",
        "11186 397\n",
        "7667 115\n",
        "24758 19\n",
        "2738 26\n",
        "15672 462\n",
        "19129 37\n",
        "2365 57\n",
        "4406 653\n",
        "6726 10\n",
        "25159 140\n",
        "8777 221\n",
        "16203 12\n",
        "19788 99\n",
        "1357 403\n",
        "2255 61\n",
        "26321 105\n",
        "18005 499\n",
        "345 41\n",
        "2895 40\n",
        "5212 310\n",
        "13789 71\n",
        "25568 125\n",
        "611 91\n",
        "11364 21\n",
        "16869 35\n",
        "2790 91\n",
        "8553 11\n",
        "18543 25\n",
        "9103 27\n",
        "3059 185\n",
        "23157 214\n",
        "5494 155\n",
        "9846 95\n",
        "5881 368\n",
        "16378 163\n",
        "26492 53\n",
        "4829 114\n",
        "8478\n"
       ]
      }
     ],
     "prompt_number": 33
    },
    {
     "cell_type": "code",
     "collapsed": false,
     "input": [],
     "language": "python",
     "metadata": {},
     "outputs": []
    }
   ],
   "metadata": {}
  }
 ]
}