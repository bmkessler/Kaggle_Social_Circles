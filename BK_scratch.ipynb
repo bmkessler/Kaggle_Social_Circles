{
 "metadata": {
  "name": ""
 },
 "nbformat": 3,
 "nbformat_minor": 0,
 "worksheets": [
  {
   "cells": [
    {
     "cell_type": "code",
     "collapsed": false,
     "input": [
      "%matplotlib inline\n",
      "import networkx as nx"
     ],
     "language": "python",
     "metadata": {},
     "outputs": [],
     "prompt_number": 1
    },
    {
     "cell_type": "code",
     "collapsed": false,
     "input": [
      "def readfeaturelist(filename):\n",
      "    \"\"\"\n",
      "    reads a featurelist file and returns a list of the feature names\n",
      "    \"\"\"\n",
      "    with open(filename) as f:\n",
      "        out = []        # list of feature names\n",
      "        for line in f:\n",
      "            out.append(line.strip())\n",
      "        return out"
     ],
     "language": "python",
     "metadata": {},
     "outputs": [],
     "prompt_number": 2
    },
    {
     "cell_type": "code",
     "collapsed": false,
     "input": [
      "features = readfeaturelist('featureList.txt')"
     ],
     "language": "python",
     "metadata": {},
     "outputs": [],
     "prompt_number": 3
    },
    {
     "cell_type": "code",
     "collapsed": false,
     "input": [
      "features"
     ],
     "language": "python",
     "metadata": {},
     "outputs": [
      {
       "metadata": {},
       "output_type": "pyout",
       "prompt_number": 4,
       "text": [
        "['birthday',\n",
        " 'education;classes;description',\n",
        " 'education;classes;from;id',\n",
        " 'education;classes;from;name',\n",
        " 'education;classes;id',\n",
        " 'education;classes;name',\n",
        " 'education;classes;with;id',\n",
        " 'education;classes;with;name',\n",
        " 'education;concentration;id',\n",
        " 'education;concentration;name',\n",
        " 'education;degree;id',\n",
        " 'education;degree;name',\n",
        " 'education;school;id',\n",
        " 'education;school;name',\n",
        " 'education;type',\n",
        " 'education;with;id',\n",
        " 'education;with;name',\n",
        " 'education;year;id',\n",
        " 'education;year;name',\n",
        " 'first_name',\n",
        " 'gender',\n",
        " 'hometown;id',\n",
        " 'hometown;name',\n",
        " 'id',\n",
        " 'languages;id',\n",
        " 'languages;name',\n",
        " 'last_name',\n",
        " 'locale',\n",
        " 'location',\n",
        " 'location;id',\n",
        " 'location;name',\n",
        " 'middle_name',\n",
        " 'name',\n",
        " 'political',\n",
        " 'religion',\n",
        " 'work;description',\n",
        " 'work;employer;id',\n",
        " 'work;employer;name',\n",
        " 'work;end_date',\n",
        " 'work;from;id',\n",
        " 'work;from;name',\n",
        " 'work;location;id',\n",
        " 'work;location;name',\n",
        " 'work;position;id',\n",
        " 'work;position;name',\n",
        " 'work;projects;description',\n",
        " 'work;projects;end_date',\n",
        " 'work;projects;from;id',\n",
        " 'work;projects;from;name',\n",
        " 'work;projects;id',\n",
        " 'work;projects;name',\n",
        " 'work;projects;start_date',\n",
        " 'work;projects;with;id',\n",
        " 'work;projects;with;name',\n",
        " 'work;start_date',\n",
        " 'work;with;id',\n",
        " 'work;with;name']"
       ]
      }
     ],
     "prompt_number": 4
    },
    {
     "cell_type": "code",
     "collapsed": false,
     "input": [
      "def readfeatures(featurefile):\n",
      "    \"\"\"\n",
      "    reads a featurefile consisting of userid feature;value feature;value\n",
      "    returns a list where index is user id, elements are dictionaries \n",
      "    of features as keys pointing to list of values maybe should be sets\n",
      "    \"\"\"\n",
      "    with open(featurefile) as f:\n",
      "        out = [] \n",
      "        for line in f:\n",
      "            tokens = line.split()\n",
      "            profile = {}  # empty profile for the user\n",
      "            for tok in tokens[1:]:\n",
      "                feature,val = tok.rsplit(';',1)\n",
      "                val = int(val)\n",
      "                if feature not in profile:\n",
      "                    profile[feature]=[val]\n",
      "                else:\n",
      "                    profile[feature].append(val)\n",
      "            out.append(profile)\n",
      "        for i in range(len(out)):\n",
      "            assert out[i]['id'][0] == i  # check that each line was read and placed in the correct place in the list\n",
      "        return out"
     ],
     "language": "python",
     "metadata": {},
     "outputs": [],
     "prompt_number": 25
    },
    {
     "cell_type": "code",
     "collapsed": false,
     "input": [
      "profile = readfeatures('features.txt')"
     ],
     "language": "python",
     "metadata": {},
     "outputs": [],
     "prompt_number": 26
    },
    {
     "cell_type": "code",
     "collapsed": false,
     "input": [
      "profile[3]"
     ],
     "language": "python",
     "metadata": {},
     "outputs": [
      {
       "metadata": {},
       "output_type": "pyout",
       "prompt_number": 24,
       "text": [
        "{'birthday': [3],\n",
        " 'education;concentration;id': [3],\n",
        " 'education;concentration;name': [3],\n",
        " 'education;school;id': [5, 6, 1],\n",
        " 'education;school;name': [5, 6, 1],\n",
        " 'education;type': [0, 1, 1],\n",
        " 'education;year;id': [0, 2, 1],\n",
        " 'education;year;name': [0, 2, 1],\n",
        " 'first_name': [3],\n",
        " 'gender': [1],\n",
        " 'hometown;id': [3],\n",
        " 'hometown;name': [3],\n",
        " 'id': [3],\n",
        " 'languages;id': [0, 1],\n",
        " 'languages;name': [0, 1],\n",
        " 'last_name': [3],\n",
        " 'locale': [0],\n",
        " 'location;id': [3],\n",
        " 'location;name': [3],\n",
        " 'name': [3],\n",
        " 'work;employer;id': [2],\n",
        " 'work;employer;name': [2],\n",
        " 'work;start_date': [2]}"
       ]
      }
     ],
     "prompt_number": 24
    },
    {
     "cell_type": "code",
     "collapsed": false,
     "input": [
      "def featurematch(profile1,profile2,feature):\n",
      "    \"\"\"\n",
      "    returns how well profile1 and profile2 match on a given of feature\n",
      "    currently returns the number of items they have in common for that given feature\n",
      "    \"\"\"\n",
      "    return len(set(profile1[feature]).intersection(set(profile2[feature]))) if feature in profile1 and feature in profile2 else 0"
     ],
     "language": "python",
     "metadata": {},
     "outputs": [],
     "prompt_number": 14
    },
    {
     "cell_type": "code",
     "collapsed": false,
     "input": [
      "featurematch(profile[0],profile[1],'education;school;id')"
     ],
     "language": "python",
     "metadata": {},
     "outputs": [
      {
       "metadata": {},
       "output_type": "pyout",
       "prompt_number": 22,
       "text": [
        "1"
       ]
      }
     ],
     "prompt_number": 22
    },
    {
     "cell_type": "code",
     "collapsed": false,
     "input": [
      "def matchvector(profile1,profile2,featurelist):\n",
      "    \"\"\"\n",
      "    given two profiles and a featurelist, returns the similarity vector for the two\n",
      "    profiles where each entry is the number of entries they have in common for that feature\n",
      "    \"\"\"\n",
      "    out = []\n",
      "    for feature in featurelist:\n",
      "        out.append(featurematch(profile1,profile2,feature))\n",
      "    return out"
     ],
     "language": "python",
     "metadata": {},
     "outputs": [],
     "prompt_number": 27
    },
    {
     "cell_type": "code",
     "collapsed": false,
     "input": [
      "matchvector(profile[0],profile[1],features)"
     ],
     "language": "python",
     "metadata": {},
     "outputs": [
      {
       "metadata": {},
       "output_type": "pyout",
       "prompt_number": 28,
       "text": [
        "[0,\n",
        " 0,\n",
        " 0,\n",
        " 0,\n",
        " 0,\n",
        " 0,\n",
        " 0,\n",
        " 0,\n",
        " 0,\n",
        " 0,\n",
        " 0,\n",
        " 0,\n",
        " 1,\n",
        " 1,\n",
        " 2,\n",
        " 0,\n",
        " 0,\n",
        " 1,\n",
        " 1,\n",
        " 0,\n",
        " 0,\n",
        " 0,\n",
        " 0,\n",
        " 0,\n",
        " 0,\n",
        " 0,\n",
        " 0,\n",
        " 1,\n",
        " 0,\n",
        " 0,\n",
        " 0,\n",
        " 0,\n",
        " 0,\n",
        " 0,\n",
        " 0,\n",
        " 0,\n",
        " 0,\n",
        " 0,\n",
        " 0,\n",
        " 0,\n",
        " 0,\n",
        " 0,\n",
        " 0,\n",
        " 0,\n",
        " 0,\n",
        " 0,\n",
        " 0,\n",
        " 0,\n",
        " 0,\n",
        " 0,\n",
        " 0,\n",
        " 0,\n",
        " 0,\n",
        " 0,\n",
        " 0,\n",
        " 0,\n",
        " 0]"
       ]
      }
     ],
     "prompt_number": 28
    },
    {
     "cell_type": "code",
     "collapsed": false,
     "input": [
      "a=[1,2,4,5]\n",
      "b=[4,3,2,1]\n",
      "np.inner(a,b)"
     ],
     "language": "python",
     "metadata": {},
     "outputs": [
      {
       "metadata": {},
       "output_type": "pyout",
       "prompt_number": 4,
       "text": [
        "23"
       ]
      }
     ],
     "prompt_number": 4
    },
    {
     "cell_type": "code",
     "collapsed": false,
     "input": [
      "def weighteddotproduct(vector1,vector2,weight=None):\n",
      "    \"\"\"\n",
      "    returns the dot product of vector1 and vector2 with weight vector weight (normalized)\n",
      "    \"\"\"\n",
      "    if not weight:\n",
      "        weight = ones(len(vector1))\n",
      "    return np.inner(vector1,np.multiply(weight,vector2))/mean(weight)"
     ],
     "language": "python",
     "metadata": {},
     "outputs": [],
     "prompt_number": 16
    },
    {
     "cell_type": "code",
     "collapsed": false,
     "input": [
      "weighteddotproduct(a,a,b)"
     ],
     "language": "python",
     "metadata": {},
     "outputs": [
      {
       "metadata": {},
       "output_type": "pyout",
       "prompt_number": 8,
       "text": [
        "23.084626919229169"
       ]
      }
     ],
     "prompt_number": 8
    },
    {
     "cell_type": "code",
     "collapsed": false,
     "input": [
      "np.inner(b,a)"
     ],
     "language": "python",
     "metadata": {},
     "outputs": [
      {
       "metadata": {},
       "output_type": "pyout",
       "prompt_number": 9,
       "text": [
        "23"
       ]
      }
     ],
     "prompt_number": 9
    },
    {
     "cell_type": "code",
     "collapsed": false,
     "input": [
      "sqrt(sum(b))"
     ],
     "language": "python",
     "metadata": {},
     "outputs": [
      {
       "metadata": {},
       "output_type": "pyout",
       "prompt_number": 33,
       "text": [
        "3.1622776601683795"
       ]
      }
     ],
     "prompt_number": 33
    },
    {
     "cell_type": "code",
     "collapsed": false,
     "input": [
      "weighteddotproduct(b,b,a)"
     ],
     "language": "python",
     "metadata": {},
     "outputs": [
      {
       "metadata": {},
       "output_type": "pyout",
       "prompt_number": 17,
       "text": [
        "18.333333333333332"
       ]
      }
     ],
     "prompt_number": 17
    },
    {
     "cell_type": "code",
     "collapsed": false,
     "input": [
      "weighteddotproduct(b,b)"
     ],
     "language": "python",
     "metadata": {},
     "outputs": [
      {
       "metadata": {},
       "output_type": "pyout",
       "prompt_number": 18,
       "text": [
        "30.0"
       ]
      }
     ],
     "prompt_number": 18
    },
    {
     "cell_type": "code",
     "collapsed": false,
     "input": [
      "np.inner(b,b)"
     ],
     "language": "python",
     "metadata": {},
     "outputs": [
      {
       "metadata": {},
       "output_type": "pyout",
       "prompt_number": 19,
       "text": [
        "30"
       ]
      }
     ],
     "prompt_number": 19
    },
    {
     "cell_type": "code",
     "collapsed": false,
     "input": [],
     "language": "python",
     "metadata": {},
     "outputs": []
    }
   ],
   "metadata": {}
  }
 ]
}