{
 "metadata": {
  "name": ""
 },
 "nbformat": 3,
 "nbformat_minor": 0,
 "worksheets": [
  {
   "cells": [
    {
     "cell_type": "heading",
     "level": 1,
     "metadata": {},
     "source": [
      "Clustering coefficients for circles"
     ]
    },
    {
     "cell_type": "raw",
     "metadata": {},
     "source": [
      "We want to get an idea for the cluserting coefficient for circles. Let's start by looking at how clustering coefficients are distributed among the various circles in the training set."
     ]
    },
    {
     "cell_type": "code",
     "collapsed": false,
     "input": [
      "import networkx as nx\n",
      "\n",
      "def read_nodeadjlist(filename):\n",
      "  G = nx.Graph()\n",
      "  for line in open(filename):\n",
      "    e1, es = line.split(':')\n",
      "    # Add a node for the user.\n",
      "    G.add_node(int(e1))\n",
      "    es = es.split()\n",
      "    for e in es:\n",
      "      if e == e1: continue\n",
      "      G.add_edge(int(e1),int(e))\n",
      "  return G\n",
      "        \n",
      "def read_circles(filename):\n",
      "    result = dict()\n",
      "    for line in open(filename):\n",
      "        circleID, nodestring = line.split(':')\n",
      "        result[circleID] = map(int, nodestring.split())\n",
      "    return result"
     ],
     "language": "python",
     "metadata": {},
     "outputs": [],
     "prompt_number": 7
    },
    {
     "cell_type": "code",
     "collapsed": false,
     "input": [
      "import os\n",
      "import os.path\n",
      "\n",
      "egographs = dict()\n",
      "circles = dict()\n",
      "egodir = \"./egonets\"\n",
      "circledir = \"./Training\"\n",
      "for circlefile in os.listdir(circledir):\n",
      "    userID = os.path.splitext(circlefile)[0]\n",
      "    egographs[int(userID)] = read_nodeadjlist(os.path.join(egodir, userID + \".egonet\"))\n",
      "    circles[int(userID)] = read_circles(os.path.join(circledir, circlefile))"
     ],
     "language": "python",
     "metadata": {},
     "outputs": [],
     "prompt_number": 10
    },
    {
     "cell_type": "heading",
     "level": 2,
     "metadata": {},
     "source": [
      "First consider the average clustering coefficient for the entire egonet."
     ]
    },
    {
     "cell_type": "code",
     "collapsed": false,
     "input": [
      "def plot_hist_and_box(data):\n",
      "    figure(figsize(15, 5))\n",
      "    subplot(121)\n",
      "    hist(data)\n",
      "    subplot(122)\n",
      "    boxplot(data)"
     ],
     "language": "python",
     "metadata": {},
     "outputs": [],
     "prompt_number": 22
    },
    {
     "cell_type": "code",
     "collapsed": false,
     "input": [
      "avg_ccs = [nx.average_clustering(egograph) for egograph in egographs.values()]\n",
      "plot_hist_and_box(avg_ccs)"
     ],
     "language": "python",
     "metadata": {},
     "outputs": [
      {
       "metadata": {},
       "output_type": "display_data",
       "png": "[encoded data removed]",
       "text": [
        "<matplotlib.figure.Figure at 0x12344438>"
       ]
      }
     ],
     "prompt_number": 23
    },
    {
     "cell_type": "heading",
     "level": 2,
     "metadata": {},
     "source": [
      "Now look at the circles..."
     ]
    },
    {
     "cell_type": "code",
     "collapsed": false,
     "input": [
      "avg_cir_cc = list()\n",
      "for userID, circledict in circles.items():\n",
      "    egograph = egographs[userID]\n",
      "    for circleID, nodelist in circledict.items():\n",
      "        circlenet = egograph.subgraph(nodelist)\n",
      "        avg_cir_cc.append(nx.average_clustering(circlenet))"
     ],
     "language": "python",
     "metadata": {},
     "outputs": [],
     "prompt_number": 25
    },
    {
     "cell_type": "code",
     "collapsed": false,
     "input": [
      "plot_hist_and_box(avg_cir_cc)"
     ],
     "language": "python",
     "metadata": {},
     "outputs": [
      {
       "metadata": {},
       "output_type": "display_data",
       "png": "[encoded data removed]",
       "text": [
        "<matplotlib.figure.Figure at 0x9cf2c50>"
       ]
      }
     ],
     "prompt_number": 26
    },
    {
     "cell_type": "raw",
     "metadata": {},
     "source": [
      "Interesting. While the distribution is shifted to the right, it looks as though the circles do not exhibit siginificatly greater clustering than the egonets as a whole. Interestingly, there are a large proportion of circles with very low clustering coefficients. Hence, it may be difficult to discern circle purely through a clustering algorithm based soley on network topology."
     ]
    },
    {
     "cell_type": "code",
     "collapsed": false,
     "input": [],
     "language": "python",
     "metadata": {},
     "outputs": []
    }
   ],
   "metadata": {}
  }
 ]
}