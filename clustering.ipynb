{
 "metadata": {
  "name": ""
 },
 "nbformat": 3,
 "nbformat_minor": 0,
 "worksheets": [
  {
   "cells": [
    {
     "cell_type": "heading",
     "level": 1,
     "metadata": {},
     "source": [
      "Clustering coefficients for circles"
     ]
    },
    {
     "cell_type": "raw",
     "metadata": {},
     "source": [
      "We want to get an idea for the cluserting coefficient for circles. Let's start by looking at how clustering coefficients are distributed among the various circles in the training set."
     ]
    },
    {
     "cell_type": "code",
     "collapsed": false,
     "input": [
      "import networkx as nx\n",
      "import os.path"
     ],
     "language": "python",
     "metadata": {},
     "outputs": [],
     "prompt_number": 1
    },
    {
     "cell_type": "code",
     "collapsed": false,
     "input": [
      "def read_nodeadjlist(filename):\n",
      "  G = nx.Graph()\n",
      "  for line in open(filename):\n",
      "    e1, es = line.split(':')\n",
      "    # Add a node for the user.\n",
      "    G.add_node(int(e1))\n",
      "    es = es.split()\n",
      "    for e in es:\n",
      "      if e == e1: continue\n",
      "      G.add_edge(int(e1),int(e))\n",
      "  return G\n",
      "\n",
      "def read_circles(filename):\n",
      "    result = dict()\n",
      "    for line in open(filename):\n",
      "        circleID, nodestring = line.split(':')\n",
      "        result[circleID] = map(int, nodestring.split())\n",
      "    return result"
     ],
     "language": "python",
     "metadata": {},
     "outputs": [],
     "prompt_number": 2
    },
    {
     "cell_type": "code",
     "collapsed": false,
     "input": [
      "def read_egonet(filename):\n",
      "  G = nx.Graph()\n",
      "  #Add a node for the main user.\n",
      "  user_ID = int(os.path.basename(os.path.splitext(filename)[0]))\n",
      "  G.add_node(user_ID)\n",
      "  for line in open(filename):\n",
      "    e1, es = line.split(':')\n",
      "    # Add a node for the user, and an edge to main user.\n",
      "    G.add_node(int(e1))\n",
      "    G.add_edge(user_ID, int(e1))\n",
      "    es = es.split()\n",
      "    for e in es:\n",
      "      if e == e1: continue\n",
      "      G.add_edge(int(e1),int(e))\n",
      "  return G"
     ],
     "language": "python",
     "metadata": {},
     "outputs": [],
     "prompt_number": 3
    },
    {
     "cell_type": "code",
     "collapsed": false,
     "input": [
      "G2 = read_egonet('egonets/0.egonet')\n",
      "print len(nx.connected_component_subgraphs(G2))"
     ],
     "language": "python",
     "metadata": {},
     "outputs": [
      {
       "output_type": "stream",
       "stream": "stdout",
       "text": [
        "1\n"
       ]
      }
     ],
     "prompt_number": 6
    },
    {
     "cell_type": "code",
     "collapsed": false,
     "input": [
      "import os\n",
      "import os.path\n",
      "\n",
      "egographs = dict()\n",
      "circles = dict()\n",
      "egodir = \"./egonets\"\n",
      "circledir = \"./Training\"\n",
      "for circlefile in os.listdir(circledir):\n",
      "    userID = os.path.splitext(circlefile)[0]\n",
      "    egographs[int(userID)] = read_nodeadjlist(os.path.join(egodir, userID + \".egonet\"))\n",
      "    circles[int(userID)] = read_circles(os.path.join(circledir, circlefile))"
     ],
     "language": "python",
     "metadata": {},
     "outputs": [],
     "prompt_number": 7
    },
    {
     "cell_type": "raw",
     "metadata": {},
     "source": [
      "Do this better: make a dict, indexted by userID, that produces a 2-tuple consisting of the egograph and a dict consisting of subgraphs representing the circles."
     ]
    },
    {
     "cell_type": "code",
     "collapsed": false,
     "input": [
      "import os\n",
      "import os.path\n",
      "egodir = './egonets'\n",
      "circledir = './Training'\n",
      "\n",
      "def read_training_set():\n",
      "    result = dict()\n",
      "    for circleFile in os.listdir(circledir):\n",
      "        userID = os.path.splitext(circleFile)[0]\n",
      "        egograph = read_nodeadjlist(os.path.join(egodir, userID + \".egonet\"))\n",
      "        circle_subgraphs = dict()\n",
      "        for circleID, nodelist in read_circles(os.path.join(circledir, circleFile)).items():\n",
      "            circle_subgraphs[circleID] = egograph.subgraph(nodelist)\n",
      "        result[userID] = (egograph, circle_subgraphs)\n",
      "    return result"
     ],
     "language": "python",
     "metadata": {},
     "outputs": [],
     "prompt_number": 39
    },
    {
     "cell_type": "code",
     "collapsed": false,
     "input": [
      "training_set = read_training_set()"
     ],
     "language": "python",
     "metadata": {},
     "outputs": [],
     "prompt_number": 40
    },
    {
     "cell_type": "heading",
     "level": 2,
     "metadata": {},
     "source": [
      "First consider the average clustering coefficient for the entire egonet."
     ]
    },
    {
     "cell_type": "code",
     "collapsed": false,
     "input": [
      "def plot_hist_and_box(data):\n",
      "    figure(figsize(15, 5))\n",
      "    subplot(121)\n",
      "    hist(data)\n",
      "    subplot(122)\n",
      "    boxplot(data)"
     ],
     "language": "python",
     "metadata": {},
     "outputs": [],
     "prompt_number": 8
    },
    {
     "cell_type": "code",
     "collapsed": false,
     "input": [
      "avg_ccs = [nx.average_clustering(egograph) for egograph in egographs.values()]\n",
      "plot_hist_and_box(avg_ccs)"
     ],
     "language": "python",
     "metadata": {},
     "outputs": [
      {
       "metadata": {},
       "output_type": "display_data",
       "png": "[encoded data removed]",
       "text": [
        "<matplotlib.figure.Figure at 0x9edb400>"
       ]
      }
     ],
     "prompt_number": 9
    },
    {
     "cell_type": "heading",
     "level": 2,
     "metadata": {},
     "source": [
      "Now look at the circles..."
     ]
    },
    {
     "cell_type": "code",
     "collapsed": false,
     "input": [
      "avg_cir_cc = list()\n",
      "for userID, circledict in circles.items():\n",
      "    egograph = egographs[userID]\n",
      "    for circleID, nodelist in circledict.items():\n",
      "        circlenet = egograph.subgraph(nodelist)\n",
      "        avg_cir_cc.append(nx.average_clustering(circlenet))"
     ],
     "language": "python",
     "metadata": {},
     "outputs": [],
     "prompt_number": 10
    },
    {
     "cell_type": "code",
     "collapsed": false,
     "input": [
      "plot_hist_and_box(avg_cir_cc)"
     ],
     "language": "python",
     "metadata": {},
     "outputs": [
      {
       "metadata": {},
       "output_type": "display_data",
       "png": "[encoded data removed]",
       "text": [
        "<matplotlib.figure.Figure at 0x9f2bdd8>"
       ]
      }
     ],
     "prompt_number": 11
    },
    {
     "cell_type": "raw",
     "metadata": {},
     "source": [
      "Interesting. While the distribution is shifted to the right, it looks as though the circles do not exhibit siginificatly greater clustering than the egonets as a whole. Interestingly, there are a large proportion of circles with very low clustering coefficients. Hence, it may be difficult to discern circle purely through a clustering algorithm based soley on network topology."
     ]
    },
    {
     "cell_type": "raw",
     "metadata": {},
     "source": [
      "Now let's consider the clustering coefficients of those that are included in circles (i.e. are they more or less connected than other users.) "
     ]
    },
    {
     "cell_type": "code",
     "collapsed": false,
     "input": [
      "nx.clustering(egographs[239])"
     ],
     "language": "python",
     "metadata": {},
     "outputs": [
      {
       "metadata": {},
       "output_type": "pyout",
       "prompt_number": 12,
       "text": [
        "{240: 0.6666666666666666,\n",
        " 241: 0.4725274725274725,\n",
        " 242: 0.6222222222222222,\n",
        " 243: 0.5523809523809524,\n",
        " 244: 0.6666666666666666,\n",
        " 245: 0.0,\n",
        " 246: 1.0,\n",
        " 247: 0.8333333333333334,\n",
        " 248: 0.5,\n",
        " 249: 0.2857142857142857,\n",
        " 250: 0.0,\n",
        " 251: 0.4485294117647059,\n",
        " 252: 0.5357142857142857,\n",
        " 253: 0.6888888888888889,\n",
        " 254: 0.47619047619047616,\n",
        " 255: 0.4945054945054945,\n",
        " 256: 0.5636363636363636,\n",
        " 257: 0.6666666666666666,\n",
        " 258: 1.0,\n",
        " 259: 0.6666666666666666,\n",
        " 260: 0.5,\n",
        " 261: 0.9,\n",
        " 262: 0.8333333333333334,\n",
        " 263: 0.6111111111111112,\n",
        " 264: 0.6025641025641025,\n",
        " 265: 0.3333333333333333,\n",
        " 266: 0.7857142857142857,\n",
        " 267: 0.5047619047619047,\n",
        " 268: 0.0,\n",
        " 269: 0.5818181818181818,\n",
        " 270: 0.9,\n",
        " 271: 0.8333333333333334,\n",
        " 272: 0.3333333333333333,\n",
        " 273: 0.7619047619047619,\n",
        " 274: 0.7142857142857143,\n",
        " 275: 1.0,\n",
        " 276: 0.8611111111111112,\n",
        " 277: 1.0,\n",
        " 278: 0.0,\n",
        " 279: 0.8055555555555556,\n",
        " 280: 0.2777777777777778,\n",
        " 281: 1.0,\n",
        " 282: 0.7619047619047619,\n",
        " 283: 0.5272727272727272,\n",
        " 284: 0.9642857142857143,\n",
        " 285: 0.6666666666666666,\n",
        " 286: 0.7333333333333333,\n",
        " 287: 1.0,\n",
        " 288: 0.0,\n",
        " 289: 0.0,\n",
        " 290: 0.6444444444444445,\n",
        " 291: 0.8055555555555556,\n",
        " 292: 0.0,\n",
        " 293: 0.9642857142857143,\n",
        " 294: 1.0,\n",
        " 295: 1.0,\n",
        " 296: 1.0,\n",
        " 297: 1.0,\n",
        " 298: 0.5606060606060606,\n",
        " 299: 0.6666666666666666,\n",
        " 300: 1.0,\n",
        " 301: 0.5606060606060606,\n",
        " 302: 0.6666666666666666,\n",
        " 303: 0.42857142857142855,\n",
        " 304: 0.3333333333333333,\n",
        " 305: 0.3787878787878788,\n",
        " 306: 0.6,\n",
        " 307: 1.0,\n",
        " 308: 0.6666666666666666,\n",
        " 309: 0.8,\n",
        " 310: 1.0,\n",
        " 311: 1.0,\n",
        " 312: 0.9642857142857143,\n",
        " 313: 0.9,\n",
        " 314: 1.0,\n",
        " 315: 0.6181818181818182,\n",
        " 316: 0.0,\n",
        " 317: 0.4,\n",
        " 318: 0.7333333333333333,\n",
        " 319: 0.0,\n",
        " 320: 0.6153846153846154,\n",
        " 321: 1.0,\n",
        " 322: 0.7111111111111111,\n",
        " 323: 0.0,\n",
        " 324: 0.8571428571428571,\n",
        " 325: 0.7333333333333333,\n",
        " 326: 0.5054945054945055,\n",
        " 327: 1.0,\n",
        " 328: 1.0,\n",
        " 329: 0.0,\n",
        " 330: 0.42857142857142855,\n",
        " 331: 0.7090909090909091,\n",
        " 332: 0.0,\n",
        " 333: 0.5256410256410257,\n",
        " 334: 0.6785714285714286,\n",
        " 335: 0.8,\n",
        " 336: 0.75,\n",
        " 337: 1.0,\n",
        " 338: 1.0,\n",
        " 339: 0.3391812865497076,\n",
        " 340: 0.3006535947712418,\n",
        " 341: 0.0,\n",
        " 342: 0.8333333333333334,\n",
        " 343: 0.0,\n",
        " 344: 0.0}"
       ]
      }
     ],
     "prompt_number": 12
    },
    {
     "cell_type": "raw",
     "metadata": {},
     "source": [
      "Actually, it's apparent that clustering coefficient is not a very good measure of connectedness (or even relative connectedness), since it is a ratio of the number of triangles to the number of possible triangles. The central user, in this case, has a low clustering coeffieicnt, though we want to him to be the most significant node (i.e., he is a member of all circles). Better to look at number of triangles?"
     ]
    },
    {
     "cell_type": "code",
     "collapsed": false,
     "input": [
      "user_ID = 239\n",
      "egograph = egographs[user_ID]\n",
      "circle_dict = circles[user_ID]\n",
      "\n",
      "m = len(circle_dict.items()) + 1\n",
      "fig, axes = subplots(m, 1, sharex=True, sharey=True)\n",
      "fig.set_size_inches(7,3*m)\n",
      "\n",
      "data = nx.triangles(egograph).values()\n",
      "binlist = range(0, max(data) + 5, 5)\n",
      "\n",
      "axes[0].hist(data, bins=binlist)\n",
      "\n",
      "for n, (circle_ID, node_list) in enumerate(circle_dict.items()):\n",
      "    axes[n+1].hist(nx.triangles(egograph.subgraph(node_list)).values(), bins=binlist)\n",
      "    title(circle_ID)"
     ],
     "language": "python",
     "metadata": {},
     "outputs": [
      {
       "metadata": {},
       "output_type": "display_data",
       "png": "[encoded data removed]",
       "text": [
        "<matplotlib.figure.Figure at 0x125d8518>"
       ]
      }
     ],
     "prompt_number": 44
    },
    {
     "cell_type": "code",
     "collapsed": false,
     "input": [
      "num_of_triangles = list()\n",
      "num_of_circles = list()\n",
      "for egograph, circledict in training_set.values():\n",
      "    num_of_triangles.append(len(nx.triangles(egograph)))\n",
      "    num_of_circles.append(len(circledict))\n",
      "print num_of_triangles\n",
      "figure(figsize(5,5))\n",
      "plot(num_of_triangles, num_of_circles,'ro',alpha=0.5)"
     ],
     "language": "python",
     "metadata": {},
     "outputs": [
      {
       "output_type": "stream",
       "stream": "stdout",
       "text": [
        "[227, 123, 51, 95, 531, 263, 105, 215, 251, 174, 670, 139, 286, 132, 265, 349, 45, 128, 312, 53, 245, 104, 493, 334, 107, 98, 141, 100, 174, 421, 138, 530, 341, 455, 112, 68, 223, 118, 261, 397, 558, 159, 540, 238, 109, 238, 203, 407, 138, 81, 315, 53, 257, 170, 447, 318, 84, 207, 422, 301]\n"
       ]
      },
      {
       "metadata": {},
       "output_type": "pyout",
       "prompt_number": 43,
       "text": [
        "[<matplotlib.lines.Line2D at 0x13632a90>]"
       ]
      },
      {
       "metadata": {},
       "output_type": "display_data",
       "png": "[encoded data removed]",
       "text": [
        "<matplotlib.figure.Figure at 0x126382b0>"
       ]
      }
     ],
     "prompt_number": 43
    },
    {
     "cell_type": "raw",
     "metadata": {},
     "source": [
      "As expected (duh!) this gives the same data as number of friends."
     ]
    },
    {
     "cell_type": "heading",
     "level": 1,
     "metadata": {},
     "source": [
      "Spectral Clustering"
     ]
    },
    {
     "cell_type": "raw",
     "metadata": {},
     "source": [
      "Here we apply a spectral clustering algorithm to determine clusters of the network as a first pass at predicting circles."
     ]
    },
    {
     "cell_type": "code",
     "collapsed": false,
     "input": [
      "import sklearn.cluster"
     ],
     "language": "python",
     "metadata": {},
     "outputs": [],
     "prompt_number": 31
    },
    {
     "cell_type": "code",
     "collapsed": false,
     "input": [
      "import collections\n",
      "\n",
      "userID = 239\n",
      "\n",
      "cluster_dicts = list()\n",
      "\n",
      "\n",
      "for cc in nx.connected_component_subgraphs(egographs[userID]):\n",
      "    if len(cc.nodes()) > 8:\n",
      "        cluster_labels = sklearn.cluster.spectral_clustering(nx.adjacency_matrix(cc))\n",
      "        cluster_tuples = zip(cc.nodes(), cluster_labels)\n",
      "        cluster_dict = collections.defaultdict(list)\n",
      "        for userID2, clusterID in cluster_tuples:\n",
      "            cluster_dict[clusterID].append(userID2)        \n",
      "        cluster_dicts.append(cluster_dict)\n",
      "        \n",
      "output_string = str(userID) + \",\"\n",
      "circle_strings = list()\n",
      "for cluster_dict in cluster_dicts:\n",
      "    for cluster_list in cluster_dict.values():\n",
      "        circle_strings.append(' '.join(map(str, cluster_list)))\n",
      "output_string += \";\".join(circle_strings)\n",
      "print output_string"
     ],
     "language": "python",
     "metadata": {},
     "outputs": [
      {
       "output_type": "stream",
       "stream": "stdout",
       "text": [
        "239,240 241 242 263 269 273 274 283 285 286 305 309 310 334 339;243 251 258 264 266 267 276 301 302 313 320 325 335 336 337;239;245 246 247 248 250 259 262 265 268 271 275 277 278 281 288 289 292 294 296 297 300 304 307 311 316 317 319 323 329 332 338 341 342 343 344;253 256 279 284 291 293 295 298 312;249 255 287 290 303 306 315 322 324 326 331 333;244 252 257 260 282 318 321 328 330 340;254 261 270 272 280 299 308 314 327\n"
       ]
      }
     ],
     "prompt_number": 32
    },
    {
     "cell_type": "heading",
     "level": 1,
     "metadata": {},
     "source": [
      "Cliques"
     ]
    },
    {
     "cell_type": "code",
     "collapsed": false,
     "input": [
      "training_set.keys()"
     ],
     "language": "python",
     "metadata": {},
     "outputs": [
      {
       "metadata": {},
       "output_type": "pyout",
       "prompt_number": 47,
       "text": [
        "['16642',\n",
        " '25159',\n",
        " '2738',\n",
        " '9103',\n",
        " '5881',\n",
        " '16378',\n",
        " '239',\n",
        " '27022',\n",
        " '5494',\n",
        " '22650',\n",
        " '3735',\n",
        " '25568',\n",
        " '1968',\n",
        " '16869',\n",
        " '345',\n",
        " '11014',\n",
        " '11364',\n",
        " '1839',\n",
        " '6413',\n",
        " '24758',\n",
        " '25773',\n",
        " '2790',\n",
        " '23299',\n",
        " '26492',\n",
        " '2365',\n",
        " '8239',\n",
        " '23157',\n",
        " '9846',\n",
        " '16203',\n",
        " '11186',\n",
        " '8100',\n",
        " '15672',\n",
        " '13789',\n",
        " '1357',\n",
        " '8777',\n",
        " '18543',\n",
        " '8553',\n",
        " '13353',\n",
        " '19788',\n",
        " '10395',\n",
        " '12800',\n",
        " '3059',\n",
        " '18005',\n",
        " '22824',\n",
        " '2255',\n",
        " '611',\n",
        " '9642',\n",
        " '11410',\n",
        " '19129',\n",
        " '2895',\n",
        " '7667',\n",
        " '17951',\n",
        " '4829',\n",
        " '26321',\n",
        " '9947',\n",
        " '5212',\n",
        " '10929',\n",
        " '6726',\n",
        " '4406',\n",
        " '24857']"
       ]
      }
     ],
     "prompt_number": 47
    },
    {
     "cell_type": "code",
     "collapsed": false,
     "input": [
      "list(nx.find_cliques(training_set['5881'][0]))"
     ],
     "language": "python",
     "metadata": {},
     "outputs": [
      {
       "ename": "KeyboardInterrupt",
       "evalue": "",
       "output_type": "pyerr",
       "traceback": [
        "\u001b[1;31m---------------------------------------------------------------------------\u001b[0m\n\u001b[1;31mKeyboardInterrupt\u001b[0m                         Traceback (most recent call last)",
        "\u001b[1;32m<ipython-input-56-0f18044b1f7d>\u001b[0m in \u001b[0;36m<module>\u001b[1;34m()\u001b[0m\n\u001b[1;32m----> 1\u001b[1;33m \u001b[0mlist\u001b[0m\u001b[1;33m(\u001b[0m\u001b[0mnx\u001b[0m\u001b[1;33m.\u001b[0m\u001b[0mfind_cliques\u001b[0m\u001b[1;33m(\u001b[0m\u001b[0mtraining_set\u001b[0m\u001b[1;33m[\u001b[0m\u001b[1;34m'5881'\u001b[0m\u001b[1;33m]\u001b[0m\u001b[1;33m[\u001b[0m\u001b[1;36m0\u001b[0m\u001b[1;33m]\u001b[0m\u001b[1;33m)\u001b[0m\u001b[1;33m)\u001b[0m\u001b[1;33m\u001b[0m\u001b[0m\n\u001b[0m",
        "\u001b[1;32mC:\\Users\\Michael\\Anaconda\\lib\\site-packages\\networkx\\algorithms\\clique.pyc\u001b[0m in \u001b[0;36mfind_cliques\u001b[1;34m(G)\u001b[0m\n\u001b[0;32m    167\u001b[0m         \u001b[0mcand\u001b[0m\u001b[1;33m=\u001b[0m\u001b[0mnew_cand\u001b[0m\u001b[1;33m\u001b[0m\u001b[0m\n\u001b[0;32m    168\u001b[0m         \u001b[0mdone\u001b[0m\u001b[1;33m=\u001b[0m\u001b[0mnew_done\u001b[0m\u001b[1;33m\u001b[0m\u001b[0m\n\u001b[1;32m--> 169\u001b[1;33m         \u001b[0msmallcand\u001b[0m \u001b[1;33m=\u001b[0m \u001b[0mcand\u001b[0m \u001b[1;33m-\u001b[0m \u001b[0mpivotnbrs\u001b[0m\u001b[1;33m\u001b[0m\u001b[0m\n\u001b[0m\u001b[0;32m    170\u001b[0m \u001b[1;33m\u001b[0m\u001b[0m\n\u001b[0;32m    171\u001b[0m \u001b[1;33m\u001b[0m\u001b[0m\n",
        "\u001b[1;31mKeyboardInterrupt\u001b[0m: "
       ]
      }
     ],
     "prompt_number": 56
    },
    {
     "cell_type": "code",
     "collapsed": false,
     "input": [
      "[(userID, len(x[0].nodes())) for userID, x in training_set.items()]"
     ],
     "language": "python",
     "metadata": {},
     "outputs": [
      {
       "metadata": {},
       "output_type": "pyout",
       "prompt_number": 55,
       "text": [
        "[('16642', 227),\n",
        " ('25159', 123),\n",
        " ('2738', 51),\n",
        " ('9103', 95),\n",
        " ('5881', 531),\n",
        " ('16378', 263),\n",
        " ('239', 105),\n",
        " ('27022', 215),\n",
        " ('5494', 251),\n",
        " ('22650', 174),\n",
        " ('3735', 670),\n",
        " ('25568', 139),\n",
        " ('1968', 286),\n",
        " ('16869', 132),\n",
        " ('345', 265),\n",
        " ('11014', 349),\n",
        " ('11364', 45),\n",
        " ('1839', 128),\n",
        " ('6413', 312),\n",
        " ('24758', 53),\n",
        " ('25773', 245),\n",
        " ('2790', 104),\n",
        " ('23299', 493),\n",
        " ('26492', 334),\n",
        " ('2365', 107),\n",
        " ('8239', 98),\n",
        " ('23157', 141),\n",
        " ('9846', 100),\n",
        " ('16203', 174),\n",
        " ('11186', 421),\n",
        " ('8100', 138),\n",
        " ('15672', 530),\n",
        " ('13789', 341),\n",
        " ('1357', 455),\n",
        " ('8777', 112),\n",
        " ('18543', 68),\n",
        " ('8553', 223),\n",
        " ('13353', 118),\n",
        " ('19788', 261),\n",
        " ('10395', 397),\n",
        " ('12800', 558),\n",
        " ('3059', 159),\n",
        " ('18005', 540),\n",
        " ('22824', 238),\n",
        " ('2255', 109),\n",
        " ('611', 238),\n",
        " ('9642', 203),\n",
        " ('11410', 407),\n",
        " ('19129', 138),\n",
        " ('2895', 81),\n",
        " ('7667', 315),\n",
        " ('17951', 53),\n",
        " ('4829', 257),\n",
        " ('26321', 170),\n",
        " ('9947', 447),\n",
        " ('5212', 318),\n",
        " ('10929', 84),\n",
        " ('6726', 207),\n",
        " ('4406', 422),\n",
        " ('24857', 301)]"
       ]
      }
     ],
     "prompt_number": 55
    },
    {
     "cell_type": "code",
     "collapsed": false,
     "input": [],
     "language": "python",
     "metadata": {},
     "outputs": []
    }
   ],
   "metadata": {}
  }
 ]
}