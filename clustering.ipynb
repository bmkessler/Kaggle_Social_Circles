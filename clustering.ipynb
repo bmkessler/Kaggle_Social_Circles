{
 "metadata": {
  "name": ""
 },
 "nbformat": 3,
 "nbformat_minor": 0,
 "worksheets": [
  {
   "cells": [
    {
     "cell_type": "heading",
     "level": 1,
     "metadata": {},
     "source": [
      "Clustering coefficients for circles"
     ]
    },
    {
     "cell_type": "raw",
     "metadata": {},
     "source": [
      "We want to get an idea for the cluserting coefficient for circles. Let's start by looking at how clustering coefficients are distributed among the various circles in the training set."
     ]
    },
    {
     "cell_type": "code",
     "collapsed": false,
     "input": [
      "import networkx as nx\n",
      "import os.path"
     ],
     "language": "python",
     "metadata": {},
     "outputs": [],
     "prompt_number": 13
    },
    {
     "cell_type": "code",
     "collapsed": false,
     "input": [
      "def read_nodeadjlist(filename):\n",
      "  G = nx.Graph()\n",
      "  for line in open(filename):\n",
      "    e1, es = line.split(':')\n",
      "    # Add a node for the user.\n",
      "    G.add_node(int(e1))\n",
      "    es = es.split()\n",
      "    for e in es:\n",
      "      if e == e1: continue\n",
      "      G.add_edge(int(e1),int(e))\n",
      "  return G\n",
      "\n",
      "def read_circles(filename):\n",
      "    result = dict()\n",
      "    for line in open(filename):\n",
      "        circleID, nodestring = line.split(':')\n",
      "        result[circleID] = map(int, nodestring.split())\n",
      "    return result"
     ],
     "language": "python",
     "metadata": {},
     "outputs": [],
     "prompt_number": 1
    },
    {
     "cell_type": "code",
     "collapsed": false,
     "input": [
      "def read_egonet(filename):\n",
      "  G = nx.Graph()\n",
      "  #Add a node for the main user.\n",
      "  user_ID = int(os.path.basename(os.path.splitext(filename)[0]))\n",
      "  G.add_node(user_ID)\n",
      "  for line in open(filename):\n",
      "    e1, es = line.split(':')\n",
      "    # Add a node for the user, and an edge to main user.\n",
      "    G.add_node(int(e1))\n",
      "    G.add_edge(user_ID, int(e1))\n",
      "    es = es.split()\n",
      "    for e in es:\n",
      "      if e == e1: continue\n",
      "      G.add_edge(int(e1),int(e))\n",
      "  return G"
     ],
     "language": "python",
     "metadata": {},
     "outputs": [],
     "prompt_number": 23
    },
    {
     "cell_type": "code",
     "collapsed": false,
     "input": [
      "G2 = read_egonet('egonets/0.egonet')\n",
      "print len(nx.connected_component_subgraphs(egographs[userID]))"
     ],
     "language": "python",
     "metadata": {},
     "outputs": [
      {
       "output_type": "stream",
       "stream": "stdout",
       "text": [
        "1\n"
       ]
      }
     ],
     "prompt_number": 33
    },
    {
     "cell_type": "code",
     "collapsed": false,
     "input": [
      "import os\n",
      "import os.path\n",
      "\n",
      "egographs = dict()\n",
      "circles = dict()\n",
      "egodir = \"./egonets\"\n",
      "circledir = \"./Training\"\n",
      "for circlefile in os.listdir(circledir):\n",
      "    userID = os.path.splitext(circlefile)[0]\n",
      "    egographs[int(userID)] = read_nodeadjlist(os.path.join(egodir, userID + \".egonet\"))\n",
      "    circles[int(userID)] = read_circles(os.path.join(circledir, circlefile))"
     ],
     "language": "python",
     "metadata": {},
     "outputs": [],
     "prompt_number": 44
    },
    {
     "cell_type": "heading",
     "level": 2,
     "metadata": {},
     "source": [
      "First consider the average clustering coefficient for the entire egonet."
     ]
    },
    {
     "cell_type": "code",
     "collapsed": false,
     "input": [
      "def plot_hist_and_box(data):\n",
      "    figure(figsize(15, 5))\n",
      "    subplot(121)\n",
      "    hist(data)\n",
      "    subplot(122)\n",
      "    boxplot(data)"
     ],
     "language": "python",
     "metadata": {},
     "outputs": [],
     "prompt_number": 45
    },
    {
     "cell_type": "code",
     "collapsed": false,
     "input": [
      "avg_ccs = [nx.average_clustering(egograph) for egograph in egographs.values()]\n",
      "plot_hist_and_box(avg_ccs)"
     ],
     "language": "python",
     "metadata": {},
     "outputs": [
      {
       "metadata": {},
       "output_type": "display_data",
       "png": "[encoded data removed]",
       "text": [
        "<matplotlib.figure.Figure at 0x19c5ef28>"
       ]
      }
     ],
     "prompt_number": 46
    },
    {
     "cell_type": "heading",
     "level": 2,
     "metadata": {},
     "source": [
      "Now look at the circles..."
     ]
    },
    {
     "cell_type": "code",
     "collapsed": false,
     "input": [
      "avg_cir_cc = list()\n",
      "for userID, circledict in circles.items():\n",
      "    egograph = egographs[userID]\n",
      "    for circleID, nodelist in circledict.items():\n",
      "        circlenet = egograph.subgraph(nodelist)\n",
      "        avg_cir_cc.append(nx.average_clustering(circlenet))"
     ],
     "language": "python",
     "metadata": {},
     "outputs": [],
     "prompt_number": 47
    },
    {
     "cell_type": "code",
     "collapsed": false,
     "input": [
      "plot_hist_and_box(avg_cir_cc)"
     ],
     "language": "python",
     "metadata": {},
     "outputs": [
      {
       "metadata": {},
       "output_type": "display_data",
       "png": "[encoded data removed]",
       "text": [
        "<matplotlib.figure.Figure at 0x19c4ddd8>"
       ]
      }
     ],
     "prompt_number": 48
    },
    {
     "cell_type": "raw",
     "metadata": {},
     "source": [
      "Interesting. While the distribution is shifted to the right, it looks as though the circles do not exhibit siginificatly greater clustering than the egonets as a whole. Interestingly, there are a large proportion of circles with very low clustering coefficients. Hence, it may be difficult to discern circle purely through a clustering algorithm based soley on network topology."
     ]
    },
    {
     "cell_type": "raw",
     "metadata": {},
     "source": [
      "Now let's consider the clustering coefficients of those that are included in circles (i.e. are they more or less connected than other users.) "
     ]
    },
    {
     "cell_type": "code",
     "collapsed": false,
     "input": [
      "nx.clustering(egographs[239])"
     ],
     "language": "python",
     "metadata": {},
     "outputs": [
      {
       "metadata": {},
       "output_type": "pyout",
       "prompt_number": 49,
       "text": [
        "{240: 0.6666666666666666,\n",
        " 241: 0.4725274725274725,\n",
        " 242: 0.6222222222222222,\n",
        " 243: 0.5523809523809524,\n",
        " 244: 0.6666666666666666,\n",
        " 245: 0.0,\n",
        " 246: 1.0,\n",
        " 247: 0.8333333333333334,\n",
        " 248: 0.5,\n",
        " 249: 0.2857142857142857,\n",
        " 250: 0.0,\n",
        " 251: 0.4485294117647059,\n",
        " 252: 0.5357142857142857,\n",
        " 253: 0.6888888888888889,\n",
        " 254: 0.47619047619047616,\n",
        " 255: 0.4945054945054945,\n",
        " 256: 0.5636363636363636,\n",
        " 257: 0.6666666666666666,\n",
        " 258: 1.0,\n",
        " 259: 0.6666666666666666,\n",
        " 260: 0.5,\n",
        " 261: 0.9,\n",
        " 262: 0.8333333333333334,\n",
        " 263: 0.6111111111111112,\n",
        " 264: 0.6025641025641025,\n",
        " 265: 0.3333333333333333,\n",
        " 266: 0.7857142857142857,\n",
        " 267: 0.5047619047619047,\n",
        " 268: 0.0,\n",
        " 269: 0.5818181818181818,\n",
        " 270: 0.9,\n",
        " 271: 0.8333333333333334,\n",
        " 272: 0.3333333333333333,\n",
        " 273: 0.7619047619047619,\n",
        " 274: 0.7142857142857143,\n",
        " 275: 1.0,\n",
        " 276: 0.8611111111111112,\n",
        " 277: 1.0,\n",
        " 278: 0.0,\n",
        " 279: 0.8055555555555556,\n",
        " 280: 0.2777777777777778,\n",
        " 281: 1.0,\n",
        " 282: 0.7619047619047619,\n",
        " 283: 0.5272727272727272,\n",
        " 284: 0.9642857142857143,\n",
        " 285: 0.6666666666666666,\n",
        " 286: 0.7333333333333333,\n",
        " 287: 1.0,\n",
        " 288: 0.0,\n",
        " 289: 0.0,\n",
        " 290: 0.6444444444444445,\n",
        " 291: 0.8055555555555556,\n",
        " 292: 0.0,\n",
        " 293: 0.9642857142857143,\n",
        " 294: 1.0,\n",
        " 295: 1.0,\n",
        " 296: 1.0,\n",
        " 297: 1.0,\n",
        " 298: 0.5606060606060606,\n",
        " 299: 0.6666666666666666,\n",
        " 300: 1.0,\n",
        " 301: 0.5606060606060606,\n",
        " 302: 0.6666666666666666,\n",
        " 303: 0.42857142857142855,\n",
        " 304: 0.3333333333333333,\n",
        " 305: 0.3787878787878788,\n",
        " 306: 0.6,\n",
        " 307: 1.0,\n",
        " 308: 0.6666666666666666,\n",
        " 309: 0.8,\n",
        " 310: 1.0,\n",
        " 311: 1.0,\n",
        " 312: 0.9642857142857143,\n",
        " 313: 0.9,\n",
        " 314: 1.0,\n",
        " 315: 0.6181818181818182,\n",
        " 316: 0.0,\n",
        " 317: 0.4,\n",
        " 318: 0.7333333333333333,\n",
        " 319: 0.0,\n",
        " 320: 0.6153846153846154,\n",
        " 321: 1.0,\n",
        " 322: 0.7111111111111111,\n",
        " 323: 0.0,\n",
        " 324: 0.8571428571428571,\n",
        " 325: 0.7333333333333333,\n",
        " 326: 0.5054945054945055,\n",
        " 327: 1.0,\n",
        " 328: 1.0,\n",
        " 329: 0.0,\n",
        " 330: 0.42857142857142855,\n",
        " 331: 0.7090909090909091,\n",
        " 332: 0.0,\n",
        " 333: 0.5256410256410257,\n",
        " 334: 0.6785714285714286,\n",
        " 335: 0.8,\n",
        " 336: 0.75,\n",
        " 337: 1.0,\n",
        " 338: 1.0,\n",
        " 339: 0.3391812865497076,\n",
        " 340: 0.3006535947712418,\n",
        " 341: 0.0,\n",
        " 342: 0.8333333333333334,\n",
        " 343: 0.0,\n",
        " 344: 0.0}"
       ]
      }
     ],
     "prompt_number": 49
    },
    {
     "cell_type": "raw",
     "metadata": {},
     "source": [
      "Actually, it's apparent that clustering coefficient is not a very good measure of connectedness (or even relative connectedness), since it is a ratio of the number of triangles to the number of possible triangles. The central user, in this case, has a low clustering coeffieicnt, though we want to him to be the most significant node (i.e., he is a member of all circles). Better to look at number of triangles?"
     ]
    },
    {
     "cell_type": "code",
     "collapsed": false,
     "input": [
      "user_ID = 239\n",
      "egograph = egographs[user_ID]\n",
      "circle_dict = circles[user_ID]\n",
      "\n",
      "m = len(circle_dict.items()) + 1\n",
      "fig, axes = subplots(m, 1, sharex=True, sharey=True)\n",
      "fig.set_size_inches(15,5*m)\n",
      "\n",
      "data = nx.triangles(egograph).values()\n",
      "binlist = range(0, max(data) + 5, 5)\n",
      "\n",
      "axes[0].hist(data, bins=binlist)\n",
      "\n",
      "for n, (circle_ID, node_list) in enumerate(circle_dict.items()):\n",
      "    axes[n+1].hist(nx.triangles(egograph.subgraph(node_list)).values(), bins=binlist)\n",
      "    title(circle_ID)"
     ],
     "language": "python",
     "metadata": {},
     "outputs": [
      {
       "metadata": {},
       "output_type": "display_data",
       "png": "[encoded data removed]",
       "text": [
        "<matplotlib.figure.Figure at 0x1f169908>"
       ]
      }
     ],
     "prompt_number": 95
    },
    {
     "cell_type": "code",
     "collapsed": false,
     "input": [
      "?hist"
     ],
     "language": "python",
     "metadata": {},
     "outputs": [],
     "prompt_number": 93
    },
    {
     "cell_type": "heading",
     "level": 1,
     "metadata": {},
     "source": [
      "Spectral Clustering"
     ]
    },
    {
     "cell_type": "raw",
     "metadata": {},
     "source": [
      "Here we apply a spectral clustering algorithm to determine clusters of the network as a first pass at predicting circles."
     ]
    },
    {
     "cell_type": "code",
     "collapsed": false,
     "input": [
      "import sklearn.cluster"
     ],
     "language": "python",
     "metadata": {},
     "outputs": [],
     "prompt_number": 31
    },
    {
     "cell_type": "code",
     "collapsed": false,
     "input": [
      "?nx.clustering"
     ],
     "language": "python",
     "metadata": {},
     "outputs": [],
     "prompt_number": 35
    },
    {
     "cell_type": "code",
     "collapsed": false,
     "input": [
      "import collections\n",
      "\n",
      "userID = 239\n",
      "\n",
      "cluster_dicts = list()\n",
      "\n",
      "\n",
      "for cc in nx.connected_component_subgraphs(egographs[userID]):\n",
      "    if len(cc.nodes()) > 8:\n",
      "        cluster_labels = sklearn.cluster.spectral_clustering(nx.adjacency_matrix(cc))\n",
      "        cluster_tuples = zip(cc.nodes(), cluster_labels)\n",
      "        cluster_dict = collections.defaultdict(list)\n",
      "        for userID2, clusterID in cluster_tuples:\n",
      "            cluster_dict[clusterID].append(userID2)        \n",
      "        cluster_dicts.append(cluster_dict)\n",
      "        \n",
      "output_string = str(userID) + \",\"\n",
      "circle_strings = list()\n",
      "for cluster_dict in cluster_dicts:\n",
      "    for cluster_list in cluster_dict.values():\n",
      "        circle_strings.append(' '.join(map(str, cluster_list)))\n",
      "output_string += \";\".join(circle_strings)\n",
      "print output_string"
     ],
     "language": "python",
     "metadata": {},
     "outputs": [
      {
       "output_type": "stream",
       "stream": "stdout",
       "text": [
        "239,240 241 242 263 269 273 274 283 285 286 305 309 310 334 339;243 251 258 264 266 267 276 301 302 313 320 325 335 336 337;239;245 246 247 248 250 259 262 265 268 271 275 277 278 281 288 289 292 294 296 297 300 304 307 311 316 317 319 323 329 332 338 341 342 343 344;253 256 279 284 291 293 295 298 312;249 255 287 290 303 306 315 322 324 326 331 333;244 252 257 260 282 318 321 328 330 340;254 261 270 272 280 299 308 314 327\n"
       ]
      }
     ],
     "prompt_number": 32
    },
    {
     "cell_type": "code",
     "collapsed": false,
     "input": [
      "circles[239]"
     ],
     "language": "python",
     "metadata": {},
     "outputs": [
      {
       "metadata": {},
       "output_type": "pyout",
       "prompt_number": 10,
       "text": [
        "{'circle16': [335,\n",
        "  253,\n",
        "  325,\n",
        "  320,\n",
        "  283,\n",
        "  258,\n",
        "  284,\n",
        "  318,\n",
        "  330,\n",
        "  241,\n",
        "  276,\n",
        "  312,\n",
        "  340,\n",
        "  301,\n",
        "  334,\n",
        "  291,\n",
        "  295,\n",
        "  242,\n",
        "  337,\n",
        "  338,\n",
        "  273,\n",
        "  277,\n",
        "  293,\n",
        "  251,\n",
        "  279,\n",
        "  285,\n",
        "  267,\n",
        "  243,\n",
        "  240,\n",
        "  298,\n",
        "  302,\n",
        "  286,\n",
        "  305,\n",
        "  282,\n",
        "  294,\n",
        "  256,\n",
        "  313,\n",
        "  263,\n",
        "  274,\n",
        "  339,\n",
        "  309,\n",
        "  336,\n",
        "  310,\n",
        "  264,\n",
        "  266,\n",
        "  269],\n",
        " 'circle17': [306,\n",
        "  281,\n",
        "  311,\n",
        "  247,\n",
        "  342,\n",
        "  315,\n",
        "  297,\n",
        "  303,\n",
        "  304,\n",
        "  343,\n",
        "  333,\n",
        "  296,\n",
        "  250,\n",
        "  255,\n",
        "  331,\n",
        "  248,\n",
        "  340,\n",
        "  265,\n",
        "  322,\n",
        "  289,\n",
        "  344,\n",
        "  287,\n",
        "  326,\n",
        "  249,\n",
        "  324,\n",
        "  307,\n",
        "  290],\n",
        " 'circle18': [300,\n",
        "  252,\n",
        "  332,\n",
        "  328,\n",
        "  268,\n",
        "  272,\n",
        "  323,\n",
        "  288,\n",
        "  257,\n",
        "  292,\n",
        "  245,\n",
        "  319,\n",
        "  275,\n",
        "  341,\n",
        "  282,\n",
        "  321,\n",
        "  339,\n",
        "  244,\n",
        "  316],\n",
        " 'circle19': [280, 308, 254, 246, 270, 314, 299, 329, 261, 271, 327, 259, 317]}"
       ]
      }
     ],
     "prompt_number": 10
    },
    {
     "cell_type": "code",
     "collapsed": false,
     "input": [],
     "language": "python",
     "metadata": {},
     "outputs": []
    }
   ],
   "metadata": {}
  }
 ]
}