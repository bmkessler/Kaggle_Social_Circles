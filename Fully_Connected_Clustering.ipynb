{
 "metadata": {
  "name": ""
 },
 "nbformat": 3,
 "nbformat_minor": 0,
 "worksheets": [
  {
   "cells": [
    {
     "cell_type": "code",
     "collapsed": false,
     "input": [
      "%matplotlib inline\n",
      "import networkx as nx\n",
      "from utility_funcs import readcirclefile, cost_function\n",
      "import os\n",
      "import sklearn.cluster\n",
      "import community\n",
      "import itertools"
     ],
     "language": "python",
     "metadata": {},
     "outputs": [],
     "prompt_number": 2
    },
    {
     "cell_type": "code",
     "collapsed": false,
     "input": [
      "def read_nodeadjlist(filename):\n",
      "  ego = int(filename.rsplit('/',1)[1].split('.')[0])\n",
      "  G = nx.Graph()\n",
      "  for line in open(filename):\n",
      "    e1, es = line.split(':')\n",
      "    G.add_edge(ego,int(e1))\n",
      "    es = es.split()\n",
      "    for e in es:\n",
      "      if e == e1: continue\n",
      "      G.add_edge(int(e1),int(e))\n",
      "  return G"
     ],
     "language": "python",
     "metadata": {},
     "outputs": [],
     "prompt_number": 3
    },
    {
     "cell_type": "code",
     "collapsed": false,
     "input": [
      "def writeline(_string,fh):\n",
      "    fh.write(_string+'\\n')\n",
      "\n",
      "def write_test_file(output_file,cluster_function):\n",
      "    test_egos = []\n",
      "    with open('sample_submission.csv','r') as f:\n",
      "        for line in f:\n",
      "            friend = line.split(',')[0]\n",
      "            if friend != 'UserId':\n",
      "                test_egos.append( int(line.split(',')[0]) )\n",
      "    with open(output_file,'w') as f:\n",
      "        writeline('UserId,Predicted',f)\n",
      "        for ego in test_egos:\n",
      "            G = read_nodeadjlist('./egonets/'+str(ego)+'.egonet')\n",
      "            pred_circles = cluster_function(G)\n",
      "            for key,val in pred_circles.items():\n",
      "                if ego in val:\n",
      "                    pred_circles[key].remove(ego)\n",
      "            cs = [' '.join([str(y) for y in x]) for x in pred_circles.values()]\n",
      "            outline =  str(ego) + ',' + ';'.join(cs)\n",
      "            writeline(outline, f)"
     ],
     "language": "python",
     "metadata": {},
     "outputs": [],
     "prompt_number": 4
    },
    {
     "cell_type": "code",
     "collapsed": false,
     "input": [
      "ego=345\n",
      "egofile = './egonets/'+str(ego)+'.egonet'\n",
      "int(egofile.rsplit('/',1)[1].split('.')[0])"
     ],
     "language": "python",
     "metadata": {},
     "outputs": [
      {
       "metadata": {},
       "output_type": "pyout",
       "prompt_number": 5,
       "text": [
        "345"
       ]
      }
     ],
     "prompt_number": 5
    },
    {
     "cell_type": "code",
     "collapsed": false,
     "input": [
      "def naive_spec_cluster(G,k=8):\n",
      "    cl = sklearn.cluster.spectral_clustering(nx.adjacency_matrix(G),n_clusters=k)\n",
      "    pred_circles ={}\n",
      "    for circle,user in zip(cl,G.nodes()):  # ordering is the same as G.nodes()\n",
      "        if circle in pred_circles:\n",
      "          pred_circles[circle].append(user)\n",
      "        else:\n",
      "          pred_circles[circle]=[user]\n",
      "    return pred_circles"
     ],
     "language": "python",
     "metadata": {},
     "outputs": [],
     "prompt_number": 6
    },
    {
     "cell_type": "code",
     "collapsed": false,
     "input": [
      "def compute_training_score(cluster_function):\n",
      "    trainingfiles = os.listdir('./Training/')\n",
      "    pred_score = {}\n",
      "    \n",
      "    for item in trainingfiles:\n",
      "        ego = int((item.split('.')[0]))\n",
      "        true_circles = readcirclefile('./Training/'+item)\n",
      "        G = read_nodeadjlist('./egonets/'+str(ego)+'.egonet')\n",
      "        pred_circles = cluster_function(G)\n",
      "        for key,val in pred_circles.items():\n",
      "                if ego in val:\n",
      "                    pred_circles[key].remove(ego)\n",
      "        pred_score[ego] = cost_function(pred_circles,true_circles)\n",
      "    return pred_score"
     ],
     "language": "python",
     "metadata": {},
     "outputs": [],
     "prompt_number": 40
    },
    {
     "cell_type": "code",
     "collapsed": false,
     "input": [
      "cl_test = compute_training_score(naive_spec_cluster)\n",
      "print 'Fully connected spectral clustering error:', sum(cl_test.values())"
     ],
     "language": "python",
     "metadata": {},
     "outputs": [
      {
       "output_type": "stream",
       "stream": "stdout",
       "text": [
        "Fully connected spectral clustering error: 16886\n"
       ]
      },
      {
       "output_type": "stream",
       "stream": "stderr",
       "text": [
        "C:\\Python27\\lib\\site-packages\\numpy\\lib\\utils.py:134: DeprecationWarning: `scipy.lib.lapack` is deprecated, use `scipy.linalg.lapack` instead!\n",
        "  warnings.warn(depdoc, DeprecationWarning)\n"
       ]
      }
     ],
     "prompt_number": 8
    },
    {
     "cell_type": "code",
     "collapsed": false,
     "input": [
      "write_test_file('fully_conn_naive_spec_no_ego.csv',naive_spec_cluster)"
     ],
     "language": "python",
     "metadata": {},
     "outputs": [],
     "prompt_number": 9
    },
    {
     "cell_type": "code",
     "collapsed": false,
     "input": [
      "ego=345\n",
      "G = read_nodeadjlist('./egonets/'+str(ego)+'.egonet')\n",
      "pred_circles = naive_spec_cluster(G)\n",
      "part = community.best_partition(G)\n",
      "community.modularity(part,G)"
     ],
     "language": "python",
     "metadata": {},
     "outputs": [
      {
       "metadata": {},
       "output_type": "pyout",
       "prompt_number": 24,
       "text": [
        "0.36836898022955344"
       ]
      }
     ],
     "prompt_number": 24
    },
    {
     "cell_type": "code",
     "collapsed": false,
     "input": [
      "def dendrogram_cluster(G):\n",
      "    part = community.best_partition(G)\n",
      "    circles = dict()\n",
      "    for user,label in part.items():\n",
      "        if label in circles:\n",
      "            circles[label].append(user)\n",
      "        else:\n",
      "            circles[label] = [user]\n",
      "    return circles"
     ],
     "language": "python",
     "metadata": {},
     "outputs": [],
     "prompt_number": 16
    },
    {
     "cell_type": "code",
     "collapsed": false,
     "input": [
      "spec_scores = compute_training_score(naive_spec_cluster)\n",
      "dend_scores = compute_training_score(dendrogram_cluster)\n",
      "print 'Fully connected spectral clustering error:', sum(spec_scores.values())\n",
      "print 'Fully connected dendrogram clustering error:', sum(dend_scores.values())"
     ],
     "language": "python",
     "metadata": {},
     "outputs": [
      {
       "output_type": "stream",
       "stream": "stdout",
       "text": [
        "Fully connected spectral clustering error: 16892\n",
        "Fully connected dendrogram clustering error: 15416\n"
       ]
      }
     ],
     "prompt_number": 17
    },
    {
     "cell_type": "code",
     "collapsed": false,
     "input": [
      "write_test_file('dendrogram_no_ego.csv',dendrogram_cluster)"
     ],
     "language": "python",
     "metadata": {},
     "outputs": [],
     "prompt_number": 18
    },
    {
     "cell_type": "code",
     "collapsed": false,
     "input": [
      "def convert_circles_to_partition(circles):\n",
      "    return dict(list(itertools.chain(*[[(user,label) for user in circle] for label, circle in circles.items()])))"
     ],
     "language": "python",
     "metadata": {},
     "outputs": [],
     "prompt_number": 21
    },
    {
     "cell_type": "code",
     "collapsed": false,
     "input": [
      "ego=239\n",
      "G = read_nodeadjlist('./egonets/'+str(ego)+'.egonet')\n",
      "modular_K = []\n",
      "for K in range(1,19):\n",
      "    pred_circles = naive_spec_cluster(G,k=K)\n",
      "    pred_part = convert_circles_to_partition(pred_circles)\n",
      "    modular_K.append(community.modularity(pred_part,G))\n",
      "    print K,modular_K[K-1]\n",
      "plt.plot(range(1,19),modular_K)\n",
      "plt.show()"
     ],
     "language": "python",
     "metadata": {},
     "outputs": [
      {
       "output_type": "stream",
       "stream": "stdout",
       "text": [
        "1 0.0\n",
        "2"
       ]
      },
      {
       "output_type": "stream",
       "stream": "stdout",
       "text": [
        " -0.0275888473492\n",
        "3"
       ]
      },
      {
       "output_type": "stream",
       "stream": "stdout",
       "text": [
        " 0.207135314225\n",
        "4"
       ]
      },
      {
       "output_type": "stream",
       "stream": "stdout",
       "text": [
        " 0.397016650902\n",
        "5"
       ]
      },
      {
       "output_type": "stream",
       "stream": "stdout",
       "text": [
        " 0.428579293225\n",
        "6"
       ]
      },
      {
       "output_type": "stream",
       "stream": "stdout",
       "text": [
        " 0.474022691671\n",
        "7"
       ]
      },
      {
       "output_type": "stream",
       "stream": "stdout",
       "text": [
        " 0.471893157966\n",
        "8"
       ]
      },
      {
       "output_type": "stream",
       "stream": "stdout",
       "text": [
        " 0.438411182679\n",
        "9"
       ]
      },
      {
       "output_type": "stream",
       "stream": "stdout",
       "text": [
        " 0.482283080342\n",
        "10"
       ]
      },
      {
       "output_type": "stream",
       "stream": "stdout",
       "text": [
        " 0.47495107828\n",
        "11"
       ]
      },
      {
       "output_type": "stream",
       "stream": "stdout",
       "text": [
        " 0.480566440951\n",
        "12"
       ]
      },
      {
       "output_type": "stream",
       "stream": "stdout",
       "text": [
        " 0.436098974521\n",
        "13"
       ]
      },
      {
       "output_type": "stream",
       "stream": "stdout",
       "text": [
        " 0.443486029158\n",
        "14"
       ]
      },
      {
       "output_type": "stream",
       "stream": "stdout",
       "text": [
        " 0.407614271629\n",
        "15"
       ]
      },
      {
       "output_type": "stream",
       "stream": "stdout",
       "text": [
        " 0.395915599397\n",
        "16"
       ]
      },
      {
       "output_type": "stream",
       "stream": "stdout",
       "text": [
        " 0.379192128483\n",
        "17"
       ]
      },
      {
       "output_type": "stream",
       "stream": "stdout",
       "text": [
        " 0.370578902852\n",
        "18"
       ]
      },
      {
       "output_type": "stream",
       "stream": "stdout",
       "text": [
        " 0.34543238793\n"
       ]
      },
      {
       "metadata": {},
       "output_type": "display_data",
       "png": "[encoded data removed]",
       "text": [
        "<matplotlib.figure.Figure at 0xd68f090>"
       ]
      }
     ],
     "prompt_number": 22
    },
    {
     "cell_type": "code",
     "collapsed": false,
     "input": [
      "def dynamic_spec_cluster(G,max_K=15):\n",
      "    Adj_mat = nx.adjacency_matrix(G)\n",
      "    max_K = min(max_K,len(G.nodes()))\n",
      "    max_mod = -2\n",
      "    for k in range(1,max_K):\n",
      "        cl = sklearn.cluster.spectral_clustering(Adj_mat,n_clusters=k)\n",
      "        pred_circles = {}\n",
      "        for circle,user in zip(cl,G.nodes()):  # ordering is the same as G.nodes()\n",
      "            if circle in pred_circles:\n",
      "              pred_circles[circle].append(user)\n",
      "            else:\n",
      "              pred_circles[circle]=[user]\n",
      "        pred_part = convert_circles_to_partition(pred_circles)\n",
      "        pred_mod = community.modularity(pred_part,G)\n",
      "        if pred_mod > max_mod:\n",
      "            out = pred_circles\n",
      "            max_mod = pred_mod\n",
      "    return out"
     ],
     "language": "python",
     "metadata": {},
     "outputs": [],
     "prompt_number": 44
    },
    {
     "cell_type": "code",
     "collapsed": false,
     "input": [
      "dyn_spec_scores = compute_training_score(dynamic_spec_cluster)\n",
      "print 'Dynamic spectral clustering error:', sum(dyn_spec_scores.values())"
     ],
     "language": "python",
     "metadata": {},
     "outputs": [
      {
       "output_type": "stream",
       "stream": "stdout",
       "text": [
        "10395 508\n",
        "10929"
       ]
      },
      {
       "output_type": "stream",
       "stream": "stdout",
       "text": [
        " 79\n",
        "11014"
       ]
      },
      {
       "output_type": "stream",
       "stream": "stdout",
       "text": [
        " 283\n",
        "11186"
       ]
      },
      {
       "output_type": "stream",
       "stream": "stdout",
       "text": [
        " 449\n",
        "11364"
       ]
      },
      {
       "output_type": "stream",
       "stream": "stdout",
       "text": [
        " 45\n",
        "11410"
       ]
      },
      {
       "output_type": "stream",
       "stream": "stdout",
       "text": [
        " 368\n",
        "12800"
       ]
      },
      {
       "output_type": "stream",
       "stream": "stdout",
       "text": [
        " 768\n",
        "13353"
       ]
      },
      {
       "output_type": "stream",
       "stream": "stdout",
       "text": [
        " 112\n",
        "1357"
       ]
      },
      {
       "output_type": "stream",
       "stream": "stdout",
       "text": [
        " 507\n",
        "13789"
       ]
      },
      {
       "output_type": "stream",
       "stream": "stdout",
       "text": [
        " 299\n",
        "15672"
       ]
      },
      {
       "output_type": "stream",
       "stream": "stdout",
       "text": [
        " 866\n",
        "16203"
       ]
      },
      {
       "output_type": "stream",
       "stream": "stdout",
       "text": [
        " 96\n",
        "16378"
       ]
      },
      {
       "output_type": "stream",
       "stream": "stdout",
       "text": [
        " 269\n",
        "16642"
       ]
      },
      {
       "output_type": "stream",
       "stream": "stdout",
       "text": [
        " 377\n",
        "16869"
       ]
      },
      {
       "output_type": "stream",
       "stream": "stdout",
       "text": [
        " 125\n",
        "17951"
       ]
      },
      {
       "output_type": "stream",
       "stream": "stdout",
       "text": [
        " 32\n",
        "18005"
       ]
      },
      {
       "output_type": "stream",
       "stream": "stdout",
       "text": [
        " 529\n",
        "1839"
       ]
      },
      {
       "output_type": "stream",
       "stream": "stdout",
       "text": [
        " 140\n",
        "18543"
       ]
      },
      {
       "output_type": "stream",
       "stream": "stdout",
       "text": [
        " 39\n",
        "19129"
       ]
      },
      {
       "output_type": "stream",
       "stream": "stdout",
       "text": [
        " 199\n",
        "1968"
       ]
      },
      {
       "output_type": "stream",
       "stream": "stdout",
       "text": [
        " 343\n",
        "19788"
       ]
      },
      {
       "output_type": "stream",
       "stream": "stdout",
       "text": [
        " 323\n",
        "2255"
       ]
      },
      {
       "output_type": "stream",
       "stream": "stdout",
       "text": [
        " 129\n",
        "22650"
       ]
      },
      {
       "output_type": "stream",
       "stream": "stdout",
       "text": [
        " 147\n",
        "22824"
       ]
      },
      {
       "output_type": "stream",
       "stream": "stdout",
       "text": [
        " 246\n",
        "23157"
       ]
      },
      {
       "output_type": "stream",
       "stream": "stdout",
       "text": [
        " 286\n",
        "23299"
       ]
      },
      {
       "output_type": "stream",
       "stream": "stdout",
       "text": [
        " 544\n",
        "2365"
       ]
      },
      {
       "output_type": "stream",
       "stream": "stdout",
       "text": [
        " 101\n",
        "239"
       ]
      },
      {
       "output_type": "stream",
       "stream": "stdout",
       "text": [
        " 126\n",
        "24758"
       ]
      },
      {
       "output_type": "stream",
       "stream": "stdout",
       "text": [
        " 35\n",
        "24857"
       ]
      },
      {
       "output_type": "stream",
       "stream": "stdout",
       "text": [
        " 207\n",
        "25159"
       ]
      },
      {
       "output_type": "stream",
       "stream": "stdout",
       "text": [
        " 244\n",
        "25568"
       ]
      },
      {
       "output_type": "stream",
       "stream": "stdout",
       "text": [
        " 191\n",
        "25773"
       ]
      },
      {
       "output_type": "stream",
       "stream": "stdout",
       "text": [
        " 295\n",
        "26321"
       ]
      },
      {
       "output_type": "stream",
       "stream": "stdout",
       "text": [
        " 153\n",
        "26492"
       ]
      },
      {
       "output_type": "stream",
       "stream": "stdout",
       "text": [
        " 341\n",
        "27022"
       ]
      },
      {
       "output_type": "stream",
       "stream": "stdout",
       "text": [
        " 384\n",
        "2738"
       ]
      },
      {
       "output_type": "stream",
       "stream": "stdout",
       "text": [
        " 40\n",
        "2790"
       ]
      },
      {
       "output_type": "stream",
       "stream": "stdout",
       "text": [
        " 127\n",
        "2895"
       ]
      },
      {
       "output_type": "stream",
       "stream": "stdout",
       "text": [
        " 66\n",
        "3059"
       ]
      },
      {
       "output_type": "stream",
       "stream": "stdout",
       "text": [
        " 255\n",
        "345"
       ]
      },
      {
       "output_type": "stream",
       "stream": "stdout",
       "text": [
        " 181\n",
        "3735"
       ]
      },
      {
       "output_type": "stream",
       "stream": "stdout",
       "text": [
        " 865\n",
        "4406"
       ]
      },
      {
       "output_type": "stream",
       "stream": "stdout",
       "text": [
        " 869\n",
        "4829"
       ]
      },
      {
       "output_type": "stream",
       "stream": "stdout",
       "text": [
        " 222\n",
        "5212"
       ]
      },
      {
       "output_type": "stream",
       "stream": "stdout",
       "text": [
        " 548\n",
        "5494"
       ]
      },
      {
       "output_type": "stream",
       "stream": "stdout",
       "text": [
        " 327\n",
        "5881"
       ]
      },
      {
       "output_type": "stream",
       "stream": "stdout",
       "text": [
        " 470\n",
        "611"
       ]
      },
      {
       "output_type": "stream",
       "stream": "stdout",
       "text": [
        " 305\n",
        "6413"
       ]
      },
      {
       "output_type": "stream",
       "stream": "stdout",
       "text": [
        " 321\n",
        "6726"
       ]
      },
      {
       "output_type": "stream",
       "stream": "stdout",
       "text": [
        " 204\n",
        "7667"
       ]
      },
      {
       "output_type": "stream",
       "stream": "stdout",
       "text": [
        " 327\n",
        "8100"
       ]
      },
      {
       "output_type": "stream",
       "stream": "stdout",
       "text": [
        " 138\n",
        "8239"
       ]
      },
      {
       "output_type": "stream",
       "stream": "stdout",
       "text": [
        " 101\n",
        "8553"
       ]
      },
      {
       "output_type": "stream",
       "stream": "stdout",
       "text": [
        " 201\n",
        "8777"
       ]
      },
      {
       "output_type": "stream",
       "stream": "stdout",
       "text": [
        " 261\n",
        "9103"
       ]
      },
      {
       "output_type": "stream",
       "stream": "stdout",
       "text": [
        " 129\n",
        "9642"
       ]
      },
      {
       "output_type": "stream",
       "stream": "stdout",
       "text": [
        " 368\n",
        "9846"
       ]
      },
      {
       "output_type": "stream",
       "stream": "stdout",
       "text": [
        " 139\n",
        "9947"
       ]
      },
      {
       "output_type": "stream",
       "stream": "stdout",
       "text": [
        " 367\n",
        "Dynamic spectral clustering error: 17016\n"
       ]
      }
     ],
     "prompt_number": 38
    },
    {
     "cell_type": "code",
     "collapsed": false,
     "input": [
      "ego=239\n",
      "G = read_nodeadjlist('./egonets/'+str(ego)+'.egonet')\n",
      "true_circles = readcirclefile('./Training/'+str(ego)+'.circles')\n",
      "dyn_test = dynamic_spec_cluster(G)\n",
      "naive_test = naive_spec_cluster(G)\n",
      "print 'Naive number:',len(naive_test),'Dynamic number:',len(dyn_test), 'True number:', len(true_circles)\n",
      "print 'Naive score:',cost_function(naive_test,true_circles),'Dynamic score:',cost_function(dyn_test,true_circles)"
     ],
     "language": "python",
     "metadata": {},
     "outputs": [
      {
       "output_type": "stream",
       "stream": "stdout",
       "text": [
        "Naive number: 8 Dynamic number: 9 True number: 4\n",
        "Naive score: 113 Dynamic score: 119\n"
       ]
      }
     ],
     "prompt_number": 41
    },
    {
     "cell_type": "code",
     "collapsed": false,
     "input": [
      "write_test_file('dynamic_spec_no_ego.csv',dynamic_spec_cluster)"
     ],
     "language": "python",
     "metadata": {},
     "outputs": [],
     "prompt_number": 45
    },
    {
     "cell_type": "code",
     "collapsed": false,
     "input": [],
     "language": "python",
     "metadata": {},
     "outputs": []
    }
   ],
   "metadata": {}
  }
 ]
}